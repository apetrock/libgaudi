{
 "cells": [
  {
   "cell_type": "code",
   "execution_count": 34,
   "id": "e74a7f3a-0dae-49f5-a427-cc0a871de214",
   "metadata": {},
   "outputs": [],
   "source": [
    "import sympy as sym\n",
    "from sympy import init_printing,latex,symbols\n",
    "\n",
    "init_printing()\n",
    "\n",
    "x,y,z,A,B,C,D,E,F,G,H,I,J,m,n,k,l = sym.symbols('x,y,z,A,B,C,D,E,F,G,H,I,J,mu,nu,kappa,lamda')\n",
    "A2 = (x*x + y*y + z*z)\n",
    "L = m*x + n*y + k*z\n",
    "Q = A*x*x + B*y*y + C*z*z + 2*D*x*y + 2*E*x*z + 2*F*y*z + 2*G*x + 2*H*y + 2*I*z + J"
   ]
  },
  {
   "cell_type": "code",
   "execution_count": 35,
   "id": "f70a5cea-f93d-4aff-96e0-3bd8924c8a6c",
   "metadata": {},
   "outputs": [
    {
     "data": {
      "text/latex": [
       "$\\displaystyle x^{2} + y^{2} + z^{2}$"
      ],
      "text/plain": [
       " 2    2    2\n",
       "x  + y  + z "
      ]
     },
     "execution_count": 35,
     "metadata": {},
     "output_type": "execute_result"
    }
   ],
   "source": [
    "A2"
   ]
  },
  {
   "cell_type": "code",
   "execution_count": 36,
   "id": "60f42ea3-bb19-43ce-a133-591f8a5fb78f",
   "metadata": {},
   "outputs": [
    {
     "data": {
      "text/latex": [
       "$\\displaystyle \\kappa z + \\mu x + \\nu y$"
      ],
      "text/plain": [
       "κ⋅z + μ⋅x + ν⋅y"
      ]
     },
     "execution_count": 36,
     "metadata": {},
     "output_type": "execute_result"
    }
   ],
   "source": [
    "L"
   ]
  },
  {
   "cell_type": "code",
   "execution_count": 37,
   "id": "d7f427ae-5097-4de4-b6eb-e7d52150f4d2",
   "metadata": {},
   "outputs": [
    {
     "data": {
      "text/latex": [
       "$\\displaystyle A x^{2} + B y^{2} + C z^{2} + 2 D x y + 2 E x z + 2 F y z + 2 G x + 2 H y + 2 I z + J$"
      ],
      "text/plain": [
       "   2      2      2                                                          \n",
       "A⋅x  + B⋅y  + C⋅z  + 2⋅D⋅x⋅y + 2⋅E⋅x⋅z + 2⋅F⋅y⋅z + 2⋅G⋅x + 2⋅H⋅y + 2⋅I⋅z + J"
      ]
     },
     "execution_count": 37,
     "metadata": {},
     "output_type": "execute_result"
    }
   ],
   "source": [
    "Q"
   ]
  },
  {
   "cell_type": "code",
   "execution_count": 38,
   "id": "40446482-0924-42d1-96b7-4f2674a0a25e",
   "metadata": {},
   "outputs": [
    {
     "data": {
      "text/latex": [
       "$\\displaystyle A x^{2} + B y^{2} + C z^{2} + 2 D x y + 2 E x z + 2 F y z + 2 G x + 2 H y + 2 I z + J + \\lambda \\left(x^{2} + y^{2} + z^{2}\\right)^{2} + \\left(x^{2} + y^{2} + z^{2}\\right) \\left(\\kappa z + \\mu x + \\nu y\\right)$"
      ],
      "text/plain": [
       "                                                                                               2                                   \n",
       "   2      2      2                                                               ⎛ 2    2    2⎞    ⎛ 2    2    2⎞                  \n",
       "A⋅x  + B⋅y  + C⋅z  + 2⋅D⋅x⋅y + 2⋅E⋅x⋅z + 2⋅F⋅y⋅z + 2⋅G⋅x + 2⋅H⋅y + 2⋅I⋅z + J + λ⋅⎝x  + y  + z ⎠  + ⎝x  + y  + z ⎠⋅(κ⋅z + μ⋅x + ν⋅y)"
      ]
     },
     "execution_count": 38,
     "metadata": {},
     "output_type": "execute_result"
    }
   ],
   "source": [
    "D = l*A2*A2 + A2*L + Q\n",
    "D"
   ]
  },
  {
   "cell_type": "code",
   "execution_count": 39,
   "id": "9775db93-ea86-484e-b85e-20cf7da99a25",
   "metadata": {},
   "outputs": [
    {
     "data": {
      "text/latex": [
       "$\\displaystyle 2 A x + 2 D y + 2 E z + 2 G + 4 \\lambda x \\left(x^{2} + y^{2} + z^{2}\\right) + \\mu \\left(x^{2} + y^{2} + z^{2}\\right) + 2 x \\left(\\kappa z + \\mu x + \\nu y\\right)$"
      ],
      "text/plain": [
       "                                    ⎛ 2    2    2⎞     ⎛ 2    2    2⎞                        \n",
       "2⋅A⋅x + 2⋅D⋅y + 2⋅E⋅z + 2⋅G + 4⋅λ⋅x⋅⎝x  + y  + z ⎠ + μ⋅⎝x  + y  + z ⎠ + 2⋅x⋅(κ⋅z + μ⋅x + ν⋅y)"
      ]
     },
     "execution_count": 39,
     "metadata": {},
     "output_type": "execute_result"
    }
   ],
   "source": [
    "sym.diff(D,x)"
   ]
  },
  {
   "cell_type": "code",
   "execution_count": 40,
   "id": "d002cd88-f43d-4992-9825-f57b266e596c",
   "metadata": {},
   "outputs": [
    {
     "data": {
      "text/latex": [
       "$\\displaystyle 2 B y + 2 D x + 2 F z + 2 H + 4 \\lambda y \\left(x^{2} + y^{2} + z^{2}\\right) + \\nu \\left(x^{2} + y^{2} + z^{2}\\right) + 2 y \\left(\\kappa z + \\mu x + \\nu y\\right)$"
      ],
      "text/plain": [
       "                                    ⎛ 2    2    2⎞     ⎛ 2    2    2⎞                        \n",
       "2⋅B⋅y + 2⋅D⋅x + 2⋅F⋅z + 2⋅H + 4⋅λ⋅y⋅⎝x  + y  + z ⎠ + ν⋅⎝x  + y  + z ⎠ + 2⋅y⋅(κ⋅z + μ⋅x + ν⋅y)"
      ]
     },
     "execution_count": 40,
     "metadata": {},
     "output_type": "execute_result"
    }
   ],
   "source": [
    "sym.diff(D,y)"
   ]
  },
  {
   "cell_type": "code",
   "execution_count": 41,
   "id": "4a7416fc-6326-423e-b5b7-aa9d732756c1",
   "metadata": {},
   "outputs": [
    {
     "data": {
      "text/latex": [
       "$\\displaystyle 2 C z + 2 E x + 2 F y + 2 I + \\kappa \\left(x^{2} + y^{2} + z^{2}\\right) + 4 \\lambda z \\left(x^{2} + y^{2} + z^{2}\\right) + 2 z \\left(\\kappa z + \\mu x + \\nu y\\right)$"
      ],
      "text/plain": [
       "                                ⎛ 2    2    2⎞         ⎛ 2    2    2⎞                        \n",
       "2⋅C⋅z + 2⋅E⋅x + 2⋅F⋅y + 2⋅I + κ⋅⎝x  + y  + z ⎠ + 4⋅λ⋅z⋅⎝x  + y  + z ⎠ + 2⋅z⋅(κ⋅z + μ⋅x + ν⋅y)"
      ]
     },
     "execution_count": 41,
     "metadata": {},
     "output_type": "execute_result"
    }
   ],
   "source": [
    "sym.diff(D,z)"
   ]
  },
  {
   "cell_type": "code",
   "execution_count": null,
   "id": "366313ea-819c-4d75-a618-a907a880af86",
   "metadata": {},
   "outputs": [],
   "source": []
  }
 ],
 "metadata": {
  "kernelspec": {
   "display_name": "Python 3 (ipykernel)",
   "language": "python",
   "name": "python3"
  },
  "language_info": {
   "codemirror_mode": {
    "name": "ipython",
    "version": 3
   },
   "file_extension": ".py",
   "mimetype": "text/x-python",
   "name": "python",
   "nbconvert_exporter": "python",
   "pygments_lexer": "ipython3",
   "version": "3.8.10"
  }
 },
 "nbformat": 4,
 "nbformat_minor": 5
}
