{
 "cells": [
  {
   "cell_type": "code",
   "execution_count": 293,
   "id": "e74a7f3a-0dae-49f5-a427-cc0a871de214",
   "metadata": {},
   "outputs": [],
   "source": [
    "import sympy as sym\n",
    "from sympy import init_printing,latex,symbols\n",
    "from sympy import  Function\n",
    "from sympy import  Matrix\n",
    "\n",
    "init_printing()\n",
    "\n",
    "x,y,z,A,B,C,D,E,F,G,H,I,J,m,n,k,l = sym.symbols('x,y,z,A,B,C,D,E,F,G,H,I,J,mu,nu,kappa,lamda')\n",
    "A2 = (x*x + y*y + z*z)\n",
    "L = m*x + n*y + k*z\n",
    "Q = A*x*x + B*y*y + C*z*z + 2*D*x*y + 2*E*x*z + 2*F*y*z + 2*G*x + 2*H*y + 2*I*z + J"
   ]
  },
  {
   "cell_type": "code",
   "execution_count": 294,
   "id": "f70a5cea-f93d-4aff-96e0-3bd8924c8a6c",
   "metadata": {},
   "outputs": [
    {
     "data": {
      "text/latex": [
       "$\\displaystyle x^{2} + y^{2} + z^{2}$"
      ],
      "text/plain": [
       " 2    2    2\n",
       "x  + y  + z "
      ]
     },
     "execution_count": 294,
     "metadata": {},
     "output_type": "execute_result"
    }
   ],
   "source": [
    "A2"
   ]
  },
  {
   "cell_type": "code",
   "execution_count": 295,
   "id": "60f42ea3-bb19-43ce-a133-591f8a5fb78f",
   "metadata": {},
   "outputs": [
    {
     "data": {
      "text/latex": [
       "$\\displaystyle \\kappa z + \\mu x + \\nu y$"
      ],
      "text/plain": [
       "κ⋅z + μ⋅x + ν⋅y"
      ]
     },
     "execution_count": 295,
     "metadata": {},
     "output_type": "execute_result"
    }
   ],
   "source": [
    "L"
   ]
  },
  {
   "cell_type": "code",
   "execution_count": 296,
   "id": "d7f427ae-5097-4de4-b6eb-e7d52150f4d2",
   "metadata": {},
   "outputs": [
    {
     "data": {
      "text/latex": [
       "$\\displaystyle A x^{2} + B y^{2} + C z^{2} + 2 D x y + 2 E x z + 2 F y z + 2 G x + 2 H y + 2 I z + J$"
      ],
      "text/plain": [
       "   2      2      2                                                          \n",
       "A⋅x  + B⋅y  + C⋅z  + 2⋅D⋅x⋅y + 2⋅E⋅x⋅z + 2⋅F⋅y⋅z + 2⋅G⋅x + 2⋅H⋅y + 2⋅I⋅z + J"
      ]
     },
     "execution_count": 296,
     "metadata": {},
     "output_type": "execute_result"
    }
   ],
   "source": [
    "Q"
   ]
  },
  {
   "cell_type": "code",
   "execution_count": 297,
   "id": "167b2820-7bdb-454d-b1d1-a7afbb341015",
   "metadata": {},
   "outputs": [],
   "source": [
    "def grad(f):\n",
    "    dx = sym.diff(f,x)\n",
    "    dy = sym.diff(f,y)\n",
    "    dz = sym.diff(f,z)\n",
    "    return dx, dy, dz"
   ]
  },
  {
   "cell_type": "code",
   "execution_count": 310,
   "id": "73b54ba7-68eb-4569-8d4a-b016facaf0b0",
   "metadata": {},
   "outputs": [],
   "source": [
    "def hess(f):\n",
    "    dx, dy, dz = f\n",
    "    dxx = sym.diff(dx,x)\n",
    "    dxy = sym.diff(dx,y)\n",
    "    dxz = sym.diff(dx,z)\n",
    "    \n",
    "    dyy = sym.diff(dy,y)\n",
    "    dyz = sym.diff(dy,z)\n",
    "    \n",
    "    dzz = sym.diff(dz,z)\n",
    "    return dxx, dyy, dzz, dxy, dxz, dyz"
   ]
  },
  {
   "cell_type": "code",
   "execution_count": 311,
   "id": "40446482-0924-42d1-96b7-4f2674a0a25e",
   "metadata": {},
   "outputs": [
    {
     "data": {
      "text/latex": [
       "$\\displaystyle A x^{2} + B y^{2} + C z^{2} + 2 D x y + 2 E x z + 2 F y z + 2 G x + 2 H y + 2 I z + J + \\lambda \\left(x^{2} + y^{2} + z^{2}\\right)^{2} + \\left(x^{2} + y^{2} + z^{2}\\right) \\left(\\kappa z + \\mu x + \\nu y\\right)$"
      ],
      "text/plain": [
       "                                                                                               2                                   \n",
       "   2      2      2                                                               ⎛ 2    2    2⎞    ⎛ 2    2    2⎞                  \n",
       "A⋅x  + B⋅y  + C⋅z  + 2⋅D⋅x⋅y + 2⋅E⋅x⋅z + 2⋅F⋅y⋅z + 2⋅G⋅x + 2⋅H⋅y + 2⋅I⋅z + J + λ⋅⎝x  + y  + z ⎠  + ⎝x  + y  + z ⎠⋅(κ⋅z + μ⋅x + ν⋅y)"
      ]
     },
     "execution_count": 311,
     "metadata": {},
     "output_type": "execute_result"
    }
   ],
   "source": [
    "D = l*A2*A2 + A2*L + Q\n",
    "D"
   ]
  },
  {
   "cell_type": "code",
   "execution_count": 312,
   "id": "9775db93-ea86-484e-b85e-20cf7da99a25",
   "metadata": {},
   "outputs": [],
   "source": [
    "dx, dy, dz = grad(D)\n",
    "dxx, dyy, dzz, dxy, dxz, dyz = hess((dx, dy, dz))"
   ]
  },
  {
   "cell_type": "code",
   "execution_count": 313,
   "id": "366313ea-819c-4d75-a618-a907a880af86",
   "metadata": {},
   "outputs": [
    {
     "data": {
      "text/latex": [
       "$\\displaystyle 2 A x + 2 D y + 2 E z + 2 G + 4 \\lambda x \\left(x^{2} + y^{2} + z^{2}\\right) + \\mu \\left(x^{2} + y^{2} + z^{2}\\right) + 2 x \\left(\\kappa z + \\mu x + \\nu y\\right)$"
      ],
      "text/plain": [
       "                                    ⎛ 2    2    2⎞     ⎛ 2    2    2⎞                        \n",
       "2⋅A⋅x + 2⋅D⋅y + 2⋅E⋅z + 2⋅G + 4⋅λ⋅x⋅⎝x  + y  + z ⎠ + μ⋅⎝x  + y  + z ⎠ + 2⋅x⋅(κ⋅z + μ⋅x + ν⋅y)"
      ]
     },
     "execution_count": 313,
     "metadata": {},
     "output_type": "execute_result"
    }
   ],
   "source": [
    "dx"
   ]
  },
  {
   "cell_type": "code",
   "execution_count": 314,
   "id": "a2570dbc-2ac9-4230-a369-2a50f90deace",
   "metadata": {},
   "outputs": [
    {
     "data": {
      "text/latex": [
       "$\\displaystyle 2 B y + 2 D x + 2 F z + 2 H + 4 \\lambda y \\left(x^{2} + y^{2} + z^{2}\\right) + \\nu \\left(x^{2} + y^{2} + z^{2}\\right) + 2 y \\left(\\kappa z + \\mu x + \\nu y\\right)$"
      ],
      "text/plain": [
       "                                    ⎛ 2    2    2⎞     ⎛ 2    2    2⎞                        \n",
       "2⋅B⋅y + 2⋅D⋅x + 2⋅F⋅z + 2⋅H + 4⋅λ⋅y⋅⎝x  + y  + z ⎠ + ν⋅⎝x  + y  + z ⎠ + 2⋅y⋅(κ⋅z + μ⋅x + ν⋅y)"
      ]
     },
     "execution_count": 314,
     "metadata": {},
     "output_type": "execute_result"
    }
   ],
   "source": [
    "dy"
   ]
  },
  {
   "cell_type": "code",
   "execution_count": 315,
   "id": "e241291e-3ded-4579-a15d-b56345b17a68",
   "metadata": {},
   "outputs": [
    {
     "data": {
      "text/latex": [
       "$\\displaystyle 2 C z + 2 E x + 2 F y + 2 I + \\kappa \\left(x^{2} + y^{2} + z^{2}\\right) + 4 \\lambda z \\left(x^{2} + y^{2} + z^{2}\\right) + 2 z \\left(\\kappa z + \\mu x + \\nu y\\right)$"
      ],
      "text/plain": [
       "                                ⎛ 2    2    2⎞         ⎛ 2    2    2⎞                        \n",
       "2⋅C⋅z + 2⋅E⋅x + 2⋅F⋅y + 2⋅I + κ⋅⎝x  + y  + z ⎠ + 4⋅λ⋅z⋅⎝x  + y  + z ⎠ + 2⋅z⋅(κ⋅z + μ⋅x + ν⋅y)"
      ]
     },
     "execution_count": 315,
     "metadata": {},
     "output_type": "execute_result"
    }
   ],
   "source": [
    "dz"
   ]
  },
  {
   "cell_type": "code",
   "execution_count": 316,
   "id": "03ea3b04-ec3e-45d5-ae44-ec14f7ed38c3",
   "metadata": {},
   "outputs": [
    {
     "data": {
      "text/latex": [
       "$\\displaystyle \\left[\\begin{matrix}2 A + 2 \\kappa z + 8 \\lambda x^{2} + 4 \\lambda \\left(x^{2} + y^{2} + z^{2}\\right) + 6 \\mu x + 2 \\nu y & 2 D + 8 \\lambda x y + 2 \\mu y + 2 \\nu x & 2 E + 2 \\kappa x + 8 \\lambda x z + 2 \\mu z\\\\2 D + 8 \\lambda x y + 2 \\mu y + 2 \\nu x & 2 B + 2 \\kappa z + 8 \\lambda y^{2} + 4 \\lambda \\left(x^{2} + y^{2} + z^{2}\\right) + 2 \\mu x + 6 \\nu y & 2 F + 2 \\kappa y + 8 \\lambda y z + 2 \\nu z\\\\2 E + 2 \\kappa x + 8 \\lambda x z + 2 \\mu z & 2 F + 2 \\kappa y + 8 \\lambda y z + 2 \\nu z & 2 C + 6 \\kappa z + 8 \\lambda z^{2} + 4 \\lambda \\left(x^{2} + y^{2} + z^{2}\\right) + 2 \\mu x + 2 \\nu y\\end{matrix}\\right]$"
      ],
      "text/plain": [
       "⎡                   2       ⎛ 2    2    2⎞                                                                                                                                      ⎤\n",
       "⎢2⋅A + 2⋅κ⋅z + 8⋅λ⋅x  + 4⋅λ⋅⎝x  + y  + z ⎠ + 6⋅μ⋅x + 2⋅ν⋅y                2⋅D + 8⋅λ⋅x⋅y + 2⋅μ⋅y + 2⋅ν⋅x                              2⋅E + 2⋅κ⋅x + 8⋅λ⋅x⋅z + 2⋅μ⋅z              ⎥\n",
       "⎢                                                                                                                                                                               ⎥\n",
       "⎢                                                                              2       ⎛ 2    2    2⎞                                                                           ⎥\n",
       "⎢              2⋅D + 8⋅λ⋅x⋅y + 2⋅μ⋅y + 2⋅ν⋅x                2⋅B + 2⋅κ⋅z + 8⋅λ⋅y  + 4⋅λ⋅⎝x  + y  + z ⎠ + 2⋅μ⋅x + 6⋅ν⋅y                2⋅F + 2⋅κ⋅y + 8⋅λ⋅y⋅z + 2⋅ν⋅z              ⎥\n",
       "⎢                                                                                                                                                                               ⎥\n",
       "⎢                                                                                                                                         2       ⎛ 2    2    2⎞                ⎥\n",
       "⎣              2⋅E + 2⋅κ⋅x + 8⋅λ⋅x⋅z + 2⋅μ⋅z                              2⋅F + 2⋅κ⋅y + 8⋅λ⋅y⋅z + 2⋅ν⋅z                2⋅C + 6⋅κ⋅z + 8⋅λ⋅z  + 4⋅λ⋅⎝x  + y  + z ⎠ + 2⋅μ⋅x + 2⋅ν⋅y⎦"
      ]
     },
     "execution_count": 316,
     "metadata": {},
     "output_type": "execute_result"
    }
   ],
   "source": [
    "Matrix([\n",
    "    [dxx, dxy, dxz],\n",
    "    [dxy, dyy, dyz],\n",
    "    [dxz, dyz, dzz]\n",
    "])"
   ]
  },
  {
   "cell_type": "code",
   "execution_count": 304,
   "id": "ac17960e-ddac-4e41-8cd1-6641e144ce87",
   "metadata": {},
   "outputs": [
    {
     "data": {
      "text/latex": [
       "$\\displaystyle 2 A + 2 \\kappa z + 8 \\lambda x^{2} + 4 \\lambda \\left(x^{2} + y^{2} + z^{2}\\right) + 6 \\mu x + 2 \\nu y$"
      ],
      "text/plain": [
       "                   2       ⎛ 2    2    2⎞                \n",
       "2⋅A + 2⋅κ⋅z + 8⋅λ⋅x  + 4⋅λ⋅⎝x  + y  + z ⎠ + 6⋅μ⋅x + 2⋅ν⋅y"
      ]
     },
     "execution_count": 304,
     "metadata": {},
     "output_type": "execute_result"
    }
   ],
   "source": [
    "dxx"
   ]
  },
  {
   "cell_type": "code",
   "execution_count": 305,
   "id": "ae07c044-bd71-40e9-a9da-cc4d161ab4f7",
   "metadata": {},
   "outputs": [
    {
     "data": {
      "text/latex": [
       "$\\displaystyle 2 D + 8 \\lambda x y + 2 \\mu y + 2 \\nu x$"
      ],
      "text/plain": [
       "2⋅D + 8⋅λ⋅x⋅y + 2⋅μ⋅y + 2⋅ν⋅x"
      ]
     },
     "execution_count": 305,
     "metadata": {},
     "output_type": "execute_result"
    }
   ],
   "source": [
    "dxy"
   ]
  },
  {
   "cell_type": "code",
   "execution_count": 306,
   "id": "192c4b18-1740-43b1-8305-010d20813084",
   "metadata": {},
   "outputs": [
    {
     "data": {
      "text/latex": [
       "$\\displaystyle 2 E + 2 \\kappa x + 8 \\lambda x z + 2 \\mu z$"
      ],
      "text/plain": [
       "2⋅E + 2⋅κ⋅x + 8⋅λ⋅x⋅z + 2⋅μ⋅z"
      ]
     },
     "execution_count": 306,
     "metadata": {},
     "output_type": "execute_result"
    }
   ],
   "source": [
    "dxz"
   ]
  },
  {
   "cell_type": "code",
   "execution_count": 307,
   "id": "8ab35cef-0139-41c5-a8c2-f34ce5e102ea",
   "metadata": {},
   "outputs": [
    {
     "data": {
      "text/latex": [
       "$\\displaystyle 2 B + 2 \\kappa z + 8 \\lambda y^{2} + 4 \\lambda \\left(x^{2} + y^{2} + z^{2}\\right) + 2 \\mu x + 6 \\nu y$"
      ],
      "text/plain": [
       "                   2       ⎛ 2    2    2⎞                \n",
       "2⋅B + 2⋅κ⋅z + 8⋅λ⋅y  + 4⋅λ⋅⎝x  + y  + z ⎠ + 2⋅μ⋅x + 6⋅ν⋅y"
      ]
     },
     "execution_count": 307,
     "metadata": {},
     "output_type": "execute_result"
    }
   ],
   "source": [
    "dyy"
   ]
  },
  {
   "cell_type": "code",
   "execution_count": 308,
   "id": "618c4f07-d1b9-4f18-ac39-ee8d39b556d9",
   "metadata": {},
   "outputs": [
    {
     "data": {
      "text/latex": [
       "$\\displaystyle 2 F + 2 \\kappa y + 8 \\lambda y z + 2 \\nu z$"
      ],
      "text/plain": [
       "2⋅F + 2⋅κ⋅y + 8⋅λ⋅y⋅z + 2⋅ν⋅z"
      ]
     },
     "execution_count": 308,
     "metadata": {},
     "output_type": "execute_result"
    }
   ],
   "source": [
    "dyz"
   ]
  },
  {
   "cell_type": "code",
   "execution_count": 309,
   "id": "fed22fc5-3434-448c-aa3e-44f8b88915cc",
   "metadata": {},
   "outputs": [
    {
     "data": {
      "text/latex": [
       "$\\displaystyle 2 C + 6 \\kappa z + 8 \\lambda z^{2} + 4 \\lambda \\left(x^{2} + y^{2} + z^{2}\\right) + 2 \\mu x + 2 \\nu y$"
      ],
      "text/plain": [
       "                   2       ⎛ 2    2    2⎞                \n",
       "2⋅C + 6⋅κ⋅z + 8⋅λ⋅z  + 4⋅λ⋅⎝x  + y  + z ⎠ + 2⋅μ⋅x + 2⋅ν⋅y"
      ]
     },
     "execution_count": 309,
     "metadata": {},
     "output_type": "execute_result"
    }
   ],
   "source": [
    "dzz"
   ]
  },
  {
   "cell_type": "code",
   "execution_count": 203,
   "id": "e810e464-f03b-4aed-ac41-9cc8789d590f",
   "metadata": {},
   "outputs": [],
   "source": [
    "A2 = Function('A_2')(x, y, z)\n",
    "L =  Function('L')(x, y, z)\n",
    "D = l*A2*A2 + A2*L + Q"
   ]
  },
  {
   "cell_type": "code",
   "execution_count": 204,
   "id": "08e57410-cfb8-4394-a346-c44e8874794b",
   "metadata": {},
   "outputs": [
    {
     "data": {
      "text/latex": [
       "$\\displaystyle A x^{2} + B y^{2} + C z^{2} + 2 D x y + 2 E x z + 2 F y z + 2 G x + 2 H y + 2 I z + J + \\lambda A_{2}^{2}{\\left(x,y,z \\right)} + A_{2}{\\left(x,y,z \\right)} L{\\left(x,y,z \\right)}$"
      ],
      "text/plain": [
       "   2      2      2                                                                 2                                  \n",
       "A⋅x  + B⋅y  + C⋅z  + 2⋅D⋅x⋅y + 2⋅E⋅x⋅z + 2⋅F⋅y⋅z + 2⋅G⋅x + 2⋅H⋅y + 2⋅I⋅z + J + λ⋅A₂ (x, y, z) + A₂(x, y, z)⋅L(x, y, z)"
      ]
     },
     "execution_count": 204,
     "metadata": {},
     "output_type": "execute_result"
    }
   ],
   "source": [
    "D"
   ]
  },
  {
   "cell_type": "code",
   "execution_count": 205,
   "id": "ef663405-be10-4a59-981b-e0b185587fe4",
   "metadata": {},
   "outputs": [],
   "source": [
    "dx, dy, dz = grad(D)\n",
    "dxx, dyy, dzz, dxy, dxz, dyz = hess((dx, dy, dz))"
   ]
  },
  {
   "cell_type": "code",
   "execution_count": 206,
   "id": "8dafe1d9-8bd6-4c18-b4a4-74d1dfcaaa3f",
   "metadata": {},
   "outputs": [
    {
     "data": {
      "text/latex": [
       "$\\displaystyle 2 A x + 2 D y + 2 E z + 2 G + 2 \\lambda A_{2}{\\left(x,y,z \\right)} \\frac{\\partial}{\\partial x} A_{2}{\\left(x,y,z \\right)} + A_{2}{\\left(x,y,z \\right)} \\frac{\\partial}{\\partial x} L{\\left(x,y,z \\right)} + L{\\left(x,y,z \\right)} \\frac{\\partial}{\\partial x} A_{2}{\\left(x,y,z \\right)}$"
      ],
      "text/plain": [
       "                                              ∂                             ∂                           ∂              \n",
       "2⋅A⋅x + 2⋅D⋅y + 2⋅E⋅z + 2⋅G + 2⋅λ⋅A₂(x, y, z)⋅──(A₂(x, y, z)) + A₂(x, y, z)⋅──(L(x, y, z)) + L(x, y, z)⋅──(A₂(x, y, z))\n",
       "                                              ∂x                            ∂x                          ∂x             "
      ]
     },
     "execution_count": 206,
     "metadata": {},
     "output_type": "execute_result"
    }
   ],
   "source": [
    "dx"
   ]
  },
  {
   "cell_type": "code",
   "execution_count": 207,
   "id": "b3e75d4e-46bc-4d02-9e1f-b689882f7a63",
   "metadata": {},
   "outputs": [
    {
     "data": {
      "text/latex": [
       "$\\displaystyle 2 B y + 2 D x + 2 F z + 2 H + 2 \\lambda A_{2}{\\left(x,y,z \\right)} \\frac{\\partial}{\\partial y} A_{2}{\\left(x,y,z \\right)} + A_{2}{\\left(x,y,z \\right)} \\frac{\\partial}{\\partial y} L{\\left(x,y,z \\right)} + L{\\left(x,y,z \\right)} \\frac{\\partial}{\\partial y} A_{2}{\\left(x,y,z \\right)}$"
      ],
      "text/plain": [
       "                                              ∂                             ∂                           ∂              \n",
       "2⋅B⋅y + 2⋅D⋅x + 2⋅F⋅z + 2⋅H + 2⋅λ⋅A₂(x, y, z)⋅──(A₂(x, y, z)) + A₂(x, y, z)⋅──(L(x, y, z)) + L(x, y, z)⋅──(A₂(x, y, z))\n",
       "                                              ∂y                            ∂y                          ∂y             "
      ]
     },
     "execution_count": 207,
     "metadata": {},
     "output_type": "execute_result"
    }
   ],
   "source": [
    "dy"
   ]
  },
  {
   "cell_type": "code",
   "execution_count": 208,
   "id": "4dfa0450-1eb2-417f-b817-b8e3537458a1",
   "metadata": {},
   "outputs": [
    {
     "data": {
      "text/latex": [
       "$\\displaystyle 2 C z + 2 E x + 2 F y + 2 I + 2 \\lambda A_{2}{\\left(x,y,z \\right)} \\frac{\\partial}{\\partial z} A_{2}{\\left(x,y,z \\right)} + A_{2}{\\left(x,y,z \\right)} \\frac{\\partial}{\\partial z} L{\\left(x,y,z \\right)} + L{\\left(x,y,z \\right)} \\frac{\\partial}{\\partial z} A_{2}{\\left(x,y,z \\right)}$"
      ],
      "text/plain": [
       "                                              ∂                             ∂                           ∂              \n",
       "2⋅C⋅z + 2⋅E⋅x + 2⋅F⋅y + 2⋅I + 2⋅λ⋅A₂(x, y, z)⋅──(A₂(x, y, z)) + A₂(x, y, z)⋅──(L(x, y, z)) + L(x, y, z)⋅──(A₂(x, y, z))\n",
       "                                              ∂z                            ∂z                          ∂z             "
      ]
     },
     "execution_count": 208,
     "metadata": {},
     "output_type": "execute_result"
    }
   ],
   "source": [
    "dz"
   ]
  },
  {
   "cell_type": "code",
   "execution_count": 292,
   "id": "d80cd3ae-139a-44b2-9a5c-58ebafa6208c",
   "metadata": {},
   "outputs": [
    {
     "data": {
      "text/latex": [
       "$\\displaystyle \\left[\\begin{matrix}2 A + 2 \\lambda A_{2}{\\left(x,y,z \\right)} \\frac{\\partial^{2}}{\\partial x^{2}} A_{2}{\\left(x,y,z \\right)} + 2 \\lambda \\left(\\frac{\\partial}{\\partial x} A_{2}{\\left(x,y,z \\right)}\\right)^{2} + A_{2}{\\left(x,y,z \\right)} \\frac{\\partial^{2}}{\\partial x^{2}} L{\\left(x,y,z \\right)} + L{\\left(x,y,z \\right)} \\frac{\\partial^{2}}{\\partial x^{2}} A_{2}{\\left(x,y,z \\right)} + 2 \\frac{\\partial}{\\partial x} A_{2}{\\left(x,y,z \\right)} \\frac{\\partial}{\\partial x} L{\\left(x,y,z \\right)} & 2 D + 2 \\lambda A_{2}{\\left(x,y,z \\right)} \\frac{\\partial^{2}}{\\partial y\\partial x} A_{2}{\\left(x,y,z \\right)} + 2 \\lambda \\frac{\\partial}{\\partial x} A_{2}{\\left(x,y,z \\right)} \\frac{\\partial}{\\partial y} A_{2}{\\left(x,y,z \\right)} + A_{2}{\\left(x,y,z \\right)} \\frac{\\partial^{2}}{\\partial y\\partial x} L{\\left(x,y,z \\right)} + L{\\left(x,y,z \\right)} \\frac{\\partial^{2}}{\\partial y\\partial x} A_{2}{\\left(x,y,z \\right)} + \\frac{\\partial}{\\partial x} A_{2}{\\left(x,y,z \\right)} \\frac{\\partial}{\\partial y} L{\\left(x,y,z \\right)} + \\frac{\\partial}{\\partial y} A_{2}{\\left(x,y,z \\right)} \\frac{\\partial}{\\partial x} L{\\left(x,y,z \\right)} & 2 E + 2 \\lambda A_{2}{\\left(x,y,z \\right)} \\frac{\\partial^{2}}{\\partial z\\partial x} A_{2}{\\left(x,y,z \\right)} + 2 \\lambda \\frac{\\partial}{\\partial x} A_{2}{\\left(x,y,z \\right)} \\frac{\\partial}{\\partial z} A_{2}{\\left(x,y,z \\right)} + A_{2}{\\left(x,y,z \\right)} \\frac{\\partial^{2}}{\\partial z\\partial x} L{\\left(x,y,z \\right)} + L{\\left(x,y,z \\right)} \\frac{\\partial^{2}}{\\partial z\\partial x} A_{2}{\\left(x,y,z \\right)} + \\frac{\\partial}{\\partial x} A_{2}{\\left(x,y,z \\right)} \\frac{\\partial}{\\partial z} L{\\left(x,y,z \\right)} + \\frac{\\partial}{\\partial z} A_{2}{\\left(x,y,z \\right)} \\frac{\\partial}{\\partial x} L{\\left(x,y,z \\right)}\\\\2 D + 2 \\lambda A_{2}{\\left(x,y,z \\right)} \\frac{\\partial^{2}}{\\partial y\\partial x} A_{2}{\\left(x,y,z \\right)} + 2 \\lambda \\frac{\\partial}{\\partial x} A_{2}{\\left(x,y,z \\right)} \\frac{\\partial}{\\partial y} A_{2}{\\left(x,y,z \\right)} + A_{2}{\\left(x,y,z \\right)} \\frac{\\partial^{2}}{\\partial y\\partial x} L{\\left(x,y,z \\right)} + L{\\left(x,y,z \\right)} \\frac{\\partial^{2}}{\\partial y\\partial x} A_{2}{\\left(x,y,z \\right)} + \\frac{\\partial}{\\partial x} A_{2}{\\left(x,y,z \\right)} \\frac{\\partial}{\\partial y} L{\\left(x,y,z \\right)} + \\frac{\\partial}{\\partial y} A_{2}{\\left(x,y,z \\right)} \\frac{\\partial}{\\partial x} L{\\left(x,y,z \\right)} & 2 B + 2 \\lambda A_{2}{\\left(x,y,z \\right)} \\frac{\\partial^{2}}{\\partial y^{2}} A_{2}{\\left(x,y,z \\right)} + 2 \\lambda \\left(\\frac{\\partial}{\\partial y} A_{2}{\\left(x,y,z \\right)}\\right)^{2} + A_{2}{\\left(x,y,z \\right)} \\frac{\\partial^{2}}{\\partial y^{2}} L{\\left(x,y,z \\right)} + L{\\left(x,y,z \\right)} \\frac{\\partial^{2}}{\\partial y^{2}} A_{2}{\\left(x,y,z \\right)} + 2 \\frac{\\partial}{\\partial y} A_{2}{\\left(x,y,z \\right)} \\frac{\\partial}{\\partial y} L{\\left(x,y,z \\right)} & 2 F + 2 \\lambda A_{2}{\\left(x,y,z \\right)} \\frac{\\partial^{2}}{\\partial z\\partial y} A_{2}{\\left(x,y,z \\right)} + 2 \\lambda \\frac{\\partial}{\\partial y} A_{2}{\\left(x,y,z \\right)} \\frac{\\partial}{\\partial z} A_{2}{\\left(x,y,z \\right)} + A_{2}{\\left(x,y,z \\right)} \\frac{\\partial^{2}}{\\partial z\\partial y} L{\\left(x,y,z \\right)} + L{\\left(x,y,z \\right)} \\frac{\\partial^{2}}{\\partial z\\partial y} A_{2}{\\left(x,y,z \\right)} + \\frac{\\partial}{\\partial y} A_{2}{\\left(x,y,z \\right)} \\frac{\\partial}{\\partial z} L{\\left(x,y,z \\right)} + \\frac{\\partial}{\\partial z} A_{2}{\\left(x,y,z \\right)} \\frac{\\partial}{\\partial y} L{\\left(x,y,z \\right)}\\\\2 E + 2 \\lambda A_{2}{\\left(x,y,z \\right)} \\frac{\\partial^{2}}{\\partial z\\partial x} A_{2}{\\left(x,y,z \\right)} + 2 \\lambda \\frac{\\partial}{\\partial x} A_{2}{\\left(x,y,z \\right)} \\frac{\\partial}{\\partial z} A_{2}{\\left(x,y,z \\right)} + A_{2}{\\left(x,y,z \\right)} \\frac{\\partial^{2}}{\\partial z\\partial x} L{\\left(x,y,z \\right)} + L{\\left(x,y,z \\right)} \\frac{\\partial^{2}}{\\partial z\\partial x} A_{2}{\\left(x,y,z \\right)} + \\frac{\\partial}{\\partial x} A_{2}{\\left(x,y,z \\right)} \\frac{\\partial}{\\partial z} L{\\left(x,y,z \\right)} + \\frac{\\partial}{\\partial z} A_{2}{\\left(x,y,z \\right)} \\frac{\\partial}{\\partial x} L{\\left(x,y,z \\right)} & 2 F + 2 \\lambda A_{2}{\\left(x,y,z \\right)} \\frac{\\partial^{2}}{\\partial z\\partial y} A_{2}{\\left(x,y,z \\right)} + 2 \\lambda \\frac{\\partial}{\\partial y} A_{2}{\\left(x,y,z \\right)} \\frac{\\partial}{\\partial z} A_{2}{\\left(x,y,z \\right)} + A_{2}{\\left(x,y,z \\right)} \\frac{\\partial^{2}}{\\partial z\\partial y} L{\\left(x,y,z \\right)} + L{\\left(x,y,z \\right)} \\frac{\\partial^{2}}{\\partial z\\partial y} A_{2}{\\left(x,y,z \\right)} + \\frac{\\partial}{\\partial y} A_{2}{\\left(x,y,z \\right)} \\frac{\\partial}{\\partial z} L{\\left(x,y,z \\right)} + \\frac{\\partial}{\\partial z} A_{2}{\\left(x,y,z \\right)} \\frac{\\partial}{\\partial y} L{\\left(x,y,z \\right)} & 2 C + 2 \\lambda A_{2}{\\left(x,y,z \\right)} \\frac{\\partial^{2}}{\\partial z^{2}} A_{2}{\\left(x,y,z \\right)} + 2 \\lambda \\left(\\frac{\\partial}{\\partial z} A_{2}{\\left(x,y,z \\right)}\\right)^{2} + A_{2}{\\left(x,y,z \\right)} \\frac{\\partial^{2}}{\\partial z^{2}} L{\\left(x,y,z \\right)} + L{\\left(x,y,z \\right)} \\frac{\\partial^{2}}{\\partial z^{2}} A_{2}{\\left(x,y,z \\right)} + 2 \\frac{\\partial}{\\partial z} A_{2}{\\left(x,y,z \\right)} \\frac{\\partial}{\\partial z} L{\\left(x,y,z \\right)}\\end{matrix}\\right]$"
      ],
      "text/plain": [
       "⎡                                                 2                                     2                 2                            2                                                       \n",
       "⎢                                                ∂                     ⎛∂              ⎞                 ∂                            ∂                   ∂               ∂                    \n",
       "⎢                         2⋅A + 2⋅λ⋅A₂(x, y, z)⋅───(A₂(x, y, z)) + 2⋅λ⋅⎜──(A₂(x, y, z))⎟  + A₂(x, y, z)⋅───(L(x, y, z)) + L(x, y, z)⋅───(A₂(x, y, z)) + 2⋅──(A₂(x, y, z))⋅──(L(x, y, z))       \n",
       "⎢                                                 2                    ⎝∂x             ⎠                  2                            2                  ∂x              ∂x                   \n",
       "⎢                                               ∂x                                                      ∂x                           ∂x                                                        \n",
       "⎢                                                                                                                                                                                              \n",
       "⎢                         2                                                                      2                              2                                                              \n",
       "⎢                        ∂                      ∂               ∂                               ∂                              ∂                  ∂               ∂                ∂           \n",
       "⎢2⋅D + 2⋅λ⋅A₂(x, y, z)⋅─────(A₂(x, y, z)) + 2⋅λ⋅──(A₂(x, y, z))⋅──(A₂(x, y, z)) + A₂(x, y, z)⋅─────(L(x, y, z)) + L(x, y, z)⋅─────(A₂(x, y, z)) + ──(A₂(x, y, z))⋅──(L(x, y, z)) + ──(A₂(x, y, \n",
       "⎢                      ∂y ∂x                    ∂x              ∂y                            ∂y ∂x                          ∂y ∂x                ∂x              ∂y               ∂y          \n",
       "⎢                                                                                                                                                                                              \n",
       "⎢                                                                                                                                                                                              \n",
       "⎢                         2                                                                      2                              2                                                              \n",
       "⎢                        ∂                      ∂               ∂                               ∂                              ∂                  ∂               ∂                ∂           \n",
       "⎢2⋅E + 2⋅λ⋅A₂(x, y, z)⋅─────(A₂(x, y, z)) + 2⋅λ⋅──(A₂(x, y, z))⋅──(A₂(x, y, z)) + A₂(x, y, z)⋅─────(L(x, y, z)) + L(x, y, z)⋅─────(A₂(x, y, z)) + ──(A₂(x, y, z))⋅──(L(x, y, z)) + ──(A₂(x, y, \n",
       "⎢                      ∂z ∂x                    ∂x              ∂z                            ∂z ∂x                          ∂z ∂x                ∂x              ∂z               ∂z          \n",
       "⎣                                                                                                                                                                                              \n",
       "\n",
       "                                             2                                                                      2                              2                                           \n",
       "                                            ∂                      ∂               ∂                               ∂                              ∂                  ∂               ∂         \n",
       "                    2⋅D + 2⋅λ⋅A₂(x, y, z)⋅─────(A₂(x, y, z)) + 2⋅λ⋅──(A₂(x, y, z))⋅──(A₂(x, y, z)) + A₂(x, y, z)⋅─────(L(x, y, z)) + L(x, y, z)⋅─────(A₂(x, y, z)) + ──(A₂(x, y, z))⋅──(L(x, y,\n",
       "                                          ∂y ∂x                    ∂x              ∂y                            ∂y ∂x                          ∂y ∂x                ∂x              ∂y        \n",
       "                                                                                                                                                                                               \n",
       "                                                                                                                                                                                               \n",
       "                                                                     2                                     2                 2                            2                                    \n",
       "    ∂                                                               ∂                     ⎛∂              ⎞                 ∂                            ∂                   ∂               ∂ \n",
       "z))⋅──(L(x, y, z))                           2⋅B + 2⋅λ⋅A₂(x, y, z)⋅───(A₂(x, y, z)) + 2⋅λ⋅⎜──(A₂(x, y, z))⎟  + A₂(x, y, z)⋅───(L(x, y, z)) + L(x, y, z)⋅───(A₂(x, y, z)) + 2⋅──(A₂(x, y, z))⋅──\n",
       "    ∂x                                                               2                    ⎝∂y             ⎠                  2                            2                  ∂y              ∂y\n",
       "                                                                   ∂y                                                      ∂y                           ∂y                                     \n",
       "                                                                                                                                                                                               \n",
       "                                             2                                                                      2                              2                                           \n",
       "    ∂                                       ∂                      ∂               ∂                               ∂                              ∂                  ∂               ∂         \n",
       "z))⋅──(L(x, y, z))  2⋅F + 2⋅λ⋅A₂(x, y, z)⋅─────(A₂(x, y, z)) + 2⋅λ⋅──(A₂(x, y, z))⋅──(A₂(x, y, z)) + A₂(x, y, z)⋅─────(L(x, y, z)) + L(x, y, z)⋅─────(A₂(x, y, z)) + ──(A₂(x, y, z))⋅──(L(x, y,\n",
       "    ∂x                                    ∂z ∂y                    ∂y              ∂z                            ∂z ∂y                          ∂z ∂y                ∂y              ∂z        \n",
       "                                                                                                                                                                                               \n",
       "\n",
       "                                                                2                                                                      2                              2                        \n",
       "       ∂               ∂                                       ∂                      ∂               ∂                               ∂                              ∂                  ∂      \n",
       " z)) + ──(A₂(x, y, z))⋅──(L(x, y, z))  2⋅E + 2⋅λ⋅A₂(x, y, z)⋅─────(A₂(x, y, z)) + 2⋅λ⋅──(A₂(x, y, z))⋅──(A₂(x, y, z)) + A₂(x, y, z)⋅─────(L(x, y, z)) + L(x, y, z)⋅─────(A₂(x, y, z)) + ──(A₂(x\n",
       "       ∂y              ∂x                                    ∂z ∂x                    ∂x              ∂z                            ∂z ∂x                          ∂z ∂x                ∂x     \n",
       "                                                                                                                                                                                               \n",
       "                                                                                                                                                                                               \n",
       "                                                                2                                                                      2                              2                        \n",
       "                                                               ∂                      ∂               ∂                               ∂                              ∂                  ∂      \n",
       "(L(x, y, z))                           2⋅F + 2⋅λ⋅A₂(x, y, z)⋅─────(A₂(x, y, z)) + 2⋅λ⋅──(A₂(x, y, z))⋅──(A₂(x, y, z)) + A₂(x, y, z)⋅─────(L(x, y, z)) + L(x, y, z)⋅─────(A₂(x, y, z)) + ──(A₂(x\n",
       "                                                             ∂z ∂y                    ∂y              ∂z                            ∂z ∂y                          ∂z ∂y                ∂y     \n",
       "                                                                                                                                                                                               \n",
       "                                                                                                                                                                                               \n",
       "                                                                                        2                                     2                 2                            2                 \n",
       "       ∂               ∂                                                               ∂                     ⎛∂              ⎞                 ∂                            ∂                  \n",
       " z)) + ──(A₂(x, y, z))⋅──(L(x, y, z))                           2⋅C + 2⋅λ⋅A₂(x, y, z)⋅───(A₂(x, y, z)) + 2⋅λ⋅⎜──(A₂(x, y, z))⎟  + A₂(x, y, z)⋅───(L(x, y, z)) + L(x, y, z)⋅───(A₂(x, y, z)) + 2\n",
       "       ∂z              ∂y                                                               2                    ⎝∂z             ⎠                  2                            2                 \n",
       "                                                                                      ∂z                                                      ∂z                           ∂z                  \n",
       "\n",
       "                                                        ⎤\n",
       "         ∂                ∂               ∂             ⎥\n",
       ", y, z))⋅──(L(x, y, z)) + ──(A₂(x, y, z))⋅──(L(x, y, z))⎥\n",
       "         ∂z               ∂z              ∂x            ⎥\n",
       "                                                        ⎥\n",
       "                                                        ⎥\n",
       "                                                        ⎥\n",
       "         ∂                ∂               ∂             ⎥\n",
       ", y, z))⋅──(L(x, y, z)) + ──(A₂(x, y, z))⋅──(L(x, y, z))⎥\n",
       "         ∂z               ∂z              ∂y            ⎥\n",
       "                                                        ⎥\n",
       "                                                        ⎥\n",
       "                                                        ⎥\n",
       " ∂               ∂                                      ⎥\n",
       "⋅──(A₂(x, y, z))⋅──(L(x, y, z))                         ⎥\n",
       " ∂z              ∂z                                     ⎥\n",
       "                                                        ⎦"
      ]
     },
     "execution_count": 292,
     "metadata": {},
     "output_type": "execute_result"
    }
   ],
   "source": []
  },
  {
   "cell_type": "code",
   "execution_count": 209,
   "id": "85f3d973-bd30-4620-a3d0-c62a049b65b8",
   "metadata": {},
   "outputs": [
    {
     "data": {
      "text/latex": [
       "$\\displaystyle 2 A + 2 \\lambda A_{2}{\\left(x,y,z \\right)} \\frac{\\partial^{2}}{\\partial x^{2}} A_{2}{\\left(x,y,z \\right)} + 2 \\lambda \\left(\\frac{\\partial}{\\partial x} A_{2}{\\left(x,y,z \\right)}\\right)^{2} + A_{2}{\\left(x,y,z \\right)} \\frac{\\partial^{2}}{\\partial x^{2}} L{\\left(x,y,z \\right)} + L{\\left(x,y,z \\right)} \\frac{\\partial^{2}}{\\partial x^{2}} A_{2}{\\left(x,y,z \\right)} + 2 \\frac{\\partial}{\\partial x} A_{2}{\\left(x,y,z \\right)} \\frac{\\partial}{\\partial x} L{\\left(x,y,z \\right)}$"
      ],
      "text/plain": [
       "                        2                                     2                 2                            2                                                \n",
       "                       ∂                     ⎛∂              ⎞                 ∂                            ∂                   ∂               ∂             \n",
       "2⋅A + 2⋅λ⋅A₂(x, y, z)⋅───(A₂(x, y, z)) + 2⋅λ⋅⎜──(A₂(x, y, z))⎟  + A₂(x, y, z)⋅───(L(x, y, z)) + L(x, y, z)⋅───(A₂(x, y, z)) + 2⋅──(A₂(x, y, z))⋅──(L(x, y, z))\n",
       "                        2                    ⎝∂x             ⎠                  2                            2                  ∂x              ∂x            \n",
       "                      ∂x                                                      ∂x                           ∂x                                                 "
      ]
     },
     "execution_count": 209,
     "metadata": {},
     "output_type": "execute_result"
    }
   ],
   "source": [
    "dxx"
   ]
  },
  {
   "cell_type": "code",
   "execution_count": 210,
   "id": "38ab9f7c-740b-4ab3-bbd5-66e655f93d57",
   "metadata": {},
   "outputs": [
    {
     "data": {
      "text/latex": [
       "$\\displaystyle 2 B + 2 \\lambda A_{2}{\\left(x,y,z \\right)} \\frac{\\partial^{2}}{\\partial y^{2}} A_{2}{\\left(x,y,z \\right)} + 2 \\lambda \\left(\\frac{\\partial}{\\partial y} A_{2}{\\left(x,y,z \\right)}\\right)^{2} + A_{2}{\\left(x,y,z \\right)} \\frac{\\partial^{2}}{\\partial y^{2}} L{\\left(x,y,z \\right)} + L{\\left(x,y,z \\right)} \\frac{\\partial^{2}}{\\partial y^{2}} A_{2}{\\left(x,y,z \\right)} + 2 \\frac{\\partial}{\\partial y} A_{2}{\\left(x,y,z \\right)} \\frac{\\partial}{\\partial y} L{\\left(x,y,z \\right)}$"
      ],
      "text/plain": [
       "                        2                                     2                 2                            2                                                \n",
       "                       ∂                     ⎛∂              ⎞                 ∂                            ∂                   ∂               ∂             \n",
       "2⋅B + 2⋅λ⋅A₂(x, y, z)⋅───(A₂(x, y, z)) + 2⋅λ⋅⎜──(A₂(x, y, z))⎟  + A₂(x, y, z)⋅───(L(x, y, z)) + L(x, y, z)⋅───(A₂(x, y, z)) + 2⋅──(A₂(x, y, z))⋅──(L(x, y, z))\n",
       "                        2                    ⎝∂y             ⎠                  2                            2                  ∂y              ∂y            \n",
       "                      ∂y                                                      ∂y                           ∂y                                                 "
      ]
     },
     "execution_count": 210,
     "metadata": {},
     "output_type": "execute_result"
    }
   ],
   "source": [
    "dyy"
   ]
  },
  {
   "cell_type": "code",
   "execution_count": 211,
   "id": "09adc60a-29e6-437d-a0e5-85b9211fbb44",
   "metadata": {},
   "outputs": [
    {
     "data": {
      "text/latex": [
       "$\\displaystyle 2 C + 2 \\lambda A_{2}{\\left(x,y,z \\right)} \\frac{\\partial^{2}}{\\partial z^{2}} A_{2}{\\left(x,y,z \\right)} + 2 \\lambda \\left(\\frac{\\partial}{\\partial z} A_{2}{\\left(x,y,z \\right)}\\right)^{2} + A_{2}{\\left(x,y,z \\right)} \\frac{\\partial^{2}}{\\partial z^{2}} L{\\left(x,y,z \\right)} + L{\\left(x,y,z \\right)} \\frac{\\partial^{2}}{\\partial z^{2}} A_{2}{\\left(x,y,z \\right)} + 2 \\frac{\\partial}{\\partial z} A_{2}{\\left(x,y,z \\right)} \\frac{\\partial}{\\partial z} L{\\left(x,y,z \\right)}$"
      ],
      "text/plain": [
       "                        2                                     2                 2                            2                                                \n",
       "                       ∂                     ⎛∂              ⎞                 ∂                            ∂                   ∂               ∂             \n",
       "2⋅C + 2⋅λ⋅A₂(x, y, z)⋅───(A₂(x, y, z)) + 2⋅λ⋅⎜──(A₂(x, y, z))⎟  + A₂(x, y, z)⋅───(L(x, y, z)) + L(x, y, z)⋅───(A₂(x, y, z)) + 2⋅──(A₂(x, y, z))⋅──(L(x, y, z))\n",
       "                        2                    ⎝∂z             ⎠                  2                            2                  ∂z              ∂z            \n",
       "                      ∂z                                                      ∂z                           ∂z                                                 "
      ]
     },
     "execution_count": 211,
     "metadata": {},
     "output_type": "execute_result"
    }
   ],
   "source": [
    "dzz"
   ]
  },
  {
   "cell_type": "code",
   "execution_count": 212,
   "id": "ab96168c-fd55-4d04-917f-82c92b6e9da2",
   "metadata": {},
   "outputs": [
    {
     "data": {
      "text/latex": [
       "$\\displaystyle 2 D + 2 \\lambda A_{2}{\\left(x,y,z \\right)} \\frac{\\partial^{2}}{\\partial y\\partial x} A_{2}{\\left(x,y,z \\right)} + 2 \\lambda \\frac{\\partial}{\\partial x} A_{2}{\\left(x,y,z \\right)} \\frac{\\partial}{\\partial y} A_{2}{\\left(x,y,z \\right)} + A_{2}{\\left(x,y,z \\right)} \\frac{\\partial^{2}}{\\partial y\\partial x} L{\\left(x,y,z \\right)} + L{\\left(x,y,z \\right)} \\frac{\\partial^{2}}{\\partial y\\partial x} A_{2}{\\left(x,y,z \\right)} + \\frac{\\partial}{\\partial x} A_{2}{\\left(x,y,z \\right)} \\frac{\\partial}{\\partial y} L{\\left(x,y,z \\right)} + \\frac{\\partial}{\\partial y} A_{2}{\\left(x,y,z \\right)} \\frac{\\partial}{\\partial x} L{\\left(x,y,z \\right)}$"
      ],
      "text/plain": [
       "                         2                                                                      2                              2                                                               \n",
       "                        ∂                      ∂               ∂                               ∂                              ∂                  ∂               ∂                ∂            \n",
       "2⋅D + 2⋅λ⋅A₂(x, y, z)⋅─────(A₂(x, y, z)) + 2⋅λ⋅──(A₂(x, y, z))⋅──(A₂(x, y, z)) + A₂(x, y, z)⋅─────(L(x, y, z)) + L(x, y, z)⋅─────(A₂(x, y, z)) + ──(A₂(x, y, z))⋅──(L(x, y, z)) + ──(A₂(x, y, z\n",
       "                      ∂y ∂x                    ∂x              ∂y                            ∂y ∂x                          ∂y ∂x                ∂x              ∂y               ∂y           \n",
       "\n",
       "                 \n",
       "   ∂             \n",
       "))⋅──(L(x, y, z))\n",
       "   ∂x            "
      ]
     },
     "execution_count": 212,
     "metadata": {},
     "output_type": "execute_result"
    }
   ],
   "source": [
    "dxy"
   ]
  },
  {
   "cell_type": "code",
   "execution_count": 213,
   "id": "390d77a5-59e0-4738-98bf-e528c8e54aa1",
   "metadata": {},
   "outputs": [
    {
     "data": {
      "text/latex": [
       "$\\displaystyle 2 E + 2 \\lambda A_{2}{\\left(x,y,z \\right)} \\frac{\\partial^{2}}{\\partial z\\partial x} A_{2}{\\left(x,y,z \\right)} + 2 \\lambda \\frac{\\partial}{\\partial x} A_{2}{\\left(x,y,z \\right)} \\frac{\\partial}{\\partial z} A_{2}{\\left(x,y,z \\right)} + A_{2}{\\left(x,y,z \\right)} \\frac{\\partial^{2}}{\\partial z\\partial x} L{\\left(x,y,z \\right)} + L{\\left(x,y,z \\right)} \\frac{\\partial^{2}}{\\partial z\\partial x} A_{2}{\\left(x,y,z \\right)} + \\frac{\\partial}{\\partial x} A_{2}{\\left(x,y,z \\right)} \\frac{\\partial}{\\partial z} L{\\left(x,y,z \\right)} + \\frac{\\partial}{\\partial z} A_{2}{\\left(x,y,z \\right)} \\frac{\\partial}{\\partial x} L{\\left(x,y,z \\right)}$"
      ],
      "text/plain": [
       "                         2                                                                      2                              2                                                               \n",
       "                        ∂                      ∂               ∂                               ∂                              ∂                  ∂               ∂                ∂            \n",
       "2⋅E + 2⋅λ⋅A₂(x, y, z)⋅─────(A₂(x, y, z)) + 2⋅λ⋅──(A₂(x, y, z))⋅──(A₂(x, y, z)) + A₂(x, y, z)⋅─────(L(x, y, z)) + L(x, y, z)⋅─────(A₂(x, y, z)) + ──(A₂(x, y, z))⋅──(L(x, y, z)) + ──(A₂(x, y, z\n",
       "                      ∂z ∂x                    ∂x              ∂z                            ∂z ∂x                          ∂z ∂x                ∂x              ∂z               ∂z           \n",
       "\n",
       "                 \n",
       "   ∂             \n",
       "))⋅──(L(x, y, z))\n",
       "   ∂x            "
      ]
     },
     "execution_count": 213,
     "metadata": {},
     "output_type": "execute_result"
    }
   ],
   "source": [
    "dxz"
   ]
  },
  {
   "cell_type": "code",
   "execution_count": 214,
   "id": "d6f95e76-1daa-4c61-b5c4-d8ce226c9b1e",
   "metadata": {},
   "outputs": [
    {
     "data": {
      "text/latex": [
       "$\\displaystyle 2 F + 2 \\lambda A_{2}{\\left(x,y,z \\right)} \\frac{\\partial^{2}}{\\partial z\\partial y} A_{2}{\\left(x,y,z \\right)} + 2 \\lambda \\frac{\\partial}{\\partial y} A_{2}{\\left(x,y,z \\right)} \\frac{\\partial}{\\partial z} A_{2}{\\left(x,y,z \\right)} + A_{2}{\\left(x,y,z \\right)} \\frac{\\partial^{2}}{\\partial z\\partial y} L{\\left(x,y,z \\right)} + L{\\left(x,y,z \\right)} \\frac{\\partial^{2}}{\\partial z\\partial y} A_{2}{\\left(x,y,z \\right)} + \\frac{\\partial}{\\partial y} A_{2}{\\left(x,y,z \\right)} \\frac{\\partial}{\\partial z} L{\\left(x,y,z \\right)} + \\frac{\\partial}{\\partial z} A_{2}{\\left(x,y,z \\right)} \\frac{\\partial}{\\partial y} L{\\left(x,y,z \\right)}$"
      ],
      "text/plain": [
       "                         2                                                                      2                              2                                                               \n",
       "                        ∂                      ∂               ∂                               ∂                              ∂                  ∂               ∂                ∂            \n",
       "2⋅F + 2⋅λ⋅A₂(x, y, z)⋅─────(A₂(x, y, z)) + 2⋅λ⋅──(A₂(x, y, z))⋅──(A₂(x, y, z)) + A₂(x, y, z)⋅─────(L(x, y, z)) + L(x, y, z)⋅─────(A₂(x, y, z)) + ──(A₂(x, y, z))⋅──(L(x, y, z)) + ──(A₂(x, y, z\n",
       "                      ∂z ∂y                    ∂y              ∂z                            ∂z ∂y                          ∂z ∂y                ∂y              ∂z               ∂z           \n",
       "\n",
       "                 \n",
       "   ∂             \n",
       "))⋅──(L(x, y, z))\n",
       "   ∂y            "
      ]
     },
     "execution_count": 214,
     "metadata": {},
     "output_type": "execute_result"
    }
   ],
   "source": [
    "dyz"
   ]
  },
  {
   "cell_type": "code",
   "execution_count": 215,
   "id": "9797369f-d94f-45b8-b43f-f646b4086c4a",
   "metadata": {},
   "outputs": [],
   "source": [
    "def grad4(f):\n",
    "    dx1 = sym.diff(f,x1)\n",
    "    dx2 = sym.diff(f,x2)\n",
    "    dx3 = sym.diff(f,x3)\n",
    "    dx4 = sym.diff(f,x4)\n",
    "    \n",
    "    return dx1, dx2, dx3, dx4"
   ]
  },
  {
   "cell_type": "code",
   "execution_count": 216,
   "id": "2850e520-0927-473c-8fd5-ee2aa5bced52",
   "metadata": {},
   "outputs": [],
   "source": [
    "def hess4(f):\n",
    "    dx1, dx2, dx3, dx4 = grad4(f)\n",
    "    dx11 = sym.diff(dx1,x1)\n",
    "    dx12 = sym.diff(dx1,x2)\n",
    "    dx13 = sym.diff(dx1,x3)\n",
    "    dx14 = sym.diff(dx1,x4)\n",
    "\n",
    "    dx22 = sym.diff(dx2,x2)\n",
    "    dx23 = sym.diff(dx2,x3)\n",
    "    dx24 = sym.diff(dx2,x4)\n",
    "\n",
    "    dx33 = sym.diff(dx3,x3)\n",
    "    dx34 = sym.diff(dx3,x4)\n",
    "\n",
    "    dx44 = sym.diff(dx4,x4)\n",
    "    \n",
    "    return dx11, dx12, dx13, dx14, dx22, dx23, dx24, dx33, dx34, dx44"
   ]
  },
  {
   "cell_type": "code",
   "execution_count": 274,
   "id": "4508c5a5-7456-439d-8d3e-637f108e41a0",
   "metadata": {},
   "outputs": [],
   "source": [
    "x1, x2, x3, x4, q0, q1, q2, L, l = sym.symbols('x_1, x_2, x_3, x_4, q_0, q_1. q_2 ,L, lamda')\n",
    "x,y,z,A,B,C,D,E,F,G,H,I,J,m,n,k,l = sym.symbols('x,y,z,A,B,C,D,E,F,G,H,I,J,mu,nu,kappa,lamda')\n",
    "q0 = J\n",
    "\n",
    "q2 = A*x1*x1 + B*x2*x2 + C*x3*x3\n",
    "q1 = 2*D*x1*x2 + 2*E*x1*x3 + 2*F*x2*x3 + 2*G*x1 + 2*H*x2 + 2*I*x3\n",
    "q0 = J\n",
    "\n",
    "L = m * x1 + n * x2 + k * x3\n",
    "\n",
    "a = l + q0\n",
    "b = 2*l + L - q1 - 2*q0\n",
    "c = l + L + q2 + q1\n",
    "\n",
    "#Db = a*x4*x4 + b* x4 + c\n",
    "Db = l * (1+x4)**2 + L * (1+x4) + q2 + q1 * (1-x4) + q0 * (1-x4)**2"
   ]
  },
  {
   "cell_type": "code",
   "execution_count": 275,
   "id": "b19ec237-6d3d-48c9-8ea8-f54270782660",
   "metadata": {},
   "outputs": [
    {
     "data": {
      "text/latex": [
       "$\\displaystyle A x_{1}^{2} + B x_{2}^{2} + C x_{3}^{2} + J \\left(1 - x_{4}\\right)^{2} + \\lambda \\left(x_{4} + 1\\right)^{2} + \\left(1 - x_{4}\\right) \\left(2 D x_{1} x_{2} + 2 E x_{1} x_{3} + 2 F x_{2} x_{3} + 2 G x_{1} + 2 H x_{2} + 2 I x_{3}\\right) + \\left(x_{4} + 1\\right) \\left(\\kappa x_{3} + \\mu x_{1} + \\nu x_{2}\\right)$"
      ],
      "text/plain": [
       "    2       2       2             2             2                                                                                                          \n",
       "A⋅x₁  + B⋅x₂  + C⋅x₃  + J⋅(1 - x₄)  + λ⋅(x₄ + 1)  + (1 - x₄)⋅(2⋅D⋅x₁⋅x₂ + 2⋅E⋅x₁⋅x₃ + 2⋅F⋅x₂⋅x₃ + 2⋅G⋅x₁ + 2⋅H⋅x₂ + 2⋅I⋅x₃) + (x₄ + 1)⋅(κ⋅x₃ + μ⋅x₁ + ν⋅x₂)"
      ]
     },
     "execution_count": 275,
     "metadata": {},
     "output_type": "execute_result"
    }
   ],
   "source": [
    "Db"
   ]
  },
  {
   "cell_type": "code",
   "execution_count": 276,
   "id": "848fe37a-2dbc-473f-8e19-f957c86d27d0",
   "metadata": {},
   "outputs": [],
   "source": [
    "dDb = grad4(Db)\n",
    "hDb = hess4(Db)"
   ]
  },
  {
   "cell_type": "code",
   "execution_count": 277,
   "id": "d3cbee72-0a11-474d-b101-b09bc2435da1",
   "metadata": {},
   "outputs": [
    {
     "data": {
      "text/latex": [
       "$\\displaystyle 2 A x_{1} + \\mu \\left(x_{4} + 1\\right) + \\left(1 - x_{4}\\right) \\left(2 D x_{2} + 2 E x_{3} + 2 G\\right)$"
      ],
      "text/plain": [
       "2⋅A⋅x₁ + μ⋅(x₄ + 1) + (1 - x₄)⋅(2⋅D⋅x₂ + 2⋅E⋅x₃ + 2⋅G)"
      ]
     },
     "execution_count": 277,
     "metadata": {},
     "output_type": "execute_result"
    }
   ],
   "source": [
    "dDb[0]"
   ]
  },
  {
   "cell_type": "code",
   "execution_count": 278,
   "id": "ecb363f0-aec1-4b86-a5e7-5b5520bb96f7",
   "metadata": {},
   "outputs": [
    {
     "data": {
      "text/latex": [
       "$\\displaystyle 2 B x_{2} + \\nu \\left(x_{4} + 1\\right) + \\left(1 - x_{4}\\right) \\left(2 D x_{1} + 2 F x_{3} + 2 H\\right)$"
      ],
      "text/plain": [
       "2⋅B⋅x₂ + ν⋅(x₄ + 1) + (1 - x₄)⋅(2⋅D⋅x₁ + 2⋅F⋅x₃ + 2⋅H)"
      ]
     },
     "execution_count": 278,
     "metadata": {},
     "output_type": "execute_result"
    }
   ],
   "source": [
    "dDb[1]"
   ]
  },
  {
   "cell_type": "code",
   "execution_count": 279,
   "id": "d600845d-e1c7-414b-ac79-0e04515915e2",
   "metadata": {},
   "outputs": [
    {
     "data": {
      "text/latex": [
       "$\\displaystyle 2 C x_{3} + \\kappa \\left(x_{4} + 1\\right) + \\left(1 - x_{4}\\right) \\left(2 E x_{1} + 2 F x_{2} + 2 I\\right)$"
      ],
      "text/plain": [
       "2⋅C⋅x₃ + κ⋅(x₄ + 1) + (1 - x₄)⋅(2⋅E⋅x₁ + 2⋅F⋅x₂ + 2⋅I)"
      ]
     },
     "execution_count": 279,
     "metadata": {},
     "output_type": "execute_result"
    }
   ],
   "source": [
    "dDb[2]"
   ]
  },
  {
   "cell_type": "code",
   "execution_count": null,
   "id": "9e42585d-499d-4635-91d8-1a2cff561c09",
   "metadata": {},
   "outputs": [],
   "source": []
  },
  {
   "cell_type": "code",
   "execution_count": 280,
   "id": "8305ef26-71b0-4bda-b5d5-a167ef02c489",
   "metadata": {},
   "outputs": [
    {
     "data": {
      "text/latex": [
       "$\\displaystyle 2 A$"
      ],
      "text/plain": [
       "2⋅A"
      ]
     },
     "execution_count": 280,
     "metadata": {},
     "output_type": "execute_result"
    }
   ],
   "source": [
    "hDb[0]"
   ]
  },
  {
   "cell_type": "code",
   "execution_count": 281,
   "id": "be2604da-1729-44f6-8d84-04754d869c40",
   "metadata": {},
   "outputs": [
    {
     "data": {
      "text/latex": [
       "$\\displaystyle 2 D \\left(1 - x_{4}\\right)$"
      ],
      "text/plain": [
       "2⋅D⋅(1 - x₄)"
      ]
     },
     "execution_count": 281,
     "metadata": {},
     "output_type": "execute_result"
    }
   ],
   "source": [
    "hDb[1]"
   ]
  },
  {
   "cell_type": "code",
   "execution_count": 282,
   "id": "3606d230-fb0b-4347-81f9-9c130073acd0",
   "metadata": {},
   "outputs": [
    {
     "data": {
      "text/latex": [
       "$\\displaystyle 2 E \\left(1 - x_{4}\\right)$"
      ],
      "text/plain": [
       "2⋅E⋅(1 - x₄)"
      ]
     },
     "execution_count": 282,
     "metadata": {},
     "output_type": "execute_result"
    }
   ],
   "source": [
    "hDb[2]"
   ]
  },
  {
   "cell_type": "code",
   "execution_count": 283,
   "id": "cef9f34e-9849-42d6-95f4-816c14d70b60",
   "metadata": {},
   "outputs": [
    {
     "data": {
      "text/latex": [
       "$\\displaystyle - 2 D x_{2} - 2 E x_{3} - 2 G + \\mu$"
      ],
      "text/plain": [
       "-2⋅D⋅x₂ - 2⋅E⋅x₃ - 2⋅G + μ"
      ]
     },
     "execution_count": 283,
     "metadata": {},
     "output_type": "execute_result"
    }
   ],
   "source": [
    "hDb[3]"
   ]
  },
  {
   "cell_type": "code",
   "execution_count": 284,
   "id": "221d88d1-c0b0-4cb3-8202-5347295e1f31",
   "metadata": {},
   "outputs": [
    {
     "data": {
      "text/latex": [
       "$\\displaystyle 2 B$"
      ],
      "text/plain": [
       "2⋅B"
      ]
     },
     "execution_count": 284,
     "metadata": {},
     "output_type": "execute_result"
    }
   ],
   "source": [
    "hDb[4]"
   ]
  },
  {
   "cell_type": "code",
   "execution_count": 285,
   "id": "c60e0da5-efd9-4f4c-93bb-a8f27bbad10b",
   "metadata": {},
   "outputs": [
    {
     "data": {
      "text/latex": [
       "$\\displaystyle 2 F \\left(1 - x_{4}\\right)$"
      ],
      "text/plain": [
       "2⋅F⋅(1 - x₄)"
      ]
     },
     "execution_count": 285,
     "metadata": {},
     "output_type": "execute_result"
    }
   ],
   "source": [
    "hDb[5]"
   ]
  },
  {
   "cell_type": "code",
   "execution_count": 286,
   "id": "e3ace75a-0c42-422f-9b79-442ecfd6b67f",
   "metadata": {},
   "outputs": [
    {
     "data": {
      "text/latex": [
       "$\\displaystyle - 2 D x_{1} - 2 F x_{3} - 2 H + \\nu$"
      ],
      "text/plain": [
       "-2⋅D⋅x₁ - 2⋅F⋅x₃ - 2⋅H + ν"
      ]
     },
     "execution_count": 286,
     "metadata": {},
     "output_type": "execute_result"
    }
   ],
   "source": [
    "hDb[6]"
   ]
  },
  {
   "cell_type": "code",
   "execution_count": 287,
   "id": "c5081eb1-060f-4e72-9497-0ba0944e9820",
   "metadata": {},
   "outputs": [
    {
     "data": {
      "text/latex": [
       "$\\displaystyle 2 C$"
      ],
      "text/plain": [
       "2⋅C"
      ]
     },
     "execution_count": 287,
     "metadata": {},
     "output_type": "execute_result"
    }
   ],
   "source": [
    "hDb[7]"
   ]
  },
  {
   "cell_type": "code",
   "execution_count": 288,
   "id": "6dd20ce0-2198-40cb-bea7-b8c90c417ebd",
   "metadata": {},
   "outputs": [
    {
     "data": {
      "text/latex": [
       "$\\displaystyle - 2 E x_{1} - 2 F x_{2} - 2 I + \\kappa$"
      ],
      "text/plain": [
       "-2⋅E⋅x₁ - 2⋅F⋅x₂ - 2⋅I + κ"
      ]
     },
     "execution_count": 288,
     "metadata": {},
     "output_type": "execute_result"
    }
   ],
   "source": [
    "hDb[8]"
   ]
  },
  {
   "cell_type": "code",
   "execution_count": 289,
   "id": "222e4377-e0ca-4efd-9271-ab8c8d8bfcd1",
   "metadata": {},
   "outputs": [
    {
     "data": {
      "text/latex": [
       "$\\displaystyle 2 J + 2 \\lambda$"
      ],
      "text/plain": [
       "2⋅J + 2⋅λ"
      ]
     },
     "execution_count": 289,
     "metadata": {},
     "output_type": "execute_result"
    }
   ],
   "source": [
    "hDb[9]"
   ]
  },
  {
   "cell_type": "code",
   "execution_count": 290,
   "id": "95baa23a-8733-4dda-967a-9549084b94a4",
   "metadata": {},
   "outputs": [
    {
     "data": {
      "text/latex": [
       "$\\displaystyle \\left[\\begin{matrix}2 A & 2 D \\left(1 - x_{4}\\right) & 2 E \\left(1 - x_{4}\\right) & - 2 D x_{2} - 2 E x_{3} - 2 G + \\mu\\\\2 D \\left(1 - x_{4}\\right) & 2 B & 2 F \\left(1 - x_{4}\\right) & - 2 D x_{1} - 2 F x_{3} - 2 H + \\nu\\\\2 E \\left(1 - x_{4}\\right) & 2 F \\left(1 - x_{4}\\right) & 2 C & - 2 E x_{1} - 2 F x_{2} - 2 I + \\kappa\\\\- 2 D x_{2} - 2 E x_{3} - 2 G + \\mu & - 2 D x_{1} - 2 F x_{3} - 2 H + \\nu & - 2 E x_{1} - 2 F x_{2} - 2 I + \\kappa & 2 J + 2 \\lambda\\end{matrix}\\right]$"
      ],
      "text/plain": [
       "⎡           2⋅A                     2⋅D⋅(1 - x₄)                2⋅E⋅(1 - x₄)         -2⋅D⋅x₂ - 2⋅E⋅x₃ - 2⋅G + μ⎤\n",
       "⎢                                                                                                              ⎥\n",
       "⎢       2⋅D⋅(1 - x₄)                    2⋅B                     2⋅F⋅(1 - x₄)         -2⋅D⋅x₁ - 2⋅F⋅x₃ - 2⋅H + ν⎥\n",
       "⎢                                                                                                              ⎥\n",
       "⎢       2⋅E⋅(1 - x₄)                2⋅F⋅(1 - x₄)                    2⋅C              -2⋅E⋅x₁ - 2⋅F⋅x₂ - 2⋅I + κ⎥\n",
       "⎢                                                                                                              ⎥\n",
       "⎣-2⋅D⋅x₂ - 2⋅E⋅x₃ - 2⋅G + μ  -2⋅D⋅x₁ - 2⋅F⋅x₃ - 2⋅H + ν  -2⋅E⋅x₁ - 2⋅F⋅x₂ - 2⋅I + κ          2⋅J + 2⋅λ         ⎦"
      ]
     },
     "execution_count": 290,
     "metadata": {},
     "output_type": "execute_result"
    }
   ],
   "source": [
    "Matrix([\n",
    "    [hDb[0], hDb[1], hDb[2], hDb[3]],\n",
    "    [hDb[1], hDb[4], hDb[5], hDb[6]],\n",
    "    [hDb[2], hDb[5], hDb[7], hDb[8]],\n",
    "    [hDb[3], hDb[6], hDb[8], hDb[9]]\n",
    "])"
   ]
  },
  {
   "cell_type": "code",
   "execution_count": 291,
   "id": "8ec8c344-295c-4299-a435-88e2ce828849",
   "metadata": {},
   "outputs": [
    {
     "data": {
      "text/latex": [
       "$\\displaystyle - 4 A J x_{1}^{2} - 4 A \\lambda x_{1}^{2} - 4 B J x_{2}^{2} - 4 B \\lambda x_{2}^{2} - 4 C J x_{3}^{2} - 4 C \\lambda x_{3}^{2} + 4 D^{2} x_{1}^{2} x_{2}^{2} + 8 D E x_{1}^{2} x_{2} x_{3} + 8 D F x_{1} x_{2}^{2} x_{3} + 8 D G x_{1}^{2} x_{2} + 8 D H x_{1} x_{2}^{2} + 8 D I x_{1} x_{2} x_{3} - 4 D \\kappa x_{1} x_{2} x_{3} - 16 D \\lambda x_{1} x_{2} - 4 D \\mu x_{1}^{2} x_{2} - 4 D \\nu x_{1} x_{2}^{2} + 4 E^{2} x_{1}^{2} x_{3}^{2} + 8 E F x_{1} x_{2} x_{3}^{2} + 8 E G x_{1}^{2} x_{3} + 8 E H x_{1} x_{2} x_{3} + 8 E I x_{1} x_{3}^{2} - 4 E \\kappa x_{1} x_{3}^{2} - 16 E \\lambda x_{1} x_{3} - 4 E \\mu x_{1}^{2} x_{3} - 4 E \\nu x_{1} x_{2} x_{3} + 4 F^{2} x_{2}^{2} x_{3}^{2} + 8 F G x_{1} x_{2} x_{3} + 8 F H x_{2}^{2} x_{3} + 8 F I x_{2} x_{3}^{2} - 4 F \\kappa x_{2} x_{3}^{2} - 16 F \\lambda x_{2} x_{3} - 4 F \\mu x_{1} x_{2} x_{3} - 4 F \\nu x_{2}^{2} x_{3} + 4 G^{2} x_{1}^{2} + 8 G H x_{1} x_{2} + 8 G I x_{1} x_{3} - 4 G \\kappa x_{1} x_{3} - 16 G \\lambda x_{1} - 4 G \\mu x_{1}^{2} - 4 G \\nu x_{1} x_{2} + 4 H^{2} x_{2}^{2} + 8 H I x_{2} x_{3} - 4 H \\kappa x_{2} x_{3} - 16 H \\lambda x_{2} - 4 H \\mu x_{1} x_{2} - 4 H \\nu x_{2}^{2} + 4 I^{2} x_{3}^{2} - 4 I \\kappa x_{3}^{2} - 16 I \\lambda x_{3} - 4 I \\mu x_{1} x_{3} - 4 I \\nu x_{2} x_{3} + 4 J^{2} - 8 J \\kappa x_{3} - 12 J \\lambda - 8 J \\mu x_{1} - 8 J \\nu x_{2} + \\kappa^{2} x_{3}^{2} + 2 \\kappa \\mu x_{1} x_{3} + 2 \\kappa \\nu x_{2} x_{3} + \\mu^{2} x_{1}^{2} + 2 \\mu \\nu x_{1} x_{2} + \\nu^{2} x_{2}^{2}$"
      ],
      "text/plain": [
       "          2           2           2           2           2           2      2   2   2           2                    2              2                 2                                       \n",
       "- 4⋅A⋅J⋅x₁  - 4⋅A⋅λ⋅x₁  - 4⋅B⋅J⋅x₂  - 4⋅B⋅λ⋅x₂  - 4⋅C⋅J⋅x₃  - 4⋅C⋅λ⋅x₃  + 4⋅D ⋅x₁ ⋅x₂  + 8⋅D⋅E⋅x₁ ⋅x₂⋅x₃ + 8⋅D⋅F⋅x₁⋅x₂ ⋅x₃ + 8⋅D⋅G⋅x₁ ⋅x₂ + 8⋅D⋅H⋅x₁⋅x₂  + 8⋅D⋅I⋅x₁⋅x₂⋅x₃ - 4⋅D⋅κ⋅x₁⋅x₂⋅x₃ - 16\n",
       "\n",
       "                     2                 2      2   2   2                 2           2                                  2              2                          2                          2  \n",
       "⋅D⋅λ⋅x₁⋅x₂ - 4⋅D⋅μ⋅x₁ ⋅x₂ - 4⋅D⋅ν⋅x₁⋅x₂  + 4⋅E ⋅x₁ ⋅x₃  + 8⋅E⋅F⋅x₁⋅x₂⋅x₃  + 8⋅E⋅G⋅x₁ ⋅x₃ + 8⋅E⋅H⋅x₁⋅x₂⋅x₃ + 8⋅E⋅I⋅x₁⋅x₃  - 4⋅E⋅κ⋅x₁⋅x₃  - 16⋅E⋅λ⋅x₁⋅x₃ - 4⋅E⋅μ⋅x₁ ⋅x₃ - 4⋅E⋅ν⋅x₁⋅x₂⋅x₃ + 4⋅F ⋅x\n",
       "\n",
       " 2   2                            2                 2              2                                           2         2   2                                                                 \n",
       "₂ ⋅x₃  + 8⋅F⋅G⋅x₁⋅x₂⋅x₃ + 8⋅F⋅H⋅x₂ ⋅x₃ + 8⋅F⋅I⋅x₂⋅x₃  - 4⋅F⋅κ⋅x₂⋅x₃  - 16⋅F⋅λ⋅x₂⋅x₃ - 4⋅F⋅μ⋅x₁⋅x₂⋅x₃ - 4⋅F⋅ν⋅x₂ ⋅x₃ + 4⋅G ⋅x₁  + 8⋅G⋅H⋅x₁⋅x₂ + 8⋅G⋅I⋅x₁⋅x₃ - 4⋅G⋅κ⋅x₁⋅x₃ - 16⋅G⋅λ⋅x₁ - 4⋅G⋅μ⋅x₁\n",
       "\n",
       "2                    2   2                                                                 2      2   2           2                                              2                             \n",
       "  - 4⋅G⋅ν⋅x₁⋅x₂ + 4⋅H ⋅x₂  + 8⋅H⋅I⋅x₂⋅x₃ - 4⋅H⋅κ⋅x₂⋅x₃ - 16⋅H⋅λ⋅x₂ - 4⋅H⋅μ⋅x₁⋅x₂ - 4⋅H⋅ν⋅x₂  + 4⋅I ⋅x₃  - 4⋅I⋅κ⋅x₃  - 16⋅I⋅λ⋅x₃ - 4⋅I⋅μ⋅x₁⋅x₃ - 4⋅I⋅ν⋅x₂⋅x₃ + 4⋅J  - 8⋅J⋅κ⋅x₃ - 12⋅J⋅λ - 8⋅J⋅μ⋅\n",
       "\n",
       "                 2   2                                2   2                  2   2\n",
       "x₁ - 8⋅J⋅ν⋅x₂ + κ ⋅x₃  + 2⋅κ⋅μ⋅x₁⋅x₃ + 2⋅κ⋅ν⋅x₂⋅x₃ + μ ⋅x₁  + 2⋅μ⋅ν⋅x₁⋅x₂ + ν ⋅x₂ "
      ]
     },
     "execution_count": 291,
     "metadata": {},
     "output_type": "execute_result"
    }
   ],
   "source": [
    "from sympy import simplify, expand\n",
    "C = b*b - 4*a*c\n",
    "D = expand(C)\n",
    "D"
   ]
  },
  {
   "cell_type": "code",
   "execution_count": null,
   "id": "341e92ef-fc92-4fa6-be28-0ae2869314ec",
   "metadata": {},
   "outputs": [],
   "source": []
  },
  {
   "cell_type": "markdown",
   "id": "dc0d305a-8851-485f-bf07-1dcea1cc889a",
   "metadata": {},
   "source": []
  }
 ],
 "metadata": {
  "kernelspec": {
   "display_name": "Python 3 (ipykernel)",
   "language": "python",
   "name": "python3"
  },
  "language_info": {
   "codemirror_mode": {
    "name": "ipython",
    "version": 3
   },
   "file_extension": ".py",
   "mimetype": "text/x-python",
   "name": "python",
   "nbconvert_exporter": "python",
   "pygments_lexer": "ipython3",
   "version": "3.10.12"
  }
 },
 "nbformat": 4,
 "nbformat_minor": 5
}
