{
 "cells": [
  {
   "cell_type": "code",
   "execution_count": 1,
   "id": "e74a7f3a-0dae-49f5-a427-cc0a871de214",
   "metadata": {},
   "outputs": [],
   "source": [
    "import sympy as sym\n",
    "from sympy import init_printing,latex,symbols\n",
    "\n",
    "init_printing()\n",
    "\n",
    "x,y,z,A,B,C,D,E,F,G,H,I,J,m,n,k,l = sym.symbols('x,y,z,A,B,C,D,E,F,G,H,I,J,mu,nu,kappa,lamda')\n",
    "A2 = (x*x + y*y + z*z)\n",
    "L = m*x + n*y + k*z\n",
    "Q = A*x*x + B*y*y + C*z*z + 2*D*x*y + 2*E*x*z + 2*F*y*z + 2*G*x + 2*H*y + 2*I*z + J"
   ]
  },
  {
   "cell_type": "code",
   "execution_count": 2,
   "id": "f70a5cea-f93d-4aff-96e0-3bd8924c8a6c",
   "metadata": {},
   "outputs": [
    {
     "data": {
      "text/latex": [
       "$\\displaystyle x^{2} + y^{2} + z^{2}$"
      ],
      "text/plain": [
       " 2    2    2\n",
       "x  + y  + z "
      ]
     },
     "execution_count": 2,
     "metadata": {},
     "output_type": "execute_result"
    }
   ],
   "source": [
    "A2"
   ]
  },
  {
   "cell_type": "code",
   "execution_count": 3,
   "id": "60f42ea3-bb19-43ce-a133-591f8a5fb78f",
   "metadata": {},
   "outputs": [
    {
     "data": {
      "text/latex": [
       "$\\displaystyle \\kappa z + \\mu x + \\nu y$"
      ],
      "text/plain": [
       "κ⋅z + μ⋅x + ν⋅y"
      ]
     },
     "execution_count": 3,
     "metadata": {},
     "output_type": "execute_result"
    }
   ],
   "source": [
    "L"
   ]
  },
  {
   "cell_type": "code",
   "execution_count": 4,
   "id": "d7f427ae-5097-4de4-b6eb-e7d52150f4d2",
   "metadata": {},
   "outputs": [
    {
     "data": {
      "text/latex": [
       "$\\displaystyle A x^{2} + B y^{2} + C z^{2} + 2 D x y + 2 E x z + 2 F y z + 2 G x + 2 H y + 2 I z + J$"
      ],
      "text/plain": [
       "   2      2      2                                                          \n",
       "A⋅x  + B⋅y  + C⋅z  + 2⋅D⋅x⋅y + 2⋅E⋅x⋅z + 2⋅F⋅y⋅z + 2⋅G⋅x + 2⋅H⋅y + 2⋅I⋅z + J"
      ]
     },
     "execution_count": 4,
     "metadata": {},
     "output_type": "execute_result"
    }
   ],
   "source": [
    "Q"
   ]
  },
  {
   "cell_type": "code",
   "execution_count": 5,
   "id": "40446482-0924-42d1-96b7-4f2674a0a25e",
   "metadata": {},
   "outputs": [
    {
     "data": {
      "text/latex": [
       "$\\displaystyle A x^{2} + B y^{2} + C z^{2} + 2 D x y + 2 E x z + 2 F y z + 2 G x + 2 H y + 2 I z + J + \\lambda \\left(x^{2} + y^{2} + z^{2}\\right)^{2} + \\left(x^{2} + y^{2} + z^{2}\\right) \\left(\\kappa z + \\mu x + \\nu y\\right)$"
      ],
      "text/plain": [
       "                                                                                               2                                   \n",
       "   2      2      2                                                               ⎛ 2    2    2⎞    ⎛ 2    2    2⎞                  \n",
       "A⋅x  + B⋅y  + C⋅z  + 2⋅D⋅x⋅y + 2⋅E⋅x⋅z + 2⋅F⋅y⋅z + 2⋅G⋅x + 2⋅H⋅y + 2⋅I⋅z + J + λ⋅⎝x  + y  + z ⎠  + ⎝x  + y  + z ⎠⋅(κ⋅z + μ⋅x + ν⋅y)"
      ]
     },
     "execution_count": 5,
     "metadata": {},
     "output_type": "execute_result"
    }
   ],
   "source": [
    "D = l*A2*A2 + A2*L + Q\n",
    "D"
   ]
  },
  {
   "cell_type": "code",
   "execution_count": 6,
   "id": "9775db93-ea86-484e-b85e-20cf7da99a25",
   "metadata": {},
   "outputs": [],
   "source": [
    "dx = sym.diff(D,x)\n",
    "dy = sym.diff(D,y)\n",
    "dz = sym.diff(D,z)"
   ]
  },
  {
   "cell_type": "code",
   "execution_count": 9,
   "id": "366313ea-819c-4d75-a618-a907a880af86",
   "metadata": {},
   "outputs": [
    {
     "data": {
      "text/latex": [
       "$\\displaystyle 2 A x + 2 D y + 2 E z + 2 G + 4 \\lambda x \\left(x^{2} + y^{2} + z^{2}\\right) + \\mu \\left(x^{2} + y^{2} + z^{2}\\right) + 2 x \\left(\\kappa z + \\mu x + \\nu y\\right)$"
      ],
      "text/plain": [
       "                                    ⎛ 2    2    2⎞     ⎛ 2    2    2⎞                        \n",
       "2⋅A⋅x + 2⋅D⋅y + 2⋅E⋅z + 2⋅G + 4⋅λ⋅x⋅⎝x  + y  + z ⎠ + μ⋅⎝x  + y  + z ⎠ + 2⋅x⋅(κ⋅z + μ⋅x + ν⋅y)"
      ]
     },
     "execution_count": 9,
     "metadata": {},
     "output_type": "execute_result"
    }
   ],
   "source": [
    "dx"
   ]
  },
  {
   "cell_type": "code",
   "execution_count": 10,
   "id": "a2570dbc-2ac9-4230-a369-2a50f90deace",
   "metadata": {},
   "outputs": [
    {
     "data": {
      "text/latex": [
       "$\\displaystyle 2 B y + 2 D x + 2 F z + 2 H + 4 \\lambda y \\left(x^{2} + y^{2} + z^{2}\\right) + \\nu \\left(x^{2} + y^{2} + z^{2}\\right) + 2 y \\left(\\kappa z + \\mu x + \\nu y\\right)$"
      ],
      "text/plain": [
       "                                    ⎛ 2    2    2⎞     ⎛ 2    2    2⎞                        \n",
       "2⋅B⋅y + 2⋅D⋅x + 2⋅F⋅z + 2⋅H + 4⋅λ⋅y⋅⎝x  + y  + z ⎠ + ν⋅⎝x  + y  + z ⎠ + 2⋅y⋅(κ⋅z + μ⋅x + ν⋅y)"
      ]
     },
     "execution_count": 10,
     "metadata": {},
     "output_type": "execute_result"
    }
   ],
   "source": [
    "dy"
   ]
  },
  {
   "cell_type": "code",
   "execution_count": 11,
   "id": "e241291e-3ded-4579-a15d-b56345b17a68",
   "metadata": {},
   "outputs": [
    {
     "data": {
      "text/latex": [
       "$\\displaystyle 2 C z + 2 E x + 2 F y + 2 I + \\kappa \\left(x^{2} + y^{2} + z^{2}\\right) + 4 \\lambda z \\left(x^{2} + y^{2} + z^{2}\\right) + 2 z \\left(\\kappa z + \\mu x + \\nu y\\right)$"
      ],
      "text/plain": [
       "                                ⎛ 2    2    2⎞         ⎛ 2    2    2⎞                        \n",
       "2⋅C⋅z + 2⋅E⋅x + 2⋅F⋅y + 2⋅I + κ⋅⎝x  + y  + z ⎠ + 4⋅λ⋅z⋅⎝x  + y  + z ⎠ + 2⋅z⋅(κ⋅z + μ⋅x + ν⋅y)"
      ]
     },
     "execution_count": 11,
     "metadata": {},
     "output_type": "execute_result"
    }
   ],
   "source": [
    "dz"
   ]
  },
  {
   "cell_type": "code",
   "execution_count": 19,
   "id": "03ea3b04-ec3e-45d5-ae44-ec14f7ed38c3",
   "metadata": {},
   "outputs": [],
   "source": [
    "dxx = sym.diff(dx,x)\n",
    "dxy = sym.diff(dx,y)\n",
    "dxz = sym.diff(dx,z)\n",
    "\n",
    "dyy = sym.diff(dy,y)\n",
    "dyz = sym.diff(dy,z)\n",
    "\n",
    "dzz = sym.diff(dz,z)\n",
    "\n"
   ]
  },
  {
   "cell_type": "code",
   "execution_count": 13,
   "id": "ac17960e-ddac-4e41-8cd1-6641e144ce87",
   "metadata": {},
   "outputs": [
    {
     "data": {
      "text/latex": [
       "$\\displaystyle 2 A + 2 \\kappa z + 8 \\lambda x^{2} + 4 \\lambda \\left(x^{2} + y^{2} + z^{2}\\right) + 6 \\mu x + 2 \\nu y$"
      ],
      "text/plain": [
       "                   2       ⎛ 2    2    2⎞                \n",
       "2⋅A + 2⋅κ⋅z + 8⋅λ⋅x  + 4⋅λ⋅⎝x  + y  + z ⎠ + 6⋅μ⋅x + 2⋅ν⋅y"
      ]
     },
     "execution_count": 13,
     "metadata": {},
     "output_type": "execute_result"
    }
   ],
   "source": [
    "dxx"
   ]
  },
  {
   "cell_type": "code",
   "execution_count": 17,
   "id": "ae07c044-bd71-40e9-a9da-cc4d161ab4f7",
   "metadata": {},
   "outputs": [
    {
     "data": {
      "text/latex": [
       "$\\displaystyle 2 D + 8 \\lambda x y + 2 \\mu y + 2 \\nu x$"
      ],
      "text/plain": [
       "2⋅D + 8⋅λ⋅x⋅y + 2⋅μ⋅y + 2⋅ν⋅x"
      ]
     },
     "execution_count": 17,
     "metadata": {},
     "output_type": "execute_result"
    }
   ],
   "source": [
    "dxy"
   ]
  },
  {
   "cell_type": "code",
   "execution_count": 18,
   "id": "192c4b18-1740-43b1-8305-010d20813084",
   "metadata": {},
   "outputs": [
    {
     "data": {
      "text/latex": [
       "$\\displaystyle 2 E + 2 \\kappa x + 8 \\lambda x z + 2 \\mu z$"
      ],
      "text/plain": [
       "2⋅E + 2⋅κ⋅x + 8⋅λ⋅x⋅z + 2⋅μ⋅z"
      ]
     },
     "execution_count": 18,
     "metadata": {},
     "output_type": "execute_result"
    }
   ],
   "source": [
    "dxz"
   ]
  },
  {
   "cell_type": "code",
   "execution_count": 20,
   "id": "8ab35cef-0139-41c5-a8c2-f34ce5e102ea",
   "metadata": {},
   "outputs": [
    {
     "data": {
      "text/latex": [
       "$\\displaystyle 2 B + 2 \\kappa z + 8 \\lambda y^{2} + 4 \\lambda \\left(x^{2} + y^{2} + z^{2}\\right) + 2 \\mu x + 6 \\nu y$"
      ],
      "text/plain": [
       "                   2       ⎛ 2    2    2⎞                \n",
       "2⋅B + 2⋅κ⋅z + 8⋅λ⋅y  + 4⋅λ⋅⎝x  + y  + z ⎠ + 2⋅μ⋅x + 6⋅ν⋅y"
      ]
     },
     "execution_count": 20,
     "metadata": {},
     "output_type": "execute_result"
    }
   ],
   "source": [
    "dyy"
   ]
  },
  {
   "cell_type": "code",
   "execution_count": 21,
   "id": "618c4f07-d1b9-4f18-ac39-ee8d39b556d9",
   "metadata": {},
   "outputs": [
    {
     "data": {
      "text/latex": [
       "$\\displaystyle 2 F + 2 \\kappa y + 8 \\lambda y z + 2 \\nu z$"
      ],
      "text/plain": [
       "2⋅F + 2⋅κ⋅y + 8⋅λ⋅y⋅z + 2⋅ν⋅z"
      ]
     },
     "execution_count": 21,
     "metadata": {},
     "output_type": "execute_result"
    }
   ],
   "source": [
    "dyz"
   ]
  },
  {
   "cell_type": "code",
   "execution_count": 22,
   "id": "fed22fc5-3434-448c-aa3e-44f8b88915cc",
   "metadata": {},
   "outputs": [
    {
     "data": {
      "text/latex": [
       "$\\displaystyle 2 C + 6 \\kappa z + 8 \\lambda z^{2} + 4 \\lambda \\left(x^{2} + y^{2} + z^{2}\\right) + 2 \\mu x + 2 \\nu y$"
      ],
      "text/plain": [
       "                   2       ⎛ 2    2    2⎞                \n",
       "2⋅C + 6⋅κ⋅z + 8⋅λ⋅z  + 4⋅λ⋅⎝x  + y  + z ⎠ + 2⋅μ⋅x + 2⋅ν⋅y"
      ]
     },
     "execution_count": 22,
     "metadata": {},
     "output_type": "execute_result"
    }
   ],
   "source": [
    "dzz"
   ]
  },
  {
   "cell_type": "code",
   "execution_count": null,
   "id": "e810e464-f03b-4aed-ac41-9cc8789d590f",
   "metadata": {},
   "outputs": [],
   "source": []
  }
 ],
 "metadata": {
  "kernelspec": {
   "display_name": "Python 3 (ipykernel)",
   "language": "python",
   "name": "python3"
  },
  "language_info": {
   "codemirror_mode": {
    "name": "ipython",
    "version": 3
   },
   "file_extension": ".py",
   "mimetype": "text/x-python",
   "name": "python",
   "nbconvert_exporter": "python",
   "pygments_lexer": "ipython3",
   "version": "3.10.12"
  }
 },
 "nbformat": 4,
 "nbformat_minor": 5
}
