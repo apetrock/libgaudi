{
 "cells": [
  {
   "cell_type": "code",
   "execution_count": 1,
   "id": "911d4f45",
   "metadata": {},
   "outputs": [],
   "source": [
    "import sympy as sym\n",
    "from sympy.vector import CoordSys3D"
   ]
  },
  {
   "cell_type": "code",
   "execution_count": 9,
   "id": "0017eefe",
   "metadata": {},
   "outputs": [
    {
     "data": {
      "text/latex": [
       "$\\displaystyle \\left[\\begin{matrix}\\mathbf{{x}_{q}} s_{x} \\left(- \\frac{2 \\mathbf{{x}_{u}}^{3} \\left(1 - \\cos{\\left(\\theta \\right)}\\right)}{\\left(\\mathbf{{x}_{u}}^{2} + \\mathbf{{y}_{u}}^{2} + \\mathbf{{z}_{u}}^{2}\\right)^{2}} + \\frac{2 \\mathbf{{x}_{u}} \\left(1 - \\cos{\\left(\\theta \\right)}\\right)}{\\mathbf{{x}_{u}}^{2} + \\mathbf{{y}_{u}}^{2} + \\mathbf{{z}_{u}}^{2}}\\right) + \\mathbf{{y}_{q}} s_{y} \\left(- \\frac{2 \\mathbf{{x}_{u}}^{2} \\mathbf{{y}_{u}} \\left(1 - \\cos{\\left(\\theta \\right)}\\right)}{\\left(\\mathbf{{x}_{u}}^{2} + \\mathbf{{y}_{u}}^{2} + \\mathbf{{z}_{u}}^{2}\\right)^{2}} + \\frac{\\mathbf{{x}_{u}} \\mathbf{{z}_{u}} \\cos{\\left(\\theta \\right)}}{\\left(\\mathbf{{x}_{u}}^{2} + \\mathbf{{y}_{u}}^{2} + \\mathbf{{z}_{u}}^{2}\\right)^{\\frac{3}{2}}} + \\frac{\\mathbf{{y}_{u}} \\left(1 - \\cos{\\left(\\theta \\right)}\\right)}{\\mathbf{{x}_{u}}^{2} + \\mathbf{{y}_{u}}^{2} + \\mathbf{{z}_{u}}^{2}}\\right) + \\mathbf{{z}_{q}} s_{z} \\left(- \\frac{2 \\mathbf{{x}_{u}}^{2} \\mathbf{{z}_{u}} \\left(1 - \\cos{\\left(\\theta \\right)}\\right)}{\\left(\\mathbf{{x}_{u}}^{2} + \\mathbf{{y}_{u}}^{2} + \\mathbf{{z}_{u}}^{2}\\right)^{2}} - \\frac{\\mathbf{{x}_{u}} \\mathbf{{y}_{u}} \\cos{\\left(\\theta \\right)}}{\\left(\\mathbf{{x}_{u}}^{2} + \\mathbf{{y}_{u}}^{2} + \\mathbf{{z}_{u}}^{2}\\right)^{\\frac{3}{2}}} + \\frac{\\mathbf{{z}_{u}} \\left(1 - \\cos{\\left(\\theta \\right)}\\right)}{\\mathbf{{x}_{u}}^{2} + \\mathbf{{y}_{u}}^{2} + \\mathbf{{z}_{u}}^{2}}\\right)\\\\\\mathbf{{x}_{q}} s_{x} \\left(- \\frac{2 \\mathbf{{x}_{u}}^{2} \\mathbf{{y}_{u}} \\left(1 - \\cos{\\left(\\theta \\right)}\\right)}{\\left(\\mathbf{{x}_{u}}^{2} + \\mathbf{{y}_{u}}^{2} + \\mathbf{{z}_{u}}^{2}\\right)^{2}} - \\frac{\\mathbf{{x}_{u}} \\mathbf{{z}_{u}} \\cos{\\left(\\theta \\right)}}{\\left(\\mathbf{{x}_{u}}^{2} + \\mathbf{{y}_{u}}^{2} + \\mathbf{{z}_{u}}^{2}\\right)^{\\frac{3}{2}}} + \\frac{\\mathbf{{y}_{u}} \\left(1 - \\cos{\\left(\\theta \\right)}\\right)}{\\mathbf{{x}_{u}}^{2} + \\mathbf{{y}_{u}}^{2} + \\mathbf{{z}_{u}}^{2}}\\right) - \\frac{2 \\mathbf{{y}_{q}} \\mathbf{{x}_{u}} \\mathbf{{y}_{u}}^{2} s_{y} \\left(1 - \\cos{\\left(\\theta \\right)}\\right)}{\\left(\\mathbf{{x}_{u}}^{2} + \\mathbf{{y}_{u}}^{2} + \\mathbf{{z}_{u}}^{2}\\right)^{2}} + \\mathbf{{z}_{q}} s_{z} \\left(\\frac{\\mathbf{{x}_{u}}^{2} \\cos{\\left(\\theta \\right)}}{\\left(\\mathbf{{x}_{u}}^{2} + \\mathbf{{y}_{u}}^{2} + \\mathbf{{z}_{u}}^{2}\\right)^{\\frac{3}{2}}} - \\frac{2 \\mathbf{{x}_{u}} \\mathbf{{y}_{u}} \\mathbf{{z}_{u}} \\left(1 - \\cos{\\left(\\theta \\right)}\\right)}{\\left(\\mathbf{{x}_{u}}^{2} + \\mathbf{{y}_{u}}^{2} + \\mathbf{{z}_{u}}^{2}\\right)^{2}} - \\frac{\\cos{\\left(\\theta \\right)}}{\\sqrt{\\mathbf{{x}_{u}}^{2} + \\mathbf{{y}_{u}}^{2} + \\mathbf{{z}_{u}}^{2}}}\\right)\\\\\\mathbf{{x}_{q}} s_{x} \\left(- \\frac{2 \\mathbf{{x}_{u}}^{2} \\mathbf{{z}_{u}} \\left(1 - \\cos{\\left(\\theta \\right)}\\right)}{\\left(\\mathbf{{x}_{u}}^{2} + \\mathbf{{y}_{u}}^{2} + \\mathbf{{z}_{u}}^{2}\\right)^{2}} + \\frac{\\mathbf{{x}_{u}} \\mathbf{{y}_{u}} \\cos{\\left(\\theta \\right)}}{\\left(\\mathbf{{x}_{u}}^{2} + \\mathbf{{y}_{u}}^{2} + \\mathbf{{z}_{u}}^{2}\\right)^{\\frac{3}{2}}} + \\frac{\\mathbf{{z}_{u}} \\left(1 - \\cos{\\left(\\theta \\right)}\\right)}{\\mathbf{{x}_{u}}^{2} + \\mathbf{{y}_{u}}^{2} + \\mathbf{{z}_{u}}^{2}}\\right) + \\mathbf{{y}_{q}} s_{y} \\left(- \\frac{\\mathbf{{x}_{u}}^{2} \\cos{\\left(\\theta \\right)}}{\\left(\\mathbf{{x}_{u}}^{2} + \\mathbf{{y}_{u}}^{2} + \\mathbf{{z}_{u}}^{2}\\right)^{\\frac{3}{2}}} - \\frac{2 \\mathbf{{x}_{u}} \\mathbf{{y}_{u}} \\mathbf{{z}_{u}} \\left(1 - \\cos{\\left(\\theta \\right)}\\right)}{\\left(\\mathbf{{x}_{u}}^{2} + \\mathbf{{y}_{u}}^{2} + \\mathbf{{z}_{u}}^{2}\\right)^{2}} + \\frac{\\cos{\\left(\\theta \\right)}}{\\sqrt{\\mathbf{{x}_{u}}^{2} + \\mathbf{{y}_{u}}^{2} + \\mathbf{{z}_{u}}^{2}}}\\right) - \\frac{2 \\mathbf{{z}_{q}} \\mathbf{{x}_{u}} \\mathbf{{z}_{u}}^{2} s_{z} \\left(1 - \\cos{\\left(\\theta \\right)}\\right)}{\\left(\\mathbf{{x}_{u}}^{2} + \\mathbf{{y}_{u}}^{2} + \\mathbf{{z}_{u}}^{2}\\right)^{2}}\\end{matrix}\\right]$"
      ],
      "text/plain": [
       "⎡       ⎛        3                                   ⎞           ⎛       2    \n",
       "⎢       ⎜   2⋅x_u ⋅(1 - cos(θ))    2⋅x_u⋅(1 - cos(θ))⎟           ⎜  2⋅x_u ⋅y_u\n",
       "⎢x_q⋅sₓ⋅⎜- ───────────────────── + ──────────────────⎟ + y_q⋅s_y⋅⎜- ──────────\n",
       "⎢       ⎜                      2      2      2      2⎟           ⎜            \n",
       "⎢       ⎜  ⎛   2      2      2⎞    x_u  + y_u  + z_u ⎟           ⎜   ⎛   2    \n",
       "⎢       ⎝  ⎝x_u  + y_u  + z_u ⎠                      ⎠           ⎝   ⎝x_u  + y\n",
       "⎢                                                                             \n",
       "⎢               ⎛       2                                                     \n",
       "⎢               ⎜  2⋅x_u ⋅y_u⋅(1 - cos(θ))        x_u⋅z_u⋅cos(θ)        y_u⋅(1\n",
       "⎢        x_q⋅sₓ⋅⎜- ─────────────────────── - ─────────────────────── + ───────\n",
       "⎢               ⎜                       2                        3/2      2   \n",
       "⎢               ⎜   ⎛   2      2      2⎞     ⎛   2      2      2⎞      x_u  + \n",
       "⎢               ⎝   ⎝x_u  + y_u  + z_u ⎠     ⎝x_u  + y_u  + z_u ⎠             \n",
       "⎢                                                                             \n",
       "⎢              ⎛       2                                                      \n",
       "⎢              ⎜  2⋅x_u ⋅z_u⋅(1 - cos(θ))        x_u⋅y_u⋅cos(θ)        z_u⋅(1 \n",
       "⎢       x_q⋅sₓ⋅⎜- ─────────────────────── + ─────────────────────── + ────────\n",
       "⎢              ⎜                       2                        3/2      2    \n",
       "⎢              ⎜   ⎛   2      2      2⎞     ⎛   2      2      2⎞      x_u  + y\n",
       "⎣              ⎝   ⎝x_u  + y_u  + z_u ⎠     ⎝x_u  + y_u  + z_u ⎠              \n",
       "\n",
       "                                                            ⎞           ⎛     \n",
       "⋅(1 - cos(θ))        x_u⋅z_u⋅cos(θ)        y_u⋅(1 - cos(θ)) ⎟           ⎜  2⋅x\n",
       "───────────── + ─────────────────────── + ──────────────────⎟ + z_q⋅s_z⋅⎜- ───\n",
       "           2                        3/2      2      2      2⎟           ⎜     \n",
       "  2      2⎞     ⎛   2      2      2⎞      x_u  + y_u  + z_u ⎟           ⎜   ⎛ \n",
       "_u  + z_u ⎠     ⎝x_u  + y_u  + z_u ⎠                        ⎠           ⎝   ⎝x\n",
       "                                                                              \n",
       "           ⎞                2                            ⎛         2          \n",
       " - cos(θ)) ⎟   2⋅y_q⋅x_u⋅y_u ⋅s_y⋅(1 - cos(θ))           ⎜      x_u ⋅cos(θ)   \n",
       "───────────⎟ - ─────────────────────────────── + z_q⋅s_z⋅⎜────────────────────\n",
       "   2      2⎟                            2                ⎜                    \n",
       "y_u  + z_u ⎟        ⎛   2      2      2⎞                 ⎜⎛   2      2      2⎞\n",
       "           ⎠        ⎝x_u  + y_u  + z_u ⎠                 ⎝⎝x_u  + y_u  + z_u ⎠\n",
       "                                                                              \n",
       "          ⎞           ⎛           2                                           \n",
       "- cos(θ)) ⎟           ⎜        x_u ⋅cos(θ)         2⋅x_u⋅y_u⋅z_u⋅(1 - cos(θ)) \n",
       "──────────⎟ + y_q⋅s_y⋅⎜- ─────────────────────── - ────────────────────────── \n",
       "  2      2⎟           ⎜                      3/2                         2    \n",
       "_u  + z_u ⎟           ⎜  ⎛   2      2      2⎞        ⎛   2      2      2⎞     \n",
       "          ⎠           ⎝  ⎝x_u  + y_u  + z_u ⎠        ⎝x_u  + y_u  + z_u ⎠     \n",
       "\n",
       "  2                                                                ⎞⎤\n",
       "_u ⋅z_u⋅(1 - cos(θ))        x_u⋅y_u⋅cos(θ)        z_u⋅(1 - cos(θ)) ⎟⎥\n",
       "──────────────────── - ─────────────────────── + ──────────────────⎟⎥\n",
       "                  2                        3/2      2      2      2⎟⎥\n",
       "  2      2      2⎞     ⎛   2      2      2⎞      x_u  + y_u  + z_u ⎟⎥\n",
       "_u  + y_u  + z_u ⎠     ⎝x_u  + y_u  + z_u ⎠                        ⎠⎥\n",
       "                                                                    ⎥\n",
       "                                                          ⎞         ⎥\n",
       "      2⋅x_u⋅y_u⋅z_u⋅(1 - cos(θ))            cos(θ)        ⎟         ⎥\n",
       "─── - ────────────────────────── - ───────────────────────⎟         ⎥\n",
       "3/2                         2         ____________________⎟         ⎥\n",
       "        ⎛   2      2      2⎞         ╱    2      2      2 ⎟         ⎥\n",
       "        ⎝x_u  + y_u  + z_u ⎠       ╲╱  x_u  + y_u  + z_u  ⎠         ⎥\n",
       "                                                                    ⎥\n",
       "                         ⎞                2                         ⎥\n",
       "           cos(θ)        ⎟   2⋅z_q⋅x_u⋅z_u ⋅s_z⋅(1 - cos(θ))        ⎥\n",
       "+ ───────────────────────⎟ - ───────────────────────────────        ⎥\n",
       "     ____________________⎟                            2             ⎥\n",
       "    ╱    2      2      2 ⎟        ⎛   2      2      2⎞              ⎥\n",
       "  ╲╱  x_u  + y_u  + z_u  ⎠        ⎝x_u  + y_u  + z_u ⎠              ⎦"
      ]
     },
     "execution_count": 9,
     "metadata": {},
     "output_type": "execute_result"
    }
   ],
   "source": [
    "#s = CoordSys3D('s')\n",
    "sx, sy, sz = sym.symbols('s_x, s_y, s_z')\n",
    "Ms = sym.Matrix([[sx, 0, 0],[0, sy, 0],[0, 0, sz]])\n",
    "S = sym.symbols('S', cls=sym.Function)\n",
    "\n",
    "theta = sym.symbols('theta')\n",
    "u = CoordSys3D('u')\n",
    "ul = sym.sqrt((u.x*u.x) + (u.y*u.y) + (u.z*u.z))\n",
    "ux = u.x / ul\n",
    "uy = u.y / ul\n",
    "uz = u.z / ul\n",
    "\n",
    "γ = sym.cos(theta)\n",
    "Mr = sym.Matrix([[γ + ux**2*(1-γ),  ux*uy*(1-γ) - uz*γ,  ux * uz *(1-γ) + uy*γ],\n",
    "                [uy*ux*(1-γ) + uz*γ,  γ + uy**2*(1-γ),  uy * uz *(1-γ) - ux*γ],\n",
    "                [uz*ux*(1-γ) - uy*γ,  uz * uy *(1-γ) + ux*γ, γ + uz**2*(1-γ)]])\n",
    "r0 = Mr.row(0)\n",
    "r1 = Mr.row(1)\n",
    "r2 = Mr.row(2)\n",
    "\n",
    "X0 = sym.symbols('X_0', cls=sym.Function)\n",
    "X1 = sym.symbols('X_1', cls=sym.Function)\n",
    "X2 = sym.symbols('X_2', cls=sym.Function)\n",
    "\n",
    "t =  CoordSys3D('t')\n",
    "vt = sym.Matrix([t.x, t.y, t.z])\n",
    "T = sym.symbols('T', cls=sym.Function)\n",
    "\n",
    "\n",
    "q =  CoordSys3D('q')\n",
    "vx = sym.Matrix([q.x, q.y, q.z])\n",
    "\n",
    "X = Mr * Ms * vx + vt\n",
    "X\n",
    "dxdtheta = sym.diff(X,theta)\n",
    "dxdthetadtheta = sym.diff(dxdtheta,theta)\n",
    "\n",
    "dxdux = sym.diff(X,u.x)\n",
    "dxdux"
   ]
  },
  {
   "cell_type": "code",
   "execution_count": 10,
   "id": "80cfe9e6",
   "metadata": {},
   "outputs": [
    {
     "data": {
      "text/latex": [
       "$\\displaystyle \\left[\\begin{matrix}\\mathbf{{x}_{q}} s_{x} \\left(\\frac{\\mathbf{{x}_{u}}^{2} \\cos{\\left(\\theta \\right)}}{\\mathbf{{x}_{u}}^{2} + \\mathbf{{y}_{u}}^{2} + \\mathbf{{z}_{u}}^{2}} - \\cos{\\left(\\theta \\right)}\\right) + \\mathbf{{y}_{q}} s_{y} \\left(\\frac{\\mathbf{{x}_{u}} \\mathbf{{y}_{u}} \\cos{\\left(\\theta \\right)}}{\\mathbf{{x}_{u}}^{2} + \\mathbf{{y}_{u}}^{2} + \\mathbf{{z}_{u}}^{2}} + \\frac{\\mathbf{{z}_{u}} \\cos{\\left(\\theta \\right)}}{\\sqrt{\\mathbf{{x}_{u}}^{2} + \\mathbf{{y}_{u}}^{2} + \\mathbf{{z}_{u}}^{2}}}\\right) + \\mathbf{{z}_{q}} s_{z} \\left(\\frac{\\mathbf{{x}_{u}} \\mathbf{{z}_{u}} \\cos{\\left(\\theta \\right)}}{\\mathbf{{x}_{u}}^{2} + \\mathbf{{y}_{u}}^{2} + \\mathbf{{z}_{u}}^{2}} - \\frac{\\mathbf{{y}_{u}} \\cos{\\left(\\theta \\right)}}{\\sqrt{\\mathbf{{x}_{u}}^{2} + \\mathbf{{y}_{u}}^{2} + \\mathbf{{z}_{u}}^{2}}}\\right)\\\\\\mathbf{{x}_{q}} s_{x} \\left(\\frac{\\mathbf{{x}_{u}} \\mathbf{{y}_{u}} \\cos{\\left(\\theta \\right)}}{\\mathbf{{x}_{u}}^{2} + \\mathbf{{y}_{u}}^{2} + \\mathbf{{z}_{u}}^{2}} - \\frac{\\mathbf{{z}_{u}} \\cos{\\left(\\theta \\right)}}{\\sqrt{\\mathbf{{x}_{u}}^{2} + \\mathbf{{y}_{u}}^{2} + \\mathbf{{z}_{u}}^{2}}}\\right) + \\mathbf{{y}_{q}} s_{y} \\left(\\frac{\\mathbf{{y}_{u}}^{2} \\cos{\\left(\\theta \\right)}}{\\mathbf{{x}_{u}}^{2} + \\mathbf{{y}_{u}}^{2} + \\mathbf{{z}_{u}}^{2}} - \\cos{\\left(\\theta \\right)}\\right) + \\mathbf{{z}_{q}} s_{z} \\left(\\frac{\\mathbf{{x}_{u}} \\cos{\\left(\\theta \\right)}}{\\sqrt{\\mathbf{{x}_{u}}^{2} + \\mathbf{{y}_{u}}^{2} + \\mathbf{{z}_{u}}^{2}}} + \\frac{\\mathbf{{y}_{u}} \\mathbf{{z}_{u}} \\cos{\\left(\\theta \\right)}}{\\mathbf{{x}_{u}}^{2} + \\mathbf{{y}_{u}}^{2} + \\mathbf{{z}_{u}}^{2}}\\right)\\\\\\mathbf{{x}_{q}} s_{x} \\left(\\frac{\\mathbf{{x}_{u}} \\mathbf{{z}_{u}} \\cos{\\left(\\theta \\right)}}{\\mathbf{{x}_{u}}^{2} + \\mathbf{{y}_{u}}^{2} + \\mathbf{{z}_{u}}^{2}} + \\frac{\\mathbf{{y}_{u}} \\cos{\\left(\\theta \\right)}}{\\sqrt{\\mathbf{{x}_{u}}^{2} + \\mathbf{{y}_{u}}^{2} + \\mathbf{{z}_{u}}^{2}}}\\right) + \\mathbf{{y}_{q}} s_{y} \\left(- \\frac{\\mathbf{{x}_{u}} \\cos{\\left(\\theta \\right)}}{\\sqrt{\\mathbf{{x}_{u}}^{2} + \\mathbf{{y}_{u}}^{2} + \\mathbf{{z}_{u}}^{2}}} + \\frac{\\mathbf{{y}_{u}} \\mathbf{{z}_{u}} \\cos{\\left(\\theta \\right)}}{\\mathbf{{x}_{u}}^{2} + \\mathbf{{y}_{u}}^{2} + \\mathbf{{z}_{u}}^{2}}\\right) + \\mathbf{{z}_{q}} s_{z} \\left(\\frac{\\mathbf{{z}_{u}}^{2} \\cos{\\left(\\theta \\right)}}{\\mathbf{{x}_{u}}^{2} + \\mathbf{{y}_{u}}^{2} + \\mathbf{{z}_{u}}^{2}} - \\cos{\\left(\\theta \\right)}\\right)\\end{matrix}\\right]$"
      ],
      "text/plain": [
       "⎡        ⎛      2                    ⎞                                        \n",
       "⎢        ⎜   x_u ⋅cos(θ)             ⎟           ⎛  x_u⋅y_u⋅cos(θ)            \n",
       "⎢ x_q⋅sₓ⋅⎜────────────────── - cos(θ)⎟ + y_q⋅s_y⋅⎜────────────────── + ───────\n",
       "⎢        ⎜   2      2      2         ⎟           ⎜   2      2      2      ____\n",
       "⎢        ⎝x_u  + y_u  + z_u          ⎠           ⎜x_u  + y_u  + z_u      ╱    \n",
       "⎢                                                ⎝                     ╲╱  x_u\n",
       "⎢                                                                             \n",
       "⎢                                                                 ⎛      2    \n",
       "⎢        ⎛  x_u⋅y_u⋅cos(θ)            z_u⋅cos(θ)      ⎞           ⎜   y_u ⋅cos\n",
       "⎢ x_q⋅sₓ⋅⎜────────────────── - ───────────────────────⎟ + y_q⋅s_y⋅⎜───────────\n",
       "⎢        ⎜   2      2      2      ____________________⎟           ⎜   2      2\n",
       "⎢        ⎜x_u  + y_u  + z_u      ╱    2      2      2 ⎟           ⎝x_u  + y_u \n",
       "⎢        ⎝                     ╲╱  x_u  + y_u  + z_u  ⎠                       \n",
       "⎢                                                                             \n",
       "⎢                                                                             \n",
       "⎢       ⎛  x_u⋅z_u⋅cos(θ)            y_u⋅cos(θ)      ⎞           ⎛         x_u\n",
       "⎢x_q⋅sₓ⋅⎜────────────────── + ───────────────────────⎟ + y_q⋅s_y⋅⎜- ──────────\n",
       "⎢       ⎜   2      2      2      ____________________⎟           ⎜     _______\n",
       "⎢       ⎜x_u  + y_u  + z_u      ╱    2      2      2 ⎟           ⎜    ╱    2  \n",
       "⎣       ⎝                     ╲╱  x_u  + y_u  + z_u  ⎠           ⎝  ╲╱  x_u  +\n",
       "\n",
       "                                                                           ⎤\n",
       "z_u⋅cos(θ)      ⎞           ⎛  x_u⋅z_u⋅cos(θ)            y_u⋅cos(θ)      ⎞ ⎥\n",
       "────────────────⎟ + z_q⋅s_z⋅⎜────────────────── - ───────────────────────⎟ ⎥\n",
       "________________⎟           ⎜   2      2      2      ____________________⎟ ⎥\n",
       "2      2      2 ⎟           ⎜x_u  + y_u  + z_u      ╱    2      2      2 ⎟ ⎥\n",
       "  + y_u  + z_u  ⎠           ⎝                     ╲╱  x_u  + y_u  + z_u  ⎠ ⎥\n",
       "                                                                           ⎥\n",
       "                ⎞                                                          ⎥\n",
       "(θ)             ⎟           ⎛       x_u⋅cos(θ)           y_u⋅z_u⋅cos(θ)  ⎞ ⎥\n",
       "─────── - cos(θ)⎟ + z_q⋅s_z⋅⎜─────────────────────── + ──────────────────⎟ ⎥\n",
       "      2         ⎟           ⎜   ____________________      2      2      2⎟ ⎥\n",
       " + z_u          ⎠           ⎜  ╱    2      2      2    x_u  + y_u  + z_u ⎟ ⎥\n",
       "                            ⎝╲╱  x_u  + y_u  + z_u                       ⎠ ⎥\n",
       "                                                                           ⎥\n",
       "                                              ⎛      2                    ⎞⎥\n",
       "⋅cos(θ)           y_u⋅z_u⋅cos(θ)  ⎞           ⎜   z_u ⋅cos(θ)             ⎟⎥\n",
       "───────────── + ──────────────────⎟ + z_q⋅s_z⋅⎜────────────────── - cos(θ)⎟⎥\n",
       "_____________      2      2      2⎟           ⎜   2      2      2         ⎟⎥\n",
       "    2      2    x_u  + y_u  + z_u ⎟           ⎝x_u  + y_u  + z_u          ⎠⎥\n",
       " y_u  + z_u                       ⎠                                        ⎦"
      ]
     },
     "execution_count": 10,
     "metadata": {},
     "output_type": "execute_result"
    }
   ],
   "source": [
    "dxdthetadtheta"
   ]
  },
  {
   "cell_type": "code",
   "execution_count": 11,
   "id": "c70f540c",
   "metadata": {},
   "outputs": [],
   "source": [
    "# configurable functions (stand-alone vs module)\n",
    "beta = sym.symbols('beta')\n",
    "\n",
    "def mk_coord(name, sub):\n",
    "\n",
    "    sub = str(sub)\n",
    "    c = CoordSys3D(name + sub)\n",
    "    #c_s * Matrix([v.coeff(N.i), v.coeff(N.j), v.coeff(N.k)])\n",
    "    #out = sym.Matrix([R0(c.x, c.y, c.z, s.x, s.y, s.z, theta, u.x, u.y, u.z) + t.x,\n",
    "    #    R1(c.x, c.y, c.z, s.x, s.y, s.z, theta, u.x, u.y, u.z) + t.y,\n",
    "    #    R2(c.x, c.y, c.z, s.x, s.y, s.z, theta, u.x, u.y, u.z) + t.z])\n",
    "    out = sym.Matrix([X0(beta),\n",
    "                      X1(beta),\n",
    "                      X2(beta)])\n",
    "    return out\n",
    "    \n",
    "q0 = mk_coord('q', 0)\n",
    "\n"
   ]
  },
  {
   "cell_type": "code",
   "execution_count": 12,
   "id": "e5c0d232",
   "metadata": {},
   "outputs": [
    {
     "data": {
      "text/latex": [
       "$\\displaystyle - \\frac{N a}{4 \\pi \\left(\\left(p - q\\right)^{2}\\right)^{\\frac{3}{2}}} + \\frac{N a \\left(3 p - 3 q\\right)}{4 \\pi \\left(p - q\\right) \\left(\\left(p - q\\right)^{2}\\right)^{\\frac{3}{2}}}$"
      ],
      "text/plain": [
       "         N⋅a               N⋅a⋅(3⋅p - 3⋅q)     \n",
       "- ───────────────── + ─────────────────────────\n",
       "                3/2                         3/2\n",
       "      ⎛       2⎞                  ⎛       2⎞   \n",
       "  4⋅π⋅⎝(p - q) ⎠      4⋅π⋅(p - q)⋅⎝(p - q) ⎠   "
      ]
     },
     "execution_count": 12,
     "metadata": {},
     "output_type": "execute_result"
    }
   ],
   "source": [
    "\n",
    "q = sym.symbols('q')\n",
    "a = sym.symbols('a')\n",
    "p = sym.symbols('p')\n",
    "#p = sym.Matrix([p.x, p.y, p.z])\n",
    "N = sym.symbols('N')\n",
    "\n",
    "r = p-q\n",
    "G = a * (N * r) / (4 * sym.pi * sym.sqrt(r*r)**3)\n",
    "\n",
    "\n",
    "sym.diff(G, q)\n"
   ]
  },
  {
   "cell_type": "code",
   "execution_count": 13,
   "id": "2ed54879",
   "metadata": {},
   "outputs": [],
   "source": [
    "a = sym.symbols('alpha')\n",
    "b = sym.symbols('beta')\n",
    "c = sym.symbols('gamma')\n",
    "\n",
    "f = sym.symbols('f', cls=sym.Function)\n",
    "X = sym.symbols('X', cls=sym.Function)\n",
    "fc = (f(X(a,b,c)))**2"
   ]
  },
  {
   "cell_type": "code",
   "execution_count": 14,
   "id": "99f2f421",
   "metadata": {},
   "outputs": [
    {
     "data": {
      "text/latex": [
       "$\\displaystyle 2 f{\\left(X{\\left(\\alpha,\\beta,\\gamma \\right)} \\right)} \\frac{\\partial}{\\partial \\alpha} X{\\left(\\alpha,\\beta,\\gamma \\right)} \\frac{\\partial}{\\partial X{\\left(\\alpha,\\beta,\\gamma \\right)}} f{\\left(X{\\left(\\alpha,\\beta,\\gamma \\right)} \\right)}$"
      ],
      "text/plain": [
       "                ∂                   ∂                    \n",
       "2⋅f(X(α, β, γ))⋅──(X(α, β, γ))⋅───────────(f(X(α, β, γ)))\n",
       "                ∂α             ∂X(α, β, γ)               "
      ]
     },
     "execution_count": 14,
     "metadata": {},
     "output_type": "execute_result"
    }
   ],
   "source": [
    "fca = sym.diff(fc, a)\n",
    "fcb = sym.diff(fc, b)\n",
    "fcc = sym.diff(fc, c)\n",
    "fca"
   ]
  },
  {
   "cell_type": "code",
   "execution_count": 15,
   "id": "8d6e706e",
   "metadata": {},
   "outputs": [
    {
     "data": {
      "text/latex": [
       "$\\displaystyle 2 f{\\left(X{\\left(\\alpha,\\beta,\\gamma \\right)} \\right)} \\left(\\frac{\\partial}{\\partial \\alpha} X{\\left(\\alpha,\\beta,\\gamma \\right)}\\right)^{2} \\frac{\\partial^{2}}{\\partial X{\\left(\\alpha,\\beta,\\gamma \\right)}^{2}} f{\\left(X{\\left(\\alpha,\\beta,\\gamma \\right)} \\right)} + 2 f{\\left(X{\\left(\\alpha,\\beta,\\gamma \\right)} \\right)} \\frac{\\partial^{2}}{\\partial \\alpha^{2}} X{\\left(\\alpha,\\beta,\\gamma \\right)} \\frac{\\partial}{\\partial X{\\left(\\alpha,\\beta,\\gamma \\right)}} f{\\left(X{\\left(\\alpha,\\beta,\\gamma \\right)} \\right)} + 2 \\left(\\frac{\\partial}{\\partial \\alpha} X{\\left(\\alpha,\\beta,\\gamma \\right)}\\right)^{2} \\left(\\frac{\\partial}{\\partial X{\\left(\\alpha,\\beta,\\gamma \\right)}} f{\\left(X{\\left(\\alpha,\\beta,\\gamma \\right)} \\right)}\\right)^{2}$"
      ],
      "text/plain": [
       "                                2       2                                     \n",
       "                ⎛∂             ⎞       ∂                                      \n",
       "2⋅f(X(α, β, γ))⋅⎜──(X(α, β, γ))⎟ ⋅────────────(f(X(α, β, γ))) + 2⋅f(X(α, β, γ)\n",
       "                ⎝∂α            ⎠             2                                \n",
       "                                  ∂X(α, β, γ)                                 \n",
       "\n",
       "    2                                                            2            \n",
       "   ∂                   ∂                         ⎛∂             ⎞  ⎛     ∂    \n",
       ")⋅───(X(α, β, γ))⋅───────────(f(X(α, β, γ))) + 2⋅⎜──(X(α, β, γ))⎟ ⋅⎜──────────\n",
       "    2             ∂X(α, β, γ)                    ⎝∂α            ⎠  ⎝∂X(α, β, γ\n",
       "  ∂α                                                                          \n",
       "\n",
       "                 2\n",
       "                ⎞ \n",
       "─(f(X(α, β, γ)))⎟ \n",
       ")               ⎠ \n",
       "                  "
      ]
     },
     "execution_count": 15,
     "metadata": {},
     "output_type": "execute_result"
    }
   ],
   "source": [
    "fcaa = sym.diff(fca, a)\n",
    "fcab = sym.diff(fca, b)\n",
    "fcac = sym.diff(fca, c)\n",
    "\n",
    "fcba = sym.diff(fcb, a)\n",
    "fcbb = sym.diff(fcb, b)\n",
    "fcbc = sym.diff(fcb, c)\n",
    "\n",
    "fcca = sym.diff(fcc, a)\n",
    "fccb = sym.diff(fcc, b)\n",
    "fccc = sym.diff(fcc, c)\n",
    "fcaa"
   ]
  },
  {
   "cell_type": "code",
   "execution_count": 16,
   "id": "4ced6e54",
   "metadata": {},
   "outputs": [],
   "source": [
    "from sympy import *\n",
    "init_printing(use_unicode=True)\n",
    "from sympy.abc import a, e, k, n, r, t, x, y, z, T, Z\n",
    "from sympy.abc import beta, omega, tau\n",
    "f, g = symbols('f, g', cls=Function)\n"
   ]
  },
  {
   "cell_type": "code",
   "execution_count": 17,
   "id": "e67465b4",
   "metadata": {},
   "outputs": [
    {
     "name": "stdout",
     "output_type": "stream",
     "text": [
      "x = y + 1;\n"
     ]
    }
   ],
   "source": [
    "from sympy.codegen.ast import Assignment\n",
    "print(ccode(Assignment(x, y + 1)))\n",
    "x = y + 1;"
   ]
  },
  {
   "cell_type": "code",
   "execution_count": 18,
   "id": "6fd8b474",
   "metadata": {},
   "outputs": [
    {
     "data": {
      "text/plain": [
       "'E = -1.0L/2.0L*Z*powl(e, 2)*k/r;'"
      ]
     },
     "execution_count": 18,
     "metadata": {},
     "output_type": "execute_result"
    }
   ],
   "source": [
    "expr = (Rational(-1, 2) * Z * k * (e**2) / r)\n",
    "-1.0/2.0*Z*pow(e, 2)*k/r\n",
    "from sympy.codegen.ast import real, float80\n",
    "ccode(expr, assign_to=\"E\", type_aliases={real: float80})"
   ]
  },
  {
   "cell_type": "code",
   "execution_count": 19,
   "id": "b48b6d79",
   "metadata": {},
   "outputs": [
    {
     "name": "stdout",
     "output_type": "stream",
     "text": [
      "tt = 3*expm1(2*x);\n"
     ]
    }
   ],
   "source": [
    "from sympy import Symbol, exp, log\n",
    "from sympy.codegen.rewriting import optimize, optims_c99\n",
    "x = Symbol('x')\n",
    "t = optimize(3*exp(2*x) - 3, optims_c99)\n",
    "print(ccode(t, assign_to=\"tt\", standard='C99'))"
   ]
  },
  {
   "cell_type": "code",
   "execution_count": 235,
   "id": "4c336d12",
   "metadata": {},
   "outputs": [],
   "source": [
    "k, g1, g2, r, I, S = symbols(\"k, gamma_1, gamma_2, r, I, S\")\n",
    "expr = k * g1 * g2 / (r**3)\n",
    "expr = expr * 2 * I * S * (3 * (cos(beta))**2 - 1) / 2"
   ]
  },
  {
   "cell_type": "code",
   "execution_count": 238,
   "id": "22c51971",
   "metadata": {},
   "outputs": [
    {
     "name": "stdout",
     "output_type": "stream",
     "text": [
      "H_is = I*S*gamma_1*gamma_2*k*(3*pow(cos(beta), 2) - 1)/pow(r, 3);\n"
     ]
    }
   ],
   "source": [
    "print(ccode(expr, assign_to=\"H_is\", standard='C99'))"
   ]
  },
  {
   "cell_type": "code",
   "execution_count": null,
   "id": "7436d0fb",
   "metadata": {},
   "outputs": [],
   "source": []
  }
 ],
 "metadata": {
  "interpreter": {
   "hash": "142bb7ed49d307727cc6590928c3cb9add4293057b95bd8d2da9aded96aec942"
  },
  "kernelspec": {
   "display_name": "Python 3.8.10 ('gaudi')",
   "language": "python",
   "name": "python3"
  },
  "language_info": {
   "codemirror_mode": {
    "name": "ipython",
    "version": 3
   },
   "file_extension": ".py",
   "mimetype": "text/x-python",
   "name": "python",
   "nbconvert_exporter": "python",
   "pygments_lexer": "ipython3",
   "version": "3.8.10"
  }
 },
 "nbformat": 4,
 "nbformat_minor": 5
}
