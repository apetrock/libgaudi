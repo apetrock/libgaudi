{
 "cells": [
  {
   "cell_type": "code",
   "execution_count": null,
   "id": "b6036595",
   "metadata": {},
   "outputs": [],
   "source": [
    "import sympy as sym\n",
    "from sympy import init_printing,latex,symbols\n",
    "\n",
    "init_printing()"
   ]
  },
  {
   "cell_type": "code",
   "execution_count": null,
   "id": "45399c75",
   "metadata": {},
   "outputs": [
    {
     "data": {
      "text/latex": [
       "$\\displaystyle f^{- 2 p}{\\left(X \\right)} f^{p}{\\left(P_{f} X \\right)}$"
      ],
      "text/plain": [
       " -2⋅p     p       \n",
       "f    (X)⋅f (P_f⋅X)"
      ]
     },
     "execution_count": 7,
     "metadata": {},
     "output_type": "execute_result"
    }
   ],
   "source": [
    "f = sym.symbols('f', cls=sym.Function)\n",
    "X = sym.symbols('X')\n",
    "Y = sym.symbols('Y')\n",
    "\n",
    "p = sym.symbols('p')\n",
    "S = sym.symbols('S')\n",
    "T = sym.symbols('T')\n",
    "\n",
    "P = sym.symbols('P_f')\n",
    "K = f(P * X)**p / f(X)**(2*p)\n",
    "K"
   ]
  },
  {
   "cell_type": "code",
   "execution_count": null,
   "id": "1413fd28",
   "metadata": {},
   "outputs": [
    {
     "data": {
      "text/latex": [
       "$\\displaystyle \\frac{P_{f} p f^{- 2 p}{\\left(X \\right)} f^{p}{\\left(P_{f} X \\right)} \\left. \\frac{d}{d \\xi_{1}} f{\\left(\\xi_{1} \\right)} \\right|_{\\substack{ \\xi_{1}=P_{f} X }}}{f{\\left(P_{f} X \\right)}} - \\frac{2 p f^{- 2 p}{\\left(X \\right)} f^{p}{\\left(P_{f} X \\right)} \\frac{d}{d X} f{\\left(X \\right)}}{f{\\left(X \\right)}}$"
      ],
      "text/plain": [
       "       -2⋅p     p        ⎛ d        ⎞│                -2⋅p     p        d     \n",
       "P_f⋅p⋅f    (X)⋅f (P_f⋅X)⋅⎜───(f(ξ₁))⎟│           2⋅p⋅f    (X)⋅f (P_f⋅X)⋅──(f(X\n",
       "                         ⎝dξ₁       ⎠│ξ₁=P_f⋅X                          dX    \n",
       "────────────────────────────────────────────── - ─────────────────────────────\n",
       "                   f(P_f⋅X)                                    f(X)           \n",
       "\n",
       "  \n",
       "))\n",
       "  \n",
       "──\n",
       "  "
      ]
     },
     "execution_count": 8,
     "metadata": {},
     "output_type": "execute_result"
    }
   ],
   "source": [
    "sym.diff(K,X)"
   ]
  },
  {
   "cell_type": "code",
   "execution_count": null,
   "id": "dd4cf0e0",
   "metadata": {},
   "outputs": [],
   "source": [
    "K = f(X)**(2*p)/f(P * X)**p \n",
    "K"
   ]
  },
  {
   "cell_type": "code",
   "execution_count": null,
   "id": "035c11e9",
   "metadata": {},
   "outputs": [
    {
     "ename": "",
     "evalue": "",
     "output_type": "error",
     "traceback": [
      "\u001b[1;31mThe kernel failed to start as '_psutil_linux' could not be imported from 'most likely due to a circular import'.\n",
      "\u001b[1;31mClick <a href='https://aka.ms/kernelFailuresModuleImportErrFromFile'>here</a> for more info."
     ]
    }
   ],
   "source": [
    "sym.diff(K,X)"
   ]
  },
  {
   "cell_type": "code",
   "execution_count": null,
   "id": "12419d62",
   "metadata": {},
   "outputs": [],
   "source": []
  },
  {
   "cell_type": "code",
   "execution_count": 9,
   "id": "629d1af2",
   "metadata": {},
   "outputs": [
    {
     "data": {
      "text/latex": [
       "$\\displaystyle \\frac{K_{t} P_{f} \\left. \\frac{d}{d \\xi_{1}} f{\\left(\\xi_{1} \\right)} \\right|_{\\substack{ \\xi_{1}=P_{f} X }}}{f{\\left(P_{f} X \\right)}} - \\frac{K_{t} \\frac{d}{d X} f{\\left(X \\right)}}{f{\\left(X \\right)}}$"
      ],
      "text/plain": [
       "       ⎛ d        ⎞│              d       \n",
       "Kₜ⋅P_f⋅⎜───(f(ξ₁))⎟│           Kₜ⋅──(f(X))\n",
       "       ⎝dξ₁       ⎠│ξ₁=P_f⋅X      dX      \n",
       "──────────────────────────── - ───────────\n",
       "          f(P_f⋅X)                 f(X)   "
      ]
     },
     "execution_count": 9,
     "metadata": {},
     "output_type": "execute_result"
    }
   ],
   "source": [
    "Kt = sym.symbols('K_t')\n",
    "dkt = Kt * sym.diff(f(P*X), X)/f(P*X)  - Kt * sym.diff(f(X), X)/f(X)\n",
    "dkt\n",
    "#dk = K * sym.diff(f(P*X), X) / f(P*X)  - K * sym.diff(f(X), X)/f(X)\n",
    "#dk"
   ]
  },
  {
   "cell_type": "code",
   "execution_count": 17,
   "id": "bcd11def",
   "metadata": {},
   "outputs": [
    {
     "data": {
      "text/latex": [
       "$\\displaystyle f{\\left(c{\\left(N,X \\right)} \\right)}$"
      ],
      "text/plain": [
       "f(c(N, X))"
      ]
     },
     "execution_count": 17,
     "metadata": {},
     "output_type": "execute_result"
    }
   ],
   "source": [
    "f = sym.symbols('f', cls=sym.Function)\n",
    "d = sym.symbols('d', cls=sym.Function)\n",
    "c = sym.symbols('c', cls=sym.Function)\n",
    "\n",
    "#s = sym.symbols('s', cls=sym.Function)\n",
    "\n",
    "Np = sym.symbols('N_p', cls=sym.Function)\n",
    "N = sym.symbols('N')\n",
    "X = sym.symbols('X')\n",
    "Y = sym.symbols('Y')\n",
    "l = sym.symbols('l')\n",
    "\n",
    "p = sym.symbols('p')\n",
    "w = sym.symbols('w')\n",
    "k = sym.symbols('k')\n",
    "eps = sym.symbols('epsilon')\n",
    "\n",
    "\n",
    "S = sym.symbols('S')\n",
    "T = sym.symbols('T')\n",
    "\n",
    "#K = P*X / f(X)**(p)\n",
    "#K = (P*X+1)**2 / f(X)**(p)\n",
    "lc = sym.symbols('l_c')\n",
    "#K = (f(N(X)))**p * (f(X,Y) - lc)**2 / f(X + 0.1)**w\n",
    "#K = (f(N(X)) - lc)**2 / (f(X) + eps)**w\n",
    "#K = (f(X))**2 / (d(X)**w + eps)\n",
    "#K = (f(Np(X)) - lc)**2\n",
    "#K= f(Np(X))**p/f(X)**k\n",
    "K= (N*X / f(X))**p #align with point\n",
    "K = f(c(N, X)) #cross product\n",
    "#K = (0.5 - 0.5 * N * X / f(X))**p\n",
    "\n",
    "\n",
    "K"
   ]
  },
  {
   "cell_type": "code",
   "execution_count": 18,
   "id": "6fc5be37",
   "metadata": {},
   "outputs": [
    {
     "data": {
      "text/latex": [
       "$\\displaystyle \\frac{\\partial}{\\partial X} c{\\left(N,X \\right)} \\frac{\\partial}{\\partial c{\\left(N,X \\right)}} f{\\left(c{\\left(N,X \\right)} \\right)}$"
      ],
      "text/plain": [
       "∂              ∂                \n",
       "──(c(N, X))⋅────────(f(c(N, X)))\n",
       "∂X          ∂c(N, X)            "
      ]
     },
     "execution_count": 18,
     "metadata": {},
     "output_type": "execute_result"
    }
   ],
   "source": [
    "sym.diff(K,X)"
   ]
  },
  {
   "cell_type": "markdown",
   "id": "5e5e4f6f",
   "metadata": {},
   "source": []
  },
  {
   "cell_type": "code",
   "execution_count": 12,
   "id": "7d09fcea",
   "metadata": {},
   "outputs": [],
   "source": [
    "x = sym.symbols('x')\n",
    "y = sym.symbols('y')\n",
    "z = sym.symbols('z')\n",
    "X = sym.sqrt(x**2 + y**2 + z**2)"
   ]
  },
  {
   "cell_type": "code",
   "execution_count": 21,
   "id": "51045015",
   "metadata": {},
   "outputs": [
    {
     "data": {
      "text/latex": [
       "$\\displaystyle \\frac{x}{\\sqrt{x^{2} + y^{2} + z^{2}}}$"
      ],
      "text/plain": [
       "        x        \n",
       "─────────────────\n",
       "   ______________\n",
       "  ╱  2    2    2 \n",
       "╲╱  x  + y  + z  "
      ]
     },
     "execution_count": 21,
     "metadata": {},
     "output_type": "execute_result"
    }
   ],
   "source": [
    "sym.diff(X,x)"
   ]
  },
  {
   "cell_type": "code",
   "execution_count": null,
   "id": "72a61e97",
   "metadata": {},
   "outputs": [],
   "source": []
  },
  {
   "cell_type": "markdown",
   "id": "b9636370",
   "metadata": {},
   "source": []
  },
  {
   "cell_type": "code",
   "execution_count": 30,
   "id": "6bb03eff",
   "metadata": {},
   "outputs": [
    {
     "data": {
      "text/latex": [
       "$\\displaystyle \\frac{0.707106781186547 e^{- \\frac{f^{2}{\\left(X \\right)}}{2 \\sigma^{2}}}}{\\sqrt{\\pi} \\sigma}$"
      ],
      "text/plain": [
       "                     2    \n",
       "                   -f (X) \n",
       "                   ───────\n",
       "                        2 \n",
       "                     2⋅σ  \n",
       "0.707106781186547⋅ℯ       \n",
       "──────────────────────────\n",
       "           √π⋅σ           "
      ]
     },
     "execution_count": 30,
     "metadata": {},
     "output_type": "execute_result"
    }
   ],
   "source": [
    "f = sym.symbols('f', cls=sym.Function)\n",
    "X = sym.symbols('X')\n",
    "s = sym.symbols('sigma')\n",
    "K = sym.exp(-f(X)**2 /2/ s **2) / s / sym.sqrt(2.0 * sym.pi)\n",
    "K"
   ]
  },
  {
   "cell_type": "code",
   "execution_count": 31,
   "id": "3fbdbf0f",
   "metadata": {},
   "outputs": [
    {
     "data": {
      "text/latex": [
       "$\\displaystyle - \\frac{0.707106781186547 f{\\left(X \\right)} e^{- \\frac{f^{2}{\\left(X \\right)}}{2 \\sigma^{2}}} \\frac{d}{d X} f{\\left(X \\right)}}{\\sqrt{\\pi} \\sigma^{3}}$"
      ],
      "text/plain": [
       "                           2              \n",
       "                         -f (X)           \n",
       "                         ───────          \n",
       "                              2           \n",
       "                           2⋅σ   d        \n",
       "-0.707106781186547⋅f(X)⋅ℯ       ⋅──(f(X)) \n",
       "                                 dX       \n",
       "──────────────────────────────────────────\n",
       "                      3                   \n",
       "                  √π⋅σ                    "
      ]
     },
     "execution_count": 31,
     "metadata": {},
     "output_type": "execute_result"
    }
   ],
   "source": [
    "sym.diff(K,X)"
   ]
  },
  {
   "cell_type": "code",
   "execution_count": 2,
   "id": "d1743a04",
   "metadata": {},
   "outputs": [],
   "source": [
    "theta = sym.symbols('theta')\n",
    "n = sym.symbols('n')\n",
    "\n",
    "#phi = 2 * sym.tan(theta / 2)\n",
    "phi = sym.cos(theta / 2)\n",
    "\n",
    "dphidtheta = sym.diff(phi,theta)\n",
    "dphidtheta2 = sym.diff(dphidtheta,theta)"
   ]
  },
  {
   "cell_type": "code",
   "execution_count": 3,
   "id": "7d1828ad",
   "metadata": {},
   "outputs": [
    {
     "data": {
      "text/latex": [
       "$\\displaystyle \\cos{\\left(\\frac{\\theta}{2} \\right)}$"
      ],
      "text/plain": [
       "   ⎛θ⎞\n",
       "cos⎜─⎟\n",
       "   ⎝2⎠"
      ]
     },
     "execution_count": 3,
     "metadata": {},
     "output_type": "execute_result"
    }
   ],
   "source": [
    "phi"
   ]
  },
  {
   "cell_type": "code",
   "execution_count": 4,
   "id": "52799e19",
   "metadata": {},
   "outputs": [
    {
     "data": {
      "text/latex": [
       "$\\displaystyle - \\frac{\\sin{\\left(\\frac{\\theta}{2} \\right)}}{2}$"
      ],
      "text/plain": [
       "    ⎛θ⎞ \n",
       "-sin⎜─⎟ \n",
       "    ⎝2⎠ \n",
       "────────\n",
       "   2    "
      ]
     },
     "execution_count": 4,
     "metadata": {},
     "output_type": "execute_result"
    }
   ],
   "source": [
    "dphidtheta"
   ]
  },
  {
   "cell_type": "code",
   "execution_count": 5,
   "id": "b4302bcf",
   "metadata": {},
   "outputs": [
    {
     "data": {
      "text/latex": [
       "$\\displaystyle - \\frac{\\cos{\\left(\\frac{\\theta}{2} \\right)}}{4}$"
      ],
      "text/plain": [
       "    ⎛θ⎞ \n",
       "-cos⎜─⎟ \n",
       "    ⎝2⎠ \n",
       "────────\n",
       "   4    "
      ]
     },
     "execution_count": 5,
     "metadata": {},
     "output_type": "execute_result"
    }
   ],
   "source": [
    "dphidtheta2"
   ]
  },
  {
   "cell_type": "code",
   "execution_count": 6,
   "id": "5ecdec86",
   "metadata": {},
   "outputs": [],
   "source": [
    "theta = sym.symbols('theta')\n",
    "thhat = sym.Symbol('theta_h')\n",
    "thbar = sym.symbols('theta_b')\n",
    "\n",
    "k = sym.symbols('k')\n",
    "kd = sym.symbols('k_d')\n",
    "dt = sym.Symbol('\\Delta t')\n",
    "\n",
    "ai = sym.symbols('a_i')\n",
    "\n",
    "phi = sym.symbols('phi', cls=sym.Function)\n",
    "phi(theta)\n",
    "\n",
    "psi = sym.symbols('psi', cls=sym.Function)\n",
    "\n",
    "#psi = k*ai*(phi(theta) - phi(thbar))**2\n",
    "psi = k*ai*(phi(theta) - phi(thbar))**2\n",
    "\n",
    "dpsidtheta = sym.diff(psi,theta)\n",
    "dpsidtheta2 = sym.diff(dpsidtheta,theta)"
   ]
  },
  {
   "cell_type": "code",
   "execution_count": 29,
   "id": "a393386c",
   "metadata": {},
   "outputs": [
    {
     "data": {
      "text/latex": [
       "$\\displaystyle a_{i} k \\phi^{2}{\\left(\\theta \\right)}$"
      ],
      "text/plain": [
       "      2   \n",
       "aᵢ⋅k⋅φ (θ)"
      ]
     },
     "execution_count": 29,
     "metadata": {},
     "output_type": "execute_result"
    }
   ],
   "source": [
    "psi"
   ]
  },
  {
   "cell_type": "code",
   "execution_count": 30,
   "id": "dfa1e981",
   "metadata": {},
   "outputs": [
    {
     "data": {
      "text/latex": [
       "$\\displaystyle 2 a_{i} k \\phi{\\left(\\theta \\right)} \\frac{d}{d \\theta} \\phi{\\left(\\theta \\right)}$"
      ],
      "text/plain": [
       "            d       \n",
       "2⋅aᵢ⋅k⋅φ(θ)⋅──(φ(θ))\n",
       "            dθ      "
      ]
     },
     "execution_count": 30,
     "metadata": {},
     "output_type": "execute_result"
    }
   ],
   "source": [
    "dpsidtheta"
   ]
  },
  {
   "cell_type": "code",
   "execution_count": 31,
   "id": "aa907679",
   "metadata": {},
   "outputs": [
    {
     "data": {
      "text/latex": [
       "$\\displaystyle 2 a_{i} k \\phi{\\left(\\theta \\right)} \\frac{d^{2}}{d \\theta^{2}} \\phi{\\left(\\theta \\right)} + 2 a_{i} k \\left(\\frac{d}{d \\theta} \\phi{\\left(\\theta \\right)}\\right)^{2}$"
      ],
      "text/plain": [
       "              2                          2\n",
       "             d                 ⎛d       ⎞ \n",
       "2⋅aᵢ⋅k⋅φ(θ)⋅───(φ(θ)) + 2⋅aᵢ⋅k⋅⎜──(φ(θ))⎟ \n",
       "              2                ⎝dθ      ⎠ \n",
       "            dθ                            "
      ]
     },
     "execution_count": 31,
     "metadata": {},
     "output_type": "execute_result"
    }
   ],
   "source": [
    "dpsidtheta2"
   ]
  },
  {
   "cell_type": "code",
   "execution_count": 11,
   "id": "8d17b272",
   "metadata": {},
   "outputs": [],
   "source": [
    "x0,x1,x2,y0,y1,y2, = sym.symbols('x0,x1,x2,y0,y1,y2')\n",
    "l0,l1,l2 = sym.symbols('l0,l1,l2')"
   ]
  },
  {
   "cell_type": "code",
   "execution_count": 12,
   "id": "89e85965",
   "metadata": {},
   "outputs": [
    {
     "data": {
      "text/latex": [
       "$\\displaystyle 0.5 x_{0} y_{1} - 0.5 x_{0} y_{2} - 0.5 x_{1} y_{0} + 0.5 x_{1} y_{2} + 0.5 x_{2} y_{0} - 0.5 x_{2} y_{1}$"
      ],
      "text/plain": [
       "0.5⋅x₀⋅y₁ - 0.5⋅x₀⋅y₂ - 0.5⋅x₁⋅y₀ + 0.5⋅x₁⋅y₂ + 0.5⋅x₂⋅y₀ - 0.5⋅x₂⋅y₁"
      ]
     },
     "execution_count": 12,
     "metadata": {},
     "output_type": "execute_result"
    }
   ],
   "source": [
    "M = sym.Matrix([[x0, x1, x2], [y0, y1, y2], [1, 1, 1]])\n",
    "area = 0.5 * M.det()\n",
    "area"
   ]
  },
  {
   "cell_type": "code",
   "execution_count": 13,
   "id": "8972964e",
   "metadata": {},
   "outputs": [],
   "source": [
    "k0,k1,k2 = sym.symbols('lambda_0,lambda_1,lambda_2')\n",
    "#k0 = 1.0\n",
    "#k1 = 1.0\n",
    "#k2 = 1.0\n",
    "C = lambda x0, x1, y0, y1, l:(sym.sqrt((x1-x0)**2 + (y1-y0)**2) - l)**2\n",
    "constraints = k0 * C(x0, x1, y0, y1, l2) + k1 * C(x1, x2, y1, y2, l0) + k2 * C(x2, x0, y2, y0, l1)\n",
    "constraints = constraints.subs(k0, 1.0)\n",
    "constraints = constraints.subs(k1, 1.0)\n",
    "constraints = constraints.subs(k2, 1.0)\n"
   ]
  },
  {
   "cell_type": "code",
   "execution_count": 774,
   "id": "ffe8178d",
   "metadata": {},
   "outputs": [],
   "source": [
    "fp = lambda x, y: (x**2 + y**2)**2\n",
    "pin = fp(x0,y0) + fp(x1,y1) + fp(x2,y2)"
   ]
  },
  {
   "cell_type": "code",
   "execution_count": 803,
   "id": "e301b8ae",
   "metadata": {},
   "outputs": [],
   "source": [
    "#E = area + constraints\n",
    "#E = area + pin + constraints\n",
    "E = constraints"
   ]
  },
  {
   "cell_type": "code",
   "execution_count": 826,
   "id": "eb6a5359",
   "metadata": {},
   "outputs": [
    {
     "data": {
      "text/latex": [
       "$\\displaystyle 1.0 \\left(- l_{0} + \\sqrt{\\left(- x_{1} + x_{2}\\right)^{2} + \\left(- y_{1} + y_{2}\\right)^{2}}\\right)^{2} + 1.0 \\left(- l_{1} + \\sqrt{\\left(x_{0} - x_{2}\\right)^{2} + \\left(y_{0} - y_{2}\\right)^{2}}\\right)^{2} + 1.0 \\left(- l_{2} + \\sqrt{\\left(- x_{0} + x_{1}\\right)^{2} + \\left(- y_{0} + y_{1}\\right)^{2}}\\right)^{2}$"
      ],
      "text/plain": [
       "                                          2                                   \n",
       "    ⎛         ___________________________⎞        ⎛         __________________\n",
       "    ⎜        ╱           2             2 ⎟        ⎜        ╱          2       \n",
       "1.0⋅⎝-l₀ + ╲╱  (-x₁ + x₂)  + (-y₁ + y₂)  ⎠  + 1.0⋅⎝-l₁ + ╲╱  (x₀ - x₂)  + (y₀ \n",
       "\n",
       "        2                                             2\n",
       "_______⎞        ⎛         ___________________________⎞ \n",
       "     2 ⎟        ⎜        ╱           2             2 ⎟ \n",
       "- y₂)  ⎠  + 1.0⋅⎝-l₂ + ╲╱  (-x₀ + x₁)  + (-y₀ + y₁)  ⎠ "
      ]
     },
     "execution_count": 826,
     "metadata": {},
     "output_type": "execute_result"
    }
   ],
   "source": [
    "E"
   ]
  },
  {
   "cell_type": "code",
   "execution_count": 805,
   "id": "193d4c3e",
   "metadata": {},
   "outputs": [
    {
     "data": {
      "text/plain": [
       "['// Not supported in C:\\n// Derivative\\n// Derivative\\n// f\\n// f\\ngrad[0] = 2*f(x1, x0, y1, y0, l2)*Derivative(f(x1, x0, y1, y0, l2), x0) + 2*f(x2, x0, y2, y0, l1)*Derivative(f(x2, x0, y2, y0, l1), x0);',\n",
       " '// Not supported in C:\\n// Derivative\\n// Derivative\\n// f\\n// f\\ngrad[1] = 2*f(x1, x0, y1, y0, l2)*Derivative(f(x1, x0, y1, y0, l2), y0) + 2*f(x2, x0, y2, y0, l1)*Derivative(f(x2, x0, y2, y0, l1), y0);',\n",
       " '// Not supported in C:\\n// Derivative\\n// Derivative\\n// f\\n// f\\ngrad[2] = 2*f(x1, x0, y1, y0, l2)*Derivative(f(x1, x0, y1, y0, l2), x1) + 2*f(x1, x2, y1, y2, l0)*Derivative(f(x1, x2, y1, y2, l0), x1);',\n",
       " '// Not supported in C:\\n// Derivative\\n// Derivative\\n// f\\n// f\\ngrad[3] = 2*f(x1, x0, y1, y0, l2)*Derivative(f(x1, x0, y1, y0, l2), y1) + 2*f(x1, x2, y1, y2, l0)*Derivative(f(x1, x2, y1, y2, l0), y1);',\n",
       " '// Not supported in C:\\n// Derivative\\n// Derivative\\n// f\\n// f\\ngrad[4] = 2*f(x1, x2, y1, y2, l0)*Derivative(f(x1, x2, y1, y2, l0), x2) + 2*f(x2, x0, y2, y0, l1)*Derivative(f(x2, x0, y2, y0, l1), x2);',\n",
       " '// Not supported in C:\\n// Derivative\\n// Derivative\\n// f\\n// f\\ngrad[5] = 2*f(x1, x2, y1, y2, l0)*Derivative(f(x1, x2, y1, y2, l0), y2) + 2*f(x2, x0, y2, y0, l1)*Derivative(f(x2, x0, y2, y0, l1), y2);']"
      ]
     },
     "execution_count": 805,
     "metadata": {},
     "output_type": "execute_result"
    }
   ],
   "source": [
    "from sympy.codegen.ast import real, float80\n",
    "i = 0\n",
    "code = [sym.ccode(g, assign_to=f\"grad[{i}]\") for i, g in enumerate(grad)]\n",
    "code"
   ]
  },
  {
   "cell_type": "code",
   "execution_count": 806,
   "id": "b96009d7",
   "metadata": {},
   "outputs": [],
   "source": [
    "vars = [x0,y0,x1,y1,x2, y2, k0, k1, k2]\n",
    "G = [sym.diff(E,x) for x in vars]"
   ]
  },
  {
   "cell_type": "code",
   "execution_count": 807,
   "id": "38e9e18d",
   "metadata": {},
   "outputs": [],
   "source": [
    "vars = [x0,y0,x1,y1,x2, y2]\n",
    "H = [[sym.diff(sym.diff(E,x),y) for x in vars ]  for y in vars]\n",
    "#H[0][0]"
   ]
  },
  {
   "cell_type": "code",
   "execution_count": 808,
   "id": "b941eb21",
   "metadata": {},
   "outputs": [
    {
     "data": {
      "text/latex": [
       "$\\displaystyle \\left[ \\frac{2.0 \\left(- l_{1} + \\sqrt{\\left(x_{0} - x_{2}\\right)^{2} + \\left(y_{0} - y_{2}\\right)^{2}}\\right) \\left(x_{0} - x_{2}\\right)}{\\sqrt{\\left(x_{0} - x_{2}\\right)^{2} + \\left(y_{0} - y_{2}\\right)^{2}}} + \\frac{2.0 \\left(- l_{2} + \\sqrt{\\left(- x_{0} + x_{1}\\right)^{2} + \\left(- y_{0} + y_{1}\\right)^{2}}\\right) \\left(x_{0} - x_{1}\\right)}{\\sqrt{\\left(- x_{0} + x_{1}\\right)^{2} + \\left(- y_{0} + y_{1}\\right)^{2}}}, \\  \\frac{2.0 \\left(- l_{1} + \\sqrt{\\left(x_{0} - x_{2}\\right)^{2} + \\left(y_{0} - y_{2}\\right)^{2}}\\right) \\left(y_{0} - y_{2}\\right)}{\\sqrt{\\left(x_{0} - x_{2}\\right)^{2} + \\left(y_{0} - y_{2}\\right)^{2}}} + \\frac{2.0 \\left(- l_{2} + \\sqrt{\\left(- x_{0} + x_{1}\\right)^{2} + \\left(- y_{0} + y_{1}\\right)^{2}}\\right) \\left(y_{0} - y_{1}\\right)}{\\sqrt{\\left(- x_{0} + x_{1}\\right)^{2} + \\left(- y_{0} + y_{1}\\right)^{2}}}, \\  \\frac{2.0 \\left(- l_{0} + \\sqrt{\\left(- x_{1} + x_{2}\\right)^{2} + \\left(- y_{1} + y_{2}\\right)^{2}}\\right) \\left(x_{1} - x_{2}\\right)}{\\sqrt{\\left(- x_{1} + x_{2}\\right)^{2} + \\left(- y_{1} + y_{2}\\right)^{2}}} + \\frac{2.0 \\left(- l_{2} + \\sqrt{\\left(- x_{0} + x_{1}\\right)^{2} + \\left(- y_{0} + y_{1}\\right)^{2}}\\right) \\left(- x_{0} + x_{1}\\right)}{\\sqrt{\\left(- x_{0} + x_{1}\\right)^{2} + \\left(- y_{0} + y_{1}\\right)^{2}}}, \\  \\frac{2.0 \\left(- l_{0} + \\sqrt{\\left(- x_{1} + x_{2}\\right)^{2} + \\left(- y_{1} + y_{2}\\right)^{2}}\\right) \\left(y_{1} - y_{2}\\right)}{\\sqrt{\\left(- x_{1} + x_{2}\\right)^{2} + \\left(- y_{1} + y_{2}\\right)^{2}}} + \\frac{2.0 \\left(- l_{2} + \\sqrt{\\left(- x_{0} + x_{1}\\right)^{2} + \\left(- y_{0} + y_{1}\\right)^{2}}\\right) \\left(- y_{0} + y_{1}\\right)}{\\sqrt{\\left(- x_{0} + x_{1}\\right)^{2} + \\left(- y_{0} + y_{1}\\right)^{2}}}, \\  \\frac{2.0 \\left(- l_{0} + \\sqrt{\\left(- x_{1} + x_{2}\\right)^{2} + \\left(- y_{1} + y_{2}\\right)^{2}}\\right) \\left(- x_{1} + x_{2}\\right)}{\\sqrt{\\left(- x_{1} + x_{2}\\right)^{2} + \\left(- y_{1} + y_{2}\\right)^{2}}} + \\frac{2.0 \\left(- l_{1} + \\sqrt{\\left(x_{0} - x_{2}\\right)^{2} + \\left(y_{0} - y_{2}\\right)^{2}}\\right) \\left(- x_{0} + x_{2}\\right)}{\\sqrt{\\left(x_{0} - x_{2}\\right)^{2} + \\left(y_{0} - y_{2}\\right)^{2}}}, \\  \\frac{2.0 \\left(- l_{0} + \\sqrt{\\left(- x_{1} + x_{2}\\right)^{2} + \\left(- y_{1} + y_{2}\\right)^{2}}\\right) \\left(- y_{1} + y_{2}\\right)}{\\sqrt{\\left(- x_{1} + x_{2}\\right)^{2} + \\left(- y_{1} + y_{2}\\right)^{2}}} + \\frac{2.0 \\left(- l_{1} + \\sqrt{\\left(x_{0} - x_{2}\\right)^{2} + \\left(y_{0} - y_{2}\\right)^{2}}\\right) \\left(- y_{0} + y_{2}\\right)}{\\sqrt{\\left(x_{0} - x_{2}\\right)^{2} + \\left(y_{0} - y_{2}\\right)^{2}}}, \\  0, \\  0, \\  0\\right]$"
      ],
      "text/plain": [
       "⎡    ⎛         _________________________⎞                 ⎛         __________\n",
       "⎢    ⎜        ╱          2            2 ⎟                 ⎜        ╱          \n",
       "⎢2.0⋅⎝-l₁ + ╲╱  (x₀ - x₂)  + (y₀ - y₂)  ⎠⋅(x₀ - x₂)   2.0⋅⎝-l₂ + ╲╱  (-x₀ + x₁\n",
       "⎢────────────────────────────────────────────────── + ────────────────────────\n",
       "⎢              _________________________                            __________\n",
       "⎢             ╱          2            2                            ╱          \n",
       "⎣           ╲╱  (x₀ - x₂)  + (y₀ - y₂)                           ╲╱  (-x₀ + x₁\n",
       "\n",
       "_________________⎞                ⎛         _________________________⎞        \n",
       " 2             2 ⎟                ⎜        ╱          2            2 ⎟        \n",
       ")  + (-y₀ + y₁)  ⎠⋅(x₀ - x₁)  2.0⋅⎝-l₁ + ╲╱  (x₀ - x₂)  + (y₀ - y₂)  ⎠⋅(y₀ - y\n",
       "────────────────────────────, ────────────────────────────────────────────────\n",
       "_________________                           _________________________         \n",
       " 2             2                           ╱          2            2          \n",
       ")  + (-y₀ + y₁)                          ╲╱  (x₀ - x₂)  + (y₀ - y₂)           \n",
       "\n",
       "         ⎛         ___________________________⎞                ⎛         _____\n",
       "         ⎜        ╱           2             2 ⎟                ⎜        ╱     \n",
       "₂)   2.0⋅⎝-l₂ + ╲╱  (-x₀ + x₁)  + (-y₀ + y₁)  ⎠⋅(y₀ - y₁)  2.0⋅⎝-l₀ + ╲╱  (-x₁\n",
       "── + ────────────────────────────────────────────────────, ───────────────────\n",
       "                   ___________________________                           _____\n",
       "                  ╱           2             2                           ╱     \n",
       "                ╲╱  (-x₀ + x₁)  + (-y₀ + y₁)                          ╲╱  (-x₁\n",
       "\n",
       "______________________⎞                 ⎛         ___________________________⎞\n",
       "      2             2 ⎟                 ⎜        ╱           2             2 ⎟\n",
       " + x₂)  + (-y₁ + y₂)  ⎠⋅(x₁ - x₂)   2.0⋅⎝-l₂ + ╲╱  (-x₀ + x₁)  + (-y₀ + y₁)  ⎠\n",
       "───────────────────────────────── + ──────────────────────────────────────────\n",
       "______________________                             ___________________________\n",
       "      2             2                             ╱           2             2 \n",
       " + x₂)  + (-y₁ + y₂)                            ╲╱  (-x₀ + x₁)  + (-y₀ + y₁)  \n",
       "\n",
       "                 ⎛         ___________________________⎞                 ⎛     \n",
       "                 ⎜        ╱           2             2 ⎟                 ⎜     \n",
       "⋅(-x₀ + x₁)  2.0⋅⎝-l₀ + ╲╱  (-x₁ + x₂)  + (-y₁ + y₂)  ⎠⋅(y₁ - y₂)   2.0⋅⎝-l₂ +\n",
       "───────────, ──────────────────────────────────────────────────── + ──────────\n",
       "                           ___________________________                        \n",
       "                          ╱           2             2                         \n",
       "                        ╲╱  (-x₁ + x₂)  + (-y₁ + y₂)                          \n",
       "\n",
       "    ___________________________⎞                 ⎛         ___________________\n",
       "   ╱           2             2 ⎟                 ⎜        ╱           2       \n",
       " ╲╱  (-x₀ + x₁)  + (-y₀ + y₁)  ⎠⋅(-y₀ + y₁)  2.0⋅⎝-l₀ + ╲╱  (-x₁ + x₂)  + (-y₁\n",
       "───────────────────────────────────────────, ─────────────────────────────────\n",
       "     ___________________________                            __________________\n",
       "    ╱           2             2                            ╱           2      \n",
       "  ╲╱  (-x₀ + x₁)  + (-y₀ + y₁)                           ╲╱  (-x₁ + x₂)  + (-y\n",
       "\n",
       "________⎞                  ⎛         _________________________⎞               \n",
       "      2 ⎟                  ⎜        ╱          2            2 ⎟               \n",
       " + y₂)  ⎠⋅(-x₁ + x₂)   2.0⋅⎝-l₁ + ╲╱  (x₀ - x₂)  + (y₀ - y₂)  ⎠⋅(-x₀ + x₂)  2.\n",
       "──────────────────── + ───────────────────────────────────────────────────, ──\n",
       "_________                             _________________________               \n",
       "       2                             ╱          2            2                \n",
       "₁ + y₂)                            ╲╱  (x₀ - x₂)  + (y₀ - y₂)                 \n",
       "\n",
       "  ⎛         ___________________________⎞                  ⎛         __________\n",
       "  ⎜        ╱           2             2 ⎟                  ⎜        ╱          \n",
       "0⋅⎝-l₀ + ╲╱  (-x₁ + x₂)  + (-y₁ + y₂)  ⎠⋅(-y₁ + y₂)   2.0⋅⎝-l₁ + ╲╱  (x₀ - x₂)\n",
       "─────────────────────────────────────────────────── + ────────────────────────\n",
       "             ___________________________                             _________\n",
       "            ╱           2             2                             ╱         \n",
       "          ╲╱  (-x₁ + x₂)  + (-y₁ + y₂)                            ╲╱  (x₀ - x₂\n",
       "\n",
       "_______________⎞                    ⎤\n",
       "2            2 ⎟                    ⎥\n",
       "  + (y₀ - y₂)  ⎠⋅(-y₀ + y₂)         ⎥\n",
       "───────────────────────────, 0, 0, 0⎥\n",
       "________________                    ⎥\n",
       " 2            2                     ⎥\n",
       ")  + (y₀ - y₂)                      ⎦"
      ]
     },
     "execution_count": 808,
     "metadata": {},
     "output_type": "execute_result"
    }
   ],
   "source": [
    "G"
   ]
  },
  {
   "cell_type": "code",
   "execution_count": 816,
   "id": "e8af3fda",
   "metadata": {},
   "outputs": [],
   "source": [
    "f = sym.symbols('f', cls=sym.Function)\n",
    "Ef = f(x1,x2, y1, y2, l0)**2 + f(x2,x0, y2, y0, l1)**2 + f(x1,x0, y1, y0, l2)**2\n"
   ]
  },
  {
   "cell_type": "code",
   "execution_count": 820,
   "id": "507636f0",
   "metadata": {},
   "outputs": [
    {
     "data": {
      "text/latex": [
       "$\\displaystyle - \\frac{x \\frac{d}{d x} f{\\left(x \\right)}}{f^{2}{\\left(x \\right)}} + \\frac{1}{f{\\left(x \\right)}}$"
      ],
      "text/plain": [
       "    d              \n",
       "  x⋅──(f(x))       \n",
       "    dx          1  \n",
       "- ────────── + ────\n",
       "     2         f(x)\n",
       "    f (x)          "
      ]
     },
     "execution_count": 820,
     "metadata": {},
     "output_type": "execute_result"
    }
   ],
   "source": [
    "x = sym.symbols('x')\n",
    "f = sym.symbols('f', cls=sym.Function)\n",
    "t = x / f(x)\n",
    "sym.diff(t,x)"
   ]
  },
  {
   "cell_type": "code",
   "execution_count": 3,
   "id": "9b5af1fc",
   "metadata": {},
   "outputs": [],
   "source": [
    "import sympy as sym\n",
    "from sympy import init_printing,latex,symbols"
   ]
  },
  {
   "cell_type": "code",
   "execution_count": 4,
   "id": "60c6cf98",
   "metadata": {},
   "outputs": [],
   "source": [
    "\n",
    "\n",
    "init_printing()\n",
    "\n",
    "def C(x0, x1, y0, y1, l): return (sym.sqrt((x1-x0)**2 + (y1-y0)**2) - l)**2\n",
    "\n",
    "xi,xj,yi,yj,l = sym.symbols('x_i,x_j,y_i,y_j,l_c')\n",
    "Cij = C(xj,xi,yj,yi,l)\n",
    "Cij\n",
    "dCdxi = sym.diff(Cij,xi)\n",
    "dCdxj = sym.diff(Cij,xj)\n",
    "\n",
    "d2Cdxidxi = sym.diff(dCdxi,xi)\n",
    "d2Cdxidxj = sym.diff(dCdxi,xj)\n",
    "d2Cdxidyi = sym.diff(dCdxi,yi)\n",
    "d2Cdxidyj = sym.diff(dCdxi,yj)\n",
    "d2Cdxjdxj = sym.diff(dCdxj,xj)\n",
    "\n"
   ]
  },
  {
   "cell_type": "code",
   "execution_count": 5,
   "id": "8e3b86e8",
   "metadata": {},
   "outputs": [
    {
     "data": {
      "text/latex": [
       "$\\displaystyle \\left(- l_{c} + \\sqrt{\\left(x_{i} - x_{j}\\right)^{2} + \\left(y_{i} - y_{j}\\right)^{2}}\\right)^{2}$"
      ],
      "text/plain": [
       "                                       2\n",
       "⎛          ___________________________⎞ \n",
       "⎜         ╱           2             2 ⎟ \n",
       "⎝-l_c + ╲╱  (xᵢ - x_j)  + (yᵢ - y_j)  ⎠ "
      ]
     },
     "execution_count": 5,
     "metadata": {},
     "output_type": "execute_result"
    }
   ],
   "source": [
    "Cij"
   ]
  },
  {
   "cell_type": "code",
   "execution_count": 123,
   "id": "2420d3e3",
   "metadata": {},
   "outputs": [
    {
     "data": {
      "text/latex": [
       "$\\displaystyle \\frac{2 \\left(- l_{c} + \\sqrt{\\left(x_{i} - x_{j}\\right)^{2} + \\left(y_{i} - y_{j}\\right)^{2}}\\right) \\left(x_{i} - x_{j}\\right)}{\\sqrt{\\left(x_{i} - x_{j}\\right)^{2} + \\left(y_{i} - y_{j}\\right)^{2}}}$"
      ],
      "text/plain": [
       "  ⎛          ___________________________⎞           \n",
       "  ⎜         ╱           2             2 ⎟           \n",
       "2⋅⎝-l_c + ╲╱  (xᵢ - x_j)  + (yᵢ - y_j)  ⎠⋅(xᵢ - x_j)\n",
       "────────────────────────────────────────────────────\n",
       "              ___________________________           \n",
       "             ╱           2             2            \n",
       "           ╲╱  (xᵢ - x_j)  + (yᵢ - y_j)             "
      ]
     },
     "execution_count": 123,
     "metadata": {},
     "output_type": "execute_result"
    }
   ],
   "source": [
    "dCdxi"
   ]
  },
  {
   "cell_type": "code",
   "execution_count": 124,
   "id": "2fa8dd7c",
   "metadata": {},
   "outputs": [
    {
     "data": {
      "text/latex": [
       "$\\displaystyle \\frac{2 \\left(- l_{c} + \\sqrt{\\left(x_{i} - x_{j}\\right)^{2} + \\left(y_{i} - y_{j}\\right)^{2}}\\right) \\left(- x_{i} + x_{j}\\right)}{\\sqrt{\\left(x_{i} - x_{j}\\right)^{2} + \\left(y_{i} - y_{j}\\right)^{2}}}$"
      ],
      "text/plain": [
       "  ⎛          ___________________________⎞            \n",
       "  ⎜         ╱           2             2 ⎟            \n",
       "2⋅⎝-l_c + ╲╱  (xᵢ - x_j)  + (yᵢ - y_j)  ⎠⋅(-xᵢ + x_j)\n",
       "─────────────────────────────────────────────────────\n",
       "               ___________________________           \n",
       "              ╱           2             2            \n",
       "            ╲╱  (xᵢ - x_j)  + (yᵢ - y_j)             "
      ]
     },
     "execution_count": 124,
     "metadata": {},
     "output_type": "execute_result"
    }
   ],
   "source": [
    "dCdxj"
   ]
  },
  {
   "cell_type": "code",
   "execution_count": 125,
   "id": "5f57e807",
   "metadata": {},
   "outputs": [
    {
     "data": {
      "text/latex": [
       "$\\displaystyle \\frac{2 \\left(- l_{c} + \\sqrt{\\left(x_{i} - x_{j}\\right)^{2} + \\left(y_{i} - y_{j}\\right)^{2}}\\right) \\left(- x_{i} + x_{j}\\right) \\left(x_{i} - x_{j}\\right)}{\\left(\\left(x_{i} - x_{j}\\right)^{2} + \\left(y_{i} - y_{j}\\right)^{2}\\right)^{\\frac{3}{2}}} + \\frac{2 \\left(- l_{c} + \\sqrt{\\left(x_{i} - x_{j}\\right)^{2} + \\left(y_{i} - y_{j}\\right)^{2}}\\right)}{\\sqrt{\\left(x_{i} - x_{j}\\right)^{2} + \\left(y_{i} - y_{j}\\right)^{2}}} + \\frac{2 \\left(x_{i} - x_{j}\\right)^{2}}{\\left(x_{i} - x_{j}\\right)^{2} + \\left(y_{i} - y_{j}\\right)^{2}}$"
      ],
      "text/plain": [
       "  ⎛          ___________________________⎞                            ⎛        \n",
       "  ⎜         ╱           2             2 ⎟                            ⎜        \n",
       "2⋅⎝-l_c + ╲╱  (xᵢ - x_j)  + (yᵢ - y_j)  ⎠⋅(-xᵢ + x_j)⋅(xᵢ - x_j)   2⋅⎝-l_c + ╲\n",
       "──────────────────────────────────────────────────────────────── + ───────────\n",
       "                                            3/2                             __\n",
       "                 ⎛          2             2⎞                               ╱  \n",
       "                 ⎝(xᵢ - x_j)  + (yᵢ - y_j) ⎠                             ╲╱  (\n",
       "\n",
       "  ___________________________⎞                            \n",
       " ╱           2             2 ⎟                     2      \n",
       "╱  (xᵢ - x_j)  + (yᵢ - y_j)  ⎠         2⋅(xᵢ - x_j)       \n",
       "────────────────────────────── + ─────────────────────────\n",
       "_________________________                  2             2\n",
       "         2             2         (xᵢ - x_j)  + (yᵢ - y_j) \n",
       "xᵢ - x_j)  + (yᵢ - y_j)                                   "
      ]
     },
     "execution_count": 125,
     "metadata": {},
     "output_type": "execute_result"
    }
   ],
   "source": [
    "d2Cdxidxi"
   ]
  },
  {
   "cell_type": "code",
   "execution_count": 126,
   "id": "efaaa880",
   "metadata": {},
   "outputs": [
    {
     "data": {
      "text/latex": [
       "$\\displaystyle \\frac{2 \\left(- l_{c} + \\sqrt{\\left(x_{i} - x_{j}\\right)^{2} + \\left(y_{i} - y_{j}\\right)^{2}}\\right) \\left(- x_{i} + x_{j}\\right) \\left(x_{i} - x_{j}\\right)}{\\left(\\left(x_{i} - x_{j}\\right)^{2} + \\left(y_{i} - y_{j}\\right)^{2}\\right)^{\\frac{3}{2}}} + \\frac{2 \\left(- l_{c} + \\sqrt{\\left(x_{i} - x_{j}\\right)^{2} + \\left(y_{i} - y_{j}\\right)^{2}}\\right)}{\\sqrt{\\left(x_{i} - x_{j}\\right)^{2} + \\left(y_{i} - y_{j}\\right)^{2}}} + \\frac{2 \\left(- x_{i} + x_{j}\\right)^{2}}{\\left(x_{i} - x_{j}\\right)^{2} + \\left(y_{i} - y_{j}\\right)^{2}}$"
      ],
      "text/plain": [
       "  ⎛          ___________________________⎞                            ⎛        \n",
       "  ⎜         ╱           2             2 ⎟                            ⎜        \n",
       "2⋅⎝-l_c + ╲╱  (xᵢ - x_j)  + (yᵢ - y_j)  ⎠⋅(-xᵢ + x_j)⋅(xᵢ - x_j)   2⋅⎝-l_c + ╲\n",
       "──────────────────────────────────────────────────────────────── + ───────────\n",
       "                                            3/2                             __\n",
       "                 ⎛          2             2⎞                               ╱  \n",
       "                 ⎝(xᵢ - x_j)  + (yᵢ - y_j) ⎠                             ╲╱  (\n",
       "\n",
       "  ___________________________⎞                            \n",
       " ╱           2             2 ⎟                      2     \n",
       "╱  (xᵢ - x_j)  + (yᵢ - y_j)  ⎠         2⋅(-xᵢ + x_j)      \n",
       "────────────────────────────── + ─────────────────────────\n",
       "_________________________                  2             2\n",
       "         2             2         (xᵢ - x_j)  + (yᵢ - y_j) \n",
       "xᵢ - x_j)  + (yᵢ - y_j)                                   "
      ]
     },
     "execution_count": 126,
     "metadata": {},
     "output_type": "execute_result"
    }
   ],
   "source": [
    "d2Cdxjdxj"
   ]
  },
  {
   "cell_type": "code",
   "execution_count": 853,
   "id": "d82c24d8",
   "metadata": {},
   "outputs": [
    {
     "data": {
      "text/latex": [
       "$\\displaystyle \\frac{2 \\left(- l_{c} + \\sqrt{\\left(x_{i} - x_{j}\\right)^{2} + \\left(y_{i} - y_{j}\\right)^{2}}\\right) \\left(x_{i} - x_{j}\\right) \\left(- y_{i} + y_{j}\\right)}{\\left(\\left(x_{i} - x_{j}\\right)^{2} + \\left(y_{i} - y_{j}\\right)^{2}\\right)^{\\frac{3}{2}}} + \\frac{2 \\left(x_{i} - x_{j}\\right) \\left(y_{i} - y_{j}\\right)}{\\left(x_{i} - x_{j}\\right)^{2} + \\left(y_{i} - y_{j}\\right)^{2}}$"
      ],
      "text/plain": [
       "  ⎛          ___________________________⎞                                     \n",
       "  ⎜         ╱           2             2 ⎟                                     \n",
       "2⋅⎝-l_c + ╲╱  (xᵢ - x_j)  + (yᵢ - y_j)  ⎠⋅(xᵢ - x_j)⋅(-yᵢ + y_j)    2⋅(xᵢ - x_\n",
       "──────────────────────────────────────────────────────────────── + ───────────\n",
       "                                            3/2                              2\n",
       "                 ⎛          2             2⎞                       (xᵢ - x_j) \n",
       "                 ⎝(xᵢ - x_j)  + (yᵢ - y_j) ⎠                                  \n",
       "\n",
       "              \n",
       "              \n",
       "j)⋅(yᵢ - y_j) \n",
       "──────────────\n",
       "             2\n",
       " + (yᵢ - y_j) \n",
       "              "
      ]
     },
     "execution_count": 853,
     "metadata": {},
     "output_type": "execute_result"
    }
   ],
   "source": [
    "d2Cdxidyi"
   ]
  },
  {
   "cell_type": "code",
   "execution_count": 855,
   "id": "68cd2c81",
   "metadata": {},
   "outputs": [
    {
     "data": {
      "text/latex": [
       "$\\displaystyle \\frac{2 \\left(- l_{c} + \\sqrt{\\left(x_{i} - x_{j}\\right)^{2} + \\left(y_{i} - y_{j}\\right)^{2}}\\right) \\left(x_{i} - x_{j}\\right) \\left(y_{i} - y_{j}\\right)}{\\left(\\left(x_{i} - x_{j}\\right)^{2} + \\left(y_{i} - y_{j}\\right)^{2}\\right)^{\\frac{3}{2}}} + \\frac{2 \\left(x_{i} - x_{j}\\right) \\left(- y_{i} + y_{j}\\right)}{\\left(x_{i} - x_{j}\\right)^{2} + \\left(y_{i} - y_{j}\\right)^{2}}$"
      ],
      "text/plain": [
       "  ⎛          ___________________________⎞                                     \n",
       "  ⎜         ╱           2             2 ⎟                                     \n",
       "2⋅⎝-l_c + ╲╱  (xᵢ - x_j)  + (yᵢ - y_j)  ⎠⋅(xᵢ - x_j)⋅(yᵢ - y_j)    2⋅(xᵢ - x_j\n",
       "─────────────────────────────────────────────────────────────── + ────────────\n",
       "                                            3/2                             2 \n",
       "                 ⎛          2             2⎞                      (xᵢ - x_j)  \n",
       "                 ⎝(xᵢ - x_j)  + (yᵢ - y_j) ⎠                                  \n",
       "\n",
       "             \n",
       "             \n",
       ")⋅(-yᵢ + y_j)\n",
       "─────────────\n",
       "            2\n",
       "+ (yᵢ - y_j) \n",
       "             "
      ]
     },
     "execution_count": 855,
     "metadata": {},
     "output_type": "execute_result"
    }
   ],
   "source": [
    "d2Cdxidyj"
   ]
  },
  {
   "cell_type": "code",
   "execution_count": 104,
   "id": "d98aafb8",
   "metadata": {},
   "outputs": [],
   "source": [
    "C = lambda e, l:(e - l)**2\n",
    "e = sym.symbols('l', cls=sym.Function)\n",
    "c = sym.symbols('C', cls=sym.Function)\n",
    "\n",
    "ex,ey,ez,l = sym.symbols('d_x,d_y,d_z,l_c')\n",
    "\n",
    "Cij = C(e(ex,ey,ez),l)\n",
    "#Cij = c(e(ex,ey,ez))\n",
    "\n",
    "Cij\n",
    "dCdx = sym.diff(Cij,ex)\n",
    "dCdy = sym.diff(Cij,ey)\n",
    "\n",
    "d2Cdxdx = sym.diff(dCdx,ex)\n",
    "d2Cdxdy = sym.diff(dCdx,ey)\n",
    "d2Cdxdz = sym.diff(dCdx,ez)\n",
    "d2Cdydx = sym.diff(dCdy,ex)\n",
    "\n",
    "x0,y0,z0,x1,y1,z1 = sym.symbols('x_0,y_0,z_0, x_1,y_1,z_1')\n",
    "lf = lambda ex, ey, ez :sym.sqrt((ex)**2 + (ey)**2 + (ez)**2)\n",
    "l = lf(ex,ey,ez)\n",
    "dldx = sym.Matrix([\n",
    "    sym.diff(l, ex),\n",
    "    sym.diff(l, ey),\n",
    "    sym.diff(l, ez),\n",
    "  ]).transpose()\n",
    "dl2dx02 = sym.diff(dldx[0],ex)\n",
    "dl2dx0y0 = sym.diff(dldx[0],ey)"
   ]
  },
  {
   "cell_type": "code",
   "execution_count": 105,
   "id": "b53a0d76",
   "metadata": {},
   "outputs": [
    {
     "data": {
      "text/latex": [
       "$\\displaystyle \\left[\\begin{matrix}\\frac{d_{x}}{\\sqrt{d_{x}^{2} + d_{y}^{2} + d_{z}^{2}}} & \\frac{d_{y}}{\\sqrt{d_{x}^{2} + d_{y}^{2} + d_{z}^{2}}} & \\frac{d_{z}}{\\sqrt{d_{x}^{2} + d_{y}^{2} + d_{z}^{2}}}\\end{matrix}\\right]$"
      ],
      "text/plain": [
       "⎡          dₓ                     d_y                     d_z          ⎤\n",
       "⎢──────────────────────  ──────────────────────  ──────────────────────⎥\n",
       "⎢   ___________________     ___________________     ___________________⎥\n",
       "⎢  ╱   2      2      2     ╱   2      2      2     ╱   2      2      2 ⎥\n",
       "⎣╲╱  dₓ  + d_y  + d_z    ╲╱  dₓ  + d_y  + d_z    ╲╱  dₓ  + d_y  + d_z  ⎦"
      ]
     },
     "execution_count": 105,
     "metadata": {},
     "output_type": "execute_result"
    }
   ],
   "source": [
    "dldx"
   ]
  },
  {
   "cell_type": "code",
   "execution_count": 108,
   "id": "07b16c77",
   "metadata": {},
   "outputs": [
    {
     "data": {
      "text/latex": [
       "$\\displaystyle \\left[\\begin{matrix}\\frac{d_{x}^{2}}{d_{x}^{2} + d_{y}^{2} + d_{z}^{2}} & \\frac{d_{x} d_{y}}{d_{x}^{2} + d_{y}^{2} + d_{z}^{2}} & \\frac{d_{x} d_{z}}{d_{x}^{2} + d_{y}^{2} + d_{z}^{2}}\\\\\\frac{d_{x} d_{y}}{d_{x}^{2} + d_{y}^{2} + d_{z}^{2}} & \\frac{d_{y}^{2}}{d_{x}^{2} + d_{y}^{2} + d_{z}^{2}} & \\frac{d_{y} d_{z}}{d_{x}^{2} + d_{y}^{2} + d_{z}^{2}}\\\\\\frac{d_{x} d_{z}}{d_{x}^{2} + d_{y}^{2} + d_{z}^{2}} & \\frac{d_{y} d_{z}}{d_{x}^{2} + d_{y}^{2} + d_{z}^{2}} & \\frac{d_{z}^{2}}{d_{x}^{2} + d_{y}^{2} + d_{z}^{2}}\\end{matrix}\\right]$"
      ],
      "text/plain": [
       "⎡         2                                             ⎤\n",
       "⎢       dₓ                dₓ⋅d_y             dₓ⋅d_z     ⎥\n",
       "⎢─────────────────  ─────────────────  ─────────────────⎥\n",
       "⎢  2      2      2    2      2      2    2      2      2⎥\n",
       "⎢dₓ  + d_y  + d_z   dₓ  + d_y  + d_z   dₓ  + d_y  + d_z ⎥\n",
       "⎢                                                       ⎥\n",
       "⎢                             2                         ⎥\n",
       "⎢      dₓ⋅d_y              d_y              d_y⋅d_z     ⎥\n",
       "⎢─────────────────  ─────────────────  ─────────────────⎥\n",
       "⎢  2      2      2    2      2      2    2      2      2⎥\n",
       "⎢dₓ  + d_y  + d_z   dₓ  + d_y  + d_z   dₓ  + d_y  + d_z ⎥\n",
       "⎢                                                       ⎥\n",
       "⎢                                                2      ⎥\n",
       "⎢      dₓ⋅d_z            d_y⋅d_z              d_z       ⎥\n",
       "⎢─────────────────  ─────────────────  ─────────────────⎥\n",
       "⎢  2      2      2    2      2      2    2      2      2⎥\n",
       "⎣dₓ  + d_y  + d_z   dₓ  + d_y  + d_z   dₓ  + d_y  + d_z ⎦"
      ]
     },
     "execution_count": 108,
     "metadata": {},
     "output_type": "execute_result"
    }
   ],
   "source": [
    "dldx.transpose() * dldx"
   ]
  },
  {
   "cell_type": "code",
   "execution_count": 109,
   "id": "4eea2674",
   "metadata": {},
   "outputs": [
    {
     "data": {
      "text/latex": [
       "$\\displaystyle - \\frac{d_{x}^{2}}{\\left(d_{x}^{2} + d_{y}^{2} + d_{z}^{2}\\right)^{\\frac{3}{2}}} + \\frac{1}{\\sqrt{d_{x}^{2} + d_{y}^{2} + d_{z}^{2}}}$"
      ],
      "text/plain": [
       "             2                                   \n",
       "           dₓ                        1           \n",
       "- ────────────────────── + ──────────────────────\n",
       "                     3/2      ___________________\n",
       "  ⎛  2      2      2⎞        ╱   2      2      2 \n",
       "  ⎝dₓ  + d_y  + d_z ⎠      ╲╱  dₓ  + d_y  + d_z  "
      ]
     },
     "execution_count": 109,
     "metadata": {},
     "output_type": "execute_result"
    }
   ],
   "source": [
    "dl2dx02\n"
   ]
  },
  {
   "cell_type": "code",
   "execution_count": 113,
   "id": "c6ea53e0",
   "metadata": {},
   "outputs": [
    {
     "data": {
      "text/latex": [
       "$\\displaystyle - \\frac{d_{x} d_{y}}{\\left(d_{x}^{2} + d_{y}^{2} + d_{z}^{2}\\right)^{\\frac{3}{2}}}$"
      ],
      "text/plain": [
       "       -dₓ⋅d_y        \n",
       "──────────────────────\n",
       "                   3/2\n",
       "⎛  2      2      2⎞   \n",
       "⎝dₓ  + d_y  + d_z ⎠   "
      ]
     },
     "execution_count": 113,
     "metadata": {},
     "output_type": "execute_result"
    }
   ],
   "source": [
    "dl2dx0y0\n"
   ]
  },
  {
   "cell_type": "code",
   "execution_count": 99,
   "id": "08e3d1e7",
   "metadata": {},
   "outputs": [
    {
     "data": {
      "text/latex": [
       "$\\displaystyle \\left(- l_{c} + l{\\left(d_{x},d_{y},d_{z} \\right)}\\right)^{2}$"
      ],
      "text/plain": [
       "                        2\n",
       "(-l_c + l(dₓ, d_y, d_z)) "
      ]
     },
     "execution_count": 99,
     "metadata": {},
     "output_type": "execute_result"
    }
   ],
   "source": [
    "Cij"
   ]
  },
  {
   "cell_type": "code",
   "execution_count": 100,
   "id": "5f52a6ef",
   "metadata": {},
   "outputs": [
    {
     "data": {
      "text/latex": [
       "$\\displaystyle 2 \\left(- l_{c} + l{\\left(d_{x},d_{y},d_{z} \\right)}\\right) \\frac{\\partial}{\\partial d_{x}} l{\\left(d_{x},d_{y},d_{z} \\right)}$"
      ],
      "text/plain": [
       "                            ∂                  \n",
       "2⋅(-l_c + l(dₓ, d_y, d_z))⋅───(l(dₓ, d_y, d_z))\n",
       "                           ∂dₓ                 "
      ]
     },
     "execution_count": 100,
     "metadata": {},
     "output_type": "execute_result"
    }
   ],
   "source": [
    "dCdx"
   ]
  },
  {
   "cell_type": "code",
   "execution_count": 101,
   "id": "41f0e4e1",
   "metadata": {},
   "outputs": [
    {
     "data": {
      "text/latex": [
       "$\\displaystyle \\left(- 2 l_{c} + 2 l{\\left(d_{x},d_{y},d_{z} \\right)}\\right) \\frac{\\partial^{2}}{\\partial d_{x}^{2}} l{\\left(d_{x},d_{y},d_{z} \\right)} + 2 \\left(\\frac{\\partial}{\\partial d_{x}} l{\\left(d_{x},d_{y},d_{z} \\right)}\\right)^{2}$"
      ],
      "text/plain": [
       "                               2                                             2\n",
       "                              ∂                        ⎛ ∂                  ⎞ \n",
       "(-2⋅l_c + 2⋅l(dₓ, d_y, d_z))⋅────(l(dₓ, d_y, d_z)) + 2⋅⎜───(l(dₓ, d_y, d_z))⎟ \n",
       "                                2                      ⎝∂dₓ                 ⎠ \n",
       "                             ∂dₓ                                              "
      ]
     },
     "execution_count": 101,
     "metadata": {},
     "output_type": "execute_result"
    }
   ],
   "source": [
    "d2Cdxdx"
   ]
  },
  {
   "cell_type": "code",
   "execution_count": 102,
   "id": "6d930a86",
   "metadata": {},
   "outputs": [
    {
     "data": {
      "text/latex": [
       "$\\displaystyle \\left(- 2 l_{c} + 2 l{\\left(d_{x},d_{y},d_{z} \\right)}\\right) \\frac{\\partial^{2}}{\\partial d_{y}\\partial d_{x}} l{\\left(d_{x},d_{y},d_{z} \\right)} + 2 \\frac{\\partial}{\\partial d_{x}} l{\\left(d_{x},d_{y},d_{z} \\right)} \\frac{\\partial}{\\partial d_{y}} l{\\left(d_{x},d_{y},d_{z} \\right)}$"
      ],
      "text/plain": [
       "                                 2                                            \n",
       "                                ∂                           ∂                 \n",
       "(-2⋅l_c + 2⋅l(dₓ, d_y, d_z))⋅────────(l(dₓ, d_y, d_z)) + 2⋅───(l(dₓ, d_y, d_z)\n",
       "                             ∂d_y ∂dₓ                      ∂dₓ                \n",
       "\n",
       "                       \n",
       "   ∂                   \n",
       ")⋅────(l(dₓ, d_y, d_z))\n",
       "  ∂d_y                 "
      ]
     },
     "execution_count": 102,
     "metadata": {},
     "output_type": "execute_result"
    }
   ],
   "source": [
    "d2Cdxdy"
   ]
  },
  {
   "cell_type": "code",
   "execution_count": 103,
   "id": "27086ad3",
   "metadata": {},
   "outputs": [
    {
     "data": {
      "text/latex": [
       "$\\displaystyle \\left(- 2 l_{c} + 2 l{\\left(d_{x},d_{y},d_{z} \\right)}\\right) \\frac{\\partial^{2}}{\\partial d_{z}\\partial d_{x}} l{\\left(d_{x},d_{y},d_{z} \\right)} + 2 \\frac{\\partial}{\\partial d_{x}} l{\\left(d_{x},d_{y},d_{z} \\right)} \\frac{\\partial}{\\partial d_{z}} l{\\left(d_{x},d_{y},d_{z} \\right)}$"
      ],
      "text/plain": [
       "                                 2                                            \n",
       "                                ∂                           ∂                 \n",
       "(-2⋅l_c + 2⋅l(dₓ, d_y, d_z))⋅────────(l(dₓ, d_y, d_z)) + 2⋅───(l(dₓ, d_y, d_z)\n",
       "                             ∂d_z ∂dₓ                      ∂dₓ                \n",
       "\n",
       "                       \n",
       "   ∂                   \n",
       ")⋅────(l(dₓ, d_y, d_z))\n",
       "  ∂d_z                 "
      ]
     },
     "execution_count": 103,
     "metadata": {},
     "output_type": "execute_result"
    }
   ],
   "source": [
    "d2Cdxdz"
   ]
  },
  {
   "cell_type": "code",
   "execution_count": 6,
   "id": "b4da6451",
   "metadata": {},
   "outputs": [
    {
     "data": {
      "text/latex": [
       "$\\displaystyle \\left(- 2 k + 2 X{\\left(x \\right)}\\right) \\frac{d^{2}}{d x^{2}} X{\\left(x \\right)} + 2 \\left(\\frac{d}{d x} X{\\left(x \\right)}\\right)^{2}$"
      ],
      "text/plain": [
       "                  2                     2\n",
       "                 d            ⎛d       ⎞ \n",
       "(-2⋅k + 2⋅X(x))⋅───(X(x)) + 2⋅⎜──(X(x))⎟ \n",
       "                  2           ⎝dx      ⎠ \n",
       "                dx                       "
      ]
     },
     "execution_count": 6,
     "metadata": {},
     "output_type": "execute_result"
    }
   ],
   "source": [
    "X = sym.symbols('X', cls=sym.Function)\n",
    "\n",
    "x, k = sym.symbols('x, k')\n",
    "\n",
    "C = (X(x) - k)**2\n",
    "dCdx = sym.diff(C, x)\n",
    "d2Cdx = sym.diff(dCdx, x)\n",
    "d2Cdx"
   ]
  },
  {
   "cell_type": "code",
   "execution_count": 7,
   "id": "6b5d5a90",
   "metadata": {},
   "outputs": [],
   "source": [
    "import sympy as sym\n",
    "from sympy import init_printing,latex,symbols\n",
    "\n",
    "init_printing()"
   ]
  },
  {
   "cell_type": "code",
   "execution_count": 8,
   "id": "73418e78",
   "metadata": {},
   "outputs": [],
   "source": [
    "cross_ratio = lambda l_il,l_jk,l_lj,l_ki: l_il * l_jk / l_lj / l_ki\n",
    "l = sym.symbols('l', cls=sym.Function)\n",
    "c = sym.symbols('C', cls=sym.Function)\n",
    "k = sym.symbols('k')\n",
    "\n",
    "xi, xj, xk, xl = sym.symbols('X_i,X_j,X_k,X_l')\n",
    "\n",
    "lil = l(xi, xl)\n",
    "ljk = l(xj, xk)\n",
    "llj = l(xl, xj)\n",
    "lki = l(xk, xi)\n",
    "\n",
    "Cij = cross_ratio(lil, ljk, llj,lki)\n",
    "#Cij = c(e(ex,ey,ez))\n",
    "\n",
    "Cij = (Cij - k)**2\n",
    "dCdxi = sym.diff(Cij, xi)\n",
    "dCdxj = sym.diff(Cij, xj)\n",
    "dCdxk = sym.diff(Cij, xk)\n",
    "dCdxl = sym.diff(Cij, xl)\n",
    "\n",
    "d2Cdidi = sym.diff(dCdxi, xi)\n",
    "d2Cdidj = sym.diff(dCdxi, xj)\n",
    "d2Cdidk = sym.diff(dCdxi, xj)\n",
    "d2Cdidl = sym.diff(dCdxi, xl)\n",
    "\n"
   ]
  },
  {
   "cell_type": "code",
   "execution_count": 9,
   "id": "b52f178d",
   "metadata": {},
   "outputs": [
    {
     "data": {
      "text/latex": [
       "$\\displaystyle \\left(- k + \\frac{l{\\left(X_{i},X_{l} \\right)} l{\\left(X_{j},X_{k} \\right)}}{l{\\left(X_{k},X_{i} \\right)} l{\\left(X_{l},X_{j} \\right)}}\\right)^{2}$"
      ],
      "text/plain": [
       "                           2\n",
       "⎛     l(Xᵢ, Xₗ)⋅l(X_j, Xₖ)⎞ \n",
       "⎜-k + ────────────────────⎟ \n",
       "⎝     l(Xₖ, Xᵢ)⋅l(Xₗ, X_j)⎠ "
      ]
     },
     "execution_count": 9,
     "metadata": {},
     "output_type": "execute_result"
    }
   ],
   "source": [
    "Cij"
   ]
  },
  {
   "cell_type": "code",
   "execution_count": 55,
   "id": "fc660c88",
   "metadata": {},
   "outputs": [
    {
     "data": {
      "text/latex": [
       "$\\displaystyle \\left(- k + \\frac{l{\\left(X_{i},X_{l} \\right)} l{\\left(X_{j},X_{k} \\right)}}{l{\\left(X_{k},X_{i} \\right)} l{\\left(X_{l},X_{j} \\right)}}\\right) \\left(- \\frac{2 l{\\left(X_{i},X_{l} \\right)} l{\\left(X_{j},X_{k} \\right)} \\frac{\\partial}{\\partial X_{i}} l{\\left(X_{k},X_{i} \\right)}}{l^{2}{\\left(X_{k},X_{i} \\right)} l{\\left(X_{l},X_{j} \\right)}} + \\frac{2 l{\\left(X_{j},X_{k} \\right)} \\frac{\\partial}{\\partial X_{i}} l{\\left(X_{i},X_{l} \\right)}}{l{\\left(X_{k},X_{i} \\right)} l{\\left(X_{l},X_{j} \\right)}}\\right)$"
      ],
      "text/plain": [
       "                            ⎛                          ∂                      \n",
       "                            ⎜  2⋅l(Xᵢ, Xₗ)⋅l(X_j, Xₖ)⋅───(l(Xₖ, Xᵢ))   2⋅l(X_j\n",
       "⎛     l(Xᵢ, Xₗ)⋅l(X_j, Xₖ)⎞ ⎜                         ∂Xᵢ                     \n",
       "⎜-k + ────────────────────⎟⋅⎜- ───────────────────────────────────── + ───────\n",
       "⎝     l(Xₖ, Xᵢ)⋅l(Xₗ, X_j)⎠ ⎜           2                                  l(X\n",
       "                            ⎝          l (Xₖ, Xᵢ)⋅l(Xₗ, X_j)                  \n",
       "\n",
       "       ∂            ⎞\n",
       ", Xₖ)⋅───(l(Xᵢ, Xₗ))⎟\n",
       "      ∂Xᵢ           ⎟\n",
       "────────────────────⎟\n",
       "ₖ, Xᵢ)⋅l(Xₗ, X_j)   ⎟\n",
       "                    ⎠"
      ]
     },
     "execution_count": 55,
     "metadata": {},
     "output_type": "execute_result"
    }
   ],
   "source": [
    "dCdxi"
   ]
  },
  {
   "cell_type": "code",
   "execution_count": 10,
   "id": "f6274116",
   "metadata": {},
   "outputs": [],
   "source": [
    "d2Cdidi = sym.diff(dCdxi, xi)\n",
    "d2Cdidj = sym.diff(dCdxi, xj)\n",
    "d2Cdidk = sym.diff(dCdxi, xj)\n",
    "d2Cdidl = sym.diff(dCdxi, xl)"
   ]
  },
  {
   "cell_type": "code",
   "execution_count": 36,
   "id": "a4b9686c",
   "metadata": {},
   "outputs": [
    {
     "data": {
      "text/latex": [
       "$\\displaystyle - \\frac{2 k \\left(- X_{i} + X_{k}\\right) l{\\left(X_{i},X_{l} \\right)} l{\\left(X_{j},X_{k} \\right)} \\frac{\\partial}{\\partial X_{i}} l{\\left(X_{k},X_{i} \\right)}}{l^{3}{\\left(X_{k},X_{i} \\right)} l{\\left(X_{l},X_{j} \\right)}} + \\frac{k \\left(- X_{i} + X_{k}\\right) l{\\left(X_{j},X_{k} \\right)} \\frac{\\partial}{\\partial X_{i}} l{\\left(X_{i},X_{l} \\right)}}{l^{2}{\\left(X_{k},X_{i} \\right)} l{\\left(X_{l},X_{j} \\right)}} - \\frac{k \\left(X_{i} - X_{l}\\right) l{\\left(X_{j},X_{k} \\right)} \\frac{\\partial}{\\partial X_{i}} l{\\left(X_{k},X_{i} \\right)}}{l^{2}{\\left(X_{k},X_{i} \\right)} l{\\left(X_{l},X_{j} \\right)}} - \\frac{k l{\\left(X_{i},X_{l} \\right)} l{\\left(X_{j},X_{k} \\right)}}{l^{2}{\\left(X_{k},X_{i} \\right)} l{\\left(X_{l},X_{j} \\right)}} + \\frac{k l{\\left(X_{j},X_{k} \\right)}}{l{\\left(X_{k},X_{i} \\right)} l{\\left(X_{l},X_{j} \\right)}}$"
      ],
      "text/plain": [
       "                                       ∂                                      \n",
       "  2⋅k⋅(-Xᵢ + Xₖ)⋅l(Xᵢ, Xₗ)⋅l(X_j, Xₖ)⋅───(l(Xₖ, Xᵢ))   k⋅(-Xᵢ + Xₖ)⋅l(X_j, Xₖ)\n",
       "                                      ∂Xᵢ                                     \n",
       "- ────────────────────────────────────────────────── + ───────────────────────\n",
       "                 3                                              2             \n",
       "                l (Xₖ, Xᵢ)⋅l(Xₗ, X_j)                          l (Xₖ, Xᵢ)⋅l(Xₗ\n",
       "\n",
       "  ∂                                       ∂                                   \n",
       "⋅───(l(Xᵢ, Xₗ))   k⋅(Xᵢ - Xₗ)⋅l(X_j, Xₖ)⋅───(l(Xₖ, Xᵢ))                       \n",
       " ∂Xᵢ                                     ∂Xᵢ              k⋅l(Xᵢ, Xₗ)⋅l(X_j, X\n",
       "─────────────── - ───────────────────────────────────── - ────────────────────\n",
       "                           2                               2                  \n",
       ", X_j)                    l (Xₖ, Xᵢ)⋅l(Xₗ, X_j)           l (Xₖ, Xᵢ)⋅l(Xₗ, X_j\n",
       "\n",
       "                         \n",
       "                         \n",
       "ₖ)       k⋅l(X_j, Xₖ)    \n",
       "── + ────────────────────\n",
       "     l(Xₖ, Xᵢ)⋅l(Xₗ, X_j)\n",
       ")                        "
      ]
     },
     "execution_count": 36,
     "metadata": {},
     "output_type": "execute_result"
    }
   ],
   "source": [
    "d2Cdidi"
   ]
  },
  {
   "cell_type": "code",
   "execution_count": 37,
   "id": "e07f917c",
   "metadata": {},
   "outputs": [
    {
     "data": {
      "text/latex": [
       "$\\displaystyle - \\frac{k \\left(- X_{i} + X_{k}\\right) l{\\left(X_{i},X_{l} \\right)} l{\\left(X_{j},X_{k} \\right)} \\frac{\\partial}{\\partial X_{j}} l{\\left(X_{l},X_{j} \\right)}}{l^{2}{\\left(X_{k},X_{i} \\right)} l^{2}{\\left(X_{l},X_{j} \\right)}} + \\frac{k \\left(- X_{i} + X_{k}\\right) l{\\left(X_{i},X_{l} \\right)} \\frac{\\partial}{\\partial X_{j}} l{\\left(X_{j},X_{k} \\right)}}{l^{2}{\\left(X_{k},X_{i} \\right)} l{\\left(X_{l},X_{j} \\right)}} - \\frac{k \\left(X_{i} - X_{l}\\right) l{\\left(X_{j},X_{k} \\right)} \\frac{\\partial}{\\partial X_{j}} l{\\left(X_{l},X_{j} \\right)}}{l{\\left(X_{k},X_{i} \\right)} l^{2}{\\left(X_{l},X_{j} \\right)}} + \\frac{k \\left(X_{i} - X_{l}\\right) \\frac{\\partial}{\\partial X_{j}} l{\\left(X_{j},X_{k} \\right)}}{l{\\left(X_{k},X_{i} \\right)} l{\\left(X_{l},X_{j} \\right)}}$"
      ],
      "text/plain": [
       "                                     ∂                                        \n",
       "  k⋅(-Xᵢ + Xₖ)⋅l(Xᵢ, Xₗ)⋅l(X_j, Xₖ)⋅────(l(Xₗ, X_j))   k⋅(-Xᵢ + Xₖ)⋅l(Xᵢ, Xₗ)⋅\n",
       "                                    ∂X_j                                      \n",
       "- ────────────────────────────────────────────────── + ───────────────────────\n",
       "                 2          2                                    2            \n",
       "                l (Xₖ, Xᵢ)⋅l (Xₗ, X_j)                          l (Xₖ, Xᵢ)⋅l(X\n",
       "\n",
       " ∂                                         ∂                              ∂   \n",
       "────(l(X_j, Xₖ))   k⋅(Xᵢ - Xₗ)⋅l(X_j, Xₖ)⋅────(l(Xₗ, X_j))   k⋅(Xᵢ - Xₗ)⋅────(\n",
       "∂X_j                                      ∂X_j                           ∂X_j \n",
       "──────────────── - ─────────────────────────────────────── + ─────────────────\n",
       "                                       2                         l(Xₖ, Xᵢ)⋅l(X\n",
       "ₗ, X_j)                     l(Xₖ, Xᵢ)⋅l (Xₗ, X_j)                             \n",
       "\n",
       "           \n",
       "l(X_j, Xₖ))\n",
       "           \n",
       "───────────\n",
       "ₗ, X_j)    \n",
       "           "
      ]
     },
     "execution_count": 37,
     "metadata": {},
     "output_type": "execute_result"
    }
   ],
   "source": [
    "d2Cdidj"
   ]
  },
  {
   "cell_type": "code",
   "execution_count": 38,
   "id": "882c3b8b",
   "metadata": {},
   "outputs": [
    {
     "data": {
      "text/latex": [
       "$\\displaystyle - \\frac{k \\left(- X_{i} + X_{k}\\right) l{\\left(X_{i},X_{l} \\right)} l{\\left(X_{j},X_{k} \\right)} \\frac{\\partial}{\\partial X_{j}} l{\\left(X_{l},X_{j} \\right)}}{l^{2}{\\left(X_{k},X_{i} \\right)} l^{2}{\\left(X_{l},X_{j} \\right)}} + \\frac{k \\left(- X_{i} + X_{k}\\right) l{\\left(X_{i},X_{l} \\right)} \\frac{\\partial}{\\partial X_{j}} l{\\left(X_{j},X_{k} \\right)}}{l^{2}{\\left(X_{k},X_{i} \\right)} l{\\left(X_{l},X_{j} \\right)}} - \\frac{k \\left(X_{i} - X_{l}\\right) l{\\left(X_{j},X_{k} \\right)} \\frac{\\partial}{\\partial X_{j}} l{\\left(X_{l},X_{j} \\right)}}{l{\\left(X_{k},X_{i} \\right)} l^{2}{\\left(X_{l},X_{j} \\right)}} + \\frac{k \\left(X_{i} - X_{l}\\right) \\frac{\\partial}{\\partial X_{j}} l{\\left(X_{j},X_{k} \\right)}}{l{\\left(X_{k},X_{i} \\right)} l{\\left(X_{l},X_{j} \\right)}}$"
      ],
      "text/plain": [
       "                                     ∂                                        \n",
       "  k⋅(-Xᵢ + Xₖ)⋅l(Xᵢ, Xₗ)⋅l(X_j, Xₖ)⋅────(l(Xₗ, X_j))   k⋅(-Xᵢ + Xₖ)⋅l(Xᵢ, Xₗ)⋅\n",
       "                                    ∂X_j                                      \n",
       "- ────────────────────────────────────────────────── + ───────────────────────\n",
       "                 2          2                                    2            \n",
       "                l (Xₖ, Xᵢ)⋅l (Xₗ, X_j)                          l (Xₖ, Xᵢ)⋅l(X\n",
       "\n",
       " ∂                                         ∂                              ∂   \n",
       "────(l(X_j, Xₖ))   k⋅(Xᵢ - Xₗ)⋅l(X_j, Xₖ)⋅────(l(Xₗ, X_j))   k⋅(Xᵢ - Xₗ)⋅────(\n",
       "∂X_j                                      ∂X_j                           ∂X_j \n",
       "──────────────── - ─────────────────────────────────────── + ─────────────────\n",
       "                                       2                         l(Xₖ, Xᵢ)⋅l(X\n",
       "ₗ, X_j)                     l(Xₖ, Xᵢ)⋅l (Xₗ, X_j)                             \n",
       "\n",
       "           \n",
       "l(X_j, Xₖ))\n",
       "           \n",
       "───────────\n",
       "ₗ, X_j)    \n",
       "           "
      ]
     },
     "execution_count": 38,
     "metadata": {},
     "output_type": "execute_result"
    }
   ],
   "source": [
    "d2Cdidk"
   ]
  },
  {
   "cell_type": "code",
   "execution_count": 39,
   "id": "2db21763",
   "metadata": {},
   "outputs": [
    {
     "data": {
      "text/latex": [
       "$\\displaystyle - \\frac{k \\left(- X_{i} + X_{k}\\right) l{\\left(X_{i},X_{l} \\right)} l{\\left(X_{j},X_{k} \\right)} \\frac{\\partial}{\\partial X_{l}} l{\\left(X_{l},X_{j} \\right)}}{l^{2}{\\left(X_{k},X_{i} \\right)} l^{2}{\\left(X_{l},X_{j} \\right)}} + \\frac{k \\left(- X_{i} + X_{k}\\right) l{\\left(X_{j},X_{k} \\right)} \\frac{\\partial}{\\partial X_{l}} l{\\left(X_{i},X_{l} \\right)}}{l^{2}{\\left(X_{k},X_{i} \\right)} l{\\left(X_{l},X_{j} \\right)}} - \\frac{k \\left(X_{i} - X_{l}\\right) l{\\left(X_{j},X_{k} \\right)} \\frac{\\partial}{\\partial X_{l}} l{\\left(X_{l},X_{j} \\right)}}{l{\\left(X_{k},X_{i} \\right)} l^{2}{\\left(X_{l},X_{j} \\right)}} - \\frac{k l{\\left(X_{j},X_{k} \\right)}}{l{\\left(X_{k},X_{i} \\right)} l{\\left(X_{l},X_{j} \\right)}}$"
      ],
      "text/plain": [
       "                                     ∂                                        \n",
       "  k⋅(-Xᵢ + Xₖ)⋅l(Xᵢ, Xₗ)⋅l(X_j, Xₖ)⋅───(l(Xₗ, X_j))   k⋅(-Xᵢ + Xₖ)⋅l(X_j, Xₖ)⋅\n",
       "                                    ∂Xₗ                                       \n",
       "- ───────────────────────────────────────────────── + ────────────────────────\n",
       "                 2          2                                  2              \n",
       "                l (Xₖ, Xᵢ)⋅l (Xₗ, X_j)                        l (Xₖ, Xᵢ)⋅l(Xₗ,\n",
       "\n",
       " ∂                                       ∂                                    \n",
       "───(l(Xᵢ, Xₗ))   k⋅(Xᵢ - Xₗ)⋅l(X_j, Xₖ)⋅───(l(Xₗ, X_j))                       \n",
       "∂Xₗ                                     ∂Xₗ                   k⋅l(X_j, Xₖ)    \n",
       "────────────── - ────────────────────────────────────── - ────────────────────\n",
       "                                    2                     l(Xₖ, Xᵢ)⋅l(Xₗ, X_j)\n",
       " X_j)                    l(Xₖ, Xᵢ)⋅l (Xₗ, X_j)                                "
      ]
     },
     "execution_count": 39,
     "metadata": {},
     "output_type": "execute_result"
    }
   ],
   "source": [
    "\n",
    "d2Cdidl"
   ]
  },
  {
   "cell_type": "code",
   "execution_count": 26,
   "id": "24dfc919",
   "metadata": {},
   "outputs": [
    {
     "data": {
      "text/latex": [
       "$\\displaystyle \\frac{k l{\\left(X_{i},X_{l} \\right)} l{\\left(X_{j},X_{k} \\right)} \\frac{\\partial}{\\partial X_{k}} l{\\left(X_{k},X_{i} \\right)} \\frac{\\partial}{\\partial X_{j}} l{\\left(X_{l},X_{j} \\right)}}{l^{2}{\\left(X_{k},X_{i} \\right)} l^{2}{\\left(X_{l},X_{j} \\right)}} + \\frac{k l{\\left(X_{i},X_{l} \\right)} \\frac{\\partial^{2}}{\\partial X_{k}\\partial X_{j}} l{\\left(X_{j},X_{k} \\right)}}{l{\\left(X_{k},X_{i} \\right)} l{\\left(X_{l},X_{j} \\right)}} - \\frac{k l{\\left(X_{i},X_{l} \\right)} \\frac{\\partial}{\\partial X_{k}} l{\\left(X_{j},X_{k} \\right)} \\frac{\\partial}{\\partial X_{j}} l{\\left(X_{l},X_{j} \\right)}}{l{\\left(X_{k},X_{i} \\right)} l^{2}{\\left(X_{l},X_{j} \\right)}} - \\frac{k l{\\left(X_{i},X_{l} \\right)} \\frac{\\partial}{\\partial X_{j}} l{\\left(X_{j},X_{k} \\right)} \\frac{\\partial}{\\partial X_{k}} l{\\left(X_{k},X_{i} \\right)}}{l^{2}{\\left(X_{k},X_{i} \\right)} l{\\left(X_{l},X_{j} \\right)}}$"
      ],
      "text/plain": [
       "                                                                         2    \n",
       "                        ∂              ∂                                ∂     \n",
       "k⋅l(Xᵢ, Xₗ)⋅l(X_j, Xₖ)⋅───(l(Xₖ, Xᵢ))⋅────(l(Xₗ, X_j))   k⋅l(Xᵢ, Xₗ)⋅────────(\n",
       "                       ∂Xₖ            ∂X_j                           ∂Xₖ ∂X_j \n",
       "────────────────────────────────────────────────────── + ─────────────────────\n",
       "                 2          2                                  l(Xₖ, Xᵢ)⋅l(Xₗ,\n",
       "                l (Xₖ, Xᵢ)⋅l (Xₗ, X_j)                                        \n",
       "\n",
       "                                                                              \n",
       "                           ∂               ∂                              ∂   \n",
       "l(X_j, Xₖ))   k⋅l(Xᵢ, Xₗ)⋅───(l(X_j, Xₖ))⋅────(l(Xₗ, X_j))   k⋅l(Xᵢ, Xₗ)⋅────(\n",
       "                          ∂Xₖ             ∂X_j                           ∂X_j \n",
       "─────────── - ──────────────────────────────────────────── - ─────────────────\n",
       " X_j)                               2                                    2    \n",
       "                         l(Xₖ, Xᵢ)⋅l (Xₗ, X_j)                          l (Xₖ,\n",
       "\n",
       "                          \n",
       "             ∂            \n",
       "l(X_j, Xₖ))⋅───(l(Xₖ, Xᵢ))\n",
       "            ∂Xₖ           \n",
       "──────────────────────────\n",
       "                          \n",
       " Xᵢ)⋅l(Xₗ, X_j)           "
      ]
     },
     "execution_count": 26,
     "metadata": {},
     "output_type": "execute_result"
    }
   ],
   "source": [
    "d2Cdkdj"
   ]
  },
  {
   "cell_type": "code",
   "execution_count": 52,
   "id": "dfdedeea",
   "metadata": {},
   "outputs": [
    {
     "data": {
      "text/latex": [
       "$\\displaystyle \\frac{2 X_{i}^{2}}{\\left(X_{i}^{2} + X_{j}^{2}\\right)^{2}} - \\frac{1}{X_{i}^{2} + X_{j}^{2}}$"
      ],
      "text/plain": [
       "        2                 \n",
       "    2⋅Xᵢ            1     \n",
       "───────────── - ──────────\n",
       "            2     2      2\n",
       "⎛  2      2⎞    Xᵢ  + X_j \n",
       "⎝Xᵢ  + X_j ⎠              "
      ]
     },
     "execution_count": 52,
     "metadata": {},
     "output_type": "execute_result"
    }
   ],
   "source": [
    "xi, xj, xk, xl = sym.symbols('X_i,X_j,X_k,X_l')\n",
    "#foo = sym.log(1.0 / sym.sqrt(xi * xi + xj * xj))\n",
    "#bar = sym.diff(foo, xi)\n",
    "foo = -xi / (xi * xi + xj * xj)\n",
    "bar = sym.diff(foo, xi)\n",
    "foo\n",
    "bar"
   ]
  },
  {
   "cell_type": "code",
   "execution_count": 872,
   "id": "71024cbd",
   "metadata": {},
   "outputs": [],
   "source": [
    "#v = [x0,y0,x1,y1,x2, y2, k0, k1, k2];\n",
    "v = [x0,y0,x1,y1,x2, y2];\n"
   ]
  },
  {
   "cell_type": "code",
   "execution_count": 811,
   "id": "3c7c0489",
   "metadata": {},
   "outputs": [],
   "source": [
    "gradient = lambda f, v: sym.Matrix([f]).jacobian(v)\n",
    "G = gradient(E, v)"
   ]
  },
  {
   "cell_type": "code",
   "execution_count": 812,
   "id": "b2931089",
   "metadata": {},
   "outputs": [
    {
     "data": {
      "text/latex": [
       "$\\displaystyle \\left[\\begin{matrix}\\frac{2.0 \\left(- l_{1} + \\sqrt{\\left(x_{0} - x_{2}\\right)^{2} + \\left(y_{0} - y_{2}\\right)^{2}}\\right) \\left(x_{0} - x_{2}\\right)}{\\sqrt{\\left(x_{0} - x_{2}\\right)^{2} + \\left(y_{0} - y_{2}\\right)^{2}}} + \\frac{2.0 \\left(- l_{2} + \\sqrt{\\left(- x_{0} + x_{1}\\right)^{2} + \\left(- y_{0} + y_{1}\\right)^{2}}\\right) \\left(x_{0} - x_{1}\\right)}{\\sqrt{\\left(- x_{0} + x_{1}\\right)^{2} + \\left(- y_{0} + y_{1}\\right)^{2}}} & \\frac{2.0 \\left(- l_{1} + \\sqrt{\\left(x_{0} - x_{2}\\right)^{2} + \\left(y_{0} - y_{2}\\right)^{2}}\\right) \\left(y_{0} - y_{2}\\right)}{\\sqrt{\\left(x_{0} - x_{2}\\right)^{2} + \\left(y_{0} - y_{2}\\right)^{2}}} + \\frac{2.0 \\left(- l_{2} + \\sqrt{\\left(- x_{0} + x_{1}\\right)^{2} + \\left(- y_{0} + y_{1}\\right)^{2}}\\right) \\left(y_{0} - y_{1}\\right)}{\\sqrt{\\left(- x_{0} + x_{1}\\right)^{2} + \\left(- y_{0} + y_{1}\\right)^{2}}} & \\frac{2.0 \\left(- l_{0} + \\sqrt{\\left(- x_{1} + x_{2}\\right)^{2} + \\left(- y_{1} + y_{2}\\right)^{2}}\\right) \\left(x_{1} - x_{2}\\right)}{\\sqrt{\\left(- x_{1} + x_{2}\\right)^{2} + \\left(- y_{1} + y_{2}\\right)^{2}}} + \\frac{2.0 \\left(- l_{2} + \\sqrt{\\left(- x_{0} + x_{1}\\right)^{2} + \\left(- y_{0} + y_{1}\\right)^{2}}\\right) \\left(- x_{0} + x_{1}\\right)}{\\sqrt{\\left(- x_{0} + x_{1}\\right)^{2} + \\left(- y_{0} + y_{1}\\right)^{2}}} & \\frac{2.0 \\left(- l_{0} + \\sqrt{\\left(- x_{1} + x_{2}\\right)^{2} + \\left(- y_{1} + y_{2}\\right)^{2}}\\right) \\left(y_{1} - y_{2}\\right)}{\\sqrt{\\left(- x_{1} + x_{2}\\right)^{2} + \\left(- y_{1} + y_{2}\\right)^{2}}} + \\frac{2.0 \\left(- l_{2} + \\sqrt{\\left(- x_{0} + x_{1}\\right)^{2} + \\left(- y_{0} + y_{1}\\right)^{2}}\\right) \\left(- y_{0} + y_{1}\\right)}{\\sqrt{\\left(- x_{0} + x_{1}\\right)^{2} + \\left(- y_{0} + y_{1}\\right)^{2}}} & \\frac{2.0 \\left(- l_{0} + \\sqrt{\\left(- x_{1} + x_{2}\\right)^{2} + \\left(- y_{1} + y_{2}\\right)^{2}}\\right) \\left(- x_{1} + x_{2}\\right)}{\\sqrt{\\left(- x_{1} + x_{2}\\right)^{2} + \\left(- y_{1} + y_{2}\\right)^{2}}} + \\frac{2.0 \\left(- l_{1} + \\sqrt{\\left(x_{0} - x_{2}\\right)^{2} + \\left(y_{0} - y_{2}\\right)^{2}}\\right) \\left(- x_{0} + x_{2}\\right)}{\\sqrt{\\left(x_{0} - x_{2}\\right)^{2} + \\left(y_{0} - y_{2}\\right)^{2}}} & \\frac{2.0 \\left(- l_{0} + \\sqrt{\\left(- x_{1} + x_{2}\\right)^{2} + \\left(- y_{1} + y_{2}\\right)^{2}}\\right) \\left(- y_{1} + y_{2}\\right)}{\\sqrt{\\left(- x_{1} + x_{2}\\right)^{2} + \\left(- y_{1} + y_{2}\\right)^{2}}} + \\frac{2.0 \\left(- l_{1} + \\sqrt{\\left(x_{0} - x_{2}\\right)^{2} + \\left(y_{0} - y_{2}\\right)^{2}}\\right) \\left(- y_{0} + y_{2}\\right)}{\\sqrt{\\left(x_{0} - x_{2}\\right)^{2} + \\left(y_{0} - y_{2}\\right)^{2}}}\\end{matrix}\\right]$"
      ],
      "text/plain": [
       "⎡    ⎛         _________________________⎞                 ⎛         __________\n",
       "⎢    ⎜        ╱          2            2 ⎟                 ⎜        ╱          \n",
       "⎢2.0⋅⎝-l₁ + ╲╱  (x₀ - x₂)  + (y₀ - y₂)  ⎠⋅(x₀ - x₂)   2.0⋅⎝-l₂ + ╲╱  (-x₀ + x₁\n",
       "⎢────────────────────────────────────────────────── + ────────────────────────\n",
       "⎢              _________________________                            __________\n",
       "⎢             ╱          2            2                            ╱          \n",
       "⎣           ╲╱  (x₀ - x₂)  + (y₀ - y₂)                           ╲╱  (-x₀ + x₁\n",
       "\n",
       "_________________⎞                ⎛         _________________________⎞        \n",
       " 2             2 ⎟                ⎜        ╱          2            2 ⎟        \n",
       ")  + (-y₀ + y₁)  ⎠⋅(x₀ - x₁)  2.0⋅⎝-l₁ + ╲╱  (x₀ - x₂)  + (y₀ - y₂)  ⎠⋅(y₀ - y\n",
       "────────────────────────────  ────────────────────────────────────────────────\n",
       "_________________                           _________________________         \n",
       " 2             2                           ╱          2            2          \n",
       ")  + (-y₀ + y₁)                          ╲╱  (x₀ - x₂)  + (y₀ - y₂)           \n",
       "\n",
       "         ⎛         ___________________________⎞                ⎛         _____\n",
       "         ⎜        ╱           2             2 ⎟                ⎜        ╱     \n",
       "₂)   2.0⋅⎝-l₂ + ╲╱  (-x₀ + x₁)  + (-y₀ + y₁)  ⎠⋅(y₀ - y₁)  2.0⋅⎝-l₀ + ╲╱  (-x₁\n",
       "── + ────────────────────────────────────────────────────  ───────────────────\n",
       "                   ___________________________                           _____\n",
       "                  ╱           2             2                           ╱     \n",
       "                ╲╱  (-x₀ + x₁)  + (-y₀ + y₁)                          ╲╱  (-x₁\n",
       "\n",
       "______________________⎞                 ⎛         ___________________________⎞\n",
       "      2             2 ⎟                 ⎜        ╱           2             2 ⎟\n",
       " + x₂)  + (-y₁ + y₂)  ⎠⋅(x₁ - x₂)   2.0⋅⎝-l₂ + ╲╱  (-x₀ + x₁)  + (-y₀ + y₁)  ⎠\n",
       "───────────────────────────────── + ──────────────────────────────────────────\n",
       "______________________                             ___________________________\n",
       "      2             2                             ╱           2             2 \n",
       " + x₂)  + (-y₁ + y₂)                            ╲╱  (-x₀ + x₁)  + (-y₀ + y₁)  \n",
       "\n",
       "                 ⎛         ___________________________⎞                 ⎛     \n",
       "                 ⎜        ╱           2             2 ⎟                 ⎜     \n",
       "⋅(-x₀ + x₁)  2.0⋅⎝-l₀ + ╲╱  (-x₁ + x₂)  + (-y₁ + y₂)  ⎠⋅(y₁ - y₂)   2.0⋅⎝-l₂ +\n",
       "───────────  ──────────────────────────────────────────────────── + ──────────\n",
       "                           ___________________________                        \n",
       "                          ╱           2             2                         \n",
       "                        ╲╱  (-x₁ + x₂)  + (-y₁ + y₂)                          \n",
       "\n",
       "    ___________________________⎞                 ⎛         ___________________\n",
       "   ╱           2             2 ⎟                 ⎜        ╱           2       \n",
       " ╲╱  (-x₀ + x₁)  + (-y₀ + y₁)  ⎠⋅(-y₀ + y₁)  2.0⋅⎝-l₀ + ╲╱  (-x₁ + x₂)  + (-y₁\n",
       "───────────────────────────────────────────  ─────────────────────────────────\n",
       "     ___________________________                            __________________\n",
       "    ╱           2             2                            ╱           2      \n",
       "  ╲╱  (-x₀ + x₁)  + (-y₀ + y₁)                           ╲╱  (-x₁ + x₂)  + (-y\n",
       "\n",
       "________⎞                  ⎛         _________________________⎞               \n",
       "      2 ⎟                  ⎜        ╱          2            2 ⎟               \n",
       " + y₂)  ⎠⋅(-x₁ + x₂)   2.0⋅⎝-l₁ + ╲╱  (x₀ - x₂)  + (y₀ - y₂)  ⎠⋅(-x₀ + x₂)  2.\n",
       "──────────────────── + ───────────────────────────────────────────────────  ──\n",
       "_________                             _________________________               \n",
       "       2                             ╱          2            2                \n",
       "₁ + y₂)                            ╲╱  (x₀ - x₂)  + (y₀ - y₂)                 \n",
       "\n",
       "  ⎛         ___________________________⎞                  ⎛         __________\n",
       "  ⎜        ╱           2             2 ⎟                  ⎜        ╱          \n",
       "0⋅⎝-l₀ + ╲╱  (-x₁ + x₂)  + (-y₁ + y₂)  ⎠⋅(-y₁ + y₂)   2.0⋅⎝-l₁ + ╲╱  (x₀ - x₂)\n",
       "─────────────────────────────────────────────────── + ────────────────────────\n",
       "             ___________________________                             _________\n",
       "            ╱           2             2                             ╱         \n",
       "          ╲╱  (-x₁ + x₂)  + (-y₁ + y₂)                            ╲╱  (x₀ - x₂\n",
       "\n",
       "_______________⎞           ⎤\n",
       "2            2 ⎟           ⎥\n",
       "  + (y₀ - y₂)  ⎠⋅(-y₀ + y₂)⎥\n",
       "───────────────────────────⎥\n",
       "________________           ⎥\n",
       " 2            2            ⎥\n",
       ")  + (y₀ - y₂)             ⎦"
      ]
     },
     "execution_count": 812,
     "metadata": {},
     "output_type": "execute_result"
    }
   ],
   "source": [
    "G"
   ]
  },
  {
   "cell_type": "code",
   "execution_count": 813,
   "id": "51f8840b",
   "metadata": {},
   "outputs": [],
   "source": [
    "\n",
    "H = sym.hessian(E, v)\n",
    "#H[0,0]"
   ]
  },
  {
   "cell_type": "code",
   "execution_count": 814,
   "id": "75f13e5d",
   "metadata": {},
   "outputs": [
    {
     "data": {
      "text/latex": [
       "$\\displaystyle \\left[\\begin{matrix}\\frac{2.0 \\left(- l_{1} + \\sqrt{\\left(x_{0} - x_{2}\\right)^{2} + \\left(y_{0} - y_{2}\\right)^{2}}\\right) \\left(- x_{0} + x_{2}\\right) \\left(x_{0} - x_{2}\\right)}{\\left(\\left(x_{0} - x_{2}\\right)^{2} + \\left(y_{0} - y_{2}\\right)^{2}\\right)^{\\frac{3}{2}}} + \\frac{2.0 \\left(- l_{1} + \\sqrt{\\left(x_{0} - x_{2}\\right)^{2} + \\left(y_{0} - y_{2}\\right)^{2}}\\right)}{\\sqrt{\\left(x_{0} - x_{2}\\right)^{2} + \\left(y_{0} - y_{2}\\right)^{2}}} + \\frac{2.0 \\left(- l_{2} + \\sqrt{\\left(- x_{0} + x_{1}\\right)^{2} + \\left(- y_{0} + y_{1}\\right)^{2}}\\right) \\left(- x_{0} + x_{1}\\right) \\left(x_{0} - x_{1}\\right)}{\\left(\\left(- x_{0} + x_{1}\\right)^{2} + \\left(- y_{0} + y_{1}\\right)^{2}\\right)^{\\frac{3}{2}}} + \\frac{2.0 \\left(- l_{2} + \\sqrt{\\left(- x_{0} + x_{1}\\right)^{2} + \\left(- y_{0} + y_{1}\\right)^{2}}\\right)}{\\sqrt{\\left(- x_{0} + x_{1}\\right)^{2} + \\left(- y_{0} + y_{1}\\right)^{2}}} + \\frac{2.0 \\left(x_{0} - x_{1}\\right)^{2}}{\\left(- x_{0} + x_{1}\\right)^{2} + \\left(- y_{0} + y_{1}\\right)^{2}} + \\frac{2.0 \\left(x_{0} - x_{2}\\right)^{2}}{\\left(x_{0} - x_{2}\\right)^{2} + \\left(y_{0} - y_{2}\\right)^{2}} & \\frac{2.0 \\left(- l_{1} + \\sqrt{\\left(x_{0} - x_{2}\\right)^{2} + \\left(y_{0} - y_{2}\\right)^{2}}\\right) \\left(x_{0} - x_{2}\\right) \\left(- y_{0} + y_{2}\\right)}{\\left(\\left(x_{0} - x_{2}\\right)^{2} + \\left(y_{0} - y_{2}\\right)^{2}\\right)^{\\frac{3}{2}}} + \\frac{2.0 \\left(- l_{2} + \\sqrt{\\left(- x_{0} + x_{1}\\right)^{2} + \\left(- y_{0} + y_{1}\\right)^{2}}\\right) \\left(x_{0} - x_{1}\\right) \\left(- y_{0} + y_{1}\\right)}{\\left(\\left(- x_{0} + x_{1}\\right)^{2} + \\left(- y_{0} + y_{1}\\right)^{2}\\right)^{\\frac{3}{2}}} + \\frac{2.0 \\left(x_{0} - x_{1}\\right) \\left(y_{0} - y_{1}\\right)}{\\left(- x_{0} + x_{1}\\right)^{2} + \\left(- y_{0} + y_{1}\\right)^{2}} + \\frac{2.0 \\left(x_{0} - x_{2}\\right) \\left(y_{0} - y_{2}\\right)}{\\left(x_{0} - x_{2}\\right)^{2} + \\left(y_{0} - y_{2}\\right)^{2}} & \\frac{2.0 \\left(- l_{2} + \\sqrt{\\left(- x_{0} + x_{1}\\right)^{2} + \\left(- y_{0} + y_{1}\\right)^{2}}\\right) \\left(x_{0} - x_{1}\\right)^{2}}{\\left(\\left(- x_{0} + x_{1}\\right)^{2} + \\left(- y_{0} + y_{1}\\right)^{2}\\right)^{\\frac{3}{2}}} - \\frac{2.0 \\left(- l_{2} + \\sqrt{\\left(- x_{0} + x_{1}\\right)^{2} + \\left(- y_{0} + y_{1}\\right)^{2}}\\right)}{\\sqrt{\\left(- x_{0} + x_{1}\\right)^{2} + \\left(- y_{0} + y_{1}\\right)^{2}}} + \\frac{2.0 \\left(- x_{0} + x_{1}\\right) \\left(x_{0} - x_{1}\\right)}{\\left(- x_{0} + x_{1}\\right)^{2} + \\left(- y_{0} + y_{1}\\right)^{2}} & \\frac{2.0 \\left(- l_{2} + \\sqrt{\\left(- x_{0} + x_{1}\\right)^{2} + \\left(- y_{0} + y_{1}\\right)^{2}}\\right) \\left(x_{0} - x_{1}\\right) \\left(y_{0} - y_{1}\\right)}{\\left(\\left(- x_{0} + x_{1}\\right)^{2} + \\left(- y_{0} + y_{1}\\right)^{2}\\right)^{\\frac{3}{2}}} + \\frac{2.0 \\left(x_{0} - x_{1}\\right) \\left(- y_{0} + y_{1}\\right)}{\\left(- x_{0} + x_{1}\\right)^{2} + \\left(- y_{0} + y_{1}\\right)^{2}} & \\frac{2.0 \\left(- l_{1} + \\sqrt{\\left(x_{0} - x_{2}\\right)^{2} + \\left(y_{0} - y_{2}\\right)^{2}}\\right) \\left(x_{0} - x_{2}\\right)^{2}}{\\left(\\left(x_{0} - x_{2}\\right)^{2} + \\left(y_{0} - y_{2}\\right)^{2}\\right)^{\\frac{3}{2}}} - \\frac{2.0 \\left(- l_{1} + \\sqrt{\\left(x_{0} - x_{2}\\right)^{2} + \\left(y_{0} - y_{2}\\right)^{2}}\\right)}{\\sqrt{\\left(x_{0} - x_{2}\\right)^{2} + \\left(y_{0} - y_{2}\\right)^{2}}} + \\frac{2.0 \\left(- x_{0} + x_{2}\\right) \\left(x_{0} - x_{2}\\right)}{\\left(x_{0} - x_{2}\\right)^{2} + \\left(y_{0} - y_{2}\\right)^{2}} & \\frac{2.0 \\left(- l_{1} + \\sqrt{\\left(x_{0} - x_{2}\\right)^{2} + \\left(y_{0} - y_{2}\\right)^{2}}\\right) \\left(x_{0} - x_{2}\\right) \\left(y_{0} - y_{2}\\right)}{\\left(\\left(x_{0} - x_{2}\\right)^{2} + \\left(y_{0} - y_{2}\\right)^{2}\\right)^{\\frac{3}{2}}} + \\frac{2.0 \\left(x_{0} - x_{2}\\right) \\left(- y_{0} + y_{2}\\right)}{\\left(x_{0} - x_{2}\\right)^{2} + \\left(y_{0} - y_{2}\\right)^{2}}\\\\\\frac{2.0 \\left(- l_{1} + \\sqrt{\\left(x_{0} - x_{2}\\right)^{2} + \\left(y_{0} - y_{2}\\right)^{2}}\\right) \\left(x_{0} - x_{2}\\right) \\left(- y_{0} + y_{2}\\right)}{\\left(\\left(x_{0} - x_{2}\\right)^{2} + \\left(y_{0} - y_{2}\\right)^{2}\\right)^{\\frac{3}{2}}} + \\frac{2.0 \\left(- l_{2} + \\sqrt{\\left(- x_{0} + x_{1}\\right)^{2} + \\left(- y_{0} + y_{1}\\right)^{2}}\\right) \\left(x_{0} - x_{1}\\right) \\left(- y_{0} + y_{1}\\right)}{\\left(\\left(- x_{0} + x_{1}\\right)^{2} + \\left(- y_{0} + y_{1}\\right)^{2}\\right)^{\\frac{3}{2}}} + \\frac{2.0 \\left(x_{0} - x_{1}\\right) \\left(y_{0} - y_{1}\\right)}{\\left(- x_{0} + x_{1}\\right)^{2} + \\left(- y_{0} + y_{1}\\right)^{2}} + \\frac{2.0 \\left(x_{0} - x_{2}\\right) \\left(y_{0} - y_{2}\\right)}{\\left(x_{0} - x_{2}\\right)^{2} + \\left(y_{0} - y_{2}\\right)^{2}} & \\frac{2.0 \\left(- l_{1} + \\sqrt{\\left(x_{0} - x_{2}\\right)^{2} + \\left(y_{0} - y_{2}\\right)^{2}}\\right) \\left(- y_{0} + y_{2}\\right) \\left(y_{0} - y_{2}\\right)}{\\left(\\left(x_{0} - x_{2}\\right)^{2} + \\left(y_{0} - y_{2}\\right)^{2}\\right)^{\\frac{3}{2}}} + \\frac{2.0 \\left(- l_{1} + \\sqrt{\\left(x_{0} - x_{2}\\right)^{2} + \\left(y_{0} - y_{2}\\right)^{2}}\\right)}{\\sqrt{\\left(x_{0} - x_{2}\\right)^{2} + \\left(y_{0} - y_{2}\\right)^{2}}} + \\frac{2.0 \\left(- l_{2} + \\sqrt{\\left(- x_{0} + x_{1}\\right)^{2} + \\left(- y_{0} + y_{1}\\right)^{2}}\\right) \\left(- y_{0} + y_{1}\\right) \\left(y_{0} - y_{1}\\right)}{\\left(\\left(- x_{0} + x_{1}\\right)^{2} + \\left(- y_{0} + y_{1}\\right)^{2}\\right)^{\\frac{3}{2}}} + \\frac{2.0 \\left(- l_{2} + \\sqrt{\\left(- x_{0} + x_{1}\\right)^{2} + \\left(- y_{0} + y_{1}\\right)^{2}}\\right)}{\\sqrt{\\left(- x_{0} + x_{1}\\right)^{2} + \\left(- y_{0} + y_{1}\\right)^{2}}} + \\frac{2.0 \\left(y_{0} - y_{1}\\right)^{2}}{\\left(- x_{0} + x_{1}\\right)^{2} + \\left(- y_{0} + y_{1}\\right)^{2}} + \\frac{2.0 \\left(y_{0} - y_{2}\\right)^{2}}{\\left(x_{0} - x_{2}\\right)^{2} + \\left(y_{0} - y_{2}\\right)^{2}} & \\frac{2.0 \\left(- l_{2} + \\sqrt{\\left(- x_{0} + x_{1}\\right)^{2} + \\left(- y_{0} + y_{1}\\right)^{2}}\\right) \\left(x_{0} - x_{1}\\right) \\left(y_{0} - y_{1}\\right)}{\\left(\\left(- x_{0} + x_{1}\\right)^{2} + \\left(- y_{0} + y_{1}\\right)^{2}\\right)^{\\frac{3}{2}}} + \\frac{2.0 \\left(- x_{0} + x_{1}\\right) \\left(y_{0} - y_{1}\\right)}{\\left(- x_{0} + x_{1}\\right)^{2} + \\left(- y_{0} + y_{1}\\right)^{2}} & \\frac{2.0 \\left(- l_{2} + \\sqrt{\\left(- x_{0} + x_{1}\\right)^{2} + \\left(- y_{0} + y_{1}\\right)^{2}}\\right) \\left(y_{0} - y_{1}\\right)^{2}}{\\left(\\left(- x_{0} + x_{1}\\right)^{2} + \\left(- y_{0} + y_{1}\\right)^{2}\\right)^{\\frac{3}{2}}} - \\frac{2.0 \\left(- l_{2} + \\sqrt{\\left(- x_{0} + x_{1}\\right)^{2} + \\left(- y_{0} + y_{1}\\right)^{2}}\\right)}{\\sqrt{\\left(- x_{0} + x_{1}\\right)^{2} + \\left(- y_{0} + y_{1}\\right)^{2}}} + \\frac{2.0 \\left(- y_{0} + y_{1}\\right) \\left(y_{0} - y_{1}\\right)}{\\left(- x_{0} + x_{1}\\right)^{2} + \\left(- y_{0} + y_{1}\\right)^{2}} & \\frac{2.0 \\left(- l_{1} + \\sqrt{\\left(x_{0} - x_{2}\\right)^{2} + \\left(y_{0} - y_{2}\\right)^{2}}\\right) \\left(x_{0} - x_{2}\\right) \\left(y_{0} - y_{2}\\right)}{\\left(\\left(x_{0} - x_{2}\\right)^{2} + \\left(y_{0} - y_{2}\\right)^{2}\\right)^{\\frac{3}{2}}} + \\frac{2.0 \\left(- x_{0} + x_{2}\\right) \\left(y_{0} - y_{2}\\right)}{\\left(x_{0} - x_{2}\\right)^{2} + \\left(y_{0} - y_{2}\\right)^{2}} & \\frac{2.0 \\left(- l_{1} + \\sqrt{\\left(x_{0} - x_{2}\\right)^{2} + \\left(y_{0} - y_{2}\\right)^{2}}\\right) \\left(y_{0} - y_{2}\\right)^{2}}{\\left(\\left(x_{0} - x_{2}\\right)^{2} + \\left(y_{0} - y_{2}\\right)^{2}\\right)^{\\frac{3}{2}}} - \\frac{2.0 \\left(- l_{1} + \\sqrt{\\left(x_{0} - x_{2}\\right)^{2} + \\left(y_{0} - y_{2}\\right)^{2}}\\right)}{\\sqrt{\\left(x_{0} - x_{2}\\right)^{2} + \\left(y_{0} - y_{2}\\right)^{2}}} + \\frac{2.0 \\left(- y_{0} + y_{2}\\right) \\left(y_{0} - y_{2}\\right)}{\\left(x_{0} - x_{2}\\right)^{2} + \\left(y_{0} - y_{2}\\right)^{2}}\\\\\\frac{2.0 \\left(- l_{2} + \\sqrt{\\left(- x_{0} + x_{1}\\right)^{2} + \\left(- y_{0} + y_{1}\\right)^{2}}\\right) \\left(x_{0} - x_{1}\\right)^{2}}{\\left(\\left(- x_{0} + x_{1}\\right)^{2} + \\left(- y_{0} + y_{1}\\right)^{2}\\right)^{\\frac{3}{2}}} - \\frac{2.0 \\left(- l_{2} + \\sqrt{\\left(- x_{0} + x_{1}\\right)^{2} + \\left(- y_{0} + y_{1}\\right)^{2}}\\right)}{\\sqrt{\\left(- x_{0} + x_{1}\\right)^{2} + \\left(- y_{0} + y_{1}\\right)^{2}}} + \\frac{2.0 \\left(- x_{0} + x_{1}\\right) \\left(x_{0} - x_{1}\\right)}{\\left(- x_{0} + x_{1}\\right)^{2} + \\left(- y_{0} + y_{1}\\right)^{2}} & \\frac{2.0 \\left(- l_{2} + \\sqrt{\\left(- x_{0} + x_{1}\\right)^{2} + \\left(- y_{0} + y_{1}\\right)^{2}}\\right) \\left(x_{0} - x_{1}\\right) \\left(y_{0} - y_{1}\\right)}{\\left(\\left(- x_{0} + x_{1}\\right)^{2} + \\left(- y_{0} + y_{1}\\right)^{2}\\right)^{\\frac{3}{2}}} + \\frac{2.0 \\left(- x_{0} + x_{1}\\right) \\left(y_{0} - y_{1}\\right)}{\\left(- x_{0} + x_{1}\\right)^{2} + \\left(- y_{0} + y_{1}\\right)^{2}} & \\frac{2.0 \\left(- l_{0} + \\sqrt{\\left(- x_{1} + x_{2}\\right)^{2} + \\left(- y_{1} + y_{2}\\right)^{2}}\\right) \\left(- x_{1} + x_{2}\\right) \\left(x_{1} - x_{2}\\right)}{\\left(\\left(- x_{1} + x_{2}\\right)^{2} + \\left(- y_{1} + y_{2}\\right)^{2}\\right)^{\\frac{3}{2}}} + \\frac{2.0 \\left(- l_{0} + \\sqrt{\\left(- x_{1} + x_{2}\\right)^{2} + \\left(- y_{1} + y_{2}\\right)^{2}}\\right)}{\\sqrt{\\left(- x_{1} + x_{2}\\right)^{2} + \\left(- y_{1} + y_{2}\\right)^{2}}} + \\frac{2.0 \\left(- l_{2} + \\sqrt{\\left(- x_{0} + x_{1}\\right)^{2} + \\left(- y_{0} + y_{1}\\right)^{2}}\\right) \\left(- x_{0} + x_{1}\\right) \\left(x_{0} - x_{1}\\right)}{\\left(\\left(- x_{0} + x_{1}\\right)^{2} + \\left(- y_{0} + y_{1}\\right)^{2}\\right)^{\\frac{3}{2}}} + \\frac{2.0 \\left(- l_{2} + \\sqrt{\\left(- x_{0} + x_{1}\\right)^{2} + \\left(- y_{0} + y_{1}\\right)^{2}}\\right)}{\\sqrt{\\left(- x_{0} + x_{1}\\right)^{2} + \\left(- y_{0} + y_{1}\\right)^{2}}} + \\frac{2.0 \\left(- x_{0} + x_{1}\\right)^{2}}{\\left(- x_{0} + x_{1}\\right)^{2} + \\left(- y_{0} + y_{1}\\right)^{2}} + \\frac{2.0 \\left(x_{1} - x_{2}\\right)^{2}}{\\left(- x_{1} + x_{2}\\right)^{2} + \\left(- y_{1} + y_{2}\\right)^{2}} & \\frac{2.0 \\left(- l_{0} + \\sqrt{\\left(- x_{1} + x_{2}\\right)^{2} + \\left(- y_{1} + y_{2}\\right)^{2}}\\right) \\left(x_{1} - x_{2}\\right) \\left(- y_{1} + y_{2}\\right)}{\\left(\\left(- x_{1} + x_{2}\\right)^{2} + \\left(- y_{1} + y_{2}\\right)^{2}\\right)^{\\frac{3}{2}}} + \\frac{2.0 \\left(- l_{2} + \\sqrt{\\left(- x_{0} + x_{1}\\right)^{2} + \\left(- y_{0} + y_{1}\\right)^{2}}\\right) \\left(- x_{0} + x_{1}\\right) \\left(y_{0} - y_{1}\\right)}{\\left(\\left(- x_{0} + x_{1}\\right)^{2} + \\left(- y_{0} + y_{1}\\right)^{2}\\right)^{\\frac{3}{2}}} + \\frac{2.0 \\left(- x_{0} + x_{1}\\right) \\left(- y_{0} + y_{1}\\right)}{\\left(- x_{0} + x_{1}\\right)^{2} + \\left(- y_{0} + y_{1}\\right)^{2}} + \\frac{2.0 \\left(x_{1} - x_{2}\\right) \\left(y_{1} - y_{2}\\right)}{\\left(- x_{1} + x_{2}\\right)^{2} + \\left(- y_{1} + y_{2}\\right)^{2}} & \\frac{2.0 \\left(- l_{0} + \\sqrt{\\left(- x_{1} + x_{2}\\right)^{2} + \\left(- y_{1} + y_{2}\\right)^{2}}\\right) \\left(x_{1} - x_{2}\\right)^{2}}{\\left(\\left(- x_{1} + x_{2}\\right)^{2} + \\left(- y_{1} + y_{2}\\right)^{2}\\right)^{\\frac{3}{2}}} - \\frac{2.0 \\left(- l_{0} + \\sqrt{\\left(- x_{1} + x_{2}\\right)^{2} + \\left(- y_{1} + y_{2}\\right)^{2}}\\right)}{\\sqrt{\\left(- x_{1} + x_{2}\\right)^{2} + \\left(- y_{1} + y_{2}\\right)^{2}}} + \\frac{2.0 \\left(- x_{1} + x_{2}\\right) \\left(x_{1} - x_{2}\\right)}{\\left(- x_{1} + x_{2}\\right)^{2} + \\left(- y_{1} + y_{2}\\right)^{2}} & \\frac{2.0 \\left(- l_{0} + \\sqrt{\\left(- x_{1} + x_{2}\\right)^{2} + \\left(- y_{1} + y_{2}\\right)^{2}}\\right) \\left(x_{1} - x_{2}\\right) \\left(y_{1} - y_{2}\\right)}{\\left(\\left(- x_{1} + x_{2}\\right)^{2} + \\left(- y_{1} + y_{2}\\right)^{2}\\right)^{\\frac{3}{2}}} + \\frac{2.0 \\left(x_{1} - x_{2}\\right) \\left(- y_{1} + y_{2}\\right)}{\\left(- x_{1} + x_{2}\\right)^{2} + \\left(- y_{1} + y_{2}\\right)^{2}}\\\\\\frac{2.0 \\left(- l_{2} + \\sqrt{\\left(- x_{0} + x_{1}\\right)^{2} + \\left(- y_{0} + y_{1}\\right)^{2}}\\right) \\left(x_{0} - x_{1}\\right) \\left(y_{0} - y_{1}\\right)}{\\left(\\left(- x_{0} + x_{1}\\right)^{2} + \\left(- y_{0} + y_{1}\\right)^{2}\\right)^{\\frac{3}{2}}} + \\frac{2.0 \\left(x_{0} - x_{1}\\right) \\left(- y_{0} + y_{1}\\right)}{\\left(- x_{0} + x_{1}\\right)^{2} + \\left(- y_{0} + y_{1}\\right)^{2}} & \\frac{2.0 \\left(- l_{2} + \\sqrt{\\left(- x_{0} + x_{1}\\right)^{2} + \\left(- y_{0} + y_{1}\\right)^{2}}\\right) \\left(y_{0} - y_{1}\\right)^{2}}{\\left(\\left(- x_{0} + x_{1}\\right)^{2} + \\left(- y_{0} + y_{1}\\right)^{2}\\right)^{\\frac{3}{2}}} - \\frac{2.0 \\left(- l_{2} + \\sqrt{\\left(- x_{0} + x_{1}\\right)^{2} + \\left(- y_{0} + y_{1}\\right)^{2}}\\right)}{\\sqrt{\\left(- x_{0} + x_{1}\\right)^{2} + \\left(- y_{0} + y_{1}\\right)^{2}}} + \\frac{2.0 \\left(- y_{0} + y_{1}\\right) \\left(y_{0} - y_{1}\\right)}{\\left(- x_{0} + x_{1}\\right)^{2} + \\left(- y_{0} + y_{1}\\right)^{2}} & \\frac{2.0 \\left(- l_{0} + \\sqrt{\\left(- x_{1} + x_{2}\\right)^{2} + \\left(- y_{1} + y_{2}\\right)^{2}}\\right) \\left(x_{1} - x_{2}\\right) \\left(- y_{1} + y_{2}\\right)}{\\left(\\left(- x_{1} + x_{2}\\right)^{2} + \\left(- y_{1} + y_{2}\\right)^{2}\\right)^{\\frac{3}{2}}} + \\frac{2.0 \\left(- l_{2} + \\sqrt{\\left(- x_{0} + x_{1}\\right)^{2} + \\left(- y_{0} + y_{1}\\right)^{2}}\\right) \\left(- x_{0} + x_{1}\\right) \\left(y_{0} - y_{1}\\right)}{\\left(\\left(- x_{0} + x_{1}\\right)^{2} + \\left(- y_{0} + y_{1}\\right)^{2}\\right)^{\\frac{3}{2}}} + \\frac{2.0 \\left(- x_{0} + x_{1}\\right) \\left(- y_{0} + y_{1}\\right)}{\\left(- x_{0} + x_{1}\\right)^{2} + \\left(- y_{0} + y_{1}\\right)^{2}} + \\frac{2.0 \\left(x_{1} - x_{2}\\right) \\left(y_{1} - y_{2}\\right)}{\\left(- x_{1} + x_{2}\\right)^{2} + \\left(- y_{1} + y_{2}\\right)^{2}} & \\frac{2.0 \\left(- l_{0} + \\sqrt{\\left(- x_{1} + x_{2}\\right)^{2} + \\left(- y_{1} + y_{2}\\right)^{2}}\\right) \\left(- y_{1} + y_{2}\\right) \\left(y_{1} - y_{2}\\right)}{\\left(\\left(- x_{1} + x_{2}\\right)^{2} + \\left(- y_{1} + y_{2}\\right)^{2}\\right)^{\\frac{3}{2}}} + \\frac{2.0 \\left(- l_{0} + \\sqrt{\\left(- x_{1} + x_{2}\\right)^{2} + \\left(- y_{1} + y_{2}\\right)^{2}}\\right)}{\\sqrt{\\left(- x_{1} + x_{2}\\right)^{2} + \\left(- y_{1} + y_{2}\\right)^{2}}} + \\frac{2.0 \\left(- l_{2} + \\sqrt{\\left(- x_{0} + x_{1}\\right)^{2} + \\left(- y_{0} + y_{1}\\right)^{2}}\\right) \\left(- y_{0} + y_{1}\\right) \\left(y_{0} - y_{1}\\right)}{\\left(\\left(- x_{0} + x_{1}\\right)^{2} + \\left(- y_{0} + y_{1}\\right)^{2}\\right)^{\\frac{3}{2}}} + \\frac{2.0 \\left(- l_{2} + \\sqrt{\\left(- x_{0} + x_{1}\\right)^{2} + \\left(- y_{0} + y_{1}\\right)^{2}}\\right)}{\\sqrt{\\left(- x_{0} + x_{1}\\right)^{2} + \\left(- y_{0} + y_{1}\\right)^{2}}} + \\frac{2.0 \\left(- y_{0} + y_{1}\\right)^{2}}{\\left(- x_{0} + x_{1}\\right)^{2} + \\left(- y_{0} + y_{1}\\right)^{2}} + \\frac{2.0 \\left(y_{1} - y_{2}\\right)^{2}}{\\left(- x_{1} + x_{2}\\right)^{2} + \\left(- y_{1} + y_{2}\\right)^{2}} & \\frac{2.0 \\left(- l_{0} + \\sqrt{\\left(- x_{1} + x_{2}\\right)^{2} + \\left(- y_{1} + y_{2}\\right)^{2}}\\right) \\left(x_{1} - x_{2}\\right) \\left(y_{1} - y_{2}\\right)}{\\left(\\left(- x_{1} + x_{2}\\right)^{2} + \\left(- y_{1} + y_{2}\\right)^{2}\\right)^{\\frac{3}{2}}} + \\frac{2.0 \\left(- x_{1} + x_{2}\\right) \\left(y_{1} - y_{2}\\right)}{\\left(- x_{1} + x_{2}\\right)^{2} + \\left(- y_{1} + y_{2}\\right)^{2}} & \\frac{2.0 \\left(- l_{0} + \\sqrt{\\left(- x_{1} + x_{2}\\right)^{2} + \\left(- y_{1} + y_{2}\\right)^{2}}\\right) \\left(y_{1} - y_{2}\\right)^{2}}{\\left(\\left(- x_{1} + x_{2}\\right)^{2} + \\left(- y_{1} + y_{2}\\right)^{2}\\right)^{\\frac{3}{2}}} - \\frac{2.0 \\left(- l_{0} + \\sqrt{\\left(- x_{1} + x_{2}\\right)^{2} + \\left(- y_{1} + y_{2}\\right)^{2}}\\right)}{\\sqrt{\\left(- x_{1} + x_{2}\\right)^{2} + \\left(- y_{1} + y_{2}\\right)^{2}}} + \\frac{2.0 \\left(- y_{1} + y_{2}\\right) \\left(y_{1} - y_{2}\\right)}{\\left(- x_{1} + x_{2}\\right)^{2} + \\left(- y_{1} + y_{2}\\right)^{2}}\\\\\\frac{2.0 \\left(- l_{1} + \\sqrt{\\left(x_{0} - x_{2}\\right)^{2} + \\left(y_{0} - y_{2}\\right)^{2}}\\right) \\left(x_{0} - x_{2}\\right)^{2}}{\\left(\\left(x_{0} - x_{2}\\right)^{2} + \\left(y_{0} - y_{2}\\right)^{2}\\right)^{\\frac{3}{2}}} - \\frac{2.0 \\left(- l_{1} + \\sqrt{\\left(x_{0} - x_{2}\\right)^{2} + \\left(y_{0} - y_{2}\\right)^{2}}\\right)}{\\sqrt{\\left(x_{0} - x_{2}\\right)^{2} + \\left(y_{0} - y_{2}\\right)^{2}}} + \\frac{2.0 \\left(- x_{0} + x_{2}\\right) \\left(x_{0} - x_{2}\\right)}{\\left(x_{0} - x_{2}\\right)^{2} + \\left(y_{0} - y_{2}\\right)^{2}} & \\frac{2.0 \\left(- l_{1} + \\sqrt{\\left(x_{0} - x_{2}\\right)^{2} + \\left(y_{0} - y_{2}\\right)^{2}}\\right) \\left(x_{0} - x_{2}\\right) \\left(y_{0} - y_{2}\\right)}{\\left(\\left(x_{0} - x_{2}\\right)^{2} + \\left(y_{0} - y_{2}\\right)^{2}\\right)^{\\frac{3}{2}}} + \\frac{2.0 \\left(- x_{0} + x_{2}\\right) \\left(y_{0} - y_{2}\\right)}{\\left(x_{0} - x_{2}\\right)^{2} + \\left(y_{0} - y_{2}\\right)^{2}} & \\frac{2.0 \\left(- l_{0} + \\sqrt{\\left(- x_{1} + x_{2}\\right)^{2} + \\left(- y_{1} + y_{2}\\right)^{2}}\\right) \\left(x_{1} - x_{2}\\right)^{2}}{\\left(\\left(- x_{1} + x_{2}\\right)^{2} + \\left(- y_{1} + y_{2}\\right)^{2}\\right)^{\\frac{3}{2}}} - \\frac{2.0 \\left(- l_{0} + \\sqrt{\\left(- x_{1} + x_{2}\\right)^{2} + \\left(- y_{1} + y_{2}\\right)^{2}}\\right)}{\\sqrt{\\left(- x_{1} + x_{2}\\right)^{2} + \\left(- y_{1} + y_{2}\\right)^{2}}} + \\frac{2.0 \\left(- x_{1} + x_{2}\\right) \\left(x_{1} - x_{2}\\right)}{\\left(- x_{1} + x_{2}\\right)^{2} + \\left(- y_{1} + y_{2}\\right)^{2}} & \\frac{2.0 \\left(- l_{0} + \\sqrt{\\left(- x_{1} + x_{2}\\right)^{2} + \\left(- y_{1} + y_{2}\\right)^{2}}\\right) \\left(x_{1} - x_{2}\\right) \\left(y_{1} - y_{2}\\right)}{\\left(\\left(- x_{1} + x_{2}\\right)^{2} + \\left(- y_{1} + y_{2}\\right)^{2}\\right)^{\\frac{3}{2}}} + \\frac{2.0 \\left(- x_{1} + x_{2}\\right) \\left(y_{1} - y_{2}\\right)}{\\left(- x_{1} + x_{2}\\right)^{2} + \\left(- y_{1} + y_{2}\\right)^{2}} & \\frac{2.0 \\left(- l_{0} + \\sqrt{\\left(- x_{1} + x_{2}\\right)^{2} + \\left(- y_{1} + y_{2}\\right)^{2}}\\right) \\left(- x_{1} + x_{2}\\right) \\left(x_{1} - x_{2}\\right)}{\\left(\\left(- x_{1} + x_{2}\\right)^{2} + \\left(- y_{1} + y_{2}\\right)^{2}\\right)^{\\frac{3}{2}}} + \\frac{2.0 \\left(- l_{0} + \\sqrt{\\left(- x_{1} + x_{2}\\right)^{2} + \\left(- y_{1} + y_{2}\\right)^{2}}\\right)}{\\sqrt{\\left(- x_{1} + x_{2}\\right)^{2} + \\left(- y_{1} + y_{2}\\right)^{2}}} + \\frac{2.0 \\left(- l_{1} + \\sqrt{\\left(x_{0} - x_{2}\\right)^{2} + \\left(y_{0} - y_{2}\\right)^{2}}\\right) \\left(- x_{0} + x_{2}\\right) \\left(x_{0} - x_{2}\\right)}{\\left(\\left(x_{0} - x_{2}\\right)^{2} + \\left(y_{0} - y_{2}\\right)^{2}\\right)^{\\frac{3}{2}}} + \\frac{2.0 \\left(- l_{1} + \\sqrt{\\left(x_{0} - x_{2}\\right)^{2} + \\left(y_{0} - y_{2}\\right)^{2}}\\right)}{\\sqrt{\\left(x_{0} - x_{2}\\right)^{2} + \\left(y_{0} - y_{2}\\right)^{2}}} + \\frac{2.0 \\left(- x_{0} + x_{2}\\right)^{2}}{\\left(x_{0} - x_{2}\\right)^{2} + \\left(y_{0} - y_{2}\\right)^{2}} + \\frac{2.0 \\left(- x_{1} + x_{2}\\right)^{2}}{\\left(- x_{1} + x_{2}\\right)^{2} + \\left(- y_{1} + y_{2}\\right)^{2}} & \\frac{2.0 \\left(- l_{0} + \\sqrt{\\left(- x_{1} + x_{2}\\right)^{2} + \\left(- y_{1} + y_{2}\\right)^{2}}\\right) \\left(- x_{1} + x_{2}\\right) \\left(y_{1} - y_{2}\\right)}{\\left(\\left(- x_{1} + x_{2}\\right)^{2} + \\left(- y_{1} + y_{2}\\right)^{2}\\right)^{\\frac{3}{2}}} + \\frac{2.0 \\left(- l_{1} + \\sqrt{\\left(x_{0} - x_{2}\\right)^{2} + \\left(y_{0} - y_{2}\\right)^{2}}\\right) \\left(- x_{0} + x_{2}\\right) \\left(y_{0} - y_{2}\\right)}{\\left(\\left(x_{0} - x_{2}\\right)^{2} + \\left(y_{0} - y_{2}\\right)^{2}\\right)^{\\frac{3}{2}}} + \\frac{2.0 \\left(- x_{0} + x_{2}\\right) \\left(- y_{0} + y_{2}\\right)}{\\left(x_{0} - x_{2}\\right)^{2} + \\left(y_{0} - y_{2}\\right)^{2}} + \\frac{2.0 \\left(- x_{1} + x_{2}\\right) \\left(- y_{1} + y_{2}\\right)}{\\left(- x_{1} + x_{2}\\right)^{2} + \\left(- y_{1} + y_{2}\\right)^{2}}\\\\\\frac{2.0 \\left(- l_{1} + \\sqrt{\\left(x_{0} - x_{2}\\right)^{2} + \\left(y_{0} - y_{2}\\right)^{2}}\\right) \\left(x_{0} - x_{2}\\right) \\left(y_{0} - y_{2}\\right)}{\\left(\\left(x_{0} - x_{2}\\right)^{2} + \\left(y_{0} - y_{2}\\right)^{2}\\right)^{\\frac{3}{2}}} + \\frac{2.0 \\left(x_{0} - x_{2}\\right) \\left(- y_{0} + y_{2}\\right)}{\\left(x_{0} - x_{2}\\right)^{2} + \\left(y_{0} - y_{2}\\right)^{2}} & \\frac{2.0 \\left(- l_{1} + \\sqrt{\\left(x_{0} - x_{2}\\right)^{2} + \\left(y_{0} - y_{2}\\right)^{2}}\\right) \\left(y_{0} - y_{2}\\right)^{2}}{\\left(\\left(x_{0} - x_{2}\\right)^{2} + \\left(y_{0} - y_{2}\\right)^{2}\\right)^{\\frac{3}{2}}} - \\frac{2.0 \\left(- l_{1} + \\sqrt{\\left(x_{0} - x_{2}\\right)^{2} + \\left(y_{0} - y_{2}\\right)^{2}}\\right)}{\\sqrt{\\left(x_{0} - x_{2}\\right)^{2} + \\left(y_{0} - y_{2}\\right)^{2}}} + \\frac{2.0 \\left(- y_{0} + y_{2}\\right) \\left(y_{0} - y_{2}\\right)}{\\left(x_{0} - x_{2}\\right)^{2} + \\left(y_{0} - y_{2}\\right)^{2}} & \\frac{2.0 \\left(- l_{0} + \\sqrt{\\left(- x_{1} + x_{2}\\right)^{2} + \\left(- y_{1} + y_{2}\\right)^{2}}\\right) \\left(x_{1} - x_{2}\\right) \\left(y_{1} - y_{2}\\right)}{\\left(\\left(- x_{1} + x_{2}\\right)^{2} + \\left(- y_{1} + y_{2}\\right)^{2}\\right)^{\\frac{3}{2}}} + \\frac{2.0 \\left(x_{1} - x_{2}\\right) \\left(- y_{1} + y_{2}\\right)}{\\left(- x_{1} + x_{2}\\right)^{2} + \\left(- y_{1} + y_{2}\\right)^{2}} & \\frac{2.0 \\left(- l_{0} + \\sqrt{\\left(- x_{1} + x_{2}\\right)^{2} + \\left(- y_{1} + y_{2}\\right)^{2}}\\right) \\left(y_{1} - y_{2}\\right)^{2}}{\\left(\\left(- x_{1} + x_{2}\\right)^{2} + \\left(- y_{1} + y_{2}\\right)^{2}\\right)^{\\frac{3}{2}}} - \\frac{2.0 \\left(- l_{0} + \\sqrt{\\left(- x_{1} + x_{2}\\right)^{2} + \\left(- y_{1} + y_{2}\\right)^{2}}\\right)}{\\sqrt{\\left(- x_{1} + x_{2}\\right)^{2} + \\left(- y_{1} + y_{2}\\right)^{2}}} + \\frac{2.0 \\left(- y_{1} + y_{2}\\right) \\left(y_{1} - y_{2}\\right)}{\\left(- x_{1} + x_{2}\\right)^{2} + \\left(- y_{1} + y_{2}\\right)^{2}} & \\frac{2.0 \\left(- l_{0} + \\sqrt{\\left(- x_{1} + x_{2}\\right)^{2} + \\left(- y_{1} + y_{2}\\right)^{2}}\\right) \\left(- x_{1} + x_{2}\\right) \\left(y_{1} - y_{2}\\right)}{\\left(\\left(- x_{1} + x_{2}\\right)^{2} + \\left(- y_{1} + y_{2}\\right)^{2}\\right)^{\\frac{3}{2}}} + \\frac{2.0 \\left(- l_{1} + \\sqrt{\\left(x_{0} - x_{2}\\right)^{2} + \\left(y_{0} - y_{2}\\right)^{2}}\\right) \\left(- x_{0} + x_{2}\\right) \\left(y_{0} - y_{2}\\right)}{\\left(\\left(x_{0} - x_{2}\\right)^{2} + \\left(y_{0} - y_{2}\\right)^{2}\\right)^{\\frac{3}{2}}} + \\frac{2.0 \\left(- x_{0} + x_{2}\\right) \\left(- y_{0} + y_{2}\\right)}{\\left(x_{0} - x_{2}\\right)^{2} + \\left(y_{0} - y_{2}\\right)^{2}} + \\frac{2.0 \\left(- x_{1} + x_{2}\\right) \\left(- y_{1} + y_{2}\\right)}{\\left(- x_{1} + x_{2}\\right)^{2} + \\left(- y_{1} + y_{2}\\right)^{2}} & \\frac{2.0 \\left(- l_{0} + \\sqrt{\\left(- x_{1} + x_{2}\\right)^{2} + \\left(- y_{1} + y_{2}\\right)^{2}}\\right) \\left(- y_{1} + y_{2}\\right) \\left(y_{1} - y_{2}\\right)}{\\left(\\left(- x_{1} + x_{2}\\right)^{2} + \\left(- y_{1} + y_{2}\\right)^{2}\\right)^{\\frac{3}{2}}} + \\frac{2.0 \\left(- l_{0} + \\sqrt{\\left(- x_{1} + x_{2}\\right)^{2} + \\left(- y_{1} + y_{2}\\right)^{2}}\\right)}{\\sqrt{\\left(- x_{1} + x_{2}\\right)^{2} + \\left(- y_{1} + y_{2}\\right)^{2}}} + \\frac{2.0 \\left(- l_{1} + \\sqrt{\\left(x_{0} - x_{2}\\right)^{2} + \\left(y_{0} - y_{2}\\right)^{2}}\\right) \\left(- y_{0} + y_{2}\\right) \\left(y_{0} - y_{2}\\right)}{\\left(\\left(x_{0} - x_{2}\\right)^{2} + \\left(y_{0} - y_{2}\\right)^{2}\\right)^{\\frac{3}{2}}} + \\frac{2.0 \\left(- l_{1} + \\sqrt{\\left(x_{0} - x_{2}\\right)^{2} + \\left(y_{0} - y_{2}\\right)^{2}}\\right)}{\\sqrt{\\left(x_{0} - x_{2}\\right)^{2} + \\left(y_{0} - y_{2}\\right)^{2}}} + \\frac{2.0 \\left(- y_{0} + y_{2}\\right)^{2}}{\\left(x_{0} - x_{2}\\right)^{2} + \\left(y_{0} - y_{2}\\right)^{2}} + \\frac{2.0 \\left(- y_{1} + y_{2}\\right)^{2}}{\\left(- x_{1} + x_{2}\\right)^{2} + \\left(- y_{1} + y_{2}\\right)^{2}}\\end{matrix}\\right]$"
      ],
      "text/plain": [
       "⎡    ⎛         _________________________⎞                            ⎛        \n",
       "⎢    ⎜        ╱          2            2 ⎟                            ⎜        \n",
       "⎢2.0⋅⎝-l₁ + ╲╱  (x₀ - x₂)  + (y₀ - y₂)  ⎠⋅(-x₀ + x₂)⋅(x₀ - x₂)   2.0⋅⎝-l₁ + ╲╱\n",
       "⎢───────────────────────────────────────────────────────────── + ─────────────\n",
       "⎢                                          3/2                            ____\n",
       "⎢                 ⎛         2            2⎞                              ╱    \n",
       "⎢                 ⎝(x₀ - x₂)  + (y₀ - y₂) ⎠                            ╲╱  (x₀\n",
       "⎢                                                                             \n",
       "⎢                                                ⎛         ___________________\n",
       "⎢                                                ⎜        ╱          2        \n",
       "⎢                                            2.0⋅⎝-l₁ + ╲╱  (x₀ - x₂)  + (y₀ -\n",
       "⎢                                            ─────────────────────────────────\n",
       "⎢                                                                             \n",
       "⎢                                                             ⎛         2     \n",
       "⎢                                                             ⎝(x₀ - x₂)  + (y\n",
       "⎢                                                                             \n",
       "⎢                                                                           ⎛ \n",
       "⎢                                                                           ⎜ \n",
       "⎢                                                                       2.0⋅⎝-\n",
       "⎢                                                                       ──────\n",
       "⎢                                                                             \n",
       "⎢                                                                             \n",
       "⎢                                                                             \n",
       "⎢                                                                             \n",
       "⎢                                                                             \n",
       "⎢                                                                             \n",
       "⎢                                                                             \n",
       "⎢                                                                             \n",
       "⎢                                                                             \n",
       "⎢                                                                             \n",
       "⎢                                                                             \n",
       "⎢                                                                             \n",
       "⎢                                                                             \n",
       "⎢                                                                             \n",
       "⎢                                                                          2.0\n",
       "⎢                                                                          ───\n",
       "⎢                                                                             \n",
       "⎢                                                                             \n",
       "⎢                                                                             \n",
       "⎢                                                                             \n",
       "⎢                                                                             \n",
       "⎢                                                                             \n",
       "⎢                                                                             \n",
       "⎢                                                                             \n",
       "⎢                                                                             \n",
       "⎢                                                                             \n",
       "⎣                                                                             \n",
       "\n",
       " _________________________⎞       ⎛         ___________________________⎞      \n",
       "╱          2            2 ⎟       ⎜        ╱           2             2 ⎟      \n",
       "  (x₀ - x₂)  + (y₀ - y₂)  ⎠   2.0⋅⎝-l₂ + ╲╱  (-x₀ + x₁)  + (-y₀ + y₁)  ⎠⋅(-x₀ \n",
       "─────────────────────────── + ────────────────────────────────────────────────\n",
       "_____________________                                                     3/2 \n",
       "      2            2                           ⎛          2             2⎞    \n",
       " - x₂)  + (y₀ - y₂)                            ⎝(-x₀ + x₁)  + (-y₀ + y₁) ⎠    \n",
       "                                                                              \n",
       "______⎞                            ⎛         ___________________________⎞     \n",
       "    2 ⎟                            ⎜        ╱           2             2 ⎟     \n",
       " y₂)  ⎠⋅(x₀ - x₂)⋅(-y₀ + y₂)   2.0⋅⎝-l₂ + ╲╱  (-x₀ + x₁)  + (-y₀ + y₁)  ⎠⋅(x₀ \n",
       "──────────────────────────── + ───────────────────────────────────────────────\n",
       "         3/2                                                               3/2\n",
       "       2⎞                                       ⎛          2             2⎞   \n",
       "₀ - y₂) ⎠                                       ⎝(-x₀ + x₁)  + (-y₀ + y₁) ⎠   \n",
       "                                                                              \n",
       "        ___________________________⎞                  ⎛         ______________\n",
       "       ╱           2             2 ⎟          2       ⎜        ╱           2  \n",
       "l₂ + ╲╱  (-x₀ + x₁)  + (-y₀ + y₁)  ⎠⋅(x₀ - x₁)    2.0⋅⎝-l₂ + ╲╱  (-x₀ + x₁)  +\n",
       "─────────────────────────────────────────────── - ────────────────────────────\n",
       "                                 3/2                       ___________________\n",
       "      ⎛          2             2⎞                         ╱           2       \n",
       "      ⎝(-x₀ + x₁)  + (-y₀ + y₁) ⎠                       ╲╱  (-x₀ + x₁)  + (-y₀\n",
       "                                                                              \n",
       "                ⎛         ___________________________⎞                        \n",
       "                ⎜        ╱           2             2 ⎟                        \n",
       "            2.0⋅⎝-l₂ + ╲╱  (-x₀ + x₁)  + (-y₀ + y₁)  ⎠⋅(x₀ - x₁)⋅(y₀ - y₁)    \n",
       "            ────────────────────────────────────────────────────────────── + ─\n",
       "                                                       3/2                    \n",
       "                            ⎛          2             2⎞                      (\n",
       "                            ⎝(-x₀ + x₁)  + (-y₀ + y₁) ⎠                       \n",
       "                                                                              \n",
       " ⎛         _________________________⎞                  ⎛         _____________\n",
       " ⎜        ╱          2            2 ⎟          2       ⎜        ╱          2  \n",
       "⋅⎝-l₁ + ╲╱  (x₀ - x₂)  + (y₀ - y₂)  ⎠⋅(x₀ - x₂)    2.0⋅⎝-l₁ + ╲╱  (x₀ - x₂)  +\n",
       "──────────────────────────────────────────────── - ───────────────────────────\n",
       "                                  3/2                       __________________\n",
       "         ⎛         2            2⎞                         ╱          2       \n",
       "         ⎝(x₀ - x₂)  + (y₀ - y₂) ⎠                       ╲╱  (x₀ - x₂)  + (y₀ \n",
       "                                                                              \n",
       "                  ⎛         _________________________⎞                        \n",
       "                  ⎜        ╱          2            2 ⎟                        \n",
       "              2.0⋅⎝-l₁ + ╲╱  (x₀ - x₂)  + (y₀ - y₂)  ⎠⋅(x₀ - x₂)⋅(y₀ - y₂)   2\n",
       "              ──────────────────────────────────────────────────────────── + ─\n",
       "                                                       3/2                    \n",
       "                              ⎛         2            2⎞                      (\n",
       "                              ⎝(x₀ - x₂)  + (y₀ - y₂) ⎠                       \n",
       "\n",
       "                      ⎛         ___________________________⎞                  \n",
       "                      ⎜        ╱           2             2 ⎟                  \n",
       "+ x₁)⋅(x₀ - x₁)   2.0⋅⎝-l₂ + ╲╱  (-x₀ + x₁)  + (-y₀ + y₁)  ⎠         2.0⋅(x₀ -\n",
       "─────────────── + ────────────────────────────────────────── + ───────────────\n",
       "                           ___________________________                   2    \n",
       "                          ╱           2             2          (-x₀ + x₁)  + (\n",
       "                        ╲╱  (-x₀ + x₁)  + (-y₀ + y₁)                          \n",
       "                                                                              \n",
       "                                                                              \n",
       "                                                                              \n",
       "- x₁)⋅(-y₀ + y₁)    2.0⋅(x₀ - x₁)⋅(y₀ - y₁)    2.0⋅(x₀ - x₂)⋅(y₀ - y₂)        \n",
       "──────────────── + ───────────────────────── + ───────────────────────        \n",
       "                             2             2            2            2        \n",
       "                   (-x₀ + x₁)  + (-y₀ + y₁)    (x₀ - x₂)  + (y₀ - y₂)         \n",
       "                                                                              \n",
       "                                                                              \n",
       "_____________⎞                                                                \n",
       "           2 ⎟                                                                \n",
       " (-y₀ + y₁)  ⎠    2.0⋅(-x₀ + x₁)⋅(x₀ - x₁)                                    \n",
       "────────────── + ─────────────────────────                                    \n",
       "________                   2             2                                    \n",
       "      2          (-x₀ + x₁)  + (-y₀ + y₁)                                     \n",
       " + y₁)                                                                        \n",
       "                                                                              \n",
       "                                                                              \n",
       "                                                                              \n",
       "2.0⋅(x₀ - x₁)⋅(-y₀ + y₁)                                                      \n",
       "────────────────────────                                                      \n",
       "         2             2                                                      \n",
       "-x₀ + x₁)  + (-y₀ + y₁)                                                       \n",
       "                                                                              \n",
       "                                                                              \n",
       "____________⎞                                                                 \n",
       "          2 ⎟                                                                 \n",
       " (y₀ - y₂)  ⎠   2.0⋅(-x₀ + x₂)⋅(x₀ - x₂)                                      \n",
       "───────────── + ────────────────────────                                      \n",
       "_______                  2            2                                       \n",
       "     2          (x₀ - x₂)  + (y₀ - y₂)                                        \n",
       "- y₂)                                                                         \n",
       "                                                                              \n",
       "                                                                              \n",
       "                                                                              \n",
       ".0⋅(x₀ - x₂)⋅(-y₀ + y₂)                                                       \n",
       "───────────────────────                                                       \n",
       "        2            2                                                        \n",
       "x₀ - x₂)  + (y₀ - y₂)                                                         \n",
       "                                                                              \n",
       "\n",
       "                                                                              \n",
       "    2                          2                                              \n",
       " x₁)              2.0⋅(x₀ - x₂)                                               \n",
       "────────── + ───────────────────────                                          \n",
       "         2            2            2                                          \n",
       "-y₀ + y₁)    (x₀ - x₂)  + (y₀ - y₂)                                           \n",
       "                                                                              \n",
       "                                                                              \n",
       "                                          ⎛         _________________________⎞\n",
       "                                          ⎜        ╱          2            2 ⎟\n",
       "                                      2.0⋅⎝-l₁ + ╲╱  (x₀ - x₂)  + (y₀ - y₂)  ⎠\n",
       "                                      ────────────────────────────────────────\n",
       "                                                                              \n",
       "                                                       ⎛         2            \n",
       "                                                       ⎝(x₀ - x₂)  + (y₀ - y₂)\n",
       "                                                                              \n",
       "                                                                              \n",
       "                                                                              \n",
       "                                                                              \n",
       "                                                                              \n",
       "                                                                              \n",
       "                                                                              \n",
       "                                                                              \n",
       "                                                                              \n",
       "                                                                              \n",
       "                                                                              \n",
       "                                                                              \n",
       "                                                                              \n",
       "                                                                              \n",
       "                                                                              \n",
       "                                                                              \n",
       "                                                                              \n",
       "                                                                              \n",
       "                                                                              \n",
       "                                                                              \n",
       "                                                                              \n",
       "                                                                              \n",
       "                                                                              \n",
       "                                                                              \n",
       "                                                                              \n",
       "                                                                              \n",
       "                                                                              \n",
       "                                                                              \n",
       "                                                                              \n",
       "                                                                              \n",
       "                                                                              \n",
       "                                                                              \n",
       "\n",
       "        ⎛         _________________________⎞                            ⎛     \n",
       "        ⎜        ╱          2            2 ⎟                            ⎜     \n",
       "    2.0⋅⎝-l₁ + ╲╱  (x₀ - x₂)  + (y₀ - y₂)  ⎠⋅(x₀ - x₂)⋅(-y₀ + y₂)   2.0⋅⎝-l₂ +\n",
       "    ───────────────────────────────────────────────────────────── + ──────────\n",
       "                                              3/2                             \n",
       "                     ⎛         2            2⎞                                \n",
       "                     ⎝(x₀ - x₂)  + (y₀ - y₂) ⎠                                \n",
       "                                                                              \n",
       "                            ⎛         _________________________⎞       ⎛      \n",
       "                            ⎜        ╱          2            2 ⎟       ⎜      \n",
       "⋅(-y₀ + y₂)⋅(y₀ - y₂)   2.0⋅⎝-l₁ + ╲╱  (x₀ - x₂)  + (y₀ - y₂)  ⎠   2.0⋅⎝-l₂ + \n",
       "───────────────────── + ──────────────────────────────────────── + ───────────\n",
       "  3/2                            _________________________                    \n",
       "2⎞                              ╱          2            2                     \n",
       " ⎠                            ╲╱  (x₀ - x₂)  + (y₀ - y₂)                      \n",
       "                                                                              \n",
       "                                                     ⎛         _______________\n",
       "                                                     ⎜        ╱           2   \n",
       "                                                 2.0⋅⎝-l₂ + ╲╱  (-x₀ + x₁)  + \n",
       "                                                 ─────────────────────────────\n",
       "                                                                              \n",
       "                                                                 ⎛          2 \n",
       "                                                                 ⎝(-x₀ + x₁)  \n",
       "                                                                              \n",
       "                                   ⎛         ___________________________⎞     \n",
       "                                   ⎜        ╱           2             2 ⎟     \n",
       "                               2.0⋅⎝-l₂ + ╲╱  (-x₀ + x₁)  + (-y₀ + y₁)  ⎠⋅(y₀ \n",
       "                               ───────────────────────────────────────────────\n",
       "                                                                      3/2     \n",
       "                                           ⎛          2             2⎞        \n",
       "                                           ⎝(-x₀ + x₁)  + (-y₀ + y₁) ⎠        \n",
       "                                                                              \n",
       "                                                       ⎛         _____________\n",
       "                                                       ⎜        ╱          2  \n",
       "                                                   2.0⋅⎝-l₁ + ╲╱  (x₀ - x₂)  +\n",
       "                                                   ───────────────────────────\n",
       "                                                                              \n",
       "                                                                   ⎛         2\n",
       "                                                                   ⎝(x₀ - x₂) \n",
       "                                                                              \n",
       "                                      ⎛         _________________________⎞    \n",
       "                                      ⎜        ╱          2            2 ⎟    \n",
       "                                  2.0⋅⎝-l₁ + ╲╱  (x₀ - x₂)  + (y₀ - y₂)  ⎠⋅(y₀\n",
       "                                  ────────────────────────────────────────────\n",
       "                                                                       3/2    \n",
       "                                              ⎛         2            2⎞       \n",
       "                                              ⎝(x₀ - x₂)  + (y₀ - y₂) ⎠       \n",
       "\n",
       "    ___________________________⎞                                              \n",
       "   ╱           2             2 ⎟                                              \n",
       " ╲╱  (-x₀ + x₁)  + (-y₀ + y₁)  ⎠⋅(x₀ - x₁)⋅(-y₀ + y₁)    2.0⋅(x₀ - x₁)⋅(y₀ - y\n",
       "───────────────────────────────────────────────────── + ──────────────────────\n",
       "                                  3/2                             2           \n",
       "       ⎛          2             2⎞                      (-x₀ + x₁)  + (-y₀ + y\n",
       "       ⎝(-x₀ + x₁)  + (-y₀ + y₁) ⎠                                            \n",
       "                                                                              \n",
       "   ___________________________⎞                            ⎛         _________\n",
       "  ╱           2             2 ⎟                            ⎜        ╱         \n",
       "╲╱  (-x₀ + x₁)  + (-y₀ + y₁)  ⎠⋅(-y₀ + y₁)⋅(y₀ - y₁)   2.0⋅⎝-l₂ + ╲╱  (-x₀ + x\n",
       "──────────────────────────────────────────────────── + ───────────────────────\n",
       "                                 3/2                            ______________\n",
       "      ⎛          2             2⎞                              ╱           2  \n",
       "      ⎝(-x₀ + x₁)  + (-y₀ + y₁) ⎠                            ╲╱  (-x₀ + x₁)  +\n",
       "                                                                              \n",
       "____________⎞                                                                 \n",
       "          2 ⎟                                                                 \n",
       "(-y₀ + y₁)  ⎠⋅(x₀ - x₁)⋅(y₀ - y₁)    2.0⋅(-x₀ + x₁)⋅(y₀ - y₁)                 \n",
       "───────────────────────────────── + ─────────────────────────                 \n",
       "              3/2                             2             2                 \n",
       "            2⎞                      (-x₀ + x₁)  + (-y₀ + y₁)                  \n",
       "+ (-y₀ + y₁) ⎠                                                                \n",
       "                                                                              \n",
       "             ⎛         ___________________________⎞                           \n",
       "     2       ⎜        ╱           2             2 ⎟                           \n",
       "- y₁)    2.0⋅⎝-l₂ + ╲╱  (-x₀ + x₁)  + (-y₀ + y₁)  ⎠    2.0⋅(-y₀ + y₁)⋅(y₀ - y₁\n",
       "────── - ────────────────────────────────────────── + ────────────────────────\n",
       "                  ___________________________                   2             \n",
       "                 ╱           2             2          (-x₀ + x₁)  + (-y₀ + y₁)\n",
       "               ╲╱  (-x₀ + x₁)  + (-y₀ + y₁)                                   \n",
       "                                                                              \n",
       "____________⎞                                                                 \n",
       "          2 ⎟                                                                 \n",
       " (y₀ - y₂)  ⎠⋅(x₀ - x₂)⋅(y₀ - y₂)   2.0⋅(-x₀ + x₂)⋅(y₀ - y₂)                  \n",
       "───────────────────────────────── + ────────────────────────                  \n",
       "              3/2                            2            2                   \n",
       "            2⎞                      (x₀ - x₂)  + (y₀ - y₂)                    \n",
       " + (y₀ - y₂) ⎠                                                                \n",
       "                                                                              \n",
       "              ⎛         _________________________⎞                            \n",
       "      2       ⎜        ╱          2            2 ⎟                            \n",
       " - y₂)    2.0⋅⎝-l₁ + ╲╱  (x₀ - x₂)  + (y₀ - y₂)  ⎠   2.0⋅(-y₀ + y₂)⋅(y₀ - y₂) \n",
       "─────── - ──────────────────────────────────────── + ──────────────────────── \n",
       "                   _________________________                  2            2  \n",
       "                  ╱          2            2          (x₀ - x₂)  + (y₀ - y₂)   \n",
       "                ╲╱  (x₀ - x₂)  + (y₀ - y₂)                                    \n",
       "\n",
       "                                                                              \n",
       "                                                                              \n",
       "₁)    2.0⋅(x₀ - x₂)⋅(y₀ - y₂)                                                 \n",
       "─── + ───────────────────────                                                 \n",
       "  2            2            2                                                 \n",
       "₁)    (x₀ - x₂)  + (y₀ - y₂)                                                  \n",
       "                                                                              \n",
       "                                                                              \n",
       "__________________⎞                                                           \n",
       "  2             2 ⎟                      2                          2         \n",
       "₁)  + (-y₀ + y₁)  ⎠         2.0⋅(y₀ - y₁)              2.0⋅(y₀ - y₂)          \n",
       "─────────────────── + ───────────────────────── + ───────────────────────     \n",
       "_____________                   2             2            2            2     \n",
       "           2          (-x₀ + x₁)  + (-y₀ + y₁)    (x₀ - x₂)  + (y₀ - y₂)      \n",
       " (-y₀ + y₁)                                                                   \n",
       "                                                                              \n",
       "                                                                              \n",
       "                                                                              \n",
       "                                                                           2.0\n",
       "                                                                           ───\n",
       "                                                                              \n",
       "                                                                              \n",
       "                                                                              \n",
       "                                                                              \n",
       "                                                                              \n",
       "                                                                              \n",
       ")                                                                             \n",
       "─                                                                             \n",
       "2                                                                             \n",
       "                                                                              \n",
       "                                                                              \n",
       "                                                                              \n",
       "                                                                              \n",
       "                                                                              \n",
       "                                                                              \n",
       "                                                                              \n",
       "                                                                              \n",
       "                                                                              \n",
       "                                                                              \n",
       "                                                                              \n",
       "                                                                              \n",
       "                                                                              \n",
       "                                                                              \n",
       "                                                                              \n",
       "                                                                              \n",
       "                                                                              \n",
       "                                                                              \n",
       "\n",
       "                                                                           ⎛  \n",
       "                                                                           ⎜  \n",
       "                                                                       2.0⋅⎝-l\n",
       "                                                                       ───────\n",
       "                                                                              \n",
       "                                                                              \n",
       "                                                                              \n",
       "                                                                              \n",
       "                                                                              \n",
       "                                                                              \n",
       "                                                                              \n",
       "                                                                              \n",
       "                                                                              \n",
       "                                                                              \n",
       "                                                                              \n",
       "                                                                              \n",
       " ⎛         ___________________________⎞                            ⎛         _\n",
       " ⎜        ╱           2             2 ⎟                            ⎜        ╱ \n",
       "⋅⎝-l₀ + ╲╱  (-x₁ + x₂)  + (-y₁ + y₂)  ⎠⋅(-x₁ + x₂)⋅(x₁ - x₂)   2.0⋅⎝-l₀ + ╲╱  \n",
       "──────────────────────────────────────────────────────────── + ───────────────\n",
       "                                         3/2                            ______\n",
       "              ⎛          2             2⎞                              ╱      \n",
       "              ⎝(-x₁ + x₂)  + (-y₁ + y₂) ⎠                            ╲╱  (-x₁ \n",
       "                                                                              \n",
       "                                              ⎛         ______________________\n",
       "                                              ⎜        ╱           2          \n",
       "                                          2.0⋅⎝-l₀ + ╲╱  (-x₁ + x₂)  + (-y₁ + \n",
       "                                          ────────────────────────────────────\n",
       "                                                                              \n",
       "                                                           ⎛          2       \n",
       "                                                           ⎝(-x₁ + x₂)  + (-y₁\n",
       "                                                                              \n",
       "                                                                           ⎛  \n",
       "                                                                           ⎜  \n",
       "                                                                       2.0⋅⎝-l\n",
       "                                                                       ───────\n",
       "                                                                              \n",
       "                                                                              \n",
       "                                                                              \n",
       "                                                                              \n",
       "                                                                              \n",
       "                                                                              \n",
       "                                                                              \n",
       "                                                                              \n",
       "                                                                              \n",
       "                                                                              \n",
       "                                                                              \n",
       "\n",
       "       ___________________________⎞                  ⎛         _______________\n",
       "      ╱           2             2 ⎟          2       ⎜        ╱           2   \n",
       "₂ + ╲╱  (-x₀ + x₁)  + (-y₀ + y₁)  ⎠⋅(x₀ - x₁)    2.0⋅⎝-l₂ + ╲╱  (-x₀ + x₁)  + \n",
       "────────────────────────────────────────────── - ─────────────────────────────\n",
       "                                3/2                       ____________________\n",
       "     ⎛          2             2⎞                         ╱           2        \n",
       "     ⎝(-x₀ + x₁)  + (-y₀ + y₁) ⎠                       ╲╱  (-x₀ + x₁)  + (-y₀ \n",
       "                                                                              \n",
       "               ⎛         ___________________________⎞                         \n",
       "               ⎜        ╱           2             2 ⎟                         \n",
       "           2.0⋅⎝-l₂ + ╲╱  (-x₀ + x₁)  + (-y₀ + y₁)  ⎠⋅(x₀ - x₁)⋅(y₀ - y₁)    2\n",
       "           ────────────────────────────────────────────────────────────── + ──\n",
       "                                                      3/2                     \n",
       "                           ⎛          2             2⎞                      (-\n",
       "                           ⎝(-x₀ + x₁)  + (-y₀ + y₁) ⎠                        \n",
       "                                                                              \n",
       "__________________________⎞       ⎛         ___________________________⎞      \n",
       "          2             2 ⎟       ⎜        ╱           2             2 ⎟      \n",
       "(-x₁ + x₂)  + (-y₁ + y₂)  ⎠   2.0⋅⎝-l₂ + ╲╱  (-x₀ + x₁)  + (-y₀ + y₁)  ⎠⋅(-x₀ \n",
       "─────────────────────────── + ────────────────────────────────────────────────\n",
       "_____________________                                                     3/2 \n",
       "     2             2                           ⎛          2             2⎞    \n",
       "+ x₂)  + (-y₁ + y₂)                            ⎝(-x₀ + x₁)  + (-y₀ + y₁) ⎠    \n",
       "                                                                              \n",
       "_____⎞                            ⎛         ___________________________⎞      \n",
       "   2 ⎟                            ⎜        ╱           2             2 ⎟      \n",
       "y₂)  ⎠⋅(x₁ - x₂)⋅(-y₁ + y₂)   2.0⋅⎝-l₂ + ╲╱  (-x₀ + x₁)  + (-y₀ + y₁)  ⎠⋅(-x₀ \n",
       "─────────────────────────── + ────────────────────────────────────────────────\n",
       "        3/2                                                               3/2 \n",
       "      2⎞                                       ⎛          2             2⎞    \n",
       " + y₂) ⎠                                       ⎝(-x₀ + x₁)  + (-y₀ + y₁) ⎠    \n",
       "                                                                              \n",
       "       ___________________________⎞                  ⎛         _______________\n",
       "      ╱           2             2 ⎟          2       ⎜        ╱           2   \n",
       "₀ + ╲╱  (-x₁ + x₂)  + (-y₁ + y₂)  ⎠⋅(x₁ - x₂)    2.0⋅⎝-l₀ + ╲╱  (-x₁ + x₂)  + \n",
       "────────────────────────────────────────────── - ─────────────────────────────\n",
       "                                3/2                       ____________________\n",
       "     ⎛          2             2⎞                         ╱           2        \n",
       "     ⎝(-x₁ + x₂)  + (-y₁ + y₂) ⎠                       ╲╱  (-x₁ + x₂)  + (-y₁ \n",
       "                                                                              \n",
       "               ⎛         ___________________________⎞                         \n",
       "               ⎜        ╱           2             2 ⎟                         \n",
       "           2.0⋅⎝-l₀ + ╲╱  (-x₁ + x₂)  + (-y₁ + y₂)  ⎠⋅(x₁ - x₂)⋅(y₁ - y₂)    2\n",
       "           ────────────────────────────────────────────────────────────── + ──\n",
       "                                                      3/2                     \n",
       "                           ⎛          2             2⎞                      (-\n",
       "                           ⎝(-x₁ + x₂)  + (-y₁ + y₂) ⎠                        \n",
       "\n",
       "____________⎞                                                                 \n",
       "          2 ⎟                                                                 \n",
       "(-y₀ + y₁)  ⎠    2.0⋅(-x₀ + x₁)⋅(x₀ - x₁)                                     \n",
       "───────────── + ─────────────────────────                                     \n",
       "_______                   2             2                                     \n",
       "     2          (-x₀ + x₁)  + (-y₀ + y₁)                                      \n",
       "+ y₁)                                                                         \n",
       "                                                                              \n",
       "                                                                              \n",
       "                                                                              \n",
       ".0⋅(-x₀ + x₁)⋅(y₀ - y₁)                                                       \n",
       "───────────────────────                                                       \n",
       "        2             2                                                       \n",
       "x₀ + x₁)  + (-y₀ + y₁)                                                        \n",
       "                                                                              \n",
       "                                                                              \n",
       "                      ⎛         ___________________________⎞                  \n",
       "                      ⎜        ╱           2             2 ⎟                  \n",
       "+ x₁)⋅(x₀ - x₁)   2.0⋅⎝-l₂ + ╲╱  (-x₀ + x₁)  + (-y₀ + y₁)  ⎠        2.0⋅(-x₀ +\n",
       "─────────────── + ────────────────────────────────────────── + ───────────────\n",
       "                           ___________________________                   2    \n",
       "                          ╱           2             2          (-x₀ + x₁)  + (\n",
       "                        ╲╱  (-x₀ + x₁)  + (-y₀ + y₁)                          \n",
       "                                                                              \n",
       "                                                                              \n",
       "                                                                              \n",
       "+ x₁)⋅(y₀ - y₁)   2.0⋅(-x₀ + x₁)⋅(-y₀ + y₁)    2.0⋅(x₁ - x₂)⋅(y₁ - y₂)        \n",
       "─────────────── + ───────────────────────── + ─────────────────────────       \n",
       "                            2             2             2             2       \n",
       "                  (-x₀ + x₁)  + (-y₀ + y₁)    (-x₁ + x₂)  + (-y₁ + y₂)        \n",
       "                                                                              \n",
       "                                                                              \n",
       "____________⎞                                                                 \n",
       "          2 ⎟                                                                 \n",
       "(-y₁ + y₂)  ⎠    2.0⋅(-x₁ + x₂)⋅(x₁ - x₂)                                     \n",
       "───────────── + ─────────────────────────                                     \n",
       "_______                   2             2                                     \n",
       "     2          (-x₁ + x₂)  + (-y₁ + y₂)                                      \n",
       "+ y₂)                                                                         \n",
       "                                                                              \n",
       "                                                                              \n",
       "                                                                              \n",
       ".0⋅(x₁ - x₂)⋅(-y₁ + y₂)                                                       \n",
       "───────────────────────                                                       \n",
       "        2             2                                                       \n",
       "x₁ + x₂)  + (-y₁ + y₂)                                                        \n",
       "                                                                              \n",
       "\n",
       "                                                                              \n",
       "                                                                              \n",
       "                                                                              \n",
       "                                                                              \n",
       "                                                                              \n",
       "                                                                              \n",
       "                                                                              \n",
       "                                                                              \n",
       "                                                                              \n",
       "                                                                              \n",
       "                                                                              \n",
       "                                                                              \n",
       "                                                                              \n",
       "                                                                              \n",
       "                                                                              \n",
       "                                                                              \n",
       "                                                                              \n",
       "    2                           2                                             \n",
       " x₁)               2.0⋅(x₁ - x₂)                                              \n",
       "────────── + ─────────────────────────                                        \n",
       "         2             2             2                                        \n",
       "-y₀ + y₁)    (-x₁ + x₂)  + (-y₁ + y₂)                                         \n",
       "                                                                              \n",
       "                                                                              \n",
       "                                            ⎛         ________________________\n",
       "                                            ⎜        ╱           2            \n",
       "                                        2.0⋅⎝-l₀ + ╲╱  (-x₁ + x₂)  + (-y₁ + y₂\n",
       "                                        ──────────────────────────────────────\n",
       "                                                                              \n",
       "                                                         ⎛          2         \n",
       "                                                         ⎝(-x₁ + x₂)  + (-y₁ +\n",
       "                                                                              \n",
       "                                                                              \n",
       "                                                                              \n",
       "                                                                              \n",
       "                                                                              \n",
       "                                                                              \n",
       "                                                                              \n",
       "                                                                              \n",
       "                                                                              \n",
       "                                                                              \n",
       "                                                                              \n",
       "                                                                              \n",
       "                                                                              \n",
       "                                                                              \n",
       "                                                                              \n",
       "                                                                              \n",
       "\n",
       "                                                          ⎛         __________\n",
       "                                                          ⎜        ╱          \n",
       "                                                      2.0⋅⎝-l₂ + ╲╱  (-x₀ + x₁\n",
       "                                                      ────────────────────────\n",
       "                                                                              \n",
       "                                                                      ⎛       \n",
       "                                                                      ⎝(-x₀ + \n",
       "                                                                              \n",
       "                                        ⎛         ___________________________⎞\n",
       "                                        ⎜        ╱           2             2 ⎟\n",
       "                                    2.0⋅⎝-l₂ + ╲╱  (-x₀ + x₁)  + (-y₀ + y₁)  ⎠\n",
       "                                    ──────────────────────────────────────────\n",
       "                                                                           3/2\n",
       "                                                ⎛          2             2⎞   \n",
       "                                                ⎝(-x₀ + x₁)  + (-y₀ + y₁) ⎠   \n",
       "                                                                              \n",
       "           ⎛         ___________________________⎞                            ⎛\n",
       "           ⎜        ╱           2             2 ⎟                            ⎜\n",
       "       2.0⋅⎝-l₀ + ╲╱  (-x₁ + x₂)  + (-y₁ + y₂)  ⎠⋅(x₁ - x₂)⋅(-y₁ + y₂)   2.0⋅⎝\n",
       "       ─────────────────────────────────────────────────────────────── + ─────\n",
       "                                                   3/2                        \n",
       "                        ⎛          2             2⎞                           \n",
       "                        ⎝(-x₁ + x₂)  + (-y₁ + y₂) ⎠                           \n",
       "                                                                              \n",
       "___⎞                            ⎛         ___________________________⎞       ⎛\n",
       " 2 ⎟                            ⎜        ╱           2             2 ⎟       ⎜\n",
       ")  ⎠⋅(-y₁ + y₂)⋅(y₁ - y₂)   2.0⋅⎝-l₀ + ╲╱  (-x₁ + x₂)  + (-y₁ + y₂)  ⎠   2.0⋅⎝\n",
       "───────────────────────── + ────────────────────────────────────────── + ─────\n",
       "      3/2                            ___________________________              \n",
       "    2⎞                              ╱           2             2               \n",
       " y₂) ⎠                            ╲╱  (-x₁ + x₂)  + (-y₁ + y₂)                \n",
       "                                                                              \n",
       "                                                          ⎛         __________\n",
       "                                                          ⎜        ╱          \n",
       "                                                      2.0⋅⎝-l₀ + ╲╱  (-x₁ + x₂\n",
       "                                                      ────────────────────────\n",
       "                                                                              \n",
       "                                                                      ⎛       \n",
       "                                                                      ⎝(-x₁ + \n",
       "                                                                              \n",
       "                                        ⎛         ___________________________⎞\n",
       "                                        ⎜        ╱           2             2 ⎟\n",
       "                                    2.0⋅⎝-l₀ + ╲╱  (-x₁ + x₂)  + (-y₁ + y₂)  ⎠\n",
       "                                    ──────────────────────────────────────────\n",
       "                                                                           3/2\n",
       "                                                ⎛          2             2⎞   \n",
       "                                                ⎝(-x₁ + x₂)  + (-y₁ + y₂) ⎠   \n",
       "\n",
       "_________________⎞                                                            \n",
       " 2             2 ⎟                                                            \n",
       ")  + (-y₀ + y₁)  ⎠⋅(x₀ - x₁)⋅(y₀ - y₁)    2.0⋅(x₀ - x₁)⋅(-y₀ + y₁)            \n",
       "────────────────────────────────────── + ─────────────────────────            \n",
       "                   3/2                             2             2            \n",
       "   2             2⎞                      (-x₀ + x₁)  + (-y₀ + y₁)             \n",
       "x₁)  + (-y₀ + y₁) ⎠                                                           \n",
       "                                                                              \n",
       "                  ⎛         ___________________________⎞                      \n",
       "          2       ⎜        ╱           2             2 ⎟                      \n",
       "⋅(y₀ - y₁)    2.0⋅⎝-l₂ + ╲╱  (-x₀ + x₁)  + (-y₀ + y₁)  ⎠    2.0⋅(-y₀ + y₁)⋅(y₀\n",
       "─────────── - ────────────────────────────────────────── + ───────────────────\n",
       "                       ___________________________                   2        \n",
       "                      ╱           2             2          (-x₀ + x₁)  + (-y₀ \n",
       "                    ╲╱  (-x₀ + x₁)  + (-y₀ + y₁)                              \n",
       "                                                                              \n",
       "         ___________________________⎞                                         \n",
       "        ╱           2             2 ⎟                                         \n",
       "-l₂ + ╲╱  (-x₀ + x₁)  + (-y₀ + y₁)  ⎠⋅(-x₀ + x₁)⋅(y₀ - y₁)   2.0⋅(-x₀ + x₁)⋅(-\n",
       "────────────────────────────────────────────────────────── + ─────────────────\n",
       "                                       3/2                             2      \n",
       "            ⎛          2             2⎞                      (-x₀ + x₁)  + (-y\n",
       "            ⎝(-x₀ + x₁)  + (-y₀ + y₁) ⎠                                       \n",
       "                                                                              \n",
       "         ___________________________⎞                            ⎛         ___\n",
       "        ╱           2             2 ⎟                            ⎜        ╱   \n",
       "-l₂ + ╲╱  (-x₀ + x₁)  + (-y₀ + y₁)  ⎠⋅(-y₀ + y₁)⋅(y₀ - y₁)   2.0⋅⎝-l₂ + ╲╱  (-\n",
       "────────────────────────────────────────────────────────── + ─────────────────\n",
       "                                       3/2                            ________\n",
       "            ⎛          2             2⎞                              ╱        \n",
       "            ⎝(-x₀ + x₁)  + (-y₀ + y₁) ⎠                            ╲╱  (-x₀ + \n",
       "                                                                              \n",
       "_________________⎞                                                            \n",
       " 2             2 ⎟                                                            \n",
       ")  + (-y₁ + y₂)  ⎠⋅(x₁ - x₂)⋅(y₁ - y₂)    2.0⋅(-x₁ + x₂)⋅(y₁ - y₂)            \n",
       "────────────────────────────────────── + ─────────────────────────            \n",
       "                   3/2                             2             2            \n",
       "   2             2⎞                      (-x₁ + x₂)  + (-y₁ + y₂)             \n",
       "x₂)  + (-y₁ + y₂) ⎠                                                           \n",
       "                                                                              \n",
       "                  ⎛         ___________________________⎞                      \n",
       "          2       ⎜        ╱           2             2 ⎟                      \n",
       "⋅(y₁ - y₂)    2.0⋅⎝-l₀ + ╲╱  (-x₁ + x₂)  + (-y₁ + y₂)  ⎠    2.0⋅(-y₁ + y₂)⋅(y₁\n",
       "─────────── - ────────────────────────────────────────── + ───────────────────\n",
       "                       ___________________________                   2        \n",
       "                      ╱           2             2          (-x₁ + x₂)  + (-y₁ \n",
       "                    ╲╱  (-x₁ + x₂)  + (-y₁ + y₂)                              \n",
       "\n",
       "                                                                              \n",
       "                                                                              \n",
       "                                                                              \n",
       "                                                                              \n",
       "                                                                              \n",
       "                                                                              \n",
       "                                                                              \n",
       "                                                                              \n",
       "                                                                              \n",
       "                                                                              \n",
       " - y₁)                                                                        \n",
       "──────                                                                        \n",
       "     2                                                                        \n",
       "+ y₁)                                                                         \n",
       "                                                                              \n",
       "                                                                              \n",
       "                                                                              \n",
       "                                                                              \n",
       "y₀ + y₁)    2.0⋅(x₁ - x₂)⋅(y₁ - y₂)                                           \n",
       "──────── + ─────────────────────────                                          \n",
       "       2             2             2                                          \n",
       "₀ + y₁)    (-x₁ + x₂)  + (-y₁ + y₂)                                           \n",
       "                                                                              \n",
       "                                                                              \n",
       "________________________⎞                                                     \n",
       "        2             2 ⎟                      2                           2  \n",
       "x₀ + x₁)  + (-y₀ + y₁)  ⎠        2.0⋅(-y₀ + y₁)               2.0⋅(y₁ - y₂)   \n",
       "───────────────────────── + ───────────────────────── + ──────────────────────\n",
       "___________________                   2             2             2           \n",
       "   2             2          (-x₀ + x₁)  + (-y₀ + y₁)    (-x₁ + x₂)  + (-y₁ + y\n",
       "x₁)  + (-y₀ + y₁)                                                             \n",
       "                                                                              \n",
       "                                                                              \n",
       "                                                                              \n",
       "                                                                              \n",
       "                                                                              \n",
       "                                                                              \n",
       "                                                                              \n",
       "                                                                              \n",
       "                                                                              \n",
       "                                                                              \n",
       "                                                                              \n",
       " - y₂)                                                                        \n",
       "──────                                                                        \n",
       "     2                                                                        \n",
       "+ y₂)                                                                         \n",
       "                                                                              \n",
       "\n",
       "                                                                              \n",
       "                                                                              \n",
       "                                                                              \n",
       "                                                                              \n",
       "                                                                              \n",
       "                                                                              \n",
       "                                                                              \n",
       "                                                                              \n",
       "                                                                              \n",
       "                                                                              \n",
       "                                                                              \n",
       "                                                                              \n",
       "                                                                              \n",
       "                                                                              \n",
       "                                                                              \n",
       "                                                                              \n",
       "                                                                              \n",
       "                                                                              \n",
       "                                                                            2.\n",
       "                                                                            ──\n",
       "                                                                              \n",
       "                                                                              \n",
       "                                                                              \n",
       "                                                                              \n",
       "                                                                              \n",
       "                                                                              \n",
       "                                                                              \n",
       "───                                                                           \n",
       "  2                                                                           \n",
       "₂)                                                                            \n",
       "                                                                              \n",
       "                                                                              \n",
       "         ⎛         ___________________________⎞                            ⎛  \n",
       "         ⎜        ╱           2             2 ⎟                            ⎜  \n",
       "     2.0⋅⎝-l₀ + ╲╱  (-x₁ + x₂)  + (-y₁ + y₂)  ⎠⋅(-x₁ + x₂)⋅(x₁ - x₂)   2.0⋅⎝-l\n",
       "     ─────────────────────────────────────────────────────────────── + ───────\n",
       "                                                 3/2                          \n",
       "                      ⎛          2             2⎞                             \n",
       "                      ⎝(-x₁ + x₂)  + (-y₁ + y₂) ⎠                            ╲\n",
       "                                                                              \n",
       "                                                    ⎛         ________________\n",
       "                                                    ⎜        ╱           2    \n",
       "                                                2.0⋅⎝-l₀ + ╲╱  (-x₁ + x₂)  + (\n",
       "                                                ──────────────────────────────\n",
       "                                                                              \n",
       "                                                                 ⎛          2 \n",
       "                                                                 ⎝(-x₁ + x₂)  \n",
       "\n",
       "     ⎛         _________________________⎞                  ⎛         _________\n",
       "     ⎜        ╱          2            2 ⎟          2       ⎜        ╱         \n",
       " 2.0⋅⎝-l₁ + ╲╱  (x₀ - x₂)  + (y₀ - y₂)  ⎠⋅(x₀ - x₂)    2.0⋅⎝-l₁ + ╲╱  (x₀ - x₂\n",
       " ─────────────────────────────────────────────────── - ───────────────────────\n",
       "                                      3/2                       ______________\n",
       "             ⎛         2            2⎞                         ╱          2   \n",
       "             ⎝(x₀ - x₂)  + (y₀ - y₂) ⎠                       ╲╱  (x₀ - x₂)  + \n",
       "                                                                              \n",
       "                      ⎛         _________________________⎞                    \n",
       "                      ⎜        ╱          2            2 ⎟                    \n",
       "                  2.0⋅⎝-l₁ + ╲╱  (x₀ - x₂)  + (y₀ - y₂)  ⎠⋅(x₀ - x₂)⋅(y₀ - y₂)\n",
       "                  ────────────────────────────────────────────────────────────\n",
       "                                                           3/2                \n",
       "                                  ⎛         2            2⎞                   \n",
       "                                  ⎝(x₀ - x₂)  + (y₀ - y₂) ⎠                   \n",
       "                                                                              \n",
       "  ⎛         ___________________________⎞                  ⎛         __________\n",
       "  ⎜        ╱           2             2 ⎟          2       ⎜        ╱          \n",
       "0⋅⎝-l₀ + ╲╱  (-x₁ + x₂)  + (-y₁ + y₂)  ⎠⋅(x₁ - x₂)    2.0⋅⎝-l₀ + ╲╱  (-x₁ + x₂\n",
       "─────────────────────────────────────────────────── - ────────────────────────\n",
       "                                     3/2                       _______________\n",
       "          ⎛          2             2⎞                         ╱           2   \n",
       "          ⎝(-x₁ + x₂)  + (-y₁ + y₂) ⎠                       ╲╱  (-x₁ + x₂)  + \n",
       "                                                                              \n",
       "                    ⎛         ___________________________⎞                    \n",
       "                    ⎜        ╱           2             2 ⎟                    \n",
       "                2.0⋅⎝-l₀ + ╲╱  (-x₁ + x₂)  + (-y₁ + y₂)  ⎠⋅(x₁ - x₂)⋅(y₁ - y₂)\n",
       "                ──────────────────────────────────────────────────────────────\n",
       "                                                           3/2                \n",
       "                                ⎛          2             2⎞                   \n",
       "                                ⎝(-x₁ + x₂)  + (-y₁ + y₂) ⎠                   \n",
       "                                                                              \n",
       "       ___________________________⎞       ⎛         _________________________⎞\n",
       "      ╱           2             2 ⎟       ⎜        ╱          2            2 ⎟\n",
       "₀ + ╲╱  (-x₁ + x₂)  + (-y₁ + y₂)  ⎠   2.0⋅⎝-l₁ + ╲╱  (x₀ - x₂)  + (y₀ - y₂)  ⎠\n",
       "─────────────────────────────────── + ────────────────────────────────────────\n",
       "  ___________________________                                                 \n",
       " ╱           2             2                           ⎛         2            \n",
       "╱  (-x₁ + x₂)  + (-y₁ + y₂)                            ⎝(x₀ - x₂)  + (y₀ - y₂)\n",
       "                                                                              \n",
       "___________⎞                            ⎛         _________________________⎞  \n",
       "         2 ⎟                            ⎜        ╱          2            2 ⎟  \n",
       "-y₁ + y₂)  ⎠⋅(-x₁ + x₂)⋅(y₁ - y₂)   2.0⋅⎝-l₁ + ╲╱  (x₀ - x₂)  + (y₀ - y₂)  ⎠⋅(\n",
       "───────────────────────────────── + ──────────────────────────────────────────\n",
       "              3/2                                                             \n",
       "            2⎞                                       ⎛         2            2⎞\n",
       "+ (-y₁ + y₂) ⎠                                       ⎝(x₀ - x₂)  + (y₀ - y₂) ⎠\n",
       "\n",
       "________________⎞                                                             \n",
       " 2            2 ⎟                                                             \n",
       ")  + (y₀ - y₂)  ⎠   2.0⋅(-x₀ + x₂)⋅(x₀ - x₂)                                  \n",
       "───────────────── + ────────────────────────                                  \n",
       "___________                  2            2                                   \n",
       "         2          (x₀ - x₂)  + (y₀ - y₂)                                    \n",
       "(y₀ - y₂)                                                                     \n",
       "                                                                              \n",
       "                                                                              \n",
       "                                                                              \n",
       "   2.0⋅(-x₀ + x₂)⋅(y₀ - y₂)                                                   \n",
       " + ────────────────────────                                                   \n",
       "            2            2                                                    \n",
       "   (x₀ - x₂)  + (y₀ - y₂)                                                     \n",
       "                                                                              \n",
       "                                                                              \n",
       "_________________⎞                                                            \n",
       " 2             2 ⎟                                                            \n",
       ")  + (-y₁ + y₂)  ⎠    2.0⋅(-x₁ + x₂)⋅(x₁ - x₂)                                \n",
       "────────────────── + ─────────────────────────                                \n",
       "____________                   2             2                                \n",
       "          2          (-x₁ + x₂)  + (-y₁ + y₂)                                 \n",
       "(-y₁ + y₂)                                                                    \n",
       "                                                                              \n",
       "                                                                              \n",
       "                                                                              \n",
       "    2.0⋅(-x₁ + x₂)⋅(y₁ - y₂)                                                  \n",
       " + ─────────────────────────                                                  \n",
       "             2             2                                                  \n",
       "   (-x₁ + x₂)  + (-y₁ + y₂)                                                   \n",
       "                                                                              \n",
       "                                                                              \n",
       "                            ⎛         _________________________⎞              \n",
       "                            ⎜        ╱          2            2 ⎟              \n",
       "⋅(-x₀ + x₂)⋅(x₀ - x₂)   2.0⋅⎝-l₁ + ╲╱  (x₀ - x₂)  + (y₀ - y₂)  ⎠       2.0⋅(-x\n",
       "───────────────────── + ──────────────────────────────────────── + ───────────\n",
       "  3/2                            _________________________                  2 \n",
       "2⎞                              ╱          2            2          (x₀ - x₂)  \n",
       " ⎠                            ╲╱  (x₀ - x₂)  + (y₀ - y₂)                      \n",
       "                                                                              \n",
       "                                                                              \n",
       "                                                                              \n",
       "-x₀ + x₂)⋅(y₀ - y₂)   2.0⋅(-x₀ + x₂)⋅(-y₀ + y₂)   2.0⋅(-x₁ + x₂)⋅(-y₁ + y₂)   \n",
       "─────────────────── + ───────────────────────── + ─────────────────────────   \n",
       "3/2                             2            2              2             2   \n",
       "                       (x₀ - x₂)  + (y₀ - y₂)     (-x₁ + x₂)  + (-y₁ + y₂)    \n",
       "                                                                              \n",
       "\n",
       "                                                                              \n",
       "                                                                              \n",
       "                                                                              \n",
       "                                                                              \n",
       "                                                                              \n",
       "                                                                              \n",
       "                                                                              \n",
       "                                                                              \n",
       "                                                                              \n",
       "                                                                              \n",
       "                                                                              \n",
       "                                                                              \n",
       "                                                                              \n",
       "                                                                              \n",
       "                                                                              \n",
       "                                                                              \n",
       "                                                                              \n",
       "                                                                              \n",
       "                                                                              \n",
       "                                                                              \n",
       "                                                                              \n",
       "                                                                              \n",
       "                                                                              \n",
       "                                                                              \n",
       "                                                                              \n",
       "                                                                              \n",
       "                                                                              \n",
       "                                                                              \n",
       "                                                                              \n",
       "                                                                              \n",
       "                                                                              \n",
       "                                                                              \n",
       "                                                                              \n",
       "       2                          2                                           \n",
       "₀ + x₂)             2.0⋅(-x₁ + x₂)                                            \n",
       "──────────── + ─────────────────────────                                      \n",
       "           2             2             2                                      \n",
       "+ (y₀ - y₂)    (-x₁ + x₂)  + (-y₁ + y₂)                                       \n",
       "                                                                              \n",
       "                                                                              \n",
       "                                              ⎛         ______________________\n",
       "                                              ⎜        ╱           2          \n",
       "                                          2.0⋅⎝-l₀ + ╲╱  (-x₁ + x₂)  + (-y₁ + \n",
       "                                          ────────────────────────────────────\n",
       "                                                                              \n",
       "                                                           ⎛          2       \n",
       "                                                           ⎝(-x₁ + x₂)  + (-y₁\n",
       "\n",
       "                                                           ⎛         _________\n",
       "                                                           ⎜        ╱         \n",
       "                                                       2.0⋅⎝-l₁ + ╲╱  (x₀ - x₂\n",
       "                                                       ───────────────────────\n",
       "                                                                              \n",
       "                                                                       ⎛      \n",
       "                                                                       ⎝(x₀ - \n",
       "                                                                              \n",
       "                                          ⎛         _________________________⎞\n",
       "                                          ⎜        ╱          2            2 ⎟\n",
       "                                      2.0⋅⎝-l₁ + ╲╱  (x₀ - x₂)  + (y₀ - y₂)  ⎠\n",
       "                                      ────────────────────────────────────────\n",
       "                                                                           3/2\n",
       "                                                  ⎛         2            2⎞   \n",
       "                                                  ⎝(x₀ - x₂)  + (y₀ - y₂) ⎠   \n",
       "                                                                              \n",
       "                                                         ⎛         ___________\n",
       "                                                         ⎜        ╱           \n",
       "                                                     2.0⋅⎝-l₀ + ╲╱  (-x₁ + x₂)\n",
       "                                                     ─────────────────────────\n",
       "                                                                              \n",
       "                                                                     ⎛        \n",
       "                                                                     ⎝(-x₁ + x\n",
       "                                                                              \n",
       "                                       ⎛         ___________________________⎞ \n",
       "                                       ⎜        ╱           2             2 ⎟ \n",
       "                                   2.0⋅⎝-l₀ + ╲╱  (-x₁ + x₂)  + (-y₁ + y₂)  ⎠⋅\n",
       "                                   ───────────────────────────────────────────\n",
       "                                                                          3/2 \n",
       "                                               ⎛          2             2⎞    \n",
       "                                               ⎝(-x₁ + x₂)  + (-y₁ + y₂) ⎠    \n",
       "                                                                              \n",
       "           ⎛         ___________________________⎞                            ⎛\n",
       "           ⎜        ╱           2             2 ⎟                            ⎜\n",
       "       2.0⋅⎝-l₀ + ╲╱  (-x₁ + x₂)  + (-y₁ + y₂)  ⎠⋅(-x₁ + x₂)⋅(y₁ - y₂)   2.0⋅⎝\n",
       "       ─────────────────────────────────────────────────────────────── + ─────\n",
       "                                                   3/2                        \n",
       "                        ⎛          2             2⎞                           \n",
       "                        ⎝(-x₁ + x₂)  + (-y₁ + y₂) ⎠                           \n",
       "                                                                              \n",
       "_____⎞                            ⎛         ___________________________⎞      \n",
       "   2 ⎟                            ⎜        ╱           2             2 ⎟      \n",
       "y₂)  ⎠⋅(-y₁ + y₂)⋅(y₁ - y₂)   2.0⋅⎝-l₀ + ╲╱  (-x₁ + x₂)  + (-y₁ + y₂)  ⎠   2.0\n",
       "─────────────────────────── + ────────────────────────────────────────── + ───\n",
       "        3/2                            ___________________________            \n",
       "      2⎞                              ╱           2             2             \n",
       " + y₂) ⎠                            ╲╱  (-x₁ + x₂)  + (-y₁ + y₂)              \n",
       "\n",
       "________________⎞                                                             \n",
       " 2            2 ⎟                                                             \n",
       ")  + (y₀ - y₂)  ⎠⋅(x₀ - x₂)⋅(y₀ - y₂)   2.0⋅(x₀ - x₂)⋅(-y₀ + y₂)              \n",
       "───────────────────────────────────── + ────────────────────────              \n",
       "                  3/2                            2            2               \n",
       "   2            2⎞                      (x₀ - x₂)  + (y₀ - y₂)                \n",
       "x₂)  + (y₀ - y₂) ⎠                                                            \n",
       "                                                                              \n",
       "                  ⎛         _________________________⎞                        \n",
       "          2       ⎜        ╱          2            2 ⎟                        \n",
       "⋅(y₀ - y₂)    2.0⋅⎝-l₁ + ╲╱  (x₀ - x₂)  + (y₀ - y₂)  ⎠   2.0⋅(-y₀ + y₂)⋅(y₀ - \n",
       "─────────── - ──────────────────────────────────────── + ─────────────────────\n",
       "                       _________________________                  2           \n",
       "                      ╱          2            2          (x₀ - x₂)  + (y₀ - y₂\n",
       "                    ╲╱  (x₀ - x₂)  + (y₀ - y₂)                                \n",
       "                                                                              \n",
       "________________⎞                                                             \n",
       "2             2 ⎟                                                             \n",
       "  + (-y₁ + y₂)  ⎠⋅(x₁ - x₂)⋅(y₁ - y₂)    2.0⋅(x₁ - x₂)⋅(-y₁ + y₂)             \n",
       "───────────────────────────────────── + ─────────────────────────             \n",
       "                  3/2                             2             2             \n",
       "  2             2⎞                      (-x₁ + x₂)  + (-y₁ + y₂)              \n",
       "₂)  + (-y₁ + y₂) ⎠                                                            \n",
       "                                                                              \n",
       "                 ⎛         ___________________________⎞                       \n",
       "         2       ⎜        ╱           2             2 ⎟                       \n",
       "(y₁ - y₂)    2.0⋅⎝-l₀ + ╲╱  (-x₁ + x₂)  + (-y₁ + y₂)  ⎠    2.0⋅(-y₁ + y₂)⋅(y₁ \n",
       "────────── - ────────────────────────────────────────── + ────────────────────\n",
       "                      ___________________________                   2         \n",
       "                     ╱           2             2          (-x₁ + x₂)  + (-y₁ +\n",
       "                   ╲╱  (-x₁ + x₂)  + (-y₁ + y₂)                               \n",
       "                                                                              \n",
       "         _________________________⎞                                           \n",
       "        ╱          2            2 ⎟                                           \n",
       "-l₁ + ╲╱  (x₀ - x₂)  + (y₀ - y₂)  ⎠⋅(-x₀ + x₂)⋅(y₀ - y₂)   2.0⋅(-x₀ + x₂)⋅(-y₀\n",
       "──────────────────────────────────────────────────────── + ───────────────────\n",
       "                                     3/2                             2        \n",
       "            ⎛         2            2⎞                       (x₀ - x₂)  + (y₀ -\n",
       "            ⎝(x₀ - x₂)  + (y₀ - y₂) ⎠                                         \n",
       "                                                                              \n",
       " ⎛         _________________________⎞                            ⎛         ___\n",
       " ⎜        ╱          2            2 ⎟                            ⎜        ╱   \n",
       "⋅⎝-l₁ + ╲╱  (x₀ - x₂)  + (y₀ - y₂)  ⎠⋅(-y₀ + y₂)⋅(y₀ - y₂)   2.0⋅⎝-l₁ + ╲╱  (x\n",
       "────────────────────────────────────────────────────────── + ─────────────────\n",
       "                                       3/2                            ________\n",
       "              ⎛         2            2⎞                              ╱        \n",
       "              ⎝(x₀ - x₂)  + (y₀ - y₂) ⎠                            ╲╱  (x₀ - x\n",
       "\n",
       "                                                                             ⎤\n",
       "                                                                             ⎥\n",
       "                                                                             ⎥\n",
       "                                                                             ⎥\n",
       "                                                                             ⎥\n",
       "                                                                             ⎥\n",
       "                                                                             ⎥\n",
       "                                                                             ⎥\n",
       "                                                                             ⎥\n",
       "                                                                             ⎥\n",
       "y₂)                                                                          ⎥\n",
       "───                                                                          ⎥\n",
       " 2                                                                           ⎥\n",
       ")                                                                            ⎥\n",
       "                                                                             ⎥\n",
       "                                                                             ⎥\n",
       "                                                                             ⎥\n",
       "                                                                             ⎥\n",
       "                                                                             ⎥\n",
       "                                                                             ⎥\n",
       "                                                                             ⎥\n",
       "                                                                             ⎥\n",
       "                                                                             ⎥\n",
       "                                                                             ⎥\n",
       "                                                                             ⎥\n",
       "                                                                             ⎥\n",
       "- y₂)                                                                        ⎥\n",
       "─────                                                                        ⎥\n",
       "    2                                                                        ⎥\n",
       " y₂)                                                                         ⎥\n",
       "                                                                             ⎥\n",
       "                                                                             ⎥\n",
       "                                                                             ⎥\n",
       "                                                                             ⎥\n",
       " + y₂)   2.0⋅(-x₁ + x₂)⋅(-y₁ + y₂)                                           ⎥\n",
       "────── + ─────────────────────────                                           ⎥\n",
       "    2              2             2                                           ⎥\n",
       " y₂)     (-x₁ + x₂)  + (-y₁ + y₂)                                            ⎥\n",
       "                                                                             ⎥\n",
       "                                                                             ⎥\n",
       "______________________⎞                                                      ⎥\n",
       "       2            2 ⎟                     2                          2     ⎥\n",
       "₀ - x₂)  + (y₀ - y₂)  ⎠       2.0⋅(-y₀ + y₂)             2.0⋅(-y₁ + y₂)      ⎥\n",
       "─────────────────────── + ─────────────────────── + ─────────────────────────⎥\n",
       "_________________                  2            2             2             2⎥\n",
       "  2            2          (x₀ - x₂)  + (y₀ - y₂)    (-x₁ + x₂)  + (-y₁ + y₂) ⎥\n",
       "₂)  + (y₀ - y₂)                                                              ⎦"
      ]
     },
     "execution_count": 814,
     "metadata": {},
     "output_type": "execute_result"
    }
   ],
   "source": [
    "H"
   ]
  },
  {
   "cell_type": "code",
   "execution_count": 787,
   "id": "67d93f6e",
   "metadata": {},
   "outputs": [],
   "source": [
    "X = sym.Matrix([0.01,0.01,0.01, 1.0, 1.0, 1.0])\n",
    "\n",
    "l0p = 0.5\n",
    "l1p = 0.75\n",
    "l2p = 1.0\n"
   ]
  },
  {
   "cell_type": "code",
   "execution_count": 788,
   "id": "61c97fd2",
   "metadata": {},
   "outputs": [],
   "source": [
    "sub = {x0: X[0], y0: X[1], x1: X[2], y1: X[3], x2: X[4], y2: X[5], l0: l0p, l1: l1p, l2: l2p }\n",
    "\n",
    "Gp = G.subs(sub).evalf()\n",
    "Hp = H.subs(sub).evalf()\n"
   ]
  },
  {
   "cell_type": "code",
   "execution_count": 789,
   "id": "a1b3548a",
   "metadata": {},
   "outputs": [
    {
     "data": {
      "text/latex": [
       "$\\displaystyle \\left[\\begin{matrix}-0.919335828220179 & -0.404335828220179 & -0.464998 & 1.4852 & 5.40433982822018 & 4.91933982822018\\end{matrix}\\right]$"
      ],
      "text/plain": [
       "[-0.919335828220179  -0.404335828220179  -0.464998  1.4852  5.40433982822018  \n",
       "4.91933982822018]"
      ]
     },
     "execution_count": 789,
     "metadata": {},
     "output_type": "execute_result"
    }
   ],
   "source": [
    "Gp"
   ]
  },
  {
   "cell_type": "code",
   "execution_count": 790,
   "id": "451371f3",
   "metadata": {},
   "outputs": [
    {
     "data": {
      "text/latex": [
       "$\\displaystyle \\left[\\begin{matrix}1.44491102435363 & 0.536086955444354 & 0.0202020202020202 & 0.5 & -1.46431304455565 & -1.03568695544435\\\\0.536086955444354 & 3.46511304455565 & -0.5 & -2.0 & -0.0356869554443541 & -1.46431304455565\\\\0.0202020202020202 & -0.5 & 3.98039797979798 & 0.04 & -2.0 & 0.5\\\\0.5 & -2.0 & 0.04 & 8.99009898989899 & -0.5 & -0.98989898989899\\\\-1.46431304455565 & -0.0356869554443541 & -2.0 & -0.5 & 11.4643130445556 & 4.53568695544435\\\\-1.03568695544435 & -1.46431304455565 & 0.5 & -0.98989898989899 & 4.53568695544435 & 10.4542120344546\\end{matrix}\\right]$"
      ],
      "text/plain": [
       "⎡ 1.44491102435363    0.536086955444354   0.0202020202020202         0.5      \n",
       "⎢                                                                             \n",
       "⎢0.536086955444354    3.46511304455565           -0.5               -2.0      \n",
       "⎢                                                                             \n",
       "⎢0.0202020202020202         -0.5           3.98039797979798         0.04      \n",
       "⎢                                                                             \n",
       "⎢       0.5                 -2.0                 0.04         8.99009898989899\n",
       "⎢                                                                             \n",
       "⎢-1.46431304455565   -0.0356869554443541         -2.0               -0.5      \n",
       "⎢                                                                             \n",
       "⎣-1.03568695544435    -1.46431304455565          0.5          -0.9898989898989\n",
       "\n",
       "    -1.46431304455565   -1.03568695544435⎤\n",
       "                                         ⎥\n",
       "   -0.0356869554443541  -1.46431304455565⎥\n",
       "                                         ⎥\n",
       "          -2.0                 0.5       ⎥\n",
       "                                         ⎥\n",
       "          -0.5          -0.98989898989899⎥\n",
       "                                         ⎥\n",
       "    11.4643130445556    4.53568695544435 ⎥\n",
       "                                         ⎥\n",
       "9   4.53568695544435    10.4542120344546 ⎦"
      ]
     },
     "execution_count": 790,
     "metadata": {},
     "output_type": "execute_result"
    }
   ],
   "source": [
    "Hp"
   ]
  },
  {
   "cell_type": "code",
   "execution_count": 791,
   "id": "bce5e2fd",
   "metadata": {},
   "outputs": [
    {
     "data": {
      "text/latex": [
       "$\\displaystyle \\left[\\begin{matrix}0.908297863293444 & -0.181155959177307 & 0.0306177609940834 & -0.0839742189670885 & 0.115040233048778 & 0.00528225895418442\\\\-0.181155959177307 & 0.408091176981549 & 0.0234240250880447 & 0.105750009011116 & -0.0388757214733452 & 0.064973838782931\\\\0.0306177609940833 & 0.0234240250880447 & 0.294211184331966 & 0.00191796692441314 & 0.0704907219247445 & -0.0381588133170735\\\\-0.0839742189670885 & 0.105750009011116 & 0.00191796692441314 & 0.141490234261827 & -0.014153849720113 & 0.0259397457832548\\\\0.115040233048777 & -0.0388757214733452 & 0.0704907219247445 & -0.014153849720113 & 0.136403373576586 & -0.057940263701094\\\\0.00528225895418452 & 0.064973838782931 & -0.0381588133170735 & 0.0259397457832548 & -0.057940263701094 & 0.134698706589221\\end{matrix}\\right]$"
      ],
      "text/plain": [
       "⎡ 0.908297863293444   -0.181155959177307   0.0306177609940834   -0.08397421896\n",
       "⎢                                                                             \n",
       "⎢-0.181155959177307    0.408091176981549   0.0234240250880447    0.10575000901\n",
       "⎢                                                                             \n",
       "⎢0.0306177609940833   0.0234240250880447    0.294211184331966   0.001917966924\n",
       "⎢                                                                             \n",
       "⎢-0.0839742189670885   0.105750009011116   0.00191796692441314   0.14149023426\n",
       "⎢                                                                             \n",
       "⎢ 0.115040233048777   -0.0388757214733452  0.0704907219247445   -0.01415384972\n",
       "⎢                                                                             \n",
       "⎣0.00528225895418452   0.064973838782931   -0.0381588133170735  0.025939745783\n",
       "\n",
       "70885   0.115040233048778   0.00528225895418442⎤\n",
       "                                               ⎥\n",
       "1116   -0.0388757214733452   0.064973838782931 ⎥\n",
       "                                               ⎥\n",
       "41314  0.0704907219247445   -0.0381588133170735⎥\n",
       "                                               ⎥\n",
       "1827   -0.014153849720113   0.0259397457832548 ⎥\n",
       "                                               ⎥\n",
       "0113    0.136403373576586   -0.057940263701094 ⎥\n",
       "                                               ⎥\n",
       "2548   -0.057940263701094    0.134698706589221 ⎦"
      ]
     },
     "execution_count": 791,
     "metadata": {},
     "output_type": "execute_result"
    }
   ],
   "source": [
    "Hp.inv()"
   ]
  },
  {
   "cell_type": "code",
   "execution_count": 802,
   "id": "1d8bfd8d",
   "metadata": {},
   "outputs": [
    {
     "name": "stdout",
     "output_type": "stream",
     "text": [
      "l0: 0.9536268111631451\n",
      "l1: 0.6416755688545542\n",
      "l2: 0.8212090280884303\n",
      "Matrix([[-0.00839391495134083], [-0.512435759263010], [-0.259301880179701], [0.407591027278639], [0.355477088868304], [0.223758617510698]])\n"
     ]
    }
   ],
   "source": [
    "import math\n",
    "\n",
    "sub = {x0: X[0], y0: X[1], x1: X[2], y1: X[3], x2: X[4], y2: X[5], l0: l0p, l1: l1p, l2: l2p }\n",
    "\n",
    "Gp = G.subs(sub).evalf()\n",
    "Hp = H.subs(sub).evalf()\n",
    "\n",
    "X = X - Hp.inv() * Gp.transpose()\n",
    "\n",
    "print(f'l0: {math.sqrt((X[0]-X[2])**2 + (X[1]-X[3])**2)}')\n",
    "print(f'l1: {math.sqrt((X[2]-X[4])**2 + (X[3]-X[5])**2)}')\n",
    "print(f'l2: {math.sqrt((X[4]-X[0])**2 + (X[5]-X[1])**2)}')\n",
    "print(X)"
   ]
  },
  {
   "cell_type": "code",
   "execution_count": 631,
   "id": "d97d661e",
   "metadata": {},
   "outputs": [
    {
     "name": "stdout",
     "output_type": "stream",
     "text": [
      "Matrix([[1.66582078893295, 0.589492895495888, 0.216494670508820, 0.528191645062339, -0.882315459441773, -1.11768454055823], [0.589492895495888, 3.75644716044441, 0.528191645062339, -1.87413170100264, -1.11768454055823, -0.882315459441773], [0.216494670508820, 0.528191645062339, 2.65763703049382, -1.05638329012468, -1.87413170100264, 0.528191645062338], [0.528191645062339, -1.87413170100264, -1.05638329012468, 2.65763703049382, 0.528191645062338, 0.216494670508820], [-0.882315459441773, -1.11768454055823, -1.87413170100264, 0.528191645062338, 3.75644716044441, 0.589492895495889], [-1.11768454055823, -0.882315459441773, 0.528191645062338, 0.216494670508820, 0.589492895495889, 1.66582078893295]])\n"
     ]
    }
   ],
   "source": [
    "print(Hp)"
   ]
  },
  {
   "cell_type": "code",
   "execution_count": null,
   "id": "da7ed609",
   "metadata": {},
   "outputs": [],
   "source": []
  }
 ],
 "metadata": {
  "interpreter": {
   "hash": "142bb7ed49d307727cc6590928c3cb9add4293057b95bd8d2da9aded96aec942"
  },
  "kernelspec": {
   "display_name": "Python 3 (ipykernel)",
   "language": "python",
   "name": "python3"
  },
  "language_info": {
   "codemirror_mode": {
    "name": "ipython",
    "version": 3
   },
   "file_extension": ".py",
   "mimetype": "text/x-python",
   "name": "python",
   "nbconvert_exporter": "python",
   "pygments_lexer": "ipython3",
   "version": "3.8.10"
  }
 },
 "nbformat": 4,
 "nbformat_minor": 5
}
