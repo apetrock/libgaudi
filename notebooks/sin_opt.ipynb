{
 "cells": [
  {
   "cell_type": "code",
   "execution_count": null,
   "metadata": {},
   "outputs": [
    {
     "ename": "",
     "evalue": "",
     "output_type": "error",
     "traceback": [
      "\u001b[1;31mThe kernel died. Error: /usr/bin/python: No module named ipykernel_launcher... View Jupyter <a href='command:jupyter.viewOutput'>log</a> for further details."
     ]
    }
   ],
   "source": [
    "import sympy as sym\n",
    "from sympy import init_printing,latex,symbols\n",
    "\n",
    "init_printing()"
   ]
  },
  {
   "cell_type": "code",
   "execution_count": 50,
   "metadata": {},
   "outputs": [
    {
     "data": {
      "text/latex": [
       "$\\displaystyle \\left(- S_{1} + \\sin{\\left(\\omega \\theta_{1} + \\phi \\right)}\\right)^{2} + \\left(- S_{2} + \\sin{\\left(\\omega \\theta_{2} + \\phi \\right)}\\right)^{2}$"
      ],
      "text/plain": [
       "                     2                        2\n",
       "(-S₁ + sin(ω⋅θ₁ + φ))  + (-S₂ + sin(ω⋅θ₂ + φ)) "
      ]
     },
     "execution_count": 50,
     "metadata": {},
     "output_type": "execute_result"
    }
   ],
   "source": [
    "omega, thet1, thet2, phi, S1, S2 = sym.symbols('omega, theta_1, theta_2, phi, S_1, S_2')\n",
    "r = (sym.sin(omega * thet1 + phi) - S1)**2 + (sym.sin(omega * thet2 + phi) - S2)**2\n",
    "r"
   ]
  },
  {
   "cell_type": "code",
   "execution_count": 51,
   "metadata": {},
   "outputs": [],
   "source": [
    "dsdomega = sym.diff(r,omega)\n",
    "dsdphi = sym.diff(r,phi)"
   ]
  },
  {
   "cell_type": "code",
   "execution_count": 52,
   "metadata": {},
   "outputs": [
    {
     "data": {
      "text/latex": [
       "$\\displaystyle 2 \\theta_{1} \\left(- S_{1} + \\sin{\\left(\\omega \\theta_{1} + \\phi \\right)}\\right) \\cos{\\left(\\omega \\theta_{1} + \\phi \\right)} + 2 \\theta_{2} \\left(- S_{2} + \\sin{\\left(\\omega \\theta_{2} + \\phi \\right)}\\right) \\cos{\\left(\\omega \\theta_{2} + \\phi \\right)}$"
      ],
      "text/plain": [
       "2⋅θ₁⋅(-S₁ + sin(ω⋅θ₁ + φ))⋅cos(ω⋅θ₁ + φ) + 2⋅θ₂⋅(-S₂ + sin(ω⋅θ₂ + φ))⋅cos(ω⋅θ₂ + φ)"
      ]
     },
     "execution_count": 52,
     "metadata": {},
     "output_type": "execute_result"
    }
   ],
   "source": [
    "dsdomega"
   ]
  },
  {
   "cell_type": "code",
   "execution_count": 53,
   "metadata": {},
   "outputs": [
    {
     "data": {
      "text/latex": [
       "$\\displaystyle 2 \\left(- S_{1} + \\sin{\\left(\\omega \\theta_{1} + \\phi \\right)}\\right) \\cos{\\left(\\omega \\theta_{1} + \\phi \\right)} + 2 \\left(- S_{2} + \\sin{\\left(\\omega \\theta_{2} + \\phi \\right)}\\right) \\cos{\\left(\\omega \\theta_{2} + \\phi \\right)}$"
      ],
      "text/plain": [
       "2⋅(-S₁ + sin(ω⋅θ₁ + φ))⋅cos(ω⋅θ₁ + φ) + 2⋅(-S₂ + sin(ω⋅θ₂ + φ))⋅cos(ω⋅θ₂ + φ)"
      ]
     },
     "execution_count": 53,
     "metadata": {},
     "output_type": "execute_result"
    }
   ],
   "source": [
    "dsdphi"
   ]
  },
  {
   "cell_type": "code",
   "execution_count": null,
   "metadata": {},
   "outputs": [],
   "source": []
  },
  {
   "cell_type": "code",
   "execution_count": null,
   "metadata": {},
   "outputs": [],
   "source": []
  },
  {
   "cell_type": "code",
   "execution_count": null,
   "metadata": {},
   "outputs": [],
   "source": []
  }
 ],
 "metadata": {
  "kernelspec": {
   "display_name": "Python 3 (ipykernel)",
   "language": "python",
   "name": "python3"
  }
 },
 "nbformat": 4,
 "nbformat_minor": 2
}
