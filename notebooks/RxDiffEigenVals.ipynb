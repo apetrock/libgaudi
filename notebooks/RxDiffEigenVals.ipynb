{
 "cells": [
  {
   "cell_type": "code",
   "execution_count": 2,
   "id": "198e3b89",
   "metadata": {},
   "outputs": [],
   "source": [
    "import sympy as sym"
   ]
  },
  {
   "cell_type": "code",
   "execution_count": 6,
   "id": "74483ed6",
   "metadata": {},
   "outputs": [],
   "source": [
    "a = sym.symbols('a')\n",
    "b = sym.symbols('b')\n",
    "c = sym.symbols('c')\n",
    "d = sym.symbols('d')\n",
    "e = sym.symbols('e')\n",
    "f = sym.symbols('f')\n",
    "\n",
    "cbc = sym.symbols('c_bc')\n",
    "cbd = sym.symbols('c_bd')\n",
    "cea = sym.symbols('c_ea')\n",
    "cae = sym.symbols('c_ae')\n",
    "cf = sym.symbols('c_f')\n",
    "\n",
    "sa = sym.symbols('s_a')\n",
    "sd = sym.symbols('s_d')\n",
    "se = sym.symbols('s_e')\n",
    "s = sym.symbols('s')\n",
    "\n",
    "ba = sym.symbols('b_a')\n",
    "bb = sym.symbols('b_b')\n",
    "bc = sym.symbols('b_c')\n",
    "bd = sym.symbols('b_d')\n",
    "be = sym.symbols('b_e')\n",
    "bf = sym.symbols('b_f')\n",
    "\n",
    "ra = sym.symbols('r_a')\n",
    "rb = sym.symbols('r_b')\n",
    "rc = sym.symbols('r_c')\n",
    "rd = sym.symbols('r_d')\n",
    "re = sym.symbols('r_e')\n",
    "rf = sym.symbols('r_f')\n",
    "\n",
    "Da = sym.symbols('D_a')\n",
    "Db = sym.symbols('D_b')\n",
    "Dc = sym.symbols('D_c')\n",
    "Dd = sym.symbols('D_d')\n",
    "De = sym.symbols('D_e')\n",
    "Df = sym.symbols('D_f')\n",
    "\n",
    "\n",
    "sba2 = s * b * a * a + ba;\n",
    "rfe2 = re * f * e * e + be;\n",
    "    \n",
    "X = sym.Matrix([\n",
    " sba2 - ra * a - cae * e * a + Da * a,\n",
    " bb * (1 + cbc * c + cbd * d) - sba2 - rb * b + Db * b,\n",
    " rc * a * (c * c + bc) / (sd + d) - rc * c + Dc * c,\n",
    " rc * a * (c * c + bc) - rd * d + bd + Dd * d,\n",
    " rfe2 - re * e + cea * a + De * e,\n",
    " bf * a + cf - rfe2 - rf * f + Df * f\n",
    "])\n",
    "\n",
    "Y = sym.Matrix([\n",
    " a,b,c,d,e,f   \n",
    "])\n"
   ]
  },
  {
   "cell_type": "code",
   "execution_count": 21,
   "id": "821972f9",
   "metadata": {},
   "outputs": [
    {
     "data": {
      "text/latex": [
       "$\\displaystyle \\left[\\begin{matrix}D_{a} + 2 a b s - c_{ae} e - r_{a} & a^{2} s & 0 & 0 & - a c_{ae} & 0\\\\- 2 a b s & D_{b} - a^{2} s - r_{b} & b_{b} c_{bc} & b_{b} c_{bd} & 0 & 0\\\\\\frac{r_{c} \\left(b_{c} + c^{2}\\right)}{d + s_{d}} & 0 & D_{c} + \\frac{2 a c r_{c}}{d + s_{d}} - r_{c} & - \\frac{a r_{c} \\left(b_{c} + c^{2}\\right)}{\\left(d + s_{d}\\right)^{2}} & 0 & 0\\\\r_{c} \\left(b_{c} + c^{2}\\right) & 0 & 2 a c r_{c} & D_{d} - r_{d} & 0 & 0\\\\c_{ea} & 0 & 0 & 0 & D_{e} + 2 e f r_{e} - r_{e} & e^{2} r_{e}\\\\b_{f} & 0 & 0 & 0 & - 2 e f r_{e} & D_{f} - e^{2} r_{e} - r_{f}\\end{matrix}\\right]$"
      ],
      "text/plain": [
       "Matrix([\n",
       "[D_a + 2*a*b*s - c_ae*e - r_a,             a**2*s,                               0,                                0,               -a*c_ae,                    0],\n",
       "[                    -2*a*b*s, D_b - a**2*s - r_b,                        b_b*c_bc,                         b_b*c_bd,                     0,                    0],\n",
       "[  r_c*(b_c + c**2)/(d + s_d),                  0, D_c + 2*a*c*r_c/(d + s_d) - r_c, -a*r_c*(b_c + c**2)/(d + s_d)**2,                     0,                    0],\n",
       "[            r_c*(b_c + c**2),                  0,                       2*a*c*r_c,                        D_d - r_d,                     0,                    0],\n",
       "[                        c_ea,                  0,                               0,                                0, D_e + 2*e*f*r_e - r_e,             e**2*r_e],\n",
       "[                         b_f,                  0,                               0,                                0,            -2*e*f*r_e, D_f - e**2*r_e - r_f]])"
      ]
     },
     "execution_count": 21,
     "metadata": {},
     "output_type": "execute_result"
    }
   ],
   "source": [
    "M = X.jacobian(Y)\n",
    "M"
   ]
  },
  {
   "cell_type": "code",
   "execution_count": 22,
   "id": "1153c1ac",
   "metadata": {},
   "outputs": [
    {
     "data": {
      "text/latex": [
       "$\\displaystyle \\left[\\begin{matrix}D_{a} - c_{ae} - r_{a} + 2 s & s & 0 & 0 & - c_{ae} & 0\\\\- 2 s & D_{b} - r_{b} - s & b_{b} c_{bc} & b_{b} c_{bd} & 0 & 0\\\\\\frac{r_{c} \\left(b_{c} + 1\\right)}{s_{d} + 1} & 0 & D_{c} - r_{c} + \\frac{2 r_{c}}{s_{d} + 1} & - \\frac{r_{c} \\left(b_{c} + 1\\right)}{\\left(s_{d} + 1\\right)^{2}} & 0 & 0\\\\r_{c} \\left(b_{c} + 1\\right) & 0 & 2 r_{c} & D_{d} - r_{d} & 0 & 0\\\\c_{ea} & 0 & 0 & 0 & D_{e} + r_{e} & r_{e}\\\\b_{f} & 0 & 0 & 0 & - 2 r_{e} & D_{f} - r_{e} - r_{f}\\end{matrix}\\right]$"
      ],
      "text/plain": [
       "Matrix([\n",
       "[ D_a - c_ae - r_a + 2*s,             s,                           0,                           0,     -c_ae,               0],\n",
       "[                   -2*s, D_b - r_b - s,                    b_b*c_bc,                    b_b*c_bd,         0,               0],\n",
       "[r_c*(b_c + 1)/(s_d + 1),             0, D_c - r_c + 2*r_c/(s_d + 1), -r_c*(b_c + 1)/(s_d + 1)**2,         0,               0],\n",
       "[          r_c*(b_c + 1),             0,                       2*r_c,                   D_d - r_d,         0,               0],\n",
       "[                   c_ea,             0,                           0,                           0, D_e + r_e,             r_e],\n",
       "[                    b_f,             0,                           0,                           0,    -2*r_e, D_f - r_e - r_f]])"
      ]
     },
     "execution_count": 22,
     "metadata": {},
     "output_type": "execute_result"
    }
   ],
   "source": [
    "M1 = M.copy();\n",
    "M1 = M.subs(a,1)\n",
    "M1 = M1.subs(b,1)\n",
    "M1 = M1.subs(c,1)\n",
    "M1 = M1.subs(d,1)\n",
    "M1 = M1.subs(e,1)\n",
    "M1 = M1.subs(f,1)\n",
    "M1"
   ]
  },
  {
   "cell_type": "code",
   "execution_count": 24,
   "id": "b394751a",
   "metadata": {},
   "outputs": [
    {
     "data": {
      "text/latex": [
       "$\\displaystyle \\left[\\begin{matrix}D_{a} - r_{a} & 0 & 0 & 0 & 0 & 0\\\\0 & D_{b} - r_{b} & b_{b} c_{bc} & b_{b} c_{bd} & 0 & 0\\\\\\frac{b_{c} r_{c}}{s_{d}} & 0 & D_{c} - r_{c} & 0 & 0 & 0\\\\b_{c} r_{c} & 0 & 0 & D_{d} - r_{d} & 0 & 0\\\\c_{ea} & 0 & 0 & 0 & D_{e} - r_{e} & 0\\\\b_{f} & 0 & 0 & 0 & 0 & D_{f} - r_{f}\\end{matrix}\\right]$"
      ],
      "text/plain": [
       "Matrix([\n",
       "[  D_a - r_a,         0,         0,         0,         0,         0],\n",
       "[          0, D_b - r_b,  b_b*c_bc,  b_b*c_bd,         0,         0],\n",
       "[b_c*r_c/s_d,         0, D_c - r_c,         0,         0,         0],\n",
       "[    b_c*r_c,         0,         0, D_d - r_d,         0,         0],\n",
       "[       c_ea,         0,         0,         0, D_e - r_e,         0],\n",
       "[        b_f,         0,         0,         0,         0, D_f - r_f]])"
      ]
     },
     "execution_count": 24,
     "metadata": {},
     "output_type": "execute_result"
    }
   ],
   "source": [
    "M0 = M.copy();\n",
    "M0 = M0.subs(a,0)\n",
    "M0 = M0.subs(b,0)\n",
    "M0 = M0.subs(c,0)\n",
    "M0 = M0.subs(d,0)\n",
    "M0 = M0.subs(e,0)\n",
    "M0 = M0.subs(f,0)\n",
    "M0"
   ]
  },
  {
   "cell_type": "code",
   "execution_count": 11,
   "id": "1779fc75",
   "metadata": {},
   "outputs": [
    {
     "data": {
      "text/latex": [
       "$\\displaystyle D_{a} + D_{b} + D_{c} + D_{d} + D_{e} + D_{f} - c_{ae} - r_{a} - r_{b} - r_{c} + \\frac{2 r_{c}}{s_{d} + 1} - r_{d} - r_{f} + s$"
      ],
      "text/plain": [
       "D_a + D_b + D_c + D_d + D_e + D_f - c_ae - r_a - r_b - r_c + 2*r_c/(s_d + 1) - r_d - r_f + s"
      ]
     },
     "execution_count": 11,
     "metadata": {},
     "output_type": "execute_result"
    }
   ],
   "source": [
    "M1.trace()"
   ]
  },
  {
   "cell_type": "code",
   "execution_count": 25,
   "id": "921803f4",
   "metadata": {},
   "outputs": [
    {
     "data": {
      "text/latex": [
       "$\\displaystyle D_{a} + D_{b} + D_{c} + D_{d} + D_{e} + D_{f} - r_{a} - r_{b} - r_{c} - r_{d} - r_{e} - r_{f}$"
      ],
      "text/plain": [
       "D_a + D_b + D_c + D_d + D_e + D_f - r_a - r_b - r_c - r_d - r_e - r_f"
      ]
     },
     "execution_count": 25,
     "metadata": {},
     "output_type": "execute_result"
    }
   ],
   "source": [
    "M0.trace()"
   ]
  },
  {
   "cell_type": "code",
   "execution_count": 26,
   "id": "15608674",
   "metadata": {},
   "outputs": [
    {
     "ename": "KeyboardInterrupt",
     "evalue": "",
     "output_type": "error",
     "traceback": [
      "\u001b[0;31m---------------------------------------------------------------------------\u001b[0m",
      "\u001b[0;31mKeyboardInterrupt\u001b[0m                         Traceback (most recent call last)",
      "\u001b[0;32m/tmp/ipykernel_724454/3883199278.py\u001b[0m in \u001b[0;36m<module>\u001b[0;34m\u001b[0m\n\u001b[0;32m----> 1\u001b[0;31m \u001b[0mM1\u001b[0m\u001b[0;34m.\u001b[0m\u001b[0mdet\u001b[0m\u001b[0;34m(\u001b[0m\u001b[0;34m)\u001b[0m\u001b[0;34m\u001b[0m\u001b[0;34m\u001b[0m\u001b[0m\n\u001b[0m",
      "\u001b[0;32m~/.virtualenvs/gaudi/lib/python3.8/site-packages/sympy/matrices/matrices.py\u001b[0m in \u001b[0;36mdet\u001b[0;34m(self, method, iszerofunc)\u001b[0m\n\u001b[1;32m    126\u001b[0m \u001b[0;34m\u001b[0m\u001b[0m\n\u001b[1;32m    127\u001b[0m     \u001b[0;32mdef\u001b[0m \u001b[0mdet\u001b[0m\u001b[0;34m(\u001b[0m\u001b[0mself\u001b[0m\u001b[0;34m,\u001b[0m \u001b[0mmethod\u001b[0m\u001b[0;34m=\u001b[0m\u001b[0;34m\"bareiss\"\u001b[0m\u001b[0;34m,\u001b[0m \u001b[0miszerofunc\u001b[0m\u001b[0;34m=\u001b[0m\u001b[0;32mNone\u001b[0m\u001b[0;34m)\u001b[0m\u001b[0;34m:\u001b[0m\u001b[0;34m\u001b[0m\u001b[0;34m\u001b[0m\u001b[0m\n\u001b[0;32m--> 128\u001b[0;31m         \u001b[0;32mreturn\u001b[0m \u001b[0m_det\u001b[0m\u001b[0;34m(\u001b[0m\u001b[0mself\u001b[0m\u001b[0;34m,\u001b[0m \u001b[0mmethod\u001b[0m\u001b[0;34m=\u001b[0m\u001b[0mmethod\u001b[0m\u001b[0;34m,\u001b[0m \u001b[0miszerofunc\u001b[0m\u001b[0;34m=\u001b[0m\u001b[0miszerofunc\u001b[0m\u001b[0;34m)\u001b[0m\u001b[0;34m\u001b[0m\u001b[0;34m\u001b[0m\u001b[0m\n\u001b[0m\u001b[1;32m    129\u001b[0m \u001b[0;34m\u001b[0m\u001b[0m\n\u001b[1;32m    130\u001b[0m     \u001b[0;32mdef\u001b[0m \u001b[0mper\u001b[0m\u001b[0;34m(\u001b[0m\u001b[0mself\u001b[0m\u001b[0;34m)\u001b[0m\u001b[0;34m:\u001b[0m\u001b[0;34m\u001b[0m\u001b[0;34m\u001b[0m\u001b[0m\n",
      "\u001b[0;32m~/.virtualenvs/gaudi/lib/python3.8/site-packages/sympy/matrices/determinant.py\u001b[0m in \u001b[0;36m_det\u001b[0;34m(M, method, iszerofunc)\u001b[0m\n\u001b[1;32m    668\u001b[0m             \u001b[0mdet\u001b[0m \u001b[0;34m=\u001b[0m \u001b[0m_det_DOM\u001b[0m\u001b[0;34m(\u001b[0m\u001b[0mM\u001b[0m\u001b[0;34m[\u001b[0m\u001b[0mb\u001b[0m\u001b[0;34m,\u001b[0m \u001b[0mb\u001b[0m\u001b[0;34m]\u001b[0m\u001b[0;34m)\u001b[0m\u001b[0;34m\u001b[0m\u001b[0;34m\u001b[0m\u001b[0m\n\u001b[1;32m    669\u001b[0m         \u001b[0;32melif\u001b[0m \u001b[0mmethod\u001b[0m \u001b[0;34m==\u001b[0m \u001b[0;34m\"bareiss\"\u001b[0m\u001b[0;34m:\u001b[0m\u001b[0;34m\u001b[0m\u001b[0;34m\u001b[0m\u001b[0m\n\u001b[0;32m--> 670\u001b[0;31m             \u001b[0mdet\u001b[0m \u001b[0;34m=\u001b[0m \u001b[0mM\u001b[0m\u001b[0;34m[\u001b[0m\u001b[0mb\u001b[0m\u001b[0;34m,\u001b[0m \u001b[0mb\u001b[0m\u001b[0;34m]\u001b[0m\u001b[0;34m.\u001b[0m\u001b[0m_eval_det_bareiss\u001b[0m\u001b[0;34m(\u001b[0m\u001b[0miszerofunc\u001b[0m\u001b[0;34m=\u001b[0m\u001b[0miszerofunc\u001b[0m\u001b[0;34m)\u001b[0m\u001b[0;34m\u001b[0m\u001b[0;34m\u001b[0m\u001b[0m\n\u001b[0m\u001b[1;32m    671\u001b[0m         \u001b[0;32melif\u001b[0m \u001b[0mmethod\u001b[0m \u001b[0;34m==\u001b[0m \u001b[0;34m\"berkowitz\"\u001b[0m\u001b[0;34m:\u001b[0m\u001b[0;34m\u001b[0m\u001b[0;34m\u001b[0m\u001b[0m\n\u001b[1;32m    672\u001b[0m             \u001b[0mdet\u001b[0m \u001b[0;34m=\u001b[0m \u001b[0mM\u001b[0m\u001b[0;34m[\u001b[0m\u001b[0mb\u001b[0m\u001b[0;34m,\u001b[0m \u001b[0mb\u001b[0m\u001b[0;34m]\u001b[0m\u001b[0;34m.\u001b[0m\u001b[0m_eval_det_berkowitz\u001b[0m\u001b[0;34m(\u001b[0m\u001b[0;34m)\u001b[0m\u001b[0;34m\u001b[0m\u001b[0;34m\u001b[0m\u001b[0m\n",
      "\u001b[0;32m~/.virtualenvs/gaudi/lib/python3.8/site-packages/sympy/matrices/matrices.py\u001b[0m in \u001b[0;36m_eval_det_bareiss\u001b[0;34m(self, iszerofunc)\u001b[0m\n\u001b[1;32m    102\u001b[0m \u001b[0;34m\u001b[0m\u001b[0m\n\u001b[1;32m    103\u001b[0m     \u001b[0;32mdef\u001b[0m \u001b[0m_eval_det_bareiss\u001b[0m\u001b[0;34m(\u001b[0m\u001b[0mself\u001b[0m\u001b[0;34m,\u001b[0m \u001b[0miszerofunc\u001b[0m\u001b[0;34m=\u001b[0m\u001b[0m_is_zero_after_expand_mul\u001b[0m\u001b[0;34m)\u001b[0m\u001b[0;34m:\u001b[0m\u001b[0;34m\u001b[0m\u001b[0;34m\u001b[0m\u001b[0m\n\u001b[0;32m--> 104\u001b[0;31m         \u001b[0;32mreturn\u001b[0m \u001b[0m_det_bareiss\u001b[0m\u001b[0;34m(\u001b[0m\u001b[0mself\u001b[0m\u001b[0;34m,\u001b[0m \u001b[0miszerofunc\u001b[0m\u001b[0;34m=\u001b[0m\u001b[0miszerofunc\u001b[0m\u001b[0;34m)\u001b[0m\u001b[0;34m\u001b[0m\u001b[0;34m\u001b[0m\u001b[0m\n\u001b[0m\u001b[1;32m    105\u001b[0m \u001b[0;34m\u001b[0m\u001b[0m\n\u001b[1;32m    106\u001b[0m     \u001b[0;32mdef\u001b[0m \u001b[0m_eval_det_berkowitz\u001b[0m\u001b[0;34m(\u001b[0m\u001b[0mself\u001b[0m\u001b[0;34m)\u001b[0m\u001b[0;34m:\u001b[0m\u001b[0;34m\u001b[0m\u001b[0;34m\u001b[0m\u001b[0m\n",
      "\u001b[0;32m~/.virtualenvs/gaudi/lib/python3.8/site-packages/sympy/matrices/determinant.py\u001b[0m in \u001b[0;36m_det_bareiss\u001b[0;34m(M, iszerofunc)\u001b[0m\n\u001b[1;32m    741\u001b[0m         \u001b[0;31m# convention.\u001b[0m\u001b[0;34m\u001b[0m\u001b[0;34m\u001b[0m\u001b[0;34m\u001b[0m\u001b[0m\n\u001b[1;32m    742\u001b[0m \u001b[0;34m\u001b[0m\u001b[0m\n\u001b[0;32m--> 743\u001b[0;31m     \u001b[0;32mreturn\u001b[0m \u001b[0mbareiss\u001b[0m\u001b[0;34m(\u001b[0m\u001b[0mM\u001b[0m\u001b[0;34m)\u001b[0m\u001b[0;34m\u001b[0m\u001b[0;34m\u001b[0m\u001b[0m\n\u001b[0m\u001b[1;32m    744\u001b[0m \u001b[0;34m\u001b[0m\u001b[0m\n\u001b[1;32m    745\u001b[0m \u001b[0;34m\u001b[0m\u001b[0m\n",
      "\u001b[0;32m~/.virtualenvs/gaudi/lib/python3.8/site-packages/sympy/matrices/determinant.py\u001b[0m in \u001b[0;36mbareiss\u001b[0;34m(mat, cumm)\u001b[0m\n\u001b[1;32m    730\u001b[0m             \u001b[0;32mreturn\u001b[0m \u001b[0mret\u001b[0m\u001b[0;34m\u001b[0m\u001b[0;34m\u001b[0m\u001b[0m\n\u001b[1;32m    731\u001b[0m \u001b[0;34m\u001b[0m\u001b[0m\n\u001b[0;32m--> 732\u001b[0;31m         \u001b[0;32mreturn\u001b[0m \u001b[0msign\u001b[0m\u001b[0;34m*\u001b[0m\u001b[0mbareiss\u001b[0m\u001b[0;34m(\u001b[0m\u001b[0mM\u001b[0m\u001b[0;34m.\u001b[0m\u001b[0m_new\u001b[0m\u001b[0;34m(\u001b[0m\u001b[0mmat\u001b[0m\u001b[0;34m.\u001b[0m\u001b[0mrows\u001b[0m \u001b[0;34m-\u001b[0m \u001b[0;36m1\u001b[0m\u001b[0;34m,\u001b[0m \u001b[0mmat\u001b[0m\u001b[0;34m.\u001b[0m\u001b[0mcols\u001b[0m \u001b[0;34m-\u001b[0m \u001b[0;36m1\u001b[0m\u001b[0;34m,\u001b[0m \u001b[0mentry\u001b[0m\u001b[0;34m)\u001b[0m\u001b[0;34m,\u001b[0m \u001b[0mpivot_val\u001b[0m\u001b[0;34m)\u001b[0m\u001b[0;34m\u001b[0m\u001b[0;34m\u001b[0m\u001b[0m\n\u001b[0m\u001b[1;32m    733\u001b[0m \u001b[0;34m\u001b[0m\u001b[0m\n\u001b[1;32m    734\u001b[0m     \u001b[0;32mif\u001b[0m \u001b[0;32mnot\u001b[0m \u001b[0mM\u001b[0m\u001b[0;34m.\u001b[0m\u001b[0mis_square\u001b[0m\u001b[0;34m:\u001b[0m\u001b[0;34m\u001b[0m\u001b[0;34m\u001b[0m\u001b[0m\n",
      "\u001b[0;32m~/.virtualenvs/gaudi/lib/python3.8/site-packages/sympy/matrices/determinant.py\u001b[0m in \u001b[0;36mbareiss\u001b[0;34m(mat, cumm)\u001b[0m\n\u001b[1;32m    730\u001b[0m             \u001b[0;32mreturn\u001b[0m \u001b[0mret\u001b[0m\u001b[0;34m\u001b[0m\u001b[0;34m\u001b[0m\u001b[0m\n\u001b[1;32m    731\u001b[0m \u001b[0;34m\u001b[0m\u001b[0m\n\u001b[0;32m--> 732\u001b[0;31m         \u001b[0;32mreturn\u001b[0m \u001b[0msign\u001b[0m\u001b[0;34m*\u001b[0m\u001b[0mbareiss\u001b[0m\u001b[0;34m(\u001b[0m\u001b[0mM\u001b[0m\u001b[0;34m.\u001b[0m\u001b[0m_new\u001b[0m\u001b[0;34m(\u001b[0m\u001b[0mmat\u001b[0m\u001b[0;34m.\u001b[0m\u001b[0mrows\u001b[0m \u001b[0;34m-\u001b[0m \u001b[0;36m1\u001b[0m\u001b[0;34m,\u001b[0m \u001b[0mmat\u001b[0m\u001b[0;34m.\u001b[0m\u001b[0mcols\u001b[0m \u001b[0;34m-\u001b[0m \u001b[0;36m1\u001b[0m\u001b[0;34m,\u001b[0m \u001b[0mentry\u001b[0m\u001b[0;34m)\u001b[0m\u001b[0;34m,\u001b[0m \u001b[0mpivot_val\u001b[0m\u001b[0;34m)\u001b[0m\u001b[0;34m\u001b[0m\u001b[0;34m\u001b[0m\u001b[0m\n\u001b[0m\u001b[1;32m    733\u001b[0m \u001b[0;34m\u001b[0m\u001b[0m\n\u001b[1;32m    734\u001b[0m     \u001b[0;32mif\u001b[0m \u001b[0;32mnot\u001b[0m \u001b[0mM\u001b[0m\u001b[0;34m.\u001b[0m\u001b[0mis_square\u001b[0m\u001b[0;34m:\u001b[0m\u001b[0;34m\u001b[0m\u001b[0;34m\u001b[0m\u001b[0m\n",
      "\u001b[0;32m~/.virtualenvs/gaudi/lib/python3.8/site-packages/sympy/matrices/determinant.py\u001b[0m in \u001b[0;36mbareiss\u001b[0;34m(mat, cumm)\u001b[0m\n\u001b[1;32m    730\u001b[0m             \u001b[0;32mreturn\u001b[0m \u001b[0mret\u001b[0m\u001b[0;34m\u001b[0m\u001b[0;34m\u001b[0m\u001b[0m\n\u001b[1;32m    731\u001b[0m \u001b[0;34m\u001b[0m\u001b[0m\n\u001b[0;32m--> 732\u001b[0;31m         \u001b[0;32mreturn\u001b[0m \u001b[0msign\u001b[0m\u001b[0;34m*\u001b[0m\u001b[0mbareiss\u001b[0m\u001b[0;34m(\u001b[0m\u001b[0mM\u001b[0m\u001b[0;34m.\u001b[0m\u001b[0m_new\u001b[0m\u001b[0;34m(\u001b[0m\u001b[0mmat\u001b[0m\u001b[0;34m.\u001b[0m\u001b[0mrows\u001b[0m \u001b[0;34m-\u001b[0m \u001b[0;36m1\u001b[0m\u001b[0;34m,\u001b[0m \u001b[0mmat\u001b[0m\u001b[0;34m.\u001b[0m\u001b[0mcols\u001b[0m \u001b[0;34m-\u001b[0m \u001b[0;36m1\u001b[0m\u001b[0;34m,\u001b[0m \u001b[0mentry\u001b[0m\u001b[0;34m)\u001b[0m\u001b[0;34m,\u001b[0m \u001b[0mpivot_val\u001b[0m\u001b[0;34m)\u001b[0m\u001b[0;34m\u001b[0m\u001b[0;34m\u001b[0m\u001b[0m\n\u001b[0m\u001b[1;32m    733\u001b[0m \u001b[0;34m\u001b[0m\u001b[0m\n\u001b[1;32m    734\u001b[0m     \u001b[0;32mif\u001b[0m \u001b[0;32mnot\u001b[0m \u001b[0mM\u001b[0m\u001b[0;34m.\u001b[0m\u001b[0mis_square\u001b[0m\u001b[0;34m:\u001b[0m\u001b[0;34m\u001b[0m\u001b[0;34m\u001b[0m\u001b[0m\n",
      "\u001b[0;32m~/.virtualenvs/gaudi/lib/python3.8/site-packages/sympy/matrices/determinant.py\u001b[0m in \u001b[0;36mbareiss\u001b[0;34m(mat, cumm)\u001b[0m\n\u001b[1;32m    730\u001b[0m             \u001b[0;32mreturn\u001b[0m \u001b[0mret\u001b[0m\u001b[0;34m\u001b[0m\u001b[0;34m\u001b[0m\u001b[0m\n\u001b[1;32m    731\u001b[0m \u001b[0;34m\u001b[0m\u001b[0m\n\u001b[0;32m--> 732\u001b[0;31m         \u001b[0;32mreturn\u001b[0m \u001b[0msign\u001b[0m\u001b[0;34m*\u001b[0m\u001b[0mbareiss\u001b[0m\u001b[0;34m(\u001b[0m\u001b[0mM\u001b[0m\u001b[0;34m.\u001b[0m\u001b[0m_new\u001b[0m\u001b[0;34m(\u001b[0m\u001b[0mmat\u001b[0m\u001b[0;34m.\u001b[0m\u001b[0mrows\u001b[0m \u001b[0;34m-\u001b[0m \u001b[0;36m1\u001b[0m\u001b[0;34m,\u001b[0m \u001b[0mmat\u001b[0m\u001b[0;34m.\u001b[0m\u001b[0mcols\u001b[0m \u001b[0;34m-\u001b[0m \u001b[0;36m1\u001b[0m\u001b[0;34m,\u001b[0m \u001b[0mentry\u001b[0m\u001b[0;34m)\u001b[0m\u001b[0;34m,\u001b[0m \u001b[0mpivot_val\u001b[0m\u001b[0;34m)\u001b[0m\u001b[0;34m\u001b[0m\u001b[0;34m\u001b[0m\u001b[0m\n\u001b[0m\u001b[1;32m    733\u001b[0m \u001b[0;34m\u001b[0m\u001b[0m\n\u001b[1;32m    734\u001b[0m     \u001b[0;32mif\u001b[0m \u001b[0;32mnot\u001b[0m \u001b[0mM\u001b[0m\u001b[0;34m.\u001b[0m\u001b[0mis_square\u001b[0m\u001b[0;34m:\u001b[0m\u001b[0;34m\u001b[0m\u001b[0;34m\u001b[0m\u001b[0m\n",
      "\u001b[0;32m~/.virtualenvs/gaudi/lib/python3.8/site-packages/sympy/matrices/repmatrix.py\u001b[0m in \u001b[0;36m_new\u001b[0;34m(cls, copy, *args, **kwargs)\u001b[0m\n\u001b[1;32m    326\u001b[0m             \u001b[0mrows\u001b[0m\u001b[0;34m,\u001b[0m \u001b[0mcols\u001b[0m\u001b[0;34m,\u001b[0m \u001b[0mflat_list\u001b[0m \u001b[0;34m=\u001b[0m \u001b[0margs\u001b[0m\u001b[0;34m\u001b[0m\u001b[0;34m\u001b[0m\u001b[0m\n\u001b[1;32m    327\u001b[0m         \u001b[0;32melse\u001b[0m\u001b[0;34m:\u001b[0m\u001b[0;34m\u001b[0m\u001b[0;34m\u001b[0m\u001b[0m\n\u001b[0;32m--> 328\u001b[0;31m             \u001b[0mrows\u001b[0m\u001b[0;34m,\u001b[0m \u001b[0mcols\u001b[0m\u001b[0;34m,\u001b[0m \u001b[0mflat_list\u001b[0m \u001b[0;34m=\u001b[0m \u001b[0mcls\u001b[0m\u001b[0;34m.\u001b[0m\u001b[0m_handle_creation_inputs\u001b[0m\u001b[0;34m(\u001b[0m\u001b[0;34m*\u001b[0m\u001b[0margs\u001b[0m\u001b[0;34m,\u001b[0m \u001b[0;34m**\u001b[0m\u001b[0mkwargs\u001b[0m\u001b[0;34m)\u001b[0m\u001b[0;34m\u001b[0m\u001b[0;34m\u001b[0m\u001b[0m\n\u001b[0m\u001b[1;32m    329\u001b[0m             \u001b[0mflat_list\u001b[0m \u001b[0;34m=\u001b[0m \u001b[0mlist\u001b[0m\u001b[0;34m(\u001b[0m\u001b[0mflat_list\u001b[0m\u001b[0;34m)\u001b[0m \u001b[0;31m# create a shallow copy\u001b[0m\u001b[0;34m\u001b[0m\u001b[0;34m\u001b[0m\u001b[0m\n\u001b[1;32m    330\u001b[0m \u001b[0;34m\u001b[0m\u001b[0m\n",
      "\u001b[0;32m~/.virtualenvs/gaudi/lib/python3.8/site-packages/sympy/matrices/matrices.py\u001b[0m in \u001b[0;36m_handle_creation_inputs\u001b[0;34m(cls, *args, **kwargs)\u001b[0m\n\u001b[1;32m   1124\u001b[0m                 \u001b[0;32mfor\u001b[0m \u001b[0mi\u001b[0m \u001b[0;32min\u001b[0m \u001b[0mrange\u001b[0m\u001b[0;34m(\u001b[0m\u001b[0mrows\u001b[0m\u001b[0;34m)\u001b[0m\u001b[0;34m:\u001b[0m\u001b[0;34m\u001b[0m\u001b[0;34m\u001b[0m\u001b[0m\n\u001b[1;32m   1125\u001b[0m                     flat_list.extend(\n\u001b[0;32m-> 1126\u001b[0;31m                         [cls._sympify(op(cls._sympify(i), cls._sympify(j)))\n\u001b[0m\u001b[1;32m   1127\u001b[0m                          for j in range(cols)])\n\u001b[1;32m   1128\u001b[0m \u001b[0;34m\u001b[0m\u001b[0m\n",
      "\u001b[0;32m~/.virtualenvs/gaudi/lib/python3.8/site-packages/sympy/matrices/matrices.py\u001b[0m in \u001b[0;36m<listcomp>\u001b[0;34m(.0)\u001b[0m\n\u001b[1;32m   1124\u001b[0m                 \u001b[0;32mfor\u001b[0m \u001b[0mi\u001b[0m \u001b[0;32min\u001b[0m \u001b[0mrange\u001b[0m\u001b[0;34m(\u001b[0m\u001b[0mrows\u001b[0m\u001b[0;34m)\u001b[0m\u001b[0;34m:\u001b[0m\u001b[0;34m\u001b[0m\u001b[0;34m\u001b[0m\u001b[0m\n\u001b[1;32m   1125\u001b[0m                     flat_list.extend(\n\u001b[0;32m-> 1126\u001b[0;31m                         [cls._sympify(op(cls._sympify(i), cls._sympify(j)))\n\u001b[0m\u001b[1;32m   1127\u001b[0m                          for j in range(cols)])\n\u001b[1;32m   1128\u001b[0m \u001b[0;34m\u001b[0m\u001b[0m\n",
      "\u001b[0;32m~/.virtualenvs/gaudi/lib/python3.8/site-packages/sympy/matrices/determinant.py\u001b[0m in \u001b[0;36mentry\u001b[0;34m(i, j)\u001b[0m\n\u001b[1;32m    725\u001b[0m             \u001b[0mret\u001b[0m \u001b[0;34m=\u001b[0m \u001b[0;34m(\u001b[0m\u001b[0mpivot_val\u001b[0m\u001b[0;34m*\u001b[0m\u001b[0mtmp_mat\u001b[0m\u001b[0;34m[\u001b[0m\u001b[0mi\u001b[0m\u001b[0;34m,\u001b[0m \u001b[0mj\u001b[0m \u001b[0;34m+\u001b[0m \u001b[0;36m1\u001b[0m\u001b[0;34m]\u001b[0m \u001b[0;34m-\u001b[0m \u001b[0mmat\u001b[0m\u001b[0;34m[\u001b[0m\u001b[0mpivot_pos\u001b[0m\u001b[0;34m,\u001b[0m \u001b[0mj\u001b[0m \u001b[0;34m+\u001b[0m \u001b[0;36m1\u001b[0m\u001b[0;34m]\u001b[0m\u001b[0;34m*\u001b[0m\u001b[0mtmp_mat\u001b[0m\u001b[0;34m[\u001b[0m\u001b[0mi\u001b[0m\u001b[0;34m,\u001b[0m \u001b[0;36m0\u001b[0m\u001b[0;34m]\u001b[0m\u001b[0;34m)\u001b[0m \u001b[0;34m/\u001b[0m \u001b[0mcumm\u001b[0m\u001b[0;34m\u001b[0m\u001b[0;34m\u001b[0m\u001b[0m\n\u001b[1;32m    726\u001b[0m             \u001b[0;32mif\u001b[0m \u001b[0m_get_intermediate_simp_bool\u001b[0m\u001b[0;34m(\u001b[0m\u001b[0;32mTrue\u001b[0m\u001b[0;34m)\u001b[0m\u001b[0;34m:\u001b[0m\u001b[0;34m\u001b[0m\u001b[0;34m\u001b[0m\u001b[0m\n\u001b[0;32m--> 727\u001b[0;31m                 \u001b[0;32mreturn\u001b[0m \u001b[0m_dotprodsimp\u001b[0m\u001b[0;34m(\u001b[0m\u001b[0mret\u001b[0m\u001b[0;34m)\u001b[0m\u001b[0;34m\u001b[0m\u001b[0;34m\u001b[0m\u001b[0m\n\u001b[0m\u001b[1;32m    728\u001b[0m             \u001b[0;32melif\u001b[0m \u001b[0;32mnot\u001b[0m \u001b[0mret\u001b[0m\u001b[0;34m.\u001b[0m\u001b[0mis_Atom\u001b[0m\u001b[0;34m:\u001b[0m\u001b[0;34m\u001b[0m\u001b[0;34m\u001b[0m\u001b[0m\n\u001b[1;32m    729\u001b[0m                 \u001b[0;32mreturn\u001b[0m \u001b[0mcancel\u001b[0m\u001b[0;34m(\u001b[0m\u001b[0mret\u001b[0m\u001b[0;34m)\u001b[0m\u001b[0;34m\u001b[0m\u001b[0;34m\u001b[0m\u001b[0m\n",
      "\u001b[0;32m~/.virtualenvs/gaudi/lib/python3.8/site-packages/sympy/simplify/simplify.py\u001b[0m in \u001b[0;36mdotprodsimp\u001b[0;34m(expr, withsimp)\u001b[0m\n\u001b[1;32m   2159\u001b[0m \u001b[0;34m\u001b[0m\u001b[0m\n\u001b[1;32m   2160\u001b[0m                 \u001b[0;32mif\u001b[0m \u001b[0mexpr2\u001b[0m \u001b[0;32mis\u001b[0m \u001b[0mexpr\u001b[0m \u001b[0;32mor\u001b[0m \u001b[0mcount_ops_alg\u001b[0m\u001b[0;34m(\u001b[0m\u001b[0mexpr2\u001b[0m\u001b[0;34m)\u001b[0m\u001b[0;34m[\u001b[0m\u001b[0;36m0\u001b[0m\u001b[0;34m]\u001b[0m \u001b[0;34m>=\u001b[0m \u001b[0;36m6\u001b[0m\u001b[0;34m:\u001b[0m \u001b[0;31m# check again after substitution\u001b[0m\u001b[0;34m\u001b[0m\u001b[0;34m\u001b[0m\u001b[0m\n\u001b[0;32m-> 2161\u001b[0;31m                     \u001b[0mexpr3\u001b[0m \u001b[0;34m=\u001b[0m \u001b[0mcancel\u001b[0m\u001b[0;34m(\u001b[0m\u001b[0mexpr2\u001b[0m\u001b[0;34m)\u001b[0m\u001b[0;34m\u001b[0m\u001b[0;34m\u001b[0m\u001b[0m\n\u001b[0m\u001b[1;32m   2162\u001b[0m \u001b[0;34m\u001b[0m\u001b[0m\n\u001b[1;32m   2163\u001b[0m                     \u001b[0;32mif\u001b[0m \u001b[0mexpr3\u001b[0m \u001b[0;34m!=\u001b[0m \u001b[0mexpr2\u001b[0m\u001b[0;34m:\u001b[0m\u001b[0;34m\u001b[0m\u001b[0;34m\u001b[0m\u001b[0m\n",
      "\u001b[0;32m~/.virtualenvs/gaudi/lib/python3.8/site-packages/sympy/polys/polytools.py\u001b[0m in \u001b[0;36mcancel\u001b[0;34m(f, *gens, **args)\u001b[0m\n\u001b[1;32m   6681\u001b[0m             \u001b[0;32mreturn\u001b[0m \u001b[0mf\u001b[0m\u001b[0;34m\u001b[0m\u001b[0;34m\u001b[0m\u001b[0m\n\u001b[1;32m   6682\u001b[0m         \u001b[0mf\u001b[0m \u001b[0;34m=\u001b[0m \u001b[0mfactor_terms\u001b[0m\u001b[0;34m(\u001b[0m\u001b[0mf\u001b[0m\u001b[0;34m,\u001b[0m \u001b[0mradical\u001b[0m\u001b[0;34m=\u001b[0m\u001b[0;32mTrue\u001b[0m\u001b[0;34m)\u001b[0m\u001b[0;34m\u001b[0m\u001b[0;34m\u001b[0m\u001b[0m\n\u001b[0;32m-> 6683\u001b[0;31m         \u001b[0mp\u001b[0m\u001b[0;34m,\u001b[0m \u001b[0mq\u001b[0m \u001b[0;34m=\u001b[0m \u001b[0mf\u001b[0m\u001b[0;34m.\u001b[0m\u001b[0mas_numer_denom\u001b[0m\u001b[0;34m(\u001b[0m\u001b[0;34m)\u001b[0m\u001b[0;34m\u001b[0m\u001b[0;34m\u001b[0m\u001b[0m\n\u001b[0m\u001b[1;32m   6684\u001b[0m \u001b[0;34m\u001b[0m\u001b[0m\n\u001b[1;32m   6685\u001b[0m     \u001b[0;32melif\u001b[0m \u001b[0mlen\u001b[0m\u001b[0;34m(\u001b[0m\u001b[0mf\u001b[0m\u001b[0;34m)\u001b[0m \u001b[0;34m==\u001b[0m \u001b[0;36m2\u001b[0m\u001b[0;34m:\u001b[0m\u001b[0;34m\u001b[0m\u001b[0;34m\u001b[0m\u001b[0m\n",
      "\u001b[0;32m~/.virtualenvs/gaudi/lib/python3.8/site-packages/sympy/core/mul.py\u001b[0m in \u001b[0;36mas_numer_denom\u001b[0;34m(self)\u001b[0m\n\u001b[1;32m   1244\u001b[0m         \u001b[0;31m# as the order is not guaranteed to be the same once they have\u001b[0m\u001b[0;34m\u001b[0m\u001b[0;34m\u001b[0m\u001b[0;34m\u001b[0m\u001b[0m\n\u001b[1;32m   1245\u001b[0m         \u001b[0;31m# been separated from each other\u001b[0m\u001b[0;34m\u001b[0m\u001b[0;34m\u001b[0m\u001b[0;34m\u001b[0m\u001b[0m\n\u001b[0;32m-> 1246\u001b[0;31m         \u001b[0mnumers\u001b[0m\u001b[0;34m,\u001b[0m \u001b[0mdenoms\u001b[0m \u001b[0;34m=\u001b[0m \u001b[0mlist\u001b[0m\u001b[0;34m(\u001b[0m\u001b[0mzip\u001b[0m\u001b[0;34m(\u001b[0m\u001b[0;34m*\u001b[0m\u001b[0;34m[\u001b[0m\u001b[0mf\u001b[0m\u001b[0;34m.\u001b[0m\u001b[0mas_numer_denom\u001b[0m\u001b[0;34m(\u001b[0m\u001b[0;34m)\u001b[0m \u001b[0;32mfor\u001b[0m \u001b[0mf\u001b[0m \u001b[0;32min\u001b[0m \u001b[0mself\u001b[0m\u001b[0;34m.\u001b[0m\u001b[0margs\u001b[0m\u001b[0;34m]\u001b[0m\u001b[0;34m)\u001b[0m\u001b[0;34m)\u001b[0m\u001b[0;34m\u001b[0m\u001b[0;34m\u001b[0m\u001b[0m\n\u001b[0m\u001b[1;32m   1247\u001b[0m         \u001b[0;32mreturn\u001b[0m \u001b[0mself\u001b[0m\u001b[0;34m.\u001b[0m\u001b[0mfunc\u001b[0m\u001b[0;34m(\u001b[0m\u001b[0;34m*\u001b[0m\u001b[0mnumers\u001b[0m\u001b[0;34m)\u001b[0m\u001b[0;34m,\u001b[0m \u001b[0mself\u001b[0m\u001b[0;34m.\u001b[0m\u001b[0mfunc\u001b[0m\u001b[0;34m(\u001b[0m\u001b[0;34m*\u001b[0m\u001b[0mdenoms\u001b[0m\u001b[0;34m)\u001b[0m\u001b[0;34m\u001b[0m\u001b[0;34m\u001b[0m\u001b[0m\n\u001b[1;32m   1248\u001b[0m \u001b[0;34m\u001b[0m\u001b[0m\n",
      "\u001b[0;32m~/.virtualenvs/gaudi/lib/python3.8/site-packages/sympy/core/mul.py\u001b[0m in \u001b[0;36m<listcomp>\u001b[0;34m(.0)\u001b[0m\n\u001b[1;32m   1244\u001b[0m         \u001b[0;31m# as the order is not guaranteed to be the same once they have\u001b[0m\u001b[0;34m\u001b[0m\u001b[0;34m\u001b[0m\u001b[0;34m\u001b[0m\u001b[0m\n\u001b[1;32m   1245\u001b[0m         \u001b[0;31m# been separated from each other\u001b[0m\u001b[0;34m\u001b[0m\u001b[0;34m\u001b[0m\u001b[0;34m\u001b[0m\u001b[0m\n\u001b[0;32m-> 1246\u001b[0;31m         \u001b[0mnumers\u001b[0m\u001b[0;34m,\u001b[0m \u001b[0mdenoms\u001b[0m \u001b[0;34m=\u001b[0m \u001b[0mlist\u001b[0m\u001b[0;34m(\u001b[0m\u001b[0mzip\u001b[0m\u001b[0;34m(\u001b[0m\u001b[0;34m*\u001b[0m\u001b[0;34m[\u001b[0m\u001b[0mf\u001b[0m\u001b[0;34m.\u001b[0m\u001b[0mas_numer_denom\u001b[0m\u001b[0;34m(\u001b[0m\u001b[0;34m)\u001b[0m \u001b[0;32mfor\u001b[0m \u001b[0mf\u001b[0m \u001b[0;32min\u001b[0m \u001b[0mself\u001b[0m\u001b[0;34m.\u001b[0m\u001b[0margs\u001b[0m\u001b[0;34m]\u001b[0m\u001b[0;34m)\u001b[0m\u001b[0;34m)\u001b[0m\u001b[0;34m\u001b[0m\u001b[0;34m\u001b[0m\u001b[0m\n\u001b[0m\u001b[1;32m   1247\u001b[0m         \u001b[0;32mreturn\u001b[0m \u001b[0mself\u001b[0m\u001b[0;34m.\u001b[0m\u001b[0mfunc\u001b[0m\u001b[0;34m(\u001b[0m\u001b[0;34m*\u001b[0m\u001b[0mnumers\u001b[0m\u001b[0;34m)\u001b[0m\u001b[0;34m,\u001b[0m \u001b[0mself\u001b[0m\u001b[0;34m.\u001b[0m\u001b[0mfunc\u001b[0m\u001b[0;34m(\u001b[0m\u001b[0;34m*\u001b[0m\u001b[0mdenoms\u001b[0m\u001b[0;34m)\u001b[0m\u001b[0;34m\u001b[0m\u001b[0;34m\u001b[0m\u001b[0m\n\u001b[1;32m   1248\u001b[0m \u001b[0;34m\u001b[0m\u001b[0m\n",
      "\u001b[0;32m~/.virtualenvs/gaudi/lib/python3.8/site-packages/sympy/core/add.py\u001b[0m in \u001b[0;36mas_numer_denom\u001b[0;34m(self)\u001b[0m\n\u001b[1;32m    585\u001b[0m         \u001b[0mnd\u001b[0m \u001b[0;34m=\u001b[0m \u001b[0mdefaultdict\u001b[0m\u001b[0;34m(\u001b[0m\u001b[0mlist\u001b[0m\u001b[0;34m)\u001b[0m\u001b[0;34m\u001b[0m\u001b[0;34m\u001b[0m\u001b[0m\n\u001b[1;32m    586\u001b[0m         \u001b[0;32mfor\u001b[0m \u001b[0mf\u001b[0m \u001b[0;32min\u001b[0m \u001b[0mexpr\u001b[0m\u001b[0;34m.\u001b[0m\u001b[0margs\u001b[0m\u001b[0;34m:\u001b[0m\u001b[0;34m\u001b[0m\u001b[0;34m\u001b[0m\u001b[0m\n\u001b[0;32m--> 587\u001b[0;31m             \u001b[0mni\u001b[0m\u001b[0;34m,\u001b[0m \u001b[0mdi\u001b[0m \u001b[0;34m=\u001b[0m \u001b[0mf\u001b[0m\u001b[0;34m.\u001b[0m\u001b[0mas_numer_denom\u001b[0m\u001b[0;34m(\u001b[0m\u001b[0;34m)\u001b[0m\u001b[0;34m\u001b[0m\u001b[0;34m\u001b[0m\u001b[0m\n\u001b[0m\u001b[1;32m    588\u001b[0m             \u001b[0mnd\u001b[0m\u001b[0;34m[\u001b[0m\u001b[0mdi\u001b[0m\u001b[0;34m]\u001b[0m\u001b[0;34m.\u001b[0m\u001b[0mappend\u001b[0m\u001b[0;34m(\u001b[0m\u001b[0mni\u001b[0m\u001b[0;34m)\u001b[0m\u001b[0;34m\u001b[0m\u001b[0;34m\u001b[0m\u001b[0m\n\u001b[1;32m    589\u001b[0m \u001b[0;34m\u001b[0m\u001b[0m\n",
      "\u001b[0;32m~/.virtualenvs/gaudi/lib/python3.8/site-packages/sympy/core/mul.py\u001b[0m in \u001b[0;36mas_numer_denom\u001b[0;34m(self)\u001b[0m\n\u001b[1;32m   1245\u001b[0m         \u001b[0;31m# been separated from each other\u001b[0m\u001b[0;34m\u001b[0m\u001b[0;34m\u001b[0m\u001b[0;34m\u001b[0m\u001b[0m\n\u001b[1;32m   1246\u001b[0m         \u001b[0mnumers\u001b[0m\u001b[0;34m,\u001b[0m \u001b[0mdenoms\u001b[0m \u001b[0;34m=\u001b[0m \u001b[0mlist\u001b[0m\u001b[0;34m(\u001b[0m\u001b[0mzip\u001b[0m\u001b[0;34m(\u001b[0m\u001b[0;34m*\u001b[0m\u001b[0;34m[\u001b[0m\u001b[0mf\u001b[0m\u001b[0;34m.\u001b[0m\u001b[0mas_numer_denom\u001b[0m\u001b[0;34m(\u001b[0m\u001b[0;34m)\u001b[0m \u001b[0;32mfor\u001b[0m \u001b[0mf\u001b[0m \u001b[0;32min\u001b[0m \u001b[0mself\u001b[0m\u001b[0;34m.\u001b[0m\u001b[0margs\u001b[0m\u001b[0;34m]\u001b[0m\u001b[0;34m)\u001b[0m\u001b[0;34m)\u001b[0m\u001b[0;34m\u001b[0m\u001b[0;34m\u001b[0m\u001b[0m\n\u001b[0;32m-> 1247\u001b[0;31m         \u001b[0;32mreturn\u001b[0m \u001b[0mself\u001b[0m\u001b[0;34m.\u001b[0m\u001b[0mfunc\u001b[0m\u001b[0;34m(\u001b[0m\u001b[0;34m*\u001b[0m\u001b[0mnumers\u001b[0m\u001b[0;34m)\u001b[0m\u001b[0;34m,\u001b[0m \u001b[0mself\u001b[0m\u001b[0;34m.\u001b[0m\u001b[0mfunc\u001b[0m\u001b[0;34m(\u001b[0m\u001b[0;34m*\u001b[0m\u001b[0mdenoms\u001b[0m\u001b[0;34m)\u001b[0m\u001b[0;34m\u001b[0m\u001b[0;34m\u001b[0m\u001b[0m\n\u001b[0m\u001b[1;32m   1248\u001b[0m \u001b[0;34m\u001b[0m\u001b[0m\n\u001b[1;32m   1249\u001b[0m     \u001b[0;32mdef\u001b[0m \u001b[0mas_base_exp\u001b[0m\u001b[0;34m(\u001b[0m\u001b[0mself\u001b[0m\u001b[0;34m)\u001b[0m\u001b[0;34m:\u001b[0m\u001b[0;34m\u001b[0m\u001b[0;34m\u001b[0m\u001b[0m\n",
      "\u001b[0;32m~/.virtualenvs/gaudi/lib/python3.8/site-packages/sympy/core/cache.py\u001b[0m in \u001b[0;36mwrapper\u001b[0;34m(*args, **kwargs)\u001b[0m\n\u001b[1;32m     70\u001b[0m         \u001b[0;32mdef\u001b[0m \u001b[0mwrapper\u001b[0m\u001b[0;34m(\u001b[0m\u001b[0;34m*\u001b[0m\u001b[0margs\u001b[0m\u001b[0;34m,\u001b[0m \u001b[0;34m**\u001b[0m\u001b[0mkwargs\u001b[0m\u001b[0;34m)\u001b[0m\u001b[0;34m:\u001b[0m\u001b[0;34m\u001b[0m\u001b[0;34m\u001b[0m\u001b[0m\n\u001b[1;32m     71\u001b[0m             \u001b[0;32mtry\u001b[0m\u001b[0;34m:\u001b[0m\u001b[0;34m\u001b[0m\u001b[0;34m\u001b[0m\u001b[0m\n\u001b[0;32m---> 72\u001b[0;31m                 \u001b[0mretval\u001b[0m \u001b[0;34m=\u001b[0m \u001b[0mcfunc\u001b[0m\u001b[0;34m(\u001b[0m\u001b[0;34m*\u001b[0m\u001b[0margs\u001b[0m\u001b[0;34m,\u001b[0m \u001b[0;34m**\u001b[0m\u001b[0mkwargs\u001b[0m\u001b[0;34m)\u001b[0m\u001b[0;34m\u001b[0m\u001b[0;34m\u001b[0m\u001b[0m\n\u001b[0m\u001b[1;32m     73\u001b[0m             \u001b[0;32mexcept\u001b[0m \u001b[0mTypeError\u001b[0m \u001b[0;32mas\u001b[0m \u001b[0me\u001b[0m\u001b[0;34m:\u001b[0m\u001b[0;34m\u001b[0m\u001b[0;34m\u001b[0m\u001b[0m\n\u001b[1;32m     74\u001b[0m                 \u001b[0;32mif\u001b[0m \u001b[0;32mnot\u001b[0m \u001b[0me\u001b[0m\u001b[0;34m.\u001b[0m\u001b[0margs\u001b[0m \u001b[0;32mor\u001b[0m \u001b[0;32mnot\u001b[0m \u001b[0me\u001b[0m\u001b[0;34m.\u001b[0m\u001b[0margs\u001b[0m\u001b[0;34m[\u001b[0m\u001b[0;36m0\u001b[0m\u001b[0;34m]\u001b[0m\u001b[0;34m.\u001b[0m\u001b[0mstartswith\u001b[0m\u001b[0;34m(\u001b[0m\u001b[0;34m'unhashable type:'\u001b[0m\u001b[0;34m)\u001b[0m\u001b[0;34m:\u001b[0m\u001b[0;34m\u001b[0m\u001b[0;34m\u001b[0m\u001b[0m\n",
      "\u001b[0;32m~/.virtualenvs/gaudi/lib/python3.8/site-packages/sympy/core/operations.py\u001b[0m in \u001b[0;36m__new__\u001b[0;34m(cls, evaluate, _sympify, *args)\u001b[0m\n\u001b[1;32m     83\u001b[0m             \u001b[0;32mreturn\u001b[0m \u001b[0margs\u001b[0m\u001b[0;34m[\u001b[0m\u001b[0;36m0\u001b[0m\u001b[0;34m]\u001b[0m\u001b[0;34m\u001b[0m\u001b[0;34m\u001b[0m\u001b[0m\n\u001b[1;32m     84\u001b[0m \u001b[0;34m\u001b[0m\u001b[0m\n\u001b[0;32m---> 85\u001b[0;31m         \u001b[0mc_part\u001b[0m\u001b[0;34m,\u001b[0m \u001b[0mnc_part\u001b[0m\u001b[0;34m,\u001b[0m \u001b[0morder_symbols\u001b[0m \u001b[0;34m=\u001b[0m \u001b[0mcls\u001b[0m\u001b[0;34m.\u001b[0m\u001b[0mflatten\u001b[0m\u001b[0;34m(\u001b[0m\u001b[0margs\u001b[0m\u001b[0;34m)\u001b[0m\u001b[0;34m\u001b[0m\u001b[0;34m\u001b[0m\u001b[0m\n\u001b[0m\u001b[1;32m     86\u001b[0m         \u001b[0mis_commutative\u001b[0m \u001b[0;34m=\u001b[0m \u001b[0;32mnot\u001b[0m \u001b[0mnc_part\u001b[0m\u001b[0;34m\u001b[0m\u001b[0;34m\u001b[0m\u001b[0m\n\u001b[1;32m     87\u001b[0m         \u001b[0mobj\u001b[0m \u001b[0;34m=\u001b[0m \u001b[0mcls\u001b[0m\u001b[0;34m.\u001b[0m\u001b[0m_from_args\u001b[0m\u001b[0;34m(\u001b[0m\u001b[0mc_part\u001b[0m \u001b[0;34m+\u001b[0m \u001b[0mnc_part\u001b[0m\u001b[0;34m,\u001b[0m \u001b[0mis_commutative\u001b[0m\u001b[0;34m)\u001b[0m\u001b[0;34m\u001b[0m\u001b[0;34m\u001b[0m\u001b[0m\n",
      "\u001b[0;32m~/.virtualenvs/gaudi/lib/python3.8/site-packages/sympy/core/mul.py\u001b[0m in \u001b[0;36mflatten\u001b[0;34m(cls, seq)\u001b[0m\n\u001b[1;32m    689\u001b[0m \u001b[0;34m\u001b[0m\u001b[0m\n\u001b[1;32m    690\u001b[0m         \u001b[0;31m# order commutative part canonically\u001b[0m\u001b[0;34m\u001b[0m\u001b[0;34m\u001b[0m\u001b[0;34m\u001b[0m\u001b[0m\n\u001b[0;32m--> 691\u001b[0;31m         \u001b[0m_mulsort\u001b[0m\u001b[0;34m(\u001b[0m\u001b[0mc_part\u001b[0m\u001b[0;34m)\u001b[0m\u001b[0;34m\u001b[0m\u001b[0;34m\u001b[0m\u001b[0m\n\u001b[0m\u001b[1;32m    692\u001b[0m \u001b[0;34m\u001b[0m\u001b[0m\n\u001b[1;32m    693\u001b[0m         \u001b[0;31m# current code expects coeff to be always in slot-0\u001b[0m\u001b[0;34m\u001b[0m\u001b[0;34m\u001b[0m\u001b[0;34m\u001b[0m\u001b[0m\n",
      "\u001b[0;32m~/.virtualenvs/gaudi/lib/python3.8/site-packages/sympy/core/mul.py\u001b[0m in \u001b[0;36m_mulsort\u001b[0;34m(args)\u001b[0m\n\u001b[1;32m     29\u001b[0m \u001b[0;32mdef\u001b[0m \u001b[0m_mulsort\u001b[0m\u001b[0;34m(\u001b[0m\u001b[0margs\u001b[0m\u001b[0;34m)\u001b[0m\u001b[0;34m:\u001b[0m\u001b[0;34m\u001b[0m\u001b[0;34m\u001b[0m\u001b[0m\n\u001b[1;32m     30\u001b[0m     \u001b[0;31m# in-place sorting of args\u001b[0m\u001b[0;34m\u001b[0m\u001b[0;34m\u001b[0m\u001b[0;34m\u001b[0m\u001b[0m\n\u001b[0;32m---> 31\u001b[0;31m     \u001b[0margs\u001b[0m\u001b[0;34m.\u001b[0m\u001b[0msort\u001b[0m\u001b[0;34m(\u001b[0m\u001b[0mkey\u001b[0m\u001b[0;34m=\u001b[0m\u001b[0m_args_sortkey\u001b[0m\u001b[0;34m)\u001b[0m\u001b[0;34m\u001b[0m\u001b[0;34m\u001b[0m\u001b[0m\n\u001b[0m\u001b[1;32m     32\u001b[0m \u001b[0;34m\u001b[0m\u001b[0m\n\u001b[1;32m     33\u001b[0m \u001b[0;34m\u001b[0m\u001b[0m\n",
      "\u001b[0;32m~/.virtualenvs/gaudi/lib/python3.8/site-packages/sympy/core/basic.py\u001b[0m in \u001b[0;36mcompare\u001b[0;34m(self, other)\u001b[0m\n\u001b[1;32m    216\u001b[0m         \u001b[0mst\u001b[0m \u001b[0;34m=\u001b[0m \u001b[0mself\u001b[0m\u001b[0;34m.\u001b[0m\u001b[0m_hashable_content\u001b[0m\u001b[0;34m(\u001b[0m\u001b[0;34m)\u001b[0m\u001b[0;34m\u001b[0m\u001b[0;34m\u001b[0m\u001b[0m\n\u001b[1;32m    217\u001b[0m         \u001b[0mot\u001b[0m \u001b[0;34m=\u001b[0m \u001b[0mother\u001b[0m\u001b[0;34m.\u001b[0m\u001b[0m_hashable_content\u001b[0m\u001b[0;34m(\u001b[0m\u001b[0;34m)\u001b[0m\u001b[0;34m\u001b[0m\u001b[0;34m\u001b[0m\u001b[0m\n\u001b[0;32m--> 218\u001b[0;31m         \u001b[0mc\u001b[0m \u001b[0;34m=\u001b[0m \u001b[0;34m(\u001b[0m\u001b[0mlen\u001b[0m\u001b[0;34m(\u001b[0m\u001b[0mst\u001b[0m\u001b[0;34m)\u001b[0m \u001b[0;34m>\u001b[0m \u001b[0mlen\u001b[0m\u001b[0;34m(\u001b[0m\u001b[0mot\u001b[0m\u001b[0;34m)\u001b[0m\u001b[0;34m)\u001b[0m \u001b[0;34m-\u001b[0m \u001b[0;34m(\u001b[0m\u001b[0mlen\u001b[0m\u001b[0;34m(\u001b[0m\u001b[0mst\u001b[0m\u001b[0;34m)\u001b[0m \u001b[0;34m<\u001b[0m \u001b[0mlen\u001b[0m\u001b[0;34m(\u001b[0m\u001b[0mot\u001b[0m\u001b[0;34m)\u001b[0m\u001b[0;34m)\u001b[0m\u001b[0;34m\u001b[0m\u001b[0;34m\u001b[0m\u001b[0m\n\u001b[0m\u001b[1;32m    219\u001b[0m         \u001b[0;32mif\u001b[0m \u001b[0mc\u001b[0m\u001b[0;34m:\u001b[0m\u001b[0;34m\u001b[0m\u001b[0;34m\u001b[0m\u001b[0m\n\u001b[1;32m    220\u001b[0m             \u001b[0;32mreturn\u001b[0m \u001b[0mc\u001b[0m\u001b[0;34m\u001b[0m\u001b[0;34m\u001b[0m\u001b[0m\n",
      "\u001b[0;31mKeyboardInterrupt\u001b[0m: "
     ]
    }
   ],
   "source": [
    "M1.det()"
   ]
  },
  {
   "cell_type": "code",
   "execution_count": null,
   "id": "d8ee2360",
   "metadata": {},
   "outputs": [],
   "source": [
    "M.inv('LU')"
   ]
  },
  {
   "cell_type": "code",
   "execution_count": null,
   "id": "ff77be9f",
   "metadata": {},
   "outputs": [],
   "source": [
    "M.eigenvals()"
   ]
  },
  {
   "cell_type": "code",
   "execution_count": null,
   "id": "6cb39c2d",
   "metadata": {},
   "outputs": [],
   "source": [
    "M.eigenvects()"
   ]
  },
  {
   "cell_type": "code",
   "execution_count": 507,
   "id": "41c14b27",
   "metadata": {},
   "outputs": [
    {
     "data": {
      "text/latex": [
       "$\\displaystyle \\left[\\begin{matrix}D_{a} a + a^{2} b s - a c_{ae} e - a r_{a} + b_{a}\\\\D_{b} b - a^{2} b s - b r_{b} - b_{a} + b_{b} \\left(c c_{bc} + c_{bd} d + 1\\right)\\\\D_{e} e + a c_{ea} + b_{e} + e^{2} f r_{e} - e r_{e}\\\\D_{f} f + a b_{f} - b_{e} + c_{f} - e^{2} f r_{e} - f r_{f}\\end{matrix}\\right]$"
      ],
      "text/plain": [
       "Matrix([\n",
       "[                 D_a*a + a**2*b*s - a*c_ae*e - a*r_a + b_a],\n",
       "[D_b*b - a**2*b*s - b*r_b - b_a + b_b*(c*c_bc + c_bd*d + 1)],\n",
       "[                 D_e*e + a*c_ea + b_e + e**2*f*r_e - e*r_e],\n",
       "[            D_f*f + a*b_f - b_e + c_f - e**2*f*r_e - f*r_f]])"
      ]
     },
     "execution_count": 507,
     "metadata": {},
     "output_type": "execute_result"
    }
   ],
   "source": [
    "a = sym.symbols('a')\n",
    "b = sym.symbols('b')\n",
    "c = sym.symbols('c')\n",
    "d = sym.symbols('d')\n",
    "e = sym.symbols('e')\n",
    "f = sym.symbols('f')\n",
    "\n",
    "cbc = sym.symbols('c_bc')\n",
    "cbd = sym.symbols('c_bd')\n",
    "cea = sym.symbols('c_ea')\n",
    "cae = sym.symbols('c_ae')\n",
    "cf = sym.symbols('c_f')\n",
    "\n",
    "sa = sym.symbols('s_a')\n",
    "sd = sym.symbols('s_d')\n",
    "se = sym.symbols('s_e')\n",
    "s = sym.symbols('s')\n",
    "\n",
    "ba = sym.symbols('b_a')\n",
    "bb = sym.symbols('b_b')\n",
    "bc = sym.symbols('b_c')\n",
    "bd = sym.symbols('b_d')\n",
    "be = sym.symbols('b_e')\n",
    "bf = sym.symbols('b_f')\n",
    "\n",
    "ra = sym.symbols('r_a')\n",
    "rb = sym.symbols('r_b')\n",
    "rc = sym.symbols('r_c')\n",
    "rd = sym.symbols('r_d')\n",
    "re = sym.symbols('r_e')\n",
    "rf = sym.symbols('r_f')\n",
    "\n",
    "Da = sym.symbols('D_a')\n",
    "Db = sym.symbols('D_b')\n",
    "Dc = sym.symbols('D_c')\n",
    "Dd = sym.symbols('D_d')\n",
    "De = sym.symbols('D_e')\n",
    "Df = sym.symbols('D_f')\n",
    "\n",
    "\n",
    "sba2 = s * b * a * a + ba;\n",
    "rfe2 = re * f * e * e + be;\n",
    "    \n",
    "A = sym.Matrix([\n",
    " sba2 - ra * a - cae * e * a + Da * a,\n",
    " bb - sba2 - rb * b + Db * b,\n",
    " rfe2 - re * e + cea * a + De * e,\n",
    " bf * a + cf - rfe2 - rf * f + Df * f\n",
    "])\n",
    "\n",
    "\n",
    "Y = sym.Matrix([\n",
    " a,b,e,f   \n",
    "])\n",
    "X"
   ]
  },
  {
   "cell_type": "code",
   "execution_count": 286,
   "id": "5102c44f",
   "metadata": {},
   "outputs": [
    {
     "data": {
      "text/latex": [
       "$\\displaystyle \\left[\\begin{matrix}D_{a} + 2 a b s - c_{ae} e - r_{a} & a^{2} s & - a c_{ae} & 0\\\\- 2 a b s & D_{b} - a^{2} s - r_{b} & 0 & 0\\\\c_{ea} & 0 & D_{e} + 2 e f r_{e} - r_{e} & e^{2} r_{e}\\\\b_{f} & 0 & - 2 e f r_{e} & D_{f} - e^{2} r_{e} - r_{f}\\end{matrix}\\right]$"
      ],
      "text/plain": [
       "Matrix([\n",
       "[D_a + 2*a*b*s - c_ae*e - r_a,             a**2*s,               -a*c_ae,                    0],\n",
       "[                    -2*a*b*s, D_b - a**2*s - r_b,                     0,                    0],\n",
       "[                        c_ea,                  0, D_e + 2*e*f*r_e - r_e,             e**2*r_e],\n",
       "[                         b_f,                  0,            -2*e*f*r_e, D_f - e**2*r_e - r_f]])"
      ]
     },
     "execution_count": 286,
     "metadata": {},
     "output_type": "execute_result"
    }
   ],
   "source": [
    "M = X.jacobian(Y)\n",
    "M"
   ]
  },
  {
   "cell_type": "code",
   "execution_count": 501,
   "id": "a98cb1bd",
   "metadata": {},
   "outputs": [
    {
     "data": {
      "text/latex": [
       "$\\displaystyle \\left[\\begin{matrix}2.0 a b - 0.5 e - 0.13625 & 1.0 a^{2} & - 0.5 a & 0\\\\- 2.0 a b & - 1.0 a^{2} - 0.0749 & 0 & 0\\\\0.5 & 0 & 1.0 e f - 0.499975 & 0.5 e^{2}\\\\0.07 & 0 & - 1.0 e f & - 0.5 e^{2} - 0.29995\\end{matrix}\\right]$"
      ],
      "text/plain": [
       "Matrix([\n",
       "[2.0*a*b - 0.5*e - 0.13625,           1.0*a**2,             -0.5*a,                   0],\n",
       "[                 -2.0*a*b, -1.0*a**2 - 0.0749,                  0,                   0],\n",
       "[                      0.5,                  0, 1.0*e*f - 0.499975,            0.5*e**2],\n",
       "[                     0.07,                  0,           -1.0*e*f, -0.5*e**2 - 0.29995]])"
      ]
     },
     "execution_count": 501,
     "metadata": {},
     "output_type": "execute_result"
    }
   ],
   "source": [
    "\n",
    "base = 1e-4\n",
    "M1 = M.subs(Db, 1.0 * base)\n",
    "M1 = M1.subs(Da, 0.5 * base)\n",
    "M1 = M1.subs(Df, 0.5 * base)\n",
    "M1 = M1.subs(De, 0.25 * base)\n",
    "\n",
    "M1 = M1.subs(ra, 0.0613 + 0.075)\n",
    "M1 = M1.subs(rb, 0.075)\n",
    "M1 = M1.subs(bb, 0.075)\n",
    "M1 = M1.subs(ba, 0.00)\n",
    "M1 = M1.subs(re, 0.5)\n",
    "M1 = M1.subs(rf, 0.3)\n",
    "M1 = M1.subs(bf, 0.07)\n",
    "M1 = M1.subs(be, 0.01)\n",
    "M1 = M1.subs(cea, 0.5)\n",
    "M1 = M1.subs(cae,0.5)\n",
    "M1 = M1.subs(s, 1.0)\n",
    "\n",
    "M2 = M1.subs(a, 1.0)\n",
    "M2 = M2.subs(b, 1.0)\n",
    "M2 = M2.subs(e, 0.0)\n",
    "M2 = M2.subs(f, 0.0)\n",
    "\n",
    "M3 = M1.subs(a, 0.5)\n",
    "M3 = M3.subs(b, 0.5)\n",
    "M3 = M3.subs(e, 0.5)\n",
    "M3 = M3.subs(f, 0.5)\n",
    "\n",
    "\n",
    "M1\n",
    "\n",
    "#M1"
   ]
  },
  {
   "cell_type": "code",
   "execution_count": 502,
   "id": "8e9a7a5c",
   "metadata": {},
   "outputs": [
    {
     "data": {
      "text/plain": [
       "[-0.0110749999999999, -0.886075000000000]"
      ]
     },
     "execution_count": 502,
     "metadata": {},
     "output_type": "execute_result"
    }
   ],
   "source": [
    "d = [M2.trace(), M3.trace()]\n",
    "d"
   ]
  },
  {
   "cell_type": "code",
   "execution_count": 503,
   "id": "8d3dc597",
   "metadata": {},
   "outputs": [
    {
     "data": {
      "text/plain": [
       "[0.0801024412042564, 0.0300728256868501]"
      ]
     },
     "execution_count": 503,
     "metadata": {},
     "output_type": "execute_result"
    }
   ],
   "source": [
    "d = [M2.det(), M3.det()]\n",
    "d"
   ]
  },
  {
   "cell_type": "code",
   "execution_count": 353,
   "id": "aea3842b",
   "metadata": {},
   "outputs": [
    {
     "data": {
      "text/plain": [
       "[]"
      ]
     },
     "execution_count": 353,
     "metadata": {},
     "output_type": "execute_result"
    }
   ],
   "source": [
    "sym.solve(d, s)"
   ]
  },
  {
   "cell_type": "code",
   "execution_count": 188,
   "id": "bddfd607",
   "metadata": {},
   "outputs": [],
   "source": [
    "M1 = M1.subs(s, -0.0749)"
   ]
  },
  {
   "cell_type": "code",
   "execution_count": 179,
   "id": "3a9a7632",
   "metadata": {},
   "outputs": [
    {
     "data": {
      "text/plain": [
       "{-0.615469200469873 - 0.853861525517119*I: 1,\n",
       " -0.615469200469873 + 0.853861525517119*I: 1,\n",
       " 3.29429709338005e-33: 1,\n",
       " -0.155236599060254: 1}"
      ]
     },
     "execution_count": 179,
     "metadata": {},
     "output_type": "execute_result"
    }
   ],
   "source": [
    "M1.eigenvals()"
   ]
  },
  {
   "cell_type": "code",
   "execution_count": 124,
   "id": "eb9d0aa2",
   "metadata": {},
   "outputs": [
    {
     "data": {
      "text/plain": [
       "[(-0.0605596746078083 - 0.106483656524838*I,\n",
       "  1,\n",
       "  [Matrix([\n",
       "   [0.0515793074260534 - 0.506334125078765*I],\n",
       "   [-0.454371266600747 + 0.308561724544096*I],\n",
       "   [ 0.185133748753561 + 0.416423710269962*I],\n",
       "   [  0.37422866451487 - 0.302607730094665*I]])]),\n",
       " (-0.0824778253921917 - 0.0646568554031891*I,\n",
       "  1,\n",
       "  [Matrix([\n",
       "   [ 0.354461308513929 - 0.209653678495027*I],\n",
       "   [-0.643817154885284 - 0.150976158429597*I],\n",
       "   [-0.360678289886234 + 0.123859919708431*I],\n",
       "   [ 0.407063090699914 + 0.557478051430586*I]])]),\n",
       " (-0.0605596746078083 + 0.106483656524838*I,\n",
       "  1,\n",
       "  [Matrix([\n",
       "   [  0.179647036965813 + 0.234099351405188*I],\n",
       "   [-0.318140512379496 - 0.0138586652610546*I],\n",
       "   [-0.0354797433613975 - 0.261829617862518*I],\n",
       "   [ 0.276787745494185 + 0.0353279029562027*I]])]),\n",
       " (-0.0824778253921917 + 0.0646568554031891*I,\n",
       "  1,\n",
       "  [Matrix([\n",
       "   [    0.22891661057609 + 0.4358195808498*I],\n",
       "   [-0.749681760732299 - 0.250672305123724*I],\n",
       "   [ -0.289109218597591 - 0.35245438630153*I],\n",
       "   [ 0.764094390896368 - 0.311472980414995*I]])])]"
      ]
     },
     "execution_count": 124,
     "metadata": {},
     "output_type": "execute_result"
    }
   ],
   "source": [
    "M1.eigenvects()"
   ]
  },
  {
   "cell_type": "code",
   "execution_count": 66,
   "id": "80f73313",
   "metadata": {},
   "outputs": [
    {
     "data": {
      "text/latex": [
       "$\\displaystyle \\frac{d}{d t} u = D_{u} \\left(\\triangle u\\right) + F \\left(1 - u\\right) - u v^{2}$"
      ],
      "text/plain": [
       "Eq(Derivative(u, t), D_u*Laplacian(u) + F*(1 - u) - u*v**2)"
      ]
     },
     "metadata": {},
     "output_type": "display_data"
    },
    {
     "data": {
      "text/latex": [
       "$\\displaystyle \\frac{d}{d t} v = D_{v} \\left(\\triangle v\\right) + u v^{2} - v \\left(F + k\\right)$"
      ],
      "text/plain": [
       "Eq(Derivative(v, t), D_v*Laplacian(v) + u*v**2 - v*(F + k))"
      ]
     },
     "metadata": {},
     "output_type": "display_data"
    },
    {
     "data": {
      "text/latex": [
       "$\\displaystyle \\frac{d}{d t} u = D_{u} \\left(\\triangle u\\right)$"
      ],
      "text/plain": [
       "Eq(Derivative(u, t), D_u*Laplacian(u))"
      ]
     },
     "metadata": {},
     "output_type": "display_data"
    },
    {
     "data": {
      "text/latex": [
       "$\\displaystyle \\frac{d}{d t} v = D_{v} \\left(\\triangle v\\right)$"
      ],
      "text/plain": [
       "Eq(Derivative(v, t), D_v*Laplacian(v))"
      ]
     },
     "metadata": {},
     "output_type": "display_data"
    },
    {
     "data": {
      "text/latex": [
       "$\\displaystyle \\frac{d}{d t} u = F \\left(1 - u\\right) - u v^{2}$"
      ],
      "text/plain": [
       "Eq(Derivative(u, t), F*(1 - u) - u*v**2)"
      ]
     },
     "metadata": {},
     "output_type": "display_data"
    },
    {
     "data": {
      "text/latex": [
       "$\\displaystyle \\frac{d}{d t} v = u v^{2} - v \\left(F + k\\right)$"
      ],
      "text/plain": [
       "Eq(Derivative(v, t), u*v**2 - v*(F + k))"
      ]
     },
     "metadata": {},
     "output_type": "display_data"
    },
    {
     "data": {
      "text/latex": [
       "$\\displaystyle \\frac{- u_{0} + u_{1}}{h} = G{\\left(u_{1},v_{1} \\right)}$"
      ],
      "text/plain": [
       "Eq((-u_0 + u_1)/h, G(u_1, v_1))"
      ]
     },
     "metadata": {},
     "output_type": "display_data"
    },
    {
     "data": {
      "text/latex": [
       "$\\displaystyle - h G{\\left(u_{1},v_{1} \\right)} - u_{0} + u_{1} = 0$"
      ],
      "text/plain": [
       "Eq(-h*G(u_1, v_1) - u_0 + u_1, 0)"
      ]
     },
     "metadata": {},
     "output_type": "display_data"
    },
    {
     "data": {
      "text/latex": [
       "$\\displaystyle u_{k+1} = - J^{-1} G + u_{k}$"
      ],
      "text/plain": [
       "Eq(u_{k+1}, -J**(-1)*G + u_k)"
      ]
     },
     "metadata": {},
     "output_type": "display_data"
    },
    {
     "data": {
      "text/latex": [
       "$\\displaystyle \\left[\\begin{matrix}- h \\left(- F - v^{2}\\right) & 2 h u v\\\\- h v^{2} & - h \\left(- F - k + 2 u v\\right)\\end{matrix}\\right] + I$"
      ],
      "text/plain": [
       "Matrix([\n",
       "[-h*(-F - v**2),             2*h*u*v],\n",
       "[       -h*v**2, -h*(-F - k + 2*u*v)]]) + I"
      ]
     },
     "metadata": {},
     "output_type": "display_data"
    }
   ],
   "source": [
    "import sympy as sp\n",
    "from sympy.vector import CoordSys3D, Del\n",
    "from sympy.vector import Laplacian\n",
    "\n",
    "\n",
    "# Define symbols\n",
    "x, t, Du, Dv, u, v, F, k = sp.symbols('x t D_u D_v u v F k')\n",
    "\n",
    "# Define the diffusion equation\n",
    "u_eq = sp.Eq(sp.Derivative(u, t), Du*Laplacian(u) - u*v*v + F*(1-u))\n",
    "v_eq = sp.Eq(sp.Derivative(v, t), Dv*Laplacian(v) + u*v*v - (F+k)*v)\n",
    "u_eq_diff = sp.Eq(sp.Derivative(u, t), Du*Laplacian(u))\n",
    "v_eq_diff = sp.Eq(sp.Derivative(v, t), Dv*Laplacian(v))\n",
    "u_eq_rx = sp.Eq(sp.Derivative(u, t),  - u*v*v + F*(1-u))\n",
    "v_eq_rx = sp.Eq(sp.Derivative(v, t),  u*v*v - (F+k)*v)\n",
    "\n",
    "display(u_eq)\n",
    "display(v_eq)\n",
    "\n",
    "display(u_eq_diff)\n",
    "display(v_eq_diff)\n",
    "\n",
    "display(u_eq_rx)\n",
    "display(v_eq_rx)\n",
    "\n",
    "u0, v0, u1, v1, h = sp.symbols('u_0 v_0 u_1 v_1 h')\n",
    "\n",
    "G = sp.Function('G')(u1,v1)\n",
    "\n",
    "u_eq_G = sp.Eq((u1 - u0)/h,  G)\n",
    "u_eq_G0 = sp.Eq(u1 - u0 - h*G,  0)\n",
    "\n",
    "display(u_eq_G)\n",
    "display(u_eq_G0)\n",
    "\n",
    "\n",
    "\n",
    "delop = Del()\n",
    "\n",
    "uk, uk1= sp.symbols('u_k u_{k+1}')\n",
    "J = sp.MatrixSymbol('J', 2, 2)\n",
    "uk0 = sp.MatrixSymbol('u_k', 2, 1)\n",
    "uk1 = sp.MatrixSymbol('u_{k+1}', 2, 1)\n",
    "G = sp.MatrixSymbol('G', 2, 1)\n",
    "\n",
    "n_G = sp.Eq(uk1,  uk0 - J.inv()*G)\n",
    "display(n_G)\n",
    "I = sp.MatrixSymbol('I', 2, 2)\n",
    "\n",
    "Jt = I - h*(sp.Matrix([[-v*v-F, -2*u*v],[v*v, 2*u*v - F - k]]))\n",
    "display(Jt)"
   ]
  },
  {
   "cell_type": "code",
   "execution_count": null,
   "id": "26665ffc",
   "metadata": {},
   "outputs": [],
   "source": []
  }
 ],
 "metadata": {
  "kernelspec": {
   "display_name": "Python 3 (ipykernel)",
   "language": "python",
   "name": "python3"
  },
  "language_info": {
   "codemirror_mode": {
    "name": "ipython",
    "version": 3
   },
   "file_extension": ".py",
   "mimetype": "text/x-python",
   "name": "python",
   "nbconvert_exporter": "python",
   "pygments_lexer": "ipython3",
   "version": "3.8.10"
  }
 },
 "nbformat": 4,
 "nbformat_minor": 5
}
